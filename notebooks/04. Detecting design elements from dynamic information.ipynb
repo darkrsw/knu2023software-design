{
 "cells": [
  {
   "cell_type": "markdown",
   "id": "b7c95756-a819-41f2-a202-2a2f71bfd2c2",
   "metadata": {},
   "source": [
    "#  Detecting design elements from dynamic information\n",
    "\n",
    "Using static information is not enough to capture design elements in a program, particularly for statically-typed languages such as Python.\n"
   ]
  },
  {
   "cell_type": "markdown",
   "id": "65c3b651-cfe4-4408-889a-61571a20c6c2",
   "metadata": {},
   "source": [
    "### Tracing executions in Python\n",
    "\n",
    "Fortunately, it is naturally able to capture dynamic information in Python as follows:"
   ]
  },
  {
   "cell_type": "code",
   "execution_count": 6,
   "id": "661b9d30-2701-4ca4-a839-b32923e453b8",
   "metadata": {},
   "outputs": [],
   "source": [
    "from types import FrameType, TracebackType\n",
    "from typing import Any, Optional, Callable\n",
    "\n",
    "def traceit(frame: FrameType, event: str, arg: Any) -> Optional[Callable]:\n",
    "    print(event, frame.f_lineno, frame.f_code.co_name, frame.f_locals)\n",
    "    return traceit"
   ]
  },
  {
   "cell_type": "markdown",
   "id": "dcb1f9cc-a44f-47fa-bdf9-bbf53bc67496",
   "metadata": {},
   "source": [
    "Now we can trace the execution of the following simple program."
   ]
  },
  {
   "cell_type": "code",
   "execution_count": 7,
   "id": "7cb0e8af-27ac-4a8c-858d-d932556818fa",
   "metadata": {},
   "outputs": [],
   "source": [
    "def remove_html_markup(s):\n",
    "    tag = False\n",
    "    quote = False\n",
    "    out = \"\"\n",
    "\n",
    "    for c in s:\n",
    "        if c == '<' and not quote:\n",
    "            tag = True\n",
    "        elif c == '>' and not quote:\n",
    "            tag = False\n",
    "        elif c == '\"' or c == \"'\" and tag:\n",
    "            quote = not quote\n",
    "        elif not tag:\n",
    "            out = out + c\n",
    "\n",
    "    return out"
   ]
  },
  {
   "cell_type": "code",
   "execution_count": 8,
   "id": "5bbc3258-dee1-497e-90c2-cdae45a9627b",
   "metadata": {},
   "outputs": [],
   "source": [
    "import sys\n",
    "\n",
    "def remove_html_markup_traced(s):\n",
    "    sys.settrace(traceit)\n",
    "    ret = remove_html_markup(s)\n",
    "    sys.settrace(None)\n",
    "    return ret"
   ]
  },
  {
   "cell_type": "code",
   "execution_count": 9,
   "id": "d3acd5e9-bf23-4f77-93ce-64b24334781d",
   "metadata": {},
   "outputs": [
    {
     "name": "stdout",
     "output_type": "stream",
     "text": [
      "call 1 remove_html_markup {'s': 'xyz'}\n",
      "line 2 remove_html_markup {'s': 'xyz'}\n",
      "line 3 remove_html_markup {'s': 'xyz', 'tag': False}\n",
      "line 4 remove_html_markup {'s': 'xyz', 'tag': False, 'quote': False}\n",
      "line 6 remove_html_markup {'s': 'xyz', 'tag': False, 'quote': False, 'out': ''}\n",
      "line 7 remove_html_markup {'s': 'xyz', 'tag': False, 'quote': False, 'out': '', 'c': 'x'}\n",
      "line 9 remove_html_markup {'s': 'xyz', 'tag': False, 'quote': False, 'out': '', 'c': 'x'}\n",
      "line 11 remove_html_markup {'s': 'xyz', 'tag': False, 'quote': False, 'out': '', 'c': 'x'}\n",
      "line 13 remove_html_markup {'s': 'xyz', 'tag': False, 'quote': False, 'out': '', 'c': 'x'}\n",
      "line 14 remove_html_markup {'s': 'xyz', 'tag': False, 'quote': False, 'out': '', 'c': 'x'}\n",
      "line 6 remove_html_markup {'s': 'xyz', 'tag': False, 'quote': False, 'out': 'x', 'c': 'x'}\n",
      "line 7 remove_html_markup {'s': 'xyz', 'tag': False, 'quote': False, 'out': 'x', 'c': 'y'}\n",
      "line 9 remove_html_markup {'s': 'xyz', 'tag': False, 'quote': False, 'out': 'x', 'c': 'y'}\n",
      "line 11 remove_html_markup {'s': 'xyz', 'tag': False, 'quote': False, 'out': 'x', 'c': 'y'}\n",
      "line 13 remove_html_markup {'s': 'xyz', 'tag': False, 'quote': False, 'out': 'x', 'c': 'y'}\n",
      "line 14 remove_html_markup {'s': 'xyz', 'tag': False, 'quote': False, 'out': 'x', 'c': 'y'}\n",
      "line 6 remove_html_markup {'s': 'xyz', 'tag': False, 'quote': False, 'out': 'xy', 'c': 'y'}\n",
      "line 7 remove_html_markup {'s': 'xyz', 'tag': False, 'quote': False, 'out': 'xy', 'c': 'z'}\n",
      "line 9 remove_html_markup {'s': 'xyz', 'tag': False, 'quote': False, 'out': 'xy', 'c': 'z'}\n",
      "line 11 remove_html_markup {'s': 'xyz', 'tag': False, 'quote': False, 'out': 'xy', 'c': 'z'}\n",
      "line 13 remove_html_markup {'s': 'xyz', 'tag': False, 'quote': False, 'out': 'xy', 'c': 'z'}\n",
      "line 14 remove_html_markup {'s': 'xyz', 'tag': False, 'quote': False, 'out': 'xy', 'c': 'z'}\n",
      "line 6 remove_html_markup {'s': 'xyz', 'tag': False, 'quote': False, 'out': 'xyz', 'c': 'z'}\n",
      "line 16 remove_html_markup {'s': 'xyz', 'tag': False, 'quote': False, 'out': 'xyz', 'c': 'z'}\n",
      "return 16 remove_html_markup {'s': 'xyz', 'tag': False, 'quote': False, 'out': 'xyz', 'c': 'z'}\n"
     ]
    },
    {
     "data": {
      "text/plain": [
       "'xyz'"
      ]
     },
     "execution_count": 9,
     "metadata": {},
     "output_type": "execute_result"
    }
   ],
   "source": [
    "remove_html_markup_traced('xyz')"
   ]
  },
  {
   "cell_type": "markdown",
   "id": "5b4132ad-3c84-4814-9c9b-7edfb84d70aa",
   "metadata": {},
   "source": [
    "We can focus on a specific part of a program.\n"
   ]
  },
  {
   "cell_type": "code",
   "execution_count": 13,
   "id": "635bf658-5a9f-402c-b576-dceac337466c",
   "metadata": {},
   "outputs": [],
   "source": [
    "def traceit2(frame: FrameType, event: str, arg: Any) -> Optional[Callable]:\n",
    "    if 'c' in frame.f_locals:\n",
    "        value_of_c = frame.f_locals['c']\n",
    "        print(f\"{frame.f_lineno:} c = {repr(value_of_c)}\")\n",
    "    else:\n",
    "        print(f\"{frame.f_lineno:} c is undefined\")\n",
    "\n",
    "    return traceit"
   ]
  },
  {
   "cell_type": "code",
   "execution_count": 15,
   "id": "0dd2dc2c-f099-488b-a5df-c2e8d4b5d90e",
   "metadata": {},
   "outputs": [],
   "source": [
    "def remove_html_markup_traced2(s):\n",
    "    sys.settrace(traceit2)\n",
    "    ret = remove_html_markup(s)\n",
    "    sys.settrace(None)\n",
    "    return ret"
   ]
  },
  {
   "cell_type": "code",
   "execution_count": 16,
   "id": "3407d2c4-5459-4b12-b1cc-ea5a11251bee",
   "metadata": {},
   "outputs": [
    {
     "name": "stdout",
     "output_type": "stream",
     "text": [
      "1 c is undefined\n",
      "2 c is undefined\n",
      "3 c is undefined\n",
      "4 c is undefined\n",
      "6 c is undefined\n",
      "7 c = 'x'\n",
      "9 c = 'x'\n",
      "11 c = 'x'\n",
      "13 c = 'x'\n",
      "14 c = 'x'\n",
      "6 c = 'x'\n",
      "7 c = 'y'\n",
      "9 c = 'y'\n",
      "11 c = 'y'\n",
      "13 c = 'y'\n",
      "14 c = 'y'\n",
      "6 c = 'y'\n",
      "7 c = 'z'\n",
      "9 c = 'z'\n",
      "11 c = 'z'\n",
      "13 c = 'z'\n",
      "14 c = 'z'\n",
      "6 c = 'z'\n",
      "16 c = 'z'\n",
      "16 c = 'z'\n"
     ]
    },
    {
     "data": {
      "text/plain": [
       "'xyz'"
      ]
     },
     "execution_count": 16,
     "metadata": {},
     "output_type": "execute_result"
    }
   ],
   "source": [
    "remove_html_markup_traced2('xyz')"
   ]
  },
  {
   "cell_type": "markdown",
   "id": "dd9cd35a-4125-40b2-8980-df127d026cce",
   "metadata": {},
   "source": [
    "### Systematic tracing of program execution"
   ]
  },
  {
   "cell_type": "code",
   "execution_count": 29,
   "id": "0b14a221-2d78-4f75-b87f-85af717283e1",
   "metadata": {},
   "outputs": [],
   "source": [
    "from utils import StackInspector\n",
    "from typing import TextIO, Type\n",
    "\n",
    "class Tracer(StackInspector):\n",
    "    \"\"\"A class for tracing a piece of code. Use as `with Tracer(): block()`\"\"\"\n",
    "\n",
    "    def __init__(self, *, file: TextIO = sys.stdout) -> None:\n",
    "        \"\"\"Trace a block of code, sending logs to `file` (default: stdout)\"\"\"\n",
    "        self.original_trace_function: Optional[Callable] = None\n",
    "        self.file = file\n",
    "\n",
    "    def traceit(self, frame: FrameType, event: str, arg: Any) -> None:\n",
    "        \"\"\"Tracing function. To be overridden in subclasses.\"\"\"\n",
    "        self.log(event, frame.f_lineno, frame.f_code.co_name, frame.f_locals)\n",
    "\n",
    "    def _traceit(self, frame: FrameType, event: str, arg: Any) -> Optional[Callable]:\n",
    "        \"\"\"Internal tracing function.\"\"\"\n",
    "        if self.our_frame(frame):\n",
    "            # Do not trace our own methods\n",
    "            pass\n",
    "        else:\n",
    "            self.traceit(frame, event, arg)\n",
    "        return self._traceit\n",
    "\n",
    "    def log(self, *objects: Any, \n",
    "            sep: str = ' ', end: str = '\\n', \n",
    "            flush: bool = True) -> None:\n",
    "        \"\"\"\n",
    "        Like `print()`, but always sending to `file` given at initialization,\n",
    "        and flushing by default.\n",
    "        \"\"\"\n",
    "        print(*objects, sep=sep, end=end, file=self.file, flush=flush)\n",
    "\n",
    "    def __enter__(self) -> Any:\n",
    "        \"\"\"Called at begin of `with` block. Turn tracing on.\"\"\"\n",
    "        self.original_trace_function = sys.gettrace()\n",
    "        sys.settrace(self._traceit)\n",
    "\n",
    "        # This extra line also enables tracing for the current block\n",
    "        # inspect.currentframe().f_back.f_trace = self._traceit\n",
    "        return self\n",
    "\n",
    "    def __exit__(self, exc_tp: Type, exc_value: BaseException, \n",
    "                 exc_traceback: TracebackType) -> Optional[bool]:\n",
    "        \"\"\"\n",
    "        Called at end of `with` block. Turn tracing off.\n",
    "        Return `None` if ok, not `None` if internal error.\n",
    "        \"\"\"\n",
    "        sys.settrace(self.original_trace_function)\n",
    "\n",
    "        # Note: we must return a non-True value here,\n",
    "        # such that we re-raise all exceptions\n",
    "        if self.is_internal_error(exc_tp, exc_value, exc_traceback):\n",
    "            return False  # internal error\n",
    "        else:\n",
    "            return None  # all ok"
   ]
  },
  {
   "cell_type": "code",
   "execution_count": 30,
   "id": "553bbe6b-c031-4ff0-b287-b7a5f76592ad",
   "metadata": {},
   "outputs": [
    {
     "name": "stdout",
     "output_type": "stream",
     "text": [
      "call 1 remove_html_markup {'s': 'abc'}\n",
      "line 2 remove_html_markup {'s': 'abc'}\n",
      "line 3 remove_html_markup {'s': 'abc', 'tag': False}\n",
      "line 4 remove_html_markup {'s': 'abc', 'tag': False, 'quote': False}\n",
      "line 6 remove_html_markup {'s': 'abc', 'tag': False, 'quote': False, 'out': ''}\n",
      "line 7 remove_html_markup {'s': 'abc', 'tag': False, 'quote': False, 'out': '', 'c': 'a'}\n",
      "line 9 remove_html_markup {'s': 'abc', 'tag': False, 'quote': False, 'out': '', 'c': 'a'}\n",
      "line 11 remove_html_markup {'s': 'abc', 'tag': False, 'quote': False, 'out': '', 'c': 'a'}\n",
      "line 13 remove_html_markup {'s': 'abc', 'tag': False, 'quote': False, 'out': '', 'c': 'a'}\n",
      "line 14 remove_html_markup {'s': 'abc', 'tag': False, 'quote': False, 'out': '', 'c': 'a'}\n",
      "line 6 remove_html_markup {'s': 'abc', 'tag': False, 'quote': False, 'out': 'a', 'c': 'a'}\n",
      "line 7 remove_html_markup {'s': 'abc', 'tag': False, 'quote': False, 'out': 'a', 'c': 'b'}\n",
      "line 9 remove_html_markup {'s': 'abc', 'tag': False, 'quote': False, 'out': 'a', 'c': 'b'}\n",
      "line 11 remove_html_markup {'s': 'abc', 'tag': False, 'quote': False, 'out': 'a', 'c': 'b'}\n",
      "line 13 remove_html_markup {'s': 'abc', 'tag': False, 'quote': False, 'out': 'a', 'c': 'b'}\n",
      "line 14 remove_html_markup {'s': 'abc', 'tag': False, 'quote': False, 'out': 'a', 'c': 'b'}\n",
      "line 6 remove_html_markup {'s': 'abc', 'tag': False, 'quote': False, 'out': 'ab', 'c': 'b'}\n",
      "line 7 remove_html_markup {'s': 'abc', 'tag': False, 'quote': False, 'out': 'ab', 'c': 'c'}\n",
      "line 9 remove_html_markup {'s': 'abc', 'tag': False, 'quote': False, 'out': 'ab', 'c': 'c'}\n",
      "line 11 remove_html_markup {'s': 'abc', 'tag': False, 'quote': False, 'out': 'ab', 'c': 'c'}\n",
      "line 13 remove_html_markup {'s': 'abc', 'tag': False, 'quote': False, 'out': 'ab', 'c': 'c'}\n",
      "line 14 remove_html_markup {'s': 'abc', 'tag': False, 'quote': False, 'out': 'ab', 'c': 'c'}\n",
      "line 6 remove_html_markup {'s': 'abc', 'tag': False, 'quote': False, 'out': 'abc', 'c': 'c'}\n",
      "line 16 remove_html_markup {'s': 'abc', 'tag': False, 'quote': False, 'out': 'abc', 'c': 'c'}\n",
      "return 16 remove_html_markup {'s': 'abc', 'tag': False, 'quote': False, 'out': 'abc', 'c': 'c'}\n"
     ]
    }
   ],
   "source": [
    "with Tracer():\n",
    "    remove_html_markup(\"abc\")"
   ]
  }
 ],
 "metadata": {
  "kernelspec": {
   "display_name": "Python 3 (ipykernel)",
   "language": "python",
   "name": "python3"
  },
  "language_info": {
   "codemirror_mode": {
    "name": "ipython",
    "version": 3
   },
   "file_extension": ".py",
   "mimetype": "text/x-python",
   "name": "python",
   "nbconvert_exporter": "python",
   "pygments_lexer": "ipython3",
   "version": "3.11.6"
  }
 },
 "nbformat": 4,
 "nbformat_minor": 5
}
