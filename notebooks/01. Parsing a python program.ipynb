{
 "cells": [
  {
   "cell_type": "markdown",
   "id": "903105d8-3d65-4042-a429-1d4145070941",
   "metadata": {},
   "source": [
    "# Parsing a python program"
   ]
  },
  {
   "cell_type": "markdown",
   "id": "7ab749cc-aa28-449c-aed8-ce30b9a46d7a",
   "metadata": {},
   "source": [
    "Fortunately, Python provides a built-in library `ast` (https://docs.python.org/3/library/ast.html) to parse python programs.\n",
    "Here is an example of how to use `ast`:"
   ]
  },
  {
   "cell_type": "code",
   "execution_count": 1,
   "id": "16cdc9a8-0847-4822-af7d-20baf4294c68",
   "metadata": {},
   "outputs": [
    {
     "name": "stdout",
     "output_type": "stream",
     "text": [
      "<ast.Module object at 0x112d91e10>\n"
     ]
    }
   ],
   "source": [
    "import ast\n",
    "your_code = \"\"\"\n",
    "def foo():  # type: ignore\n",
    "    ret = 2 * 2\n",
    "    return ret\n",
    "\"\"\"\n",
    "your_ast = ast.parse(your_code)\n",
    "print(your_ast)"
   ]
  },
  {
   "cell_type": "markdown",
   "id": "dd0b3ecb-24fd-424b-8621-27f0be26cb84",
   "metadata": {},
   "source": [
    "The `ast.Module` object cannot be printed out with `print()` function. It is necessary to use a presentation function such as:"
   ]
  },
  {
   "cell_type": "code",
   "execution_count": 7,
   "id": "ad56f11a-0419-46a7-b1c1-eb6202e03572",
   "metadata": {},
   "outputs": [],
   "source": [
    "from ast import AST\n",
    "from typing import Optional, Any\n",
    "\n",
    "# Check for rich output\n",
    "def rich_output() -> bool:\n",
    "    try:\n",
    "        get_ipython()  # type: ignore\n",
    "        rich = True\n",
    "    except NameError:\n",
    "        rich = False\n",
    "\n",
    "    return rich\n",
    "\n",
    "# Showing ASTs\n",
    "def show_ast(tree: AST) -> Optional[Any]:\n",
    "    if rich_output():\n",
    "        import showast  # We can import showast only when in a notebook\n",
    "        return showast.show_ast(tree)\n",
    "    else:\n",
    "        import ast  # Textual alternative111\n",
    "        print(ast.dump(tree))\n",
    "        return None\n"
   ]
  },
  {
   "cell_type": "code",
   "execution_count": 9,
   "id": "709f0365-15c1-4b2e-af36-d137521292a7",
   "metadata": {},
   "outputs": [
    {
     "data": {
      "image/svg+xml": [
       "<svg xmlns=\"http://www.w3.org/2000/svg\" xmlns:xlink=\"http://www.w3.org/1999/xlink\" width=\"526pt\" height=\"332pt\" viewBox=\"0.00 0.00 526.00 332.00\">\n",
       "<g id=\"graph0\" class=\"graph\" transform=\"scale(1 1) rotate(0) translate(4 328)\">\n",
       "<polygon fill=\"white\" stroke=\"none\" points=\"-4,4 -4,-328 522,-328 522,4 -4,4\"/>\n",
       "<!-- 0 -->\n",
       "<g id=\"node1\" class=\"node\">\n",
       "<title>0</title>\n",
       "<text text-anchor=\"start\" x=\"178.88\" y=\"-301.57\" font-family=\"Courier,monospace\" font-weight=\"bold\" font-size=\"14.00\" fill=\"#004080\">FunctionDef</text>\n",
       "</g>\n",
       "<!-- 1 -->\n",
       "<g id=\"node2\" class=\"node\">\n",
       "<title>1</title>\n",
       "<text text-anchor=\"middle\" x=\"91\" y=\"-228.57\" font-family=\"Courier,monospace\" font-size=\"14.00\" fill=\"#008040\">&quot;foo&quot;</text>\n",
       "</g>\n",
       "<!-- 0&#45;&#45;1 -->\n",
       "<g id=\"edge1\" class=\"edge\">\n",
       "<title>0--1</title>\n",
       "<path fill=\"none\" stroke=\"black\" d=\"M216,-287C216,-287 166.02,-268.86 127,-252 123.95,-250.68 120.79,-249.26 117.65,-247.82\"/>\n",
       "</g>\n",
       "<!-- 2 -->\n",
       "<g id=\"node3\" class=\"node\">\n",
       "<title>2</title>\n",
       "<text text-anchor=\"middle\" x=\"174\" y=\"-228.57\" font-family=\"Courier,monospace\" font-size=\"14.00\" fill=\"#008040\">arguments</text>\n",
       "</g>\n",
       "<!-- 0&#45;&#45;2 -->\n",
       "<g id=\"edge2\" class=\"edge\">\n",
       "<title>0--2</title>\n",
       "<path fill=\"none\" stroke=\"black\" d=\"M216,-287C216,-287 199.8,-266.94 187.52,-251.74\"/>\n",
       "</g>\n",
       "<!-- 3 -->\n",
       "<g id=\"node4\" class=\"node\">\n",
       "<title>3</title>\n",
       "<text text-anchor=\"start\" x=\"238.75\" y=\"-229.57\" font-family=\"Courier,monospace\" font-weight=\"bold\" font-size=\"14.00\" fill=\"#004080\">Assign</text>\n",
       "</g>\n",
       "<!-- 0&#45;&#45;3 -->\n",
       "<g id=\"edge3\" class=\"edge\">\n",
       "<title>0--3</title>\n",
       "<path fill=\"none\" stroke=\"black\" d=\"M216,-287C216,-287 232.59,-266.94 245.16,-251.74\"/>\n",
       "</g>\n",
       "<!-- 13 -->\n",
       "<g id=\"node14\" class=\"node\">\n",
       "<title>13</title>\n",
       "<text text-anchor=\"start\" x=\"355.75\" y=\"-229.57\" font-family=\"Courier,monospace\" font-weight=\"bold\" font-size=\"14.00\" fill=\"#004080\">Return</text>\n",
       "</g>\n",
       "<!-- 0&#45;&#45;13 -->\n",
       "<g id=\"edge13\" class=\"edge\">\n",
       "<title>0--13</title>\n",
       "<path fill=\"none\" stroke=\"black\" d=\"M216,-287C216,-287 301.83,-259.11 347.76,-244.18\"/>\n",
       "</g>\n",
       "<!-- 4 -->\n",
       "<g id=\"node5\" class=\"node\">\n",
       "<title>4</title>\n",
       "<text text-anchor=\"start\" x=\"85.5\" y=\"-157.57\" font-family=\"Courier,monospace\" font-weight=\"bold\" font-size=\"14.00\" fill=\"#004080\">Name</text>\n",
       "</g>\n",
       "<!-- 3&#45;&#45;4 -->\n",
       "<g id=\"edge4\" class=\"edge\">\n",
       "<title>3--4</title>\n",
       "<path fill=\"none\" stroke=\"black\" d=\"M247,-215C247,-215 168.45,-187.4 125.8,-172.42\"/>\n",
       "</g>\n",
       "<!-- 7 -->\n",
       "<g id=\"node8\" class=\"node\">\n",
       "<title>7</title>\n",
       "<text text-anchor=\"start\" x=\"242.12\" y=\"-157.57\" font-family=\"Courier,monospace\" font-weight=\"bold\" font-size=\"14.00\" fill=\"#004080\">BinOp</text>\n",
       "</g>\n",
       "<!-- 3&#45;&#45;7 -->\n",
       "<g id=\"edge7\" class=\"edge\">\n",
       "<title>3--7</title>\n",
       "<path fill=\"none\" stroke=\"black\" d=\"M247,-215C247,-215 251.63,-194.94 255.14,-179.74\"/>\n",
       "</g>\n",
       "<!-- 5 -->\n",
       "<g id=\"node6\" class=\"node\">\n",
       "<title>5</title>\n",
       "<text text-anchor=\"middle\" x=\"27\" y=\"-84.58\" font-family=\"Courier,monospace\" font-size=\"14.00\" fill=\"#008040\">&quot;ret&quot;</text>\n",
       "</g>\n",
       "<!-- 4&#45;&#45;5 -->\n",
       "<g id=\"edge5\" class=\"edge\">\n",
       "<title>4--5</title>\n",
       "<path fill=\"none\" stroke=\"black\" d=\"M92,-143C92,-143 66.93,-122.94 47.92,-107.74\"/>\n",
       "</g>\n",
       "<!-- 6 -->\n",
       "<g id=\"node7\" class=\"node\">\n",
       "<title>6</title>\n",
       "<text text-anchor=\"middle\" x=\"99\" y=\"-84.58\" font-family=\"Courier,monospace\" font-size=\"14.00\" fill=\"#008040\">Store</text>\n",
       "</g>\n",
       "<!-- 4&#45;&#45;6 -->\n",
       "<g id=\"edge6\" class=\"edge\">\n",
       "<title>4--6</title>\n",
       "<path fill=\"none\" stroke=\"black\" d=\"M92,-143C92,-143 94.7,-122.94 96.75,-107.74\"/>\n",
       "</g>\n",
       "<!-- 8 -->\n",
       "<g id=\"node9\" class=\"node\">\n",
       "<title>8</title>\n",
       "<text text-anchor=\"start\" x=\"152\" y=\"-85.58\" font-family=\"Courier,monospace\" font-weight=\"bold\" font-size=\"14.00\" fill=\"#004080\">Constant</text>\n",
       "</g>\n",
       "<!-- 7&#45;&#45;8 -->\n",
       "<g id=\"edge8\" class=\"edge\">\n",
       "<title>7--8</title>\n",
       "<path fill=\"none\" stroke=\"black\" d=\"M259,-143C259,-143 228.14,-122.94 204.75,-107.74\"/>\n",
       "</g>\n",
       "<!-- 10 -->\n",
       "<g id=\"node11\" class=\"node\">\n",
       "<title>10</title>\n",
       "<text text-anchor=\"middle\" x=\"259\" y=\"-84.58\" font-family=\"Courier,monospace\" font-size=\"14.00\" fill=\"#008040\">Mult</text>\n",
       "</g>\n",
       "<!-- 7&#45;&#45;10 -->\n",
       "<g id=\"edge10\" class=\"edge\">\n",
       "<title>7--10</title>\n",
       "<path fill=\"none\" stroke=\"black\" d=\"M259,-143C259,-143 259,-122.94 259,-107.74\"/>\n",
       "</g>\n",
       "<!-- 11 -->\n",
       "<g id=\"node12\" class=\"node\">\n",
       "<title>11</title>\n",
       "<text text-anchor=\"start\" x=\"312\" y=\"-85.58\" font-family=\"Courier,monospace\" font-weight=\"bold\" font-size=\"14.00\" fill=\"#004080\">Constant</text>\n",
       "</g>\n",
       "<!-- 7&#45;&#45;11 -->\n",
       "<g id=\"edge11\" class=\"edge\">\n",
       "<title>7--11</title>\n",
       "<path fill=\"none\" stroke=\"black\" d=\"M259,-143C259,-143 289.86,-122.94 313.25,-107.74\"/>\n",
       "</g>\n",
       "<!-- 9 -->\n",
       "<g id=\"node10\" class=\"node\">\n",
       "<title>9</title>\n",
       "<text text-anchor=\"middle\" x=\"179\" y=\"-12.57\" font-family=\"Courier,monospace\" font-size=\"14.00\" fill=\"#008040\">2</text>\n",
       "</g>\n",
       "<!-- 8&#45;&#45;9 -->\n",
       "<g id=\"edge9\" class=\"edge\">\n",
       "<title>8--9</title>\n",
       "<path fill=\"none\" stroke=\"black\" d=\"M179,-72.05C179,-61.05 179,-46.76 179,-35.79\"/>\n",
       "</g>\n",
       "<!-- 12 -->\n",
       "<g id=\"node13\" class=\"node\">\n",
       "<title>12</title>\n",
       "<text text-anchor=\"middle\" x=\"339\" y=\"-12.57\" font-family=\"Courier,monospace\" font-size=\"14.00\" fill=\"#008040\">2</text>\n",
       "</g>\n",
       "<!-- 11&#45;&#45;12 -->\n",
       "<g id=\"edge12\" class=\"edge\">\n",
       "<title>11--12</title>\n",
       "<path fill=\"none\" stroke=\"black\" d=\"M339,-72.05C339,-61.05 339,-46.76 339,-35.79\"/>\n",
       "</g>\n",
       "<!-- 14 -->\n",
       "<g id=\"node15\" class=\"node\">\n",
       "<title>14</title>\n",
       "<text text-anchor=\"start\" x=\"405.5\" y=\"-157.57\" font-family=\"Courier,monospace\" font-weight=\"bold\" font-size=\"14.00\" fill=\"#004080\">Name</text>\n",
       "</g>\n",
       "<!-- 13&#45;&#45;14 -->\n",
       "<g id=\"edge14\" class=\"edge\">\n",
       "<title>13--14</title>\n",
       "<path fill=\"none\" stroke=\"black\" d=\"M386.41,-216.05C393.17,-205.05 401.95,-190.76 408.69,-179.79\"/>\n",
       "</g>\n",
       "<!-- 15 -->\n",
       "<g id=\"node16\" class=\"node\">\n",
       "<title>15</title>\n",
       "<text text-anchor=\"middle\" x=\"419\" y=\"-84.58\" font-family=\"Courier,monospace\" font-size=\"14.00\" fill=\"#008040\">&quot;ret&quot;</text>\n",
       "</g>\n",
       "<!-- 14&#45;&#45;15 -->\n",
       "<g id=\"edge15\" class=\"edge\">\n",
       "<title>14--15</title>\n",
       "<path fill=\"none\" stroke=\"black\" d=\"M426,-143C426,-143 423.3,-122.94 421.25,-107.74\"/>\n",
       "</g>\n",
       "<!-- 16 -->\n",
       "<g id=\"node17\" class=\"node\">\n",
       "<title>16</title>\n",
       "<text text-anchor=\"middle\" x=\"491\" y=\"-84.58\" font-family=\"Courier,monospace\" font-size=\"14.00\" fill=\"#008040\">Load</text>\n",
       "</g>\n",
       "<!-- 14&#45;&#45;16 -->\n",
       "<g id=\"edge16\" class=\"edge\">\n",
       "<title>14--16</title>\n",
       "<path fill=\"none\" stroke=\"black\" d=\"M426,-143C426,-143 451.07,-122.94 470.08,-107.74\"/>\n",
       "</g>\n",
       "</g>\n",
       "</svg>"
      ],
      "text/plain": [
       "<IPython.core.display.SVG object>"
      ]
     },
     "metadata": {},
     "output_type": "display_data"
    }
   ],
   "source": [
    "show_ast(your_ast)"
   ]
  },
  {
   "cell_type": "markdown",
   "id": "6913c335-8b6b-43e2-b10f-b44705acd271",
   "metadata": {},
   "source": [
    "Although the above tree-structured representation looks fancy, it is not available in commandline interfaces. You can use the following function instead:"
   ]
  },
  {
   "cell_type": "code",
   "execution_count": 12,
   "id": "f9a1ef21-c2c0-40d1-9911-480f64a11b90",
   "metadata": {},
   "outputs": [
    {
     "name": "stdout",
     "output_type": "stream",
     "text": [
      "Module(\n",
      "    body=[\n",
      "        FunctionDef(\n",
      "            name='foo',\n",
      "            args=arguments(\n",
      "                posonlyargs=[],\n",
      "                args=[],\n",
      "                kwonlyargs=[],\n",
      "                kw_defaults=[],\n",
      "                defaults=[]),\n",
      "            body=[\n",
      "                Assign(\n",
      "                    targets=[\n",
      "                        Name(id='ret', ctx=Store())],\n",
      "                    value=BinOp(\n",
      "                        left=Constant(value=2),\n",
      "                        op=Mult(),\n",
      "                        right=Constant(value=2))),\n",
      "                Return(\n",
      "                    value=Name(id='ret', ctx=Load()))],\n",
      "            decorator_list=[])],\n",
      "    type_ignores=[])\n"
     ]
    }
   ],
   "source": [
    "print(ast.dump(your_ast, indent=4))"
   ]
  },
  {
   "cell_type": "markdown",
   "id": "1b9e41e2-7493-4b7f-85b2-2b929c496815",
   "metadata": {},
   "source": [
    "You may want to traverse each element in the ast. "
   ]
  },
  {
   "cell_type": "code",
   "execution_count": null,
   "id": "f3a00f0b-dabf-402e-82b0-f80b8e1a23ad",
   "metadata": {},
   "outputs": [],
   "source": []
  }
 ],
 "metadata": {
  "kernelspec": {
   "display_name": "Python 3 (ipykernel)",
   "language": "python",
   "name": "python3"
  },
  "language_info": {
   "codemirror_mode": {
    "name": "ipython",
    "version": 3
   },
   "file_extension": ".py",
   "mimetype": "text/x-python",
   "name": "python",
   "nbconvert_exporter": "python",
   "pygments_lexer": "ipython3",
   "version": "3.11.4"
  }
 },
 "nbformat": 4,
 "nbformat_minor": 5
}
