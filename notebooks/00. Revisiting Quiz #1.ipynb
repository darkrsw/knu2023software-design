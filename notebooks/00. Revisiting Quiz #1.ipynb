{
 "cells": [
  {
   "cell_type": "code",
   "execution_count": 9,
   "id": "e0757d83",
   "metadata": {},
   "outputs": [],
   "source": [
    "import os\n",
    "\n",
    "from glob import glob\n",
    "\n",
    "def collect_class_forest(path):\n",
    "    pyfiles = list(glob(path+\"/**/*.py\", recursive=True))\n",
    "#     print(\"# of python files:\", len(pyfiles))\n",
    "#     print(pyfiles)\n",
    "    "
   ]
  },
  {
   "cell_type": "code",
   "execution_count": 10,
   "id": "0ff23998",
   "metadata": {},
   "outputs": [],
   "source": [
    "def test_class_forest():\n",
    "    expected = {\n",
    "        \"First\": {\n",
    "          \"Second\": {\n",
    "              \"Third\": {}\n",
    "          }\n",
    "        },\n",
    "        \"A\": {\n",
    "          \"B\": {},\n",
    "          \"D\": {}\n",
    "        }\n",
    "    }\n",
    "\n",
    "    result = collect_class_forest(\"./src\")\n",
    "    assert expected == result"
   ]
  },
  {
   "cell_type": "code",
   "execution_count": 11,
   "id": "764187ec",
   "metadata": {},
   "outputs": [
    {
     "name": "stdout",
     "output_type": "stream",
     "text": [
      "['./src/example.py']\n"
     ]
    },
    {
     "ename": "AssertionError",
     "evalue": "",
     "output_type": "error",
     "traceback": [
      "\u001b[0;31m---------------------------------------------------------------------------\u001b[0m",
      "\u001b[0;31mAssertionError\u001b[0m                            Traceback (most recent call last)",
      "Cell \u001b[0;32mIn[11], line 1\u001b[0m\n\u001b[0;32m----> 1\u001b[0m \u001b[43mtest_class_forest\u001b[49m\u001b[43m(\u001b[49m\u001b[43m)\u001b[49m\n",
      "Cell \u001b[0;32mIn[10], line 15\u001b[0m, in \u001b[0;36mtest_class_forest\u001b[0;34m()\u001b[0m\n\u001b[1;32m      2\u001b[0m expected \u001b[38;5;241m=\u001b[39m {\n\u001b[1;32m      3\u001b[0m     \u001b[38;5;124m\"\u001b[39m\u001b[38;5;124mFirst\u001b[39m\u001b[38;5;124m\"\u001b[39m: {\n\u001b[1;32m      4\u001b[0m       \u001b[38;5;124m\"\u001b[39m\u001b[38;5;124mSecond\u001b[39m\u001b[38;5;124m\"\u001b[39m: {\n\u001b[0;32m   (...)\u001b[0m\n\u001b[1;32m     11\u001b[0m     }\n\u001b[1;32m     12\u001b[0m }\n\u001b[1;32m     14\u001b[0m result \u001b[38;5;241m=\u001b[39m collect_class_forest(\u001b[38;5;124m\"\u001b[39m\u001b[38;5;124m./src\u001b[39m\u001b[38;5;124m\"\u001b[39m)\n\u001b[0;32m---> 15\u001b[0m \u001b[38;5;28;01massert\u001b[39;00m expected \u001b[38;5;241m==\u001b[39m result\n",
      "\u001b[0;31mAssertionError\u001b[0m: "
     ]
    }
   ],
   "source": [
    "test_class_forest()"
   ]
  },
  {
   "cell_type": "code",
   "execution_count": 12,
   "id": "c5acfc03",
   "metadata": {},
   "outputs": [],
   "source": [
    "import ast\n",
    "\n",
    "def getAST(path: str):\n",
    "    with open(path, \"r\") as f:\n",
    "        source = f.read()\n",
    "        \n",
    "    return ast.parse(source)"
   ]
  },
  {
   "cell_type": "code",
   "execution_count": 13,
   "id": "80fd37c0",
   "metadata": {},
   "outputs": [],
   "source": [
    "from ast import NodeVisitor\n",
    "\n",
    "class ClassVisitor(NodeVisitor):\n",
    "    def __init__(self):\n",
    "        super().__init__()\n",
    "        self.gen_dict = {}\n",
    "        \n",
    "    def visit_ClassDef(self, node):\n",
    "        parents = []\n",
    "        for base in node.bases:\n",
    "            if isinstance(base, ast.Attribute):\n",
    "                parents.append(base.attr)\n",
    "            elif isinstance(base, ast.Subscript):\n",
    "                parents.append(base.value.id)\n",
    "            elif isinstance(base, ast.Name):\n",
    "                parents.append(base.id)\n",
    "            else:\n",
    "                raise Exception(f\"Unknown base type: {type(base)}\")\n",
    "        self.gen_dict[node.name] = { \"parents\": parents }\n",
    "        return super().generic_visit(node)"
   ]
  },
  {
   "cell_type": "code",
   "execution_count": 14,
   "id": "b1dad8db",
   "metadata": {},
   "outputs": [],
   "source": [
    "def collect_class_forest(path):\n",
    "    pyfiles = list(glob(path+\"/**/*.py\", recursive=True))\n",
    "    \n",
    "    myvisitor = ClassVisitor()\n",
    "    for pfile in pyfiles:\n",
    "        myast = getAST(pfile)\n",
    "        myvisitor.visit(myast)\n",
    "    \n",
    "    print(myvisitor.gen_dict)"
   ]
  },
  {
   "cell_type": "code",
   "execution_count": 15,
   "id": "c932ce20",
   "metadata": {},
   "outputs": [
    {
     "name": "stdout",
     "output_type": "stream",
     "text": [
      "{'First': {'parents': []}, 'Second': {'parents': ['First']}, 'Third': {'parents': ['Second']}, 'A': {'parents': []}, 'B': {'parents': ['A']}, 'C': {'parents': []}, 'D': {'parents': ['A']}}\n"
     ]
    },
    {
     "ename": "AssertionError",
     "evalue": "",
     "output_type": "error",
     "traceback": [
      "\u001b[0;31m---------------------------------------------------------------------------\u001b[0m",
      "\u001b[0;31mAssertionError\u001b[0m                            Traceback (most recent call last)",
      "Cell \u001b[0;32mIn[15], line 1\u001b[0m\n\u001b[0;32m----> 1\u001b[0m \u001b[43mtest_class_forest\u001b[49m\u001b[43m(\u001b[49m\u001b[43m)\u001b[49m\n",
      "Cell \u001b[0;32mIn[10], line 15\u001b[0m, in \u001b[0;36mtest_class_forest\u001b[0;34m()\u001b[0m\n\u001b[1;32m      2\u001b[0m expected \u001b[38;5;241m=\u001b[39m {\n\u001b[1;32m      3\u001b[0m     \u001b[38;5;124m\"\u001b[39m\u001b[38;5;124mFirst\u001b[39m\u001b[38;5;124m\"\u001b[39m: {\n\u001b[1;32m      4\u001b[0m       \u001b[38;5;124m\"\u001b[39m\u001b[38;5;124mSecond\u001b[39m\u001b[38;5;124m\"\u001b[39m: {\n\u001b[0;32m   (...)\u001b[0m\n\u001b[1;32m     11\u001b[0m     }\n\u001b[1;32m     12\u001b[0m }\n\u001b[1;32m     14\u001b[0m result \u001b[38;5;241m=\u001b[39m collect_class_forest(\u001b[38;5;124m\"\u001b[39m\u001b[38;5;124m./src\u001b[39m\u001b[38;5;124m\"\u001b[39m)\n\u001b[0;32m---> 15\u001b[0m \u001b[38;5;28;01massert\u001b[39;00m expected \u001b[38;5;241m==\u001b[39m result\n",
      "\u001b[0;31mAssertionError\u001b[0m: "
     ]
    }
   ],
   "source": [
    "test_class_forest()"
   ]
  },
  {
   "cell_type": "code",
   "execution_count": 18,
   "id": "6249dabd",
   "metadata": {},
   "outputs": [],
   "source": [
    "def collect_class_forest(path):\n",
    "    pyfiles = list(glob(path+\"/**/*.py\", recursive=True))\n",
    "    \n",
    "    myvisitor = ClassVisitor()\n",
    "    for pfile in pyfiles:\n",
    "        myast = getAST(pfile)\n",
    "        myvisitor.visit(myast)\n",
    "    \n",
    "    forwardmap = {}\n",
    "    \n",
    "    for key, values in myvisitor.gen_dict.items():\n",
    "        for parent in values[\"parents\"]:\n",
    "            if parent in forwardmap.keys():\n",
    "                forwardmap[parent][key] = {}\n",
    "            else:\n",
    "                forwardmap[parent] = {key:{}}\n",
    "    \n",
    "    print(forwardmap)"
   ]
  },
  {
   "cell_type": "code",
   "execution_count": 19,
   "id": "b9387eb6",
   "metadata": {},
   "outputs": [
    {
     "name": "stdout",
     "output_type": "stream",
     "text": [
      "{'First': {'Second': {}}, 'Second': {'Third': {}}, 'A': {'B': {}, 'D': {}}}\n"
     ]
    },
    {
     "ename": "AssertionError",
     "evalue": "",
     "output_type": "error",
     "traceback": [
      "\u001b[0;31m---------------------------------------------------------------------------\u001b[0m",
      "\u001b[0;31mAssertionError\u001b[0m                            Traceback (most recent call last)",
      "Cell \u001b[0;32mIn[19], line 1\u001b[0m\n\u001b[0;32m----> 1\u001b[0m \u001b[43mtest_class_forest\u001b[49m\u001b[43m(\u001b[49m\u001b[43m)\u001b[49m\n",
      "Cell \u001b[0;32mIn[10], line 15\u001b[0m, in \u001b[0;36mtest_class_forest\u001b[0;34m()\u001b[0m\n\u001b[1;32m      2\u001b[0m expected \u001b[38;5;241m=\u001b[39m {\n\u001b[1;32m      3\u001b[0m     \u001b[38;5;124m\"\u001b[39m\u001b[38;5;124mFirst\u001b[39m\u001b[38;5;124m\"\u001b[39m: {\n\u001b[1;32m      4\u001b[0m       \u001b[38;5;124m\"\u001b[39m\u001b[38;5;124mSecond\u001b[39m\u001b[38;5;124m\"\u001b[39m: {\n\u001b[0;32m   (...)\u001b[0m\n\u001b[1;32m     11\u001b[0m     }\n\u001b[1;32m     12\u001b[0m }\n\u001b[1;32m     14\u001b[0m result \u001b[38;5;241m=\u001b[39m collect_class_forest(\u001b[38;5;124m\"\u001b[39m\u001b[38;5;124m./src\u001b[39m\u001b[38;5;124m\"\u001b[39m)\n\u001b[0;32m---> 15\u001b[0m \u001b[38;5;28;01massert\u001b[39;00m expected \u001b[38;5;241m==\u001b[39m result\n",
      "\u001b[0;31mAssertionError\u001b[0m: "
     ]
    }
   ],
   "source": [
    "test_class_forest()"
   ]
  },
  {
   "cell_type": "code",
   "execution_count": 24,
   "id": "07da1865",
   "metadata": {},
   "outputs": [],
   "source": [
    "def collect_class_forest(path):\n",
    "    pyfiles = list(glob(path+\"/**/*.py\", recursive=True))\n",
    "    \n",
    "    myvisitor = ClassVisitor()\n",
    "    for pfile in pyfiles:\n",
    "        myast = getAST(pfile)\n",
    "        myvisitor.visit(myast)\n",
    "    \n",
    "    forwardmap = {}\n",
    "    \n",
    "    for key, values in myvisitor.gen_dict.items():\n",
    "        for parent in values[\"parents\"]:\n",
    "            if parent in forwardmap.keys():\n",
    "                forwardmap[parent][key] = {}\n",
    "            else:\n",
    "                forwardmap[parent] = {key:{}}\n",
    "    \n",
    "    mystack = []\n",
    "    \n",
    "    forest = {}\n",
    "    for aroot, values in forwardmap.items():\n",
    "        for subclass, adict in values.items():\n",
    "            mystack.append( (aroot, subclass) )\n",
    "            \n",
    "    while not mystack.empty():\n",
    "        sup, sub = mystack.peek()\n",
    "        if sub in forwardmap.keys():\n",
    "            "
   ]
  },
  {
   "cell_type": "code",
   "execution_count": 25,
   "id": "23a87368",
   "metadata": {},
   "outputs": [
    {
     "name": "stdout",
     "output_type": "stream",
     "text": [
      "[('First', 'Second'), ('Second', 'Third'), ('A', 'B'), ('A', 'D')]\n"
     ]
    },
    {
     "ename": "AssertionError",
     "evalue": "",
     "output_type": "error",
     "traceback": [
      "\u001b[0;31m---------------------------------------------------------------------------\u001b[0m",
      "\u001b[0;31mAssertionError\u001b[0m                            Traceback (most recent call last)",
      "Cell \u001b[0;32mIn[25], line 1\u001b[0m\n\u001b[0;32m----> 1\u001b[0m \u001b[43mtest_class_forest\u001b[49m\u001b[43m(\u001b[49m\u001b[43m)\u001b[49m\n",
      "Cell \u001b[0;32mIn[10], line 15\u001b[0m, in \u001b[0;36mtest_class_forest\u001b[0;34m()\u001b[0m\n\u001b[1;32m      2\u001b[0m expected \u001b[38;5;241m=\u001b[39m {\n\u001b[1;32m      3\u001b[0m     \u001b[38;5;124m\"\u001b[39m\u001b[38;5;124mFirst\u001b[39m\u001b[38;5;124m\"\u001b[39m: {\n\u001b[1;32m      4\u001b[0m       \u001b[38;5;124m\"\u001b[39m\u001b[38;5;124mSecond\u001b[39m\u001b[38;5;124m\"\u001b[39m: {\n\u001b[0;32m   (...)\u001b[0m\n\u001b[1;32m     11\u001b[0m     }\n\u001b[1;32m     12\u001b[0m }\n\u001b[1;32m     14\u001b[0m result \u001b[38;5;241m=\u001b[39m collect_class_forest(\u001b[38;5;124m\"\u001b[39m\u001b[38;5;124m./src\u001b[39m\u001b[38;5;124m\"\u001b[39m)\n\u001b[0;32m---> 15\u001b[0m \u001b[38;5;28;01massert\u001b[39;00m expected \u001b[38;5;241m==\u001b[39m result\n",
      "\u001b[0;31mAssertionError\u001b[0m: "
     ]
    }
   ],
   "source": [
    "test_class_forest()"
   ]
  },
  {
   "cell_type": "code",
   "execution_count": 40,
   "id": "f1f0a358",
   "metadata": {},
   "outputs": [],
   "source": [
    "def collect_class_forest(path):\n",
    "    pyfiles = list(glob(path+\"/**/*.py\", recursive=True))\n",
    "    \n",
    "    myvisitor = ClassVisitor()\n",
    "    for pfile in pyfiles:\n",
    "        myast = getAST(pfile)\n",
    "        myvisitor.visit(myast)\n",
    "    \n",
    "    forwardmap = {}\n",
    "    \n",
    "    for key, values in myvisitor.gen_dict.items():\n",
    "        for parent in values[\"parents\"]:\n",
    "            if parent in forwardmap.keys():\n",
    "                forwardmap[parent][key] = {}\n",
    "            else:\n",
    "                forwardmap[parent] = {key:{}}\n",
    "                \n",
    "                \n",
    "    def update_children(p, fmap):\n",
    "        if p not in fmap.keys():\n",
    "            return {}\n",
    "        else:\n",
    "            amap = {}\n",
    "            for child in fmap[p]:\n",
    "                children = update_children(child, fmap)\n",
    "                amap[child] = children   \n",
    "            return amap\n",
    "        \n",
    "    forest = {}\n",
    "    for key, children in forwardmap.items():\n",
    "        if key in myvisitor.gen_dict.keys() and len(myvisitor.gen_dict[key][\"parents\"]) == 0:\n",
    "#             for child in children.keys():\n",
    "            forest[key] = update_children(key, forwardmap)\n",
    "    \n",
    "    return forest"
   ]
  },
  {
   "cell_type": "code",
   "execution_count": 36,
   "id": "b7a7f42f",
   "metadata": {},
   "outputs": [],
   "source": [
    "test_class_forest()"
   ]
  },
  {
   "cell_type": "code",
   "execution_count": 41,
   "id": "36f82571",
   "metadata": {},
   "outputs": [
    {
     "data": {
      "text/plain": [
       "{'SessionTestBase': {'TestSessionFlow': {}, 'TestSession': {}},\n",
       " 'CookieTestBase': {'TestExpiredCookies': {}, 'TestCookieStorage': {}},\n",
       " 'Environment': {'MockEnvironment': {'PersistentMockEnvironment': {}},\n",
       "  'HTTPieEnvironment': {},\n",
       "  'LocalCommandEnvironment': {}},\n",
       " 'BaseCLIResponse': {'BytesCLIResponse': {}, 'StrCLIResponse': {}},\n",
       " 'HTTPMessage': {'HTTPResponse': {}, 'HTTPRequest': {}},\n",
       " 'ChunkedStream': {'ChunkedUploadStream': {},\n",
       "  'ChunkedMultipartUploadStream': {}},\n",
       " 'BasePlugin': {'AuthPlugin': {'BuiltinAuthPlugin': {'BasicAuthPlugin': {},\n",
       "    'DigestAuthPlugin': {},\n",
       "    'BearerAuthPlugin': {}}},\n",
       "  'TransportPlugin': {'FakeTransportPlugin': {}},\n",
       "  'ConverterPlugin': {'SortJSONConverterPlugin': {}},\n",
       "  'FormatterPlugin': {'XMLFormatter': {},\n",
       "   'HeadersFormatter': {},\n",
       "   'JSONFormatter': {},\n",
       "   'ColorFormatter': {}}},\n",
       " 'BaseStream': {'RawStream': {},\n",
       "  'EncodedStream': {'PrettyStream': {'BufferedPrettyStream': {}}}},\n",
       " 'BaseDisplay': {'DummyDisplay': {},\n",
       "  'StatusDisplay': {},\n",
       "  'ProgressDisplay': {}},\n",
       " 'PromptMixin': {'SSLCredentials': {}, 'AuthCredentials': {}},\n",
       " 'KeyValueArg': {'AuthCredentials': {}},\n",
       " 'KeyValueArgType': {'AuthCredentialsArgType': {}},\n",
       " 'BaseRunner': {'CommandRunner': {}, 'DownloadRunner': {}}}"
      ]
     },
     "execution_count": 41,
     "metadata": {},
     "output_type": "execute_result"
    }
   ],
   "source": [
    "collect_class_forest(\"./cli\")"
   ]
  },
  {
   "cell_type": "code",
   "execution_count": null,
   "id": "5a8b500b",
   "metadata": {},
   "outputs": [],
   "source": []
  }
 ],
 "metadata": {
  "kernelspec": {
   "display_name": "Python 3 (ipykernel)",
   "language": "python",
   "name": "python3"
  },
  "language_info": {
   "codemirror_mode": {
    "name": "ipython",
    "version": 3
   },
   "file_extension": ".py",
   "mimetype": "text/x-python",
   "name": "python",
   "nbconvert_exporter": "python",
   "pygments_lexer": "ipython3",
   "version": "3.11.6"
  }
 },
 "nbformat": 4,
 "nbformat_minor": 5
}
