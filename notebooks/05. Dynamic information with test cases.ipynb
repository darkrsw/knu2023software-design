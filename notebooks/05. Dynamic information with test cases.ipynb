{
 "cells": [
  {
   "cell_type": "markdown",
   "id": "b86d4f19",
   "metadata": {},
   "source": [
    "# Collecting dynamic information with test cases"
   ]
  },
  {
   "cell_type": "markdown",
   "id": "3440d7ea",
   "metadata": {},
   "source": [
    "You can take information of the current execution frame based on `FrameType` and `codeobject`.\n",
    "\n",
    "- FrameType: https://docs.python.org/3/reference/datamodel.html#frame-objects\n",
    "- codeobject: https://docs.python.org/3/reference/datamodel.html#code-objects"
   ]
  },
  {
   "cell_type": "code",
   "execution_count": null,
   "id": "58b76eb4",
   "metadata": {},
   "outputs": [],
   "source": [
    "import pytest"
   ]
  },
  {
   "cell_type": "code",
   "execution_count": null,
   "id": "07ec3d5a",
   "metadata": {},
   "outputs": [],
   "source": [
    "from types import FrameType, TracebackType\n",
    "from typing import Any, Optional, Callable\n",
    "\n",
    "import io\n",
    "\n",
    "output = io.StringIO()\n",
    "\n",
    "def traceit(frame: FrameType, event: str, arg: Any) -> Optional[Callable]:\n",
    "#     print(event, frame.f_lineno, frame.f_code.co_name, frame.f_locals)\n",
    "    if frame.f_code.co_filename.endswith(\"sessions.py\"):\n",
    "        if \"Session.\" in frame.f_code.co_qualname:\n",
    "        #     print(*args, file=output, **kwargs)\n",
    "            print(frame.f_lineno, event, frame.f_locals, frame.f_code.co_name, frame.f_code.co_qualname, file=output)\n",
    "    return traceit"
   ]
  },
  {
   "cell_type": "code",
   "execution_count": null,
   "id": "a7a6bf53",
   "metadata": {},
   "outputs": [],
   "source": [
    "import sys\n",
    "\n",
    "sys.settrace(traceit)\n",
    "pytest.main([\"-qqqq\", \"./cli\"])\n",
    "sys.settrace(None)\n",
    "\n",
    "contents = output.getvalue()\n",
    "output.close()"
   ]
  },
  {
   "cell_type": "code",
   "execution_count": null,
   "id": "8627adb0",
   "metadata": {},
   "outputs": [],
   "source": [
    "print(contents)"
   ]
  },
  {
   "cell_type": "markdown",
   "id": "8d0be010",
   "metadata": {},
   "source": [
    "### Static information again"
   ]
  },
  {
   "cell_type": "code",
   "execution_count": null,
   "id": "8044ac1a",
   "metadata": {},
   "outputs": [],
   "source": [
    "path = \"./cli/httpie///////////////**/*.py\"\n",
    "\n",
    "from glob import glob\n",
    "\n",
    "pyfiles = list(glob(path, recursive=True))\n",
    "len(pyfiles)"
   ]
  },
  {
   "cell_type": "code",
   "execution_count": null,
   "id": "71c679a7",
   "metadata": {},
   "outputs": [],
   "source": [
    "import ast\n",
    "\n",
    "def getAST(path: str):\n",
    "    with open(path, \"r\") as f:\n",
    "        source = f.read()\n",
    "        \n",
    "    return ast.parse(source)"
   ]
  },
  {
   "cell_type": "code",
   "execution_count": null,
   "id": "4b646f29",
   "metadata": {},
   "outputs": [],
   "source": [
    "from ast import NodeVisitor\n",
    "\n",
    "class NameVisitor(NodeVisitor):\n",
    "    def __init__(self):\n",
    "        super().__init__()\n",
    "        self.names = []\n",
    "    \n",
    "    def visit_Name(self, node):\n",
    "        self.names.append(node.id)\n",
    "        return super().generic_visit(node)\n",
    "\n",
    "    \n",
    "class StaticVisitor(NodeVisitor):\n",
    "    def __init__(self, focus):\n",
    "        super().__init__()\n",
    "        self.linemap = {}\n",
    "        self.focus_class = focus\n",
    "        \n",
    "    def visit_ClassDef(self, node):\n",
    "        if node.name == self.focus_class:\n",
    "            for stmt in node.body:\n",
    "                if not ( isinstance(stmt, ast.FunctionDef) or isinstance(stmt, ast.AsyncFunctionDef) ):\n",
    "                    nvisitor = NameVisitor()\n",
    "                    nvisitor.visit(stmt)\n",
    "                    self.linemap[stmt.lineno] = set(nvisitor.names)\n",
    "                else:\n",
    "                    for mstmt in stmt.body:\n",
    "                        nvisitor = NameVisitor()\n",
    "                        nvisitor.visit(mstmt)\n",
    "                        self.linemap[mstmt.lineno] = set(nvisitor.names)\n",
    "        return super().generic_visit(node)"
   ]
  },
  {
   "cell_type": "code",
   "execution_count": null,
   "id": "f73f55a8",
   "metadata": {},
   "outputs": [],
   "source": [
    "myvisitor = StaticVisitor(\"Session\")\n",
    "\n",
    "for pyfile in pyfiles:\n",
    "    myast = getAST(pyfile)\n",
    "    myvisitor.visit(myast)\n",
    "    \n",
    "myvisitor.linemap"
   ]
  },
  {
   "cell_type": "markdown",
   "id": "71741369",
   "metadata": {},
   "source": [
    "### How to collect dynamic inforamtion from a project\n",
    "\n",
    "First, it is necessary define `traceit` function for your purpose."
   ]
  },
  {
   "cell_type": "code",
   "execution_count": null,
   "id": "6f82ab67",
   "metadata": {},
   "outputs": [],
   "source": [
    "from types import FrameType, TracebackType\n",
    "from typing import Any, Optional, Callable\n",
    "\n",
    "import json\n",
    "\n",
    "import pytest\n",
    "import sys\n",
    "\n",
    "linemap = {}\n",
    "\n",
    "def traceit(frame: FrameType, event: str, arg: Any) -> Optional[Callable]:\n",
    "#     print(event, frame.f_lineno, frame.f_code.co_name, frame.f_locals)\n",
    "    if frame.f_code.co_filename.endswith(\"sessions.py\"):\n",
    "        if \"Session\" in frame.f_code.co_qualname:\n",
    "            \"\"\"\n",
    "            varmap = {}\n",
    "            for var in frame.f_locals:\n",
    "                varmap[str(var)] = type(var)\n",
    "            \"\"\"\n",
    "            typemap = {}\n",
    "            for key, value in frame.f_locals.items():\n",
    "                typemap[key] = type(value)\n",
    "\n",
    "            linemap[frame.f_lineno] = typemap\n",
    "            # print(frame.f_lineno, event, frame.f_locals, frame.f_code.co_name, frame.f_code.co_qualname, file=output)\n",
    "    return traceit"
   ]
  },
  {
   "cell_type": "markdown",
   "id": "1fe67bf7",
   "metadata": {},
   "source": [
    "Then, define a `main()` function to run `pytest` or any test cases."
   ]
  },
  {
   "cell_type": "code",
   "execution_count": null,
   "id": "0392653f",
   "metadata": {},
   "outputs": [],
   "source": [
    "def main():\n",
    "    sys.settrace(traceit)\n",
    "    pytest.main([\"-qqqq\", \"./tests/test_sessions.py\"])\n",
    "    sys.settrace(None)\n",
    "\n",
    "    for line, locals in linemap.items():\n",
    "        if line == 154:\n",
    "            print(line, locals)\n",
    "\n",
    "if __name__ == \"__main__\":\n",
    "    main()"
   ]
  }
 ],
 "metadata": {
  "kernelspec": {
   "display_name": "Python 3 (ipykernel)",
   "language": "python",
   "name": "python3"
  },
  "language_info": {
   "codemirror_mode": {
    "name": "ipython",
    "version": 3
   },
   "file_extension": ".py",
   "mimetype": "text/x-python",
   "name": "python",
   "nbconvert_exporter": "python",
   "pygments_lexer": "ipython3",
   "version": "3.11.6"
  }
 },
 "nbformat": 4,
 "nbformat_minor": 5
}
