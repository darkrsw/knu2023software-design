{
 "cells": [
  {
   "cell_type": "markdown",
   "id": "b86d4f19",
   "metadata": {},
   "source": [
    "# Collecting dynamic information with test cases"
   ]
  },
  {
   "cell_type": "code",
   "execution_count": 2,
   "id": "58b76eb4",
   "metadata": {},
   "outputs": [],
   "source": [
    "import pytest"
   ]
  },
  {
   "cell_type": "code",
   "execution_count": 3,
   "id": "07ec3d5a",
   "metadata": {},
   "outputs": [],
   "source": [
    "from types import FrameType, TracebackType\n",
    "from typing import Any, Optional, Callable\n",
    "\n",
    "import io\n",
    "\n",
    "output = io.StringIO()\n",
    "\n",
    "def traceit(frame: FrameType, event: str, arg: Any) -> Optional[Callable]:\n",
    "#     print(event, frame.f_lineno, frame.f_code.co_name, frame.f_locals)\n",
    "    if frame.f_code.co_filename.endswith(\"sessions.py\"):\n",
    "        #     print(*args, file=output, **kwargs)\n",
    "        print(frame.f_lineno, event, frame.f_code.co_name, frame.f_code.co_qualname, \"\\n\", file=output)\n",
    "    return traceit"
   ]
  },
  {
   "cell_type": "code",
   "execution_count": 4,
   "id": "a7a6bf53",
   "metadata": {},
   "outputs": [
    {
     "name": "stdout",
     "output_type": "stream",
     "text": [
      "\u001b[32m.\u001b[0m\u001b[32m.\u001b[0m\u001b[32m.\u001b[0m\u001b[32m.\u001b[0m\u001b[32m.\u001b[0m\u001b[32m.\u001b[0m\u001b[32m.\u001b[0m\u001b[32m.\u001b[0m\u001b[32m.\u001b[0m\u001b[32m.\u001b[0m\u001b[32m.\u001b[0m\u001b[32m.\u001b[0m\u001b[32m.\u001b[0m\u001b[32m.\u001b[0m\u001b[32m.\u001b[0m\u001b[32m.\u001b[0m\u001b[32m.\u001b[0m"
     ]
    },
    {
     "data": {
      "text/html": [
       "<pre style=\"white-space:pre;overflow-x:auto;line-height:normal;font-family:Menlo,'DejaVu Sans Mono',consolas,'Courier New',monospace\"><span style=\"color: #c0c0c0; text-decoration-color: #c0c0c0; font-weight: bold\">Downloading to /var/folders/wz/1s6cf6yx1w768h9dr46pvs8h0000gn/T/httpie_stderrlp_tek2z</span>\n",
       "</pre>\n"
      ],
      "text/plain": [
       "\u001b[1mDownloading to \u001b[0m\u001b[1m/var/folders/wz/1s6cf6yx1w768h9dr46pvs8h0000gn/T/\u001b[0m\u001b[1mhttpie_stderrlp_tek2z\u001b[0m\n"
      ]
     },
     "metadata": {},
     "output_type": "display_data"
    },
    {
     "data": {
      "text/html": [
       "<pre style=\"white-space:pre;overflow-x:auto;line-height:normal;font-family:Menlo,'DejaVu Sans Mono',consolas,'Courier New',monospace\"></pre>\n"
      ],
      "text/plain": []
     },
     "metadata": {},
     "output_type": "display_data"
    },
    {
     "data": {
      "text/html": [
       "<pre style=\"white-space:pre;overflow-x:auto;line-height:normal;font-family:Menlo,'DejaVu Sans Mono',consolas,'Courier New',monospace\">\n",
       "</pre>\n"
      ],
      "text/plain": [
       "\n"
      ]
     },
     "metadata": {},
     "output_type": "display_data"
    },
    {
     "data": {
      "text/html": [
       "<pre style=\"white-space:pre;overflow-x:auto;line-height:normal;font-family:Menlo,'DejaVu Sans Mono',consolas,'Courier New',monospace\"><span style=\"color: #c0c0c0; text-decoration-color: #c0c0c0; font-weight: bold\">Done. </span><span style=\"color: #c0c0c0; text-decoration-color: #c0c0c0; font-weight: bold\">30</span><span style=\"color: #c0c0c0; text-decoration-color: #c0c0c0; font-weight: bold\"> bytes in 00:0.</span><span style=\"color: #c0c0c0; text-decoration-color: #c0c0c0; font-weight: bold\">06904</span><span style=\"color: #c0c0c0; text-decoration-color: #c0c0c0; font-weight: bold\"> (</span><span style=\"color: #c0c0c0; text-decoration-color: #c0c0c0; font-weight: bold\">434.51733269167937</span><span style=\"color: #c0c0c0; text-decoration-color: #c0c0c0; font-weight: bold\"> bytes/s)</span>\n",
       "</pre>\n"
      ],
      "text/plain": [
       "\u001b[1mDone. \u001b[0m\u001b[1m30\u001b[0m\u001b[1m bytes in \u001b[0m\u001b[1m00:0\u001b[0m\u001b[1m.\u001b[0m\u001b[1m06904\u001b[0m\u001b[1m \u001b[0m\u001b[1m(\u001b[0m\u001b[1m434.51733269167937\u001b[0m\u001b[1m bytes/s\u001b[0m\u001b[1m)\u001b[0m\n"
      ]
     },
     "metadata": {},
     "output_type": "display_data"
    },
    {
     "name": "stdout",
     "output_type": "stream",
     "text": [
      "\u001b[31mF\u001b[0m\u001b[32m.\u001b[0m\u001b[32m.\u001b[0m\u001b[32m.\u001b[0m\u001b[32m.\u001b[0m\u001b[32m.\u001b[0m"
     ]
    },
    {
     "data": {
      "text/html": [
       "<pre style=\"white-space:pre;overflow-x:auto;line-height:normal;font-family:Menlo,'DejaVu Sans Mono',consolas,'Courier New',monospace\"><span style=\"color: #800000; text-decoration-color: #800000\">\n",
       "http: error: ConnectionError: ('Connection aborted.', HTTPException('got more than 1 headers')) while doing a GET request to URL: http://127.0.0.1:56708/get\n",
       "\n",
       "\n",
       "</span></pre>\n"
      ],
      "text/plain": [
       "\n",
       "http: error: ConnectionError: ('Connection aborted.', HTTPException('got more than 1 headers')) while doing a GET request to URL: http://127.0.0.1:56708/get\n",
       "\n",
       "\n"
      ]
     },
     "metadata": {},
     "output_type": "display_data"
    },
    {
     "name": "stdout",
     "output_type": "stream",
     "text": [
      "\u001b[32m.\u001b[0m\u001b[32m.\u001b[0m"
     ]
    },
    {
     "data": {
      "text/html": [
       "<pre style=\"white-space:pre;overflow-x:auto;line-height:normal;font-family:Menlo,'DejaVu Sans Mono',consolas,'Courier New',monospace\"><span style=\"font-weight: bold\">usage:</span>\n",
       "<span style=\"font-weight: bold\">    http </span><span style=\"color: #800000; text-decoration-color: #800000; font-weight: bold\">--response-charset</span><span style=\"font-weight: bold\"> </span><span style=\"color: #808080; text-decoration-color: #808080; font-weight: bold\">[METHOD]</span><span style=\"font-weight: bold\"> </span><span style=\"color: #c0c0c0; text-decoration-color: #c0c0c0; font-weight: bold\">URL</span><span style=\"font-weight: bold\"> </span><span style=\"color: #808080; text-decoration-color: #808080; font-weight: bold\">[REQUEST_ITEM ...]</span>\n",
       "</pre>\n"
      ],
      "text/plain": [
       "\u001b[1musage:\u001b[0m\n",
       "\u001b[1m    \u001b[0m\u001b[1mhttp \u001b[0m\u001b[1m--response-charset\u001b[0m\u001b[1m \u001b[0m\u001b[1m[METHOD]\u001b[0m\u001b[1m \u001b[0m\u001b[1mURL\u001b[0m\u001b[1m \u001b[0m\u001b[1m[REQUEST_ITEM ...]\u001b[0m\n"
      ]
     },
     "metadata": {},
     "output_type": "display_data"
    },
    {
     "data": {
      "text/html": [
       "<pre style=\"white-space:pre;overflow-x:auto;line-height:normal;font-family:Menlo,'DejaVu Sans Mono',consolas,'Courier New',monospace\">\n",
       "<span style=\"font-weight: bold\">error</span>:\n",
       "    argument --response-charset: <span style=\"color: #008000; text-decoration-color: #008000\">'foobar'</span> is not a supported encoding\n",
       "\n",
       "<span style=\"font-weight: bold\">for more information</span>:\n",
       "    run <span style=\"color: #008000; text-decoration-color: #008000\">'http --help'</span> or visit <span style=\"color: #0000ff; text-decoration-color: #0000ff; text-decoration: underline\">https://httpie.io/docs/cli</span>\n",
       "</pre>\n"
      ],
      "text/plain": [
       "\n",
       "\u001b[1merror\u001b[0m:\n",
       "    argument --response-charset: 'foobar' is not a supported encoding\n",
       "\n",
       "\u001b[1mfor more information\u001b[0m:\n",
       "    run 'http --help' or visit \u001b[4mhttps://httpie.io/docs/cli\u001b[0m\n"
      ]
     },
     "metadata": {},
     "output_type": "display_data"
    },
    {
     "name": "stdout",
     "output_type": "stream",
     "text": [
      "\u001b[31mF\u001b[0m"
     ]
    },
    {
     "data": {
      "text/html": [
       "<pre style=\"white-space:pre;overflow-x:auto;line-height:normal;font-family:Menlo,'DejaVu Sans Mono',consolas,'Courier New',monospace\"><span style=\"font-weight: bold\">usage:</span>\n",
       "<span style=\"font-weight: bold\">    http </span><span style=\"color: #800000; text-decoration-color: #800000; font-weight: bold\">--response-mime</span><span style=\"font-weight: bold\"> </span><span style=\"color: #808080; text-decoration-color: #808080; font-weight: bold\">[METHOD]</span><span style=\"font-weight: bold\"> </span><span style=\"color: #c0c0c0; text-decoration-color: #c0c0c0; font-weight: bold\">URL</span><span style=\"font-weight: bold\"> </span><span style=\"color: #808080; text-decoration-color: #808080; font-weight: bold\">[REQUEST_ITEM ...]</span>\n",
       "</pre>\n"
      ],
      "text/plain": [
       "\u001b[1musage:\u001b[0m\n",
       "\u001b[1m    \u001b[0m\u001b[1mhttp \u001b[0m\u001b[1m--response-mime\u001b[0m\u001b[1m \u001b[0m\u001b[1m[METHOD]\u001b[0m\u001b[1m \u001b[0m\u001b[1mURL\u001b[0m\u001b[1m \u001b[0m\u001b[1m[REQUEST_ITEM ...]\u001b[0m\n"
      ]
     },
     "metadata": {},
     "output_type": "display_data"
    },
    {
     "data": {
      "text/html": [
       "<pre style=\"white-space:pre;overflow-x:auto;line-height:normal;font-family:Menlo,'DejaVu Sans Mono',consolas,'Courier New',monospace\">\n",
       "<span style=\"font-weight: bold\">error</span>:\n",
       "    argument --response-mime: <span style=\"color: #008000; text-decoration-color: #008000\">'foobar'</span> doesn’t look like a mime type; use type/subtype\n",
       "\n",
       "<span style=\"font-weight: bold\">for more information</span>:\n",
       "    run <span style=\"color: #008000; text-decoration-color: #008000\">'http --help'</span> or visit <span style=\"color: #0000ff; text-decoration-color: #0000ff; text-decoration: underline\">https://httpie.io/docs/cli</span>\n",
       "</pre>\n"
      ],
      "text/plain": [
       "\n",
       "\u001b[1merror\u001b[0m:\n",
       "    argument --response-mime: 'foobar' doesn’t look like a mime type; use type/subtype\n",
       "\n",
       "\u001b[1mfor more information\u001b[0m:\n",
       "    run 'http --help' or visit \u001b[4mhttps://httpie.io/docs/cli\u001b[0m\n"
      ]
     },
     "metadata": {},
     "output_type": "display_data"
    },
    {
     "name": "stdout",
     "output_type": "stream",
     "text": [
      "\u001b[31mF\u001b[0m\u001b[32m.\u001b[0m\u001b[32m.\u001b[0m\u001b[32m.\u001b[0m\u001b[32m.\u001b[0m\u001b[32m.\u001b[0m\u001b[32m.\u001b[0m\u001b[32m.\u001b[0m\u001b[32m.\u001b[0m\u001b[32m.\u001b[0m\u001b[32m.\u001b[0m\u001b[32m.\u001b[0m\u001b[33ms\u001b[0m\u001b[32m.\u001b[0m\u001b[32m.\u001b[0m\u001b[32m.\u001b[0m\u001b[32m.\u001b[0m\u001b[32m.\u001b[0m\u001b[32m.\u001b[0m\u001b[32m.\u001b[0m\u001b[32m.\u001b[0m\u001b[32m.\u001b[0m\u001b[32m.\u001b[0m\u001b[32m.\u001b[0m\u001b[32m.\u001b[0m\u001b[32m.\u001b[0m\u001b[32m.\u001b[0m\u001b[32m.\u001b[0m\u001b[32m.\u001b[0m\u001b[32m.\u001b[0m\u001b[32m.\u001b[0m\u001b[32m.\u001b[0m\u001b[32m.\u001b[0m\u001b[32m.\u001b[0m\u001b[32m.\u001b[0m\u001b[32m.\u001b[0m\u001b[32m.\u001b[0m\u001b[32m.\u001b[0m\u001b[32m.\u001b[0m\u001b[32m.\u001b[0m\u001b[32m.\u001b[0m\u001b[32m.\u001b[0m\u001b[32m.\u001b[0m\u001b[32m.\u001b[0m\u001b[32m.\u001b[0m\u001b[32m.\u001b[0m\u001b[31m [  7%]\n",
      "\u001b[0m\u001b[32m.\u001b[0m"
     ]
    },
    {
     "data": {
      "text/html": [
       "<pre style=\"white-space:pre;overflow-x:auto;line-height:normal;font-family:Menlo,'DejaVu Sans Mono',consolas,'Courier New',monospace\"><span style=\"color: #c0c0c0; text-decoration-color: #c0c0c0; font-weight: bold\">Downloading to /var/folders/wz/1s6cf6yx1w768h9dr46pvs8h0000gn/T/httpie_stderr7_0mu0dd</span>\n",
       "</pre>\n"
      ],
      "text/plain": [
       "\u001b[1mDownloading to \u001b[0m\u001b[1m/var/folders/wz/1s6cf6yx1w768h9dr46pvs8h0000gn/T/\u001b[0m\u001b[1mhttpie_stderr7_0mu0dd\u001b[0m\n"
      ]
     },
     "metadata": {},
     "output_type": "display_data"
    },
    {
     "data": {
      "text/html": [
       "<pre style=\"white-space:pre;overflow-x:auto;line-height:normal;font-family:Menlo,'DejaVu Sans Mono',consolas,'Courier New',monospace\"></pre>\n"
      ],
      "text/plain": []
     },
     "metadata": {},
     "output_type": "display_data"
    },
    {
     "data": {
      "text/html": [
       "<pre style=\"white-space:pre;overflow-x:auto;line-height:normal;font-family:Menlo,'DejaVu Sans Mono',consolas,'Courier New',monospace\">\n",
       "</pre>\n"
      ],
      "text/plain": [
       "\n"
      ]
     },
     "metadata": {},
     "output_type": "display_data"
    },
    {
     "data": {
      "text/html": [
       "<pre style=\"white-space:pre;overflow-x:auto;line-height:normal;font-family:Menlo,'DejaVu Sans Mono',consolas,'Courier New',monospace\"><span style=\"color: #c0c0c0; text-decoration-color: #c0c0c0; font-weight: bold\">Done. </span><span style=\"color: #c0c0c0; text-decoration-color: #c0c0c0; font-weight: bold\">30</span><span style=\"color: #c0c0c0; text-decoration-color: #c0c0c0; font-weight: bold\"> bytes in 00:0.</span><span style=\"color: #c0c0c0; text-decoration-color: #c0c0c0; font-weight: bold\">00372</span><span style=\"color: #c0c0c0; text-decoration-color: #c0c0c0; font-weight: bold\"> (</span><span style=\"color: #c0c0c0; text-decoration-color: #c0c0c0; font-weight: bold\">8.1</span><span style=\"color: #c0c0c0; text-decoration-color: #c0c0c0; font-weight: bold\"> kB/s)</span>\n",
       "</pre>\n"
      ],
      "text/plain": [
       "\u001b[1mDone. \u001b[0m\u001b[1m30\u001b[0m\u001b[1m bytes in \u001b[0m\u001b[1m00:0\u001b[0m\u001b[1m.\u001b[0m\u001b[1m00372\u001b[0m\u001b[1m \u001b[0m\u001b[1m(\u001b[0m\u001b[1m8.1\u001b[0m\u001b[1m kB/s\u001b[0m\u001b[1m)\u001b[0m\n"
      ]
     },
     "metadata": {},
     "output_type": "display_data"
    },
    {
     "name": "stdout",
     "output_type": "stream",
     "text": [
      "\u001b[31mF\u001b[0m\u001b[32m.\u001b[0m\u001b[32m.\u001b[0m\u001b[32m.\u001b[0m\u001b[32m.\u001b[0m\u001b[32m.\u001b[0m"
     ]
    },
    {
     "data": {
      "text/html": [
       "<pre style=\"white-space:pre;overflow-x:auto;line-height:normal;font-family:Menlo,'DejaVu Sans Mono',consolas,'Courier New',monospace\"><span style=\"color: #800000; text-decoration-color: #800000\">\n",
       "http: error: ConnectionError: ('Connection aborted.', HTTPException('got more than 1 headers')) while doing a GET request to URL: https://127.0.0.1:56709/get\n",
       "\n",
       "\n",
       "</span></pre>\n"
      ],
      "text/plain": [
       "\n",
       "http: error: ConnectionError: ('Connection aborted.', HTTPException('got more than 1 headers')) while doing a GET request to URL: https://127.0.0.1:56709/get\n",
       "\n",
       "\n"
      ]
     },
     "metadata": {},
     "output_type": "display_data"
    },
    {
     "name": "stdout",
     "output_type": "stream",
     "text": [
      "\u001b[32m.\u001b[0m\u001b[32m.\u001b[0m"
     ]
    },
    {
     "data": {
      "text/html": [
       "<pre style=\"white-space:pre;overflow-x:auto;line-height:normal;font-family:Menlo,'DejaVu Sans Mono',consolas,'Courier New',monospace\"><span style=\"font-weight: bold\">usage:</span>\n",
       "<span style=\"font-weight: bold\">    http </span><span style=\"color: #800000; text-decoration-color: #800000; font-weight: bold\">--response-charset</span><span style=\"font-weight: bold\"> </span><span style=\"color: #808080; text-decoration-color: #808080; font-weight: bold\">[METHOD]</span><span style=\"font-weight: bold\"> </span><span style=\"color: #c0c0c0; text-decoration-color: #c0c0c0; font-weight: bold\">URL</span><span style=\"font-weight: bold\"> </span><span style=\"color: #808080; text-decoration-color: #808080; font-weight: bold\">[REQUEST_ITEM ...]</span>\n",
       "</pre>\n"
      ],
      "text/plain": [
       "\u001b[1musage:\u001b[0m\n",
       "\u001b[1m    \u001b[0m\u001b[1mhttp \u001b[0m\u001b[1m--response-charset\u001b[0m\u001b[1m \u001b[0m\u001b[1m[METHOD]\u001b[0m\u001b[1m \u001b[0m\u001b[1mURL\u001b[0m\u001b[1m \u001b[0m\u001b[1m[REQUEST_ITEM ...]\u001b[0m\n"
      ]
     },
     "metadata": {},
     "output_type": "display_data"
    },
    {
     "data": {
      "text/html": [
       "<pre style=\"white-space:pre;overflow-x:auto;line-height:normal;font-family:Menlo,'DejaVu Sans Mono',consolas,'Courier New',monospace\">\n",
       "<span style=\"font-weight: bold\">error</span>:\n",
       "    argument --response-charset: <span style=\"color: #008000; text-decoration-color: #008000\">'foobar'</span> is not a supported encoding\n",
       "\n",
       "<span style=\"font-weight: bold\">for more information</span>:\n",
       "    run <span style=\"color: #008000; text-decoration-color: #008000\">'http --help'</span> or visit <span style=\"color: #0000ff; text-decoration-color: #0000ff; text-decoration: underline\">https://httpie.io/docs/cli</span>\n",
       "</pre>\n"
      ],
      "text/plain": [
       "\n",
       "\u001b[1merror\u001b[0m:\n",
       "    argument --response-charset: 'foobar' is not a supported encoding\n",
       "\n",
       "\u001b[1mfor more information\u001b[0m:\n",
       "    run 'http --help' or visit \u001b[4mhttps://httpie.io/docs/cli\u001b[0m\n"
      ]
     },
     "metadata": {},
     "output_type": "display_data"
    },
    {
     "name": "stdout",
     "output_type": "stream",
     "text": [
      "\u001b[31mF\u001b[0m"
     ]
    },
    {
     "data": {
      "text/html": [
       "<pre style=\"white-space:pre;overflow-x:auto;line-height:normal;font-family:Menlo,'DejaVu Sans Mono',consolas,'Courier New',monospace\"><span style=\"font-weight: bold\">usage:</span>\n",
       "<span style=\"font-weight: bold\">    http </span><span style=\"color: #800000; text-decoration-color: #800000; font-weight: bold\">--response-mime</span><span style=\"font-weight: bold\"> </span><span style=\"color: #808080; text-decoration-color: #808080; font-weight: bold\">[METHOD]</span><span style=\"font-weight: bold\"> </span><span style=\"color: #c0c0c0; text-decoration-color: #c0c0c0; font-weight: bold\">URL</span><span style=\"font-weight: bold\"> </span><span style=\"color: #808080; text-decoration-color: #808080; font-weight: bold\">[REQUEST_ITEM ...]</span>\n",
       "</pre>\n"
      ],
      "text/plain": [
       "\u001b[1musage:\u001b[0m\n",
       "\u001b[1m    \u001b[0m\u001b[1mhttp \u001b[0m\u001b[1m--response-mime\u001b[0m\u001b[1m \u001b[0m\u001b[1m[METHOD]\u001b[0m\u001b[1m \u001b[0m\u001b[1mURL\u001b[0m\u001b[1m \u001b[0m\u001b[1m[REQUEST_ITEM ...]\u001b[0m\n"
      ]
     },
     "metadata": {},
     "output_type": "display_data"
    },
    {
     "data": {
      "text/html": [
       "<pre style=\"white-space:pre;overflow-x:auto;line-height:normal;font-family:Menlo,'DejaVu Sans Mono',consolas,'Courier New',monospace\">\n",
       "<span style=\"font-weight: bold\">error</span>:\n",
       "    argument --response-mime: <span style=\"color: #008000; text-decoration-color: #008000\">'foobar'</span> doesn’t look like a mime type; use type/subtype\n",
       "\n",
       "<span style=\"font-weight: bold\">for more information</span>:\n",
       "    run <span style=\"color: #008000; text-decoration-color: #008000\">'http --help'</span> or visit <span style=\"color: #0000ff; text-decoration-color: #0000ff; text-decoration: underline\">https://httpie.io/docs/cli</span>\n",
       "</pre>\n"
      ],
      "text/plain": [
       "\n",
       "\u001b[1merror\u001b[0m:\n",
       "    argument --response-mime: 'foobar' doesn’t look like a mime type; use type/subtype\n",
       "\n",
       "\u001b[1mfor more information\u001b[0m:\n",
       "    run 'http --help' or visit \u001b[4mhttps://httpie.io/docs/cli\u001b[0m\n"
      ]
     },
     "metadata": {},
     "output_type": "display_data"
    },
    {
     "name": "stdout",
     "output_type": "stream",
     "text": [
      "\u001b[31mF\u001b[0m\u001b[32m.\u001b[0m\u001b[32m.\u001b[0m\u001b[32m.\u001b[0m\u001b[32m.\u001b[0m\u001b[32m.\u001b[0m\u001b[32m.\u001b[0m\u001b[32m.\u001b[0m\u001b[32m.\u001b[0m\u001b[32m.\u001b[0m\u001b[32m.\u001b[0m\u001b[32m.\u001b[0m\u001b[33ms\u001b[0m\u001b[32m.\u001b[0m\u001b[32m.\u001b[0m\u001b[32m.\u001b[0m\u001b[32m.\u001b[0m\u001b[32m.\u001b[0m\u001b[32m.\u001b[0m\u001b[32m.\u001b[0m\u001b[32m.\u001b[0m\u001b[32m.\u001b[0m\u001b[32m.\u001b[0m\u001b[32m.\u001b[0m\u001b[32m.\u001b[0m\u001b[32m.\u001b[0m\u001b[32m.\u001b[0m\u001b[32m.\u001b[0m\u001b[32m.\u001b[0m\u001b[32m.\u001b[0m\u001b[32m.\u001b[0m\u001b[32m.\u001b[0m\u001b[32m.\u001b[0m"
     ]
    },
    {
     "data": {
      "text/html": [
       "<pre style=\"white-space:pre;overflow-x:auto;line-height:normal;font-family:Menlo,'DejaVu Sans Mono',consolas,'Courier New',monospace\"><span style=\"font-weight: bold\">usage:</span>\n",
       "<span style=\"font-weight: bold\">    http </span><span style=\"color: #808080; text-decoration-color: #808080; font-weight: bold\">[METHOD]</span><span style=\"font-weight: bold\"> </span><span style=\"color: #c0c0c0; text-decoration-color: #c0c0c0; font-weight: bold\">URL</span><span style=\"font-weight: bold\"> </span><span style=\"color: #808080; text-decoration-color: #808080; font-weight: bold\">[REQUEST_ITEM ...]</span>\n",
       "</pre>\n"
      ],
      "text/plain": [
       "\u001b[1musage:\u001b[0m\n",
       "\u001b[1m    \u001b[0m\u001b[1mhttp \u001b[0m\u001b[1m[METHOD]\u001b[0m\u001b[1m \u001b[0m\u001b[1mURL\u001b[0m\u001b[1m \u001b[0m\u001b[1m[REQUEST_ITEM ...]\u001b[0m\n"
      ]
     },
     "metadata": {},
     "output_type": "display_data"
    },
    {
     "data": {
      "text/html": [
       "<pre style=\"white-space:pre;overflow-x:auto;line-height:normal;font-family:Menlo,'DejaVu Sans Mono',consolas,'Courier New',monospace\">\n",
       "<span style=\"font-weight: bold\">error</span>:\n",
       "    --auth required\n",
       "\n",
       "<span style=\"font-weight: bold\">for more information</span>:\n",
       "    run <span style=\"color: #008000; text-decoration-color: #008000\">'http --help'</span> or visit <span style=\"color: #0000ff; text-decoration-color: #0000ff; text-decoration: underline\">https://httpie.io/docs/cli</span>\n",
       "</pre>\n"
      ],
      "text/plain": [
       "\n",
       "\u001b[1merror\u001b[0m:\n",
       "    --auth required\n",
       "\n",
       "\u001b[1mfor more information\u001b[0m:\n",
       "    run 'http --help' or visit \u001b[4mhttps://httpie.io/docs/cli\u001b[0m\n"
      ]
     },
     "metadata": {},
     "output_type": "display_data"
    },
    {
     "name": "stdout",
     "output_type": "stream",
     "text": [
      "\u001b[31mF\u001b[0m\u001b[32m.\u001b[0m"
     ]
    },
    {
     "data": {
      "text/html": [
       "<pre style=\"white-space:pre;overflow-x:auto;line-height:normal;font-family:Menlo,'DejaVu Sans Mono',consolas,'Courier New',monospace\"><span style=\"font-weight: bold\">usage:</span>\n",
       "<span style=\"font-weight: bold\">    http </span><span style=\"color: #808080; text-decoration-color: #808080; font-weight: bold\">[METHOD]</span><span style=\"font-weight: bold\"> </span><span style=\"color: #c0c0c0; text-decoration-color: #c0c0c0; font-weight: bold\">URL</span><span style=\"font-weight: bold\"> </span><span style=\"color: #808080; text-decoration-color: #808080; font-weight: bold\">[REQUEST_ITEM ...]</span>\n",
       "</pre>\n"
      ],
      "text/plain": [
       "\u001b[1musage:\u001b[0m\n",
       "\u001b[1m    \u001b[0m\u001b[1mhttp \u001b[0m\u001b[1m[METHOD]\u001b[0m\u001b[1m \u001b[0m\u001b[1mURL\u001b[0m\u001b[1m \u001b[0m\u001b[1m[REQUEST_ITEM ...]\u001b[0m\n"
      ]
     },
     "metadata": {},
     "output_type": "display_data"
    },
    {
     "data": {
      "text/html": [
       "<pre style=\"white-space:pre;overflow-x:auto;line-height:normal;font-family:Menlo,'DejaVu Sans Mono',consolas,'Courier New',monospace\">\n",
       "<span style=\"font-weight: bold\">error</span>:\n",
       "    --auth required\n",
       "\n",
       "<span style=\"font-weight: bold\">for more information</span>:\n",
       "    run <span style=\"color: #008000; text-decoration-color: #008000\">'http --help'</span> or visit <span style=\"color: #0000ff; text-decoration-color: #0000ff; text-decoration: underline\">https://httpie.io/docs/cli</span>\n",
       "</pre>\n"
      ],
      "text/plain": [
       "\n",
       "\u001b[1merror\u001b[0m:\n",
       "    --auth required\n",
       "\n",
       "\u001b[1mfor more information\u001b[0m:\n",
       "    run 'http --help' or visit \u001b[4mhttps://httpie.io/docs/cli\u001b[0m\n"
      ]
     },
     "metadata": {},
     "output_type": "display_data"
    },
    {
     "name": "stdout",
     "output_type": "stream",
     "text": [
      "\u001b[31mF\u001b[0m\u001b[32m.\u001b[0m\u001b[32m.\u001b[0m\u001b[32m.\u001b[0m\u001b[32m.\u001b[0m\u001b[32m.\u001b[0m\u001b[32m.\u001b[0m\u001b[32m.\u001b[0m\u001b[32m.\u001b[0m\u001b[32m.\u001b[0m\u001b[32m.\u001b[0m\u001b[32m.\u001b[0m\u001b[32m.\u001b[0m\u001b[32m.\u001b[0m\u001b[32m.\u001b[0m\u001b[32m.\u001b[0m\u001b[32m.\u001b[0m\u001b[32m.\u001b[0m\u001b[32m.\u001b[0m\u001b[32m.\u001b[0m\u001b[32m.\u001b[0m\u001b[32m.\u001b[0m\u001b[32m.\u001b[0m\u001b[32m.\u001b[0m\u001b[32m.\u001b[0m\u001b[32m.\u001b[0m\u001b[32m.\u001b[0m\u001b[31m [ 14%]\n",
      "\u001b[0m\u001b[32m.\u001b[0m"
     ]
    },
    {
     "data": {
      "text/html": [
       "<pre style=\"white-space:pre;overflow-x:auto;line-height:normal;font-family:Menlo,'DejaVu Sans Mono',consolas,'Courier New',monospace\"><span style=\"color: #800000; text-decoration-color: #800000\">\n",
       "http: error: InvalidURL: Invalid URL 'http://': No host supplied\n",
       "\n",
       "\n",
       "</span></pre>\n"
      ],
      "text/plain": [
       "\n",
       "http: error: InvalidURL: Invalid URL 'http://': No host supplied\n",
       "\n",
       "\n"
      ]
     },
     "metadata": {},
     "output_type": "display_data"
    },
    {
     "name": "stdout",
     "output_type": "stream",
     "text": [
      "\u001b[31mF\u001b[0m\u001b[32m.\u001b[0m\u001b[32m.\u001b[0m\u001b[32m.\u001b[0m\u001b[32m.\u001b[0m\u001b[32m.\u001b[0m\u001b[32m.\u001b[0m\u001b[32m.\u001b[0m\u001b[32m.\u001b[0m\u001b[32m.\u001b[0m\u001b[32m.\u001b[0m\u001b[32m.\u001b[0m\u001b[32m.\u001b[0m\u001b[32m.\u001b[0m\u001b[32m.\u001b[0m\u001b[32m.\u001b[0m"
     ]
    },
    {
     "data": {
      "text/html": [
       "<pre style=\"white-space:pre;overflow-x:auto;line-height:normal;font-family:Menlo,'DejaVu Sans Mono',consolas,'Courier New',monospace\"><span style=\"font-weight: bold\">usage:</span>\n",
       "<span style=\"font-weight: bold\">    http </span><span style=\"color: #808080; text-decoration-color: #808080; font-weight: bold\">[METHOD]</span><span style=\"font-weight: bold\"> </span><span style=\"color: #c0c0c0; text-decoration-color: #c0c0c0; font-weight: bold\">URL</span><span style=\"font-weight: bold\"> </span><span style=\"color: #808080; text-decoration-color: #808080; font-weight: bold\">[REQUEST_ITEM ...]</span>\n",
       "</pre>\n"
      ],
      "text/plain": [
       "\u001b[1musage:\u001b[0m\n",
       "\u001b[1m    \u001b[0m\u001b[1mhttp \u001b[0m\u001b[1m[METHOD]\u001b[0m\u001b[1m \u001b[0m\u001b[1mURL\u001b[0m\u001b[1m \u001b[0m\u001b[1m[REQUEST_ITEM ...]\u001b[0m\n"
      ]
     },
     "metadata": {},
     "output_type": "display_data"
    },
    {
     "data": {
      "text/html": [
       "<pre style=\"white-space:pre;overflow-x:auto;line-height:normal;font-family:Menlo,'DejaVu Sans Mono',consolas,'Courier New',monospace\">\n",
       "<span style=\"font-weight: bold\">error</span>:\n",
       "    unrecognized arguments: --no-war\n",
       "\n",
       "<span style=\"font-weight: bold\">for more information</span>:\n",
       "    run <span style=\"color: #008000; text-decoration-color: #008000\">'http --help'</span> or visit <span style=\"color: #0000ff; text-decoration-color: #0000ff; text-decoration: underline\">https://httpie.io/docs/cli</span>\n",
       "</pre>\n"
      ],
      "text/plain": [
       "\n",
       "\u001b[1merror\u001b[0m:\n",
       "    unrecognized arguments: --no-war\n",
       "\n",
       "\u001b[1mfor more information\u001b[0m:\n",
       "    run 'http --help' or visit \u001b[4mhttps://httpie.io/docs/cli\u001b[0m\n"
      ]
     },
     "metadata": {},
     "output_type": "display_data"
    },
    {
     "name": "stdout",
     "output_type": "stream",
     "text": [
      "\u001b[31mF\u001b[0m\u001b[32m.\u001b[0m"
     ]
    },
    {
     "data": {
      "text/html": [
       "<pre style=\"white-space:pre;overflow-x:auto;line-height:normal;font-family:Menlo,'DejaVu Sans Mono',consolas,'Courier New',monospace\"><span style=\"font-weight: bold\">usage:</span>\n",
       "<span style=\"font-weight: bold\">    http </span><span style=\"color: #808080; text-decoration-color: #808080; font-weight: bold\">[METHOD]</span><span style=\"font-weight: bold\"> </span><span style=\"color: #c0c0c0; text-decoration-color: #c0c0c0; font-weight: bold\">URL</span><span style=\"font-weight: bold\"> </span><span style=\"color: #808080; text-decoration-color: #808080; font-weight: bold\">[REQUEST_ITEM ...]</span>\n",
       "</pre>\n"
      ],
      "text/plain": [
       "\u001b[1musage:\u001b[0m\n",
       "\u001b[1m    \u001b[0m\u001b[1mhttp \u001b[0m\u001b[1m[METHOD]\u001b[0m\u001b[1m \u001b[0m\u001b[1mURL\u001b[0m\u001b[1m \u001b[0m\u001b[1m[REQUEST_ITEM ...]\u001b[0m\n"
      ]
     },
     "metadata": {},
     "output_type": "display_data"
    },
    {
     "data": {
      "text/html": [
       "<pre style=\"white-space:pre;overflow-x:auto;line-height:normal;font-family:Menlo,'DejaVu Sans Mono',consolas,'Courier New',monospace\">\n",
       "<span style=\"font-weight: bold\">error</span>:\n",
       "    Unable to prompt for passwords because --ignore-stdin is set.\n",
       "\n",
       "<span style=\"font-weight: bold\">for more information</span>:\n",
       "    run <span style=\"color: #008000; text-decoration-color: #008000\">'http --help'</span> or visit <span style=\"color: #0000ff; text-decoration-color: #0000ff; text-decoration: underline\">https://httpie.io/docs/cli</span>\n",
       "</pre>\n"
      ],
      "text/plain": [
       "\n",
       "\u001b[1merror\u001b[0m:\n",
       "    Unable to prompt for passwords because --ignore-stdin is set.\n",
       "\n",
       "\u001b[1mfor more information\u001b[0m:\n",
       "    run 'http --help' or visit \u001b[4mhttps://httpie.io/docs/cli\u001b[0m\n"
      ]
     },
     "metadata": {},
     "output_type": "display_data"
    },
    {
     "name": "stdout",
     "output_type": "stream",
     "text": [
      "\u001b[31mF\u001b[0m\u001b[32m.\u001b[0m"
     ]
    },
    {
     "data": {
      "text/html": [
       "<pre style=\"white-space:pre;overflow-x:auto;line-height:normal;font-family:Menlo,'DejaVu Sans Mono',consolas,'Courier New',monospace\"><span style=\"color: #800000; text-decoration-color: #800000\">\n",
       "http: error: InvalidSchema: No connection adapters were found for 'foo+bar-BAZ.123://bah'\n",
       "\n",
       "\n",
       "</span></pre>\n"
      ],
      "text/plain": [
       "\n",
       "http: error: InvalidSchema: No connection adapters were found for 'foo+bar-BAZ.123://bah'\n",
       "\n",
       "\n"
      ]
     },
     "metadata": {},
     "output_type": "display_data"
    },
    {
     "name": "stdout",
     "output_type": "stream",
     "text": [
      "\u001b[32m.\u001b[0m"
     ]
    },
    {
     "data": {
      "text/html": [
       "<pre style=\"white-space:pre;overflow-x:auto;line-height:normal;font-family:Menlo,'DejaVu Sans Mono',consolas,'Courier New',monospace\"><span style=\"color: #800000; text-decoration-color: #800000\">\n",
       "http: error: InvalidSchema: No connection adapters were found for 'scheme=foo+bar-BAZ.123://bah'\n",
       "\n",
       "\n",
       "</span></pre>\n"
      ],
      "text/plain": [
       "\n",
       "http: error: InvalidSchema: No connection adapters were found for 'scheme=foo+bar-BAZ.123://bah'\n",
       "\n",
       "\n"
      ]
     },
     "metadata": {},
     "output_type": "display_data"
    },
    {
     "name": "stdout",
     "output_type": "stream",
     "text": [
      "\u001b[32m.\u001b[0m\u001b[32m.\u001b[0m\u001b[32m.\u001b[0m"
     ]
    },
    {
     "data": {
      "text/html": [
       "<pre style=\"white-space:pre;overflow-x:auto;line-height:normal;font-family:Menlo,'DejaVu Sans Mono',consolas,'Courier New',monospace\"><span style=\"font-weight: bold\">usage:</span>\n",
       "<span style=\"font-weight: bold\">    http </span><span style=\"color: #808080; text-decoration-color: #808080; font-weight: bold\">[METHOD]</span><span style=\"font-weight: bold\"> </span><span style=\"color: #c0c0c0; text-decoration-color: #c0c0c0; font-weight: bold\">URL</span><span style=\"font-weight: bold\"> </span><span style=\"color: #808080; text-decoration-color: #808080; font-weight: bold\">[REQUEST_ITEM ...]</span>\n",
       "</pre>\n"
      ],
      "text/plain": [
       "\u001b[1musage:\u001b[0m\n",
       "\u001b[1m    \u001b[0m\u001b[1mhttp \u001b[0m\u001b[1m[METHOD]\u001b[0m\u001b[1m \u001b[0m\u001b[1mURL\u001b[0m\u001b[1m \u001b[0m\u001b[1m[REQUEST_ITEM ...]\u001b[0m\n"
      ]
     },
     "metadata": {},
     "output_type": "display_data"
    },
    {
     "data": {
      "text/html": [
       "<pre style=\"white-space:pre;overflow-x:auto;line-height:normal;font-family:Menlo,'DejaVu Sans Mono',consolas,'Courier New',monospace\">\n",
       "<span style=\"font-weight: bold\">error</span>:\n",
       "    the following arguments are required: URL\n",
       "\n",
       "<span style=\"font-weight: bold\">for more information</span>:\n",
       "    run <span style=\"color: #008000; text-decoration-color: #008000\">'http --help'</span> or visit <span style=\"color: #0000ff; text-decoration-color: #0000ff; text-decoration: underline\">https://httpie.io/docs/cli</span>\n",
       "</pre>\n"
      ],
      "text/plain": [
       "\n",
       "\u001b[1merror\u001b[0m:\n",
       "    the following arguments are required: URL\n",
       "\n",
       "\u001b[1mfor more information\u001b[0m:\n",
       "    run 'http --help' or visit \u001b[4mhttps://httpie.io/docs/cli\u001b[0m\n"
      ]
     },
     "metadata": {},
     "output_type": "display_data"
    },
    {
     "name": "stdout",
     "output_type": "stream",
     "text": [
      "\u001b[31mF\u001b[0m"
     ]
    },
    {
     "data": {
      "text/html": [
       "<pre style=\"white-space:pre;overflow-x:auto;line-height:normal;font-family:Menlo,'DejaVu Sans Mono',consolas,'Courier New',monospace\"><span style=\"font-weight: bold\">usage:</span>\n",
       "<span style=\"font-weight: bold\">    http </span><span style=\"color: #800000; text-decoration-color: #800000; font-weight: bold\">--pretty</span><span style=\"font-weight: bold\"> </span><span style=\"color: #ffff00; text-decoration-color: #ffff00; font-weight: bold\">{all, colors, format, none}</span><span style=\"font-weight: bold\"> </span><span style=\"color: #808080; text-decoration-color: #808080; font-weight: bold\">[METHOD]</span><span style=\"font-weight: bold\"> </span><span style=\"color: #c0c0c0; text-decoration-color: #c0c0c0; font-weight: bold\">URL</span><span style=\"font-weight: bold\"> </span><span style=\"color: #808080; text-decoration-color: #808080; font-weight: bold\">[REQUEST_ITEM ...]</span>\n",
       "</pre>\n"
      ],
      "text/plain": [
       "\u001b[1musage:\u001b[0m\n",
       "\u001b[1m    \u001b[0m\u001b[1mhttp \u001b[0m\u001b[1m--pretty\u001b[0m\u001b[1m \u001b[0m\u001b[1m{all, colors, format, none}\u001b[0m\u001b[1m \u001b[0m\u001b[1m[METHOD]\u001b[0m\u001b[1m \u001b[0m\u001b[1mURL\u001b[0m\u001b[1m \u001b[0m\u001b[1m[REQUEST_ITEM ...]\u001b[0m\n"
      ]
     },
     "metadata": {},
     "output_type": "display_data"
    },
    {
     "data": {
      "text/html": [
       "<pre style=\"white-space:pre;overflow-x:auto;line-height:normal;font-family:Menlo,'DejaVu Sans Mono',consolas,'Courier New',monospace\">\n",
       "<span style=\"font-weight: bold\">error</span>:\n",
       "    argument --pretty: expected one argument\n",
       "\n",
       "<span style=\"font-weight: bold\">for more information</span>:\n",
       "    run <span style=\"color: #008000; text-decoration-color: #008000\">'http --help'</span> or visit <span style=\"color: #0000ff; text-decoration-color: #0000ff; text-decoration: underline\">https://httpie.io/docs/cli</span>\n",
       "</pre>\n"
      ],
      "text/plain": [
       "\n",
       "\u001b[1merror\u001b[0m:\n",
       "    argument --pretty: expected one argument\n",
       "\n",
       "\u001b[1mfor more information\u001b[0m:\n",
       "    run 'http --help' or visit \u001b[4mhttps://httpie.io/docs/cli\u001b[0m\n"
      ]
     },
     "metadata": {},
     "output_type": "display_data"
    },
    {
     "name": "stdout",
     "output_type": "stream",
     "text": [
      "\u001b[31mF\u001b[0m"
     ]
    },
    {
     "data": {
      "text/html": [
       "<pre style=\"white-space:pre;overflow-x:auto;line-height:normal;font-family:Menlo,'DejaVu Sans Mono',consolas,'Courier New',monospace\"><span style=\"font-weight: bold\">usage:</span>\n",
       "<span style=\"font-weight: bold\">    http </span><span style=\"color: #800000; text-decoration-color: #800000; font-weight: bold\">--pretty</span><span style=\"font-weight: bold\"> </span><span style=\"color: #ffff00; text-decoration-color: #ffff00; font-weight: bold\">{all, colors, format, none}</span><span style=\"font-weight: bold\"> </span><span style=\"color: #808080; text-decoration-color: #808080; font-weight: bold\">[METHOD]</span><span style=\"font-weight: bold\"> </span><span style=\"color: #c0c0c0; text-decoration-color: #c0c0c0; font-weight: bold\">URL</span><span style=\"font-weight: bold\"> </span><span style=\"color: #808080; text-decoration-color: #808080; font-weight: bold\">[REQUEST_ITEM ...]</span>\n",
       "</pre>\n"
      ],
      "text/plain": [
       "\u001b[1musage:\u001b[0m\n",
       "\u001b[1m    \u001b[0m\u001b[1mhttp \u001b[0m\u001b[1m--pretty\u001b[0m\u001b[1m \u001b[0m\u001b[1m{all, colors, format, none}\u001b[0m\u001b[1m \u001b[0m\u001b[1m[METHOD]\u001b[0m\u001b[1m \u001b[0m\u001b[1mURL\u001b[0m\u001b[1m \u001b[0m\u001b[1m[REQUEST_ITEM ...]\u001b[0m\n"
      ]
     },
     "metadata": {},
     "output_type": "display_data"
    },
    {
     "data": {
      "text/html": [
       "<pre style=\"white-space:pre;overflow-x:auto;line-height:normal;font-family:Menlo,'DejaVu Sans Mono',consolas,'Courier New',monospace\">\n",
       "<span style=\"font-weight: bold\">error</span>:\n",
       "    argument --pretty: expected one argument\n",
       "\n",
       "<span style=\"font-weight: bold\">for more information</span>:\n",
       "    run <span style=\"color: #008000; text-decoration-color: #008000\">'http --help'</span> or visit <span style=\"color: #0000ff; text-decoration-color: #0000ff; text-decoration: underline\">https://httpie.io/docs/cli</span>\n",
       "</pre>\n"
      ],
      "text/plain": [
       "\n",
       "\u001b[1merror\u001b[0m:\n",
       "    argument --pretty: expected one argument\n",
       "\n",
       "\u001b[1mfor more information\u001b[0m:\n",
       "    run 'http --help' or visit \u001b[4mhttps://httpie.io/docs/cli\u001b[0m\n"
      ]
     },
     "metadata": {},
     "output_type": "display_data"
    },
    {
     "name": "stdout",
     "output_type": "stream",
     "text": [
      "\u001b[31mF\u001b[0m"
     ]
    },
    {
     "data": {
      "text/html": [
       "<pre style=\"white-space:pre;overflow-x:auto;line-height:normal;font-family:Menlo,'DejaVu Sans Mono',consolas,'Courier New',monospace\"><span style=\"font-weight: bold\">usage:</span>\n",
       "<span style=\"font-weight: bold\">    http </span><span style=\"color: #800000; text-decoration-color: #800000; font-weight: bold\">--pretty</span><span style=\"font-weight: bold\"> </span><span style=\"color: #ffff00; text-decoration-color: #ffff00; font-weight: bold\">{all, colors, format, none}</span><span style=\"font-weight: bold\"> </span><span style=\"color: #808080; text-decoration-color: #808080; font-weight: bold\">[METHOD]</span><span style=\"font-weight: bold\"> </span><span style=\"color: #c0c0c0; text-decoration-color: #c0c0c0; font-weight: bold\">URL</span><span style=\"font-weight: bold\"> </span><span style=\"color: #808080; text-decoration-color: #808080; font-weight: bold\">[REQUEST_ITEM ...]</span>\n",
       "</pre>\n"
      ],
      "text/plain": [
       "\u001b[1musage:\u001b[0m\n",
       "\u001b[1m    \u001b[0m\u001b[1mhttp \u001b[0m\u001b[1m--pretty\u001b[0m\u001b[1m \u001b[0m\u001b[1m{all, colors, format, none}\u001b[0m\u001b[1m \u001b[0m\u001b[1m[METHOD]\u001b[0m\u001b[1m \u001b[0m\u001b[1mURL\u001b[0m\u001b[1m \u001b[0m\u001b[1m[REQUEST_ITEM ...]\u001b[0m\n"
      ]
     },
     "metadata": {},
     "output_type": "display_data"
    },
    {
     "data": {
      "text/html": [
       "<pre style=\"white-space:pre;overflow-x:auto;line-height:normal;font-family:Menlo,'DejaVu Sans Mono',consolas,'Courier New',monospace\">\n",
       "<span style=\"font-weight: bold\">error</span>:\n",
       "    argument --pretty: invalid choice: <span style=\"color: #008000; text-decoration-color: #008000\">'$invalid'</span> <span style=\"font-weight: bold\">(</span>choose from <span style=\"color: #008000; text-decoration-color: #008000\">'all'</span>, <span style=\"color: #008000; text-decoration-color: #008000\">'colors'</span>, <span style=\"color: #008000; text-decoration-color: #008000\">'format'</span>, <span style=\"color: #008000; text-decoration-color: #008000\">'none'</span><span style=\"font-weight: bold\">)</span>\n",
       "\n",
       "<span style=\"font-weight: bold\">for more information</span>:\n",
       "    run <span style=\"color: #008000; text-decoration-color: #008000\">'http --help'</span> or visit <span style=\"color: #0000ff; text-decoration-color: #0000ff; text-decoration: underline\">https://httpie.io/docs/cli</span>\n",
       "</pre>\n"
      ],
      "text/plain": [
       "\n",
       "\u001b[1merror\u001b[0m:\n",
       "    argument --pretty: invalid choice: '$invalid' \u001b[1m(\u001b[0mchoose from 'all', 'colors', 'format', 'none'\u001b[1m)\u001b[0m\n",
       "\n",
       "\u001b[1mfor more information\u001b[0m:\n",
       "    run 'http --help' or visit \u001b[4mhttps://httpie.io/docs/cli\u001b[0m\n"
      ]
     },
     "metadata": {},
     "output_type": "display_data"
    },
    {
     "name": "stdout",
     "output_type": "stream",
     "text": [
      "\u001b[31mF\u001b[0m\u001b[32m.\u001b[0m\u001b[32m.\u001b[0m"
     ]
    },
    {
     "data": {
      "text/html": [
       "<pre style=\"white-space:pre;overflow-x:auto;line-height:normal;font-family:Menlo,'DejaVu Sans Mono',consolas,'Courier New',monospace\"><span style=\"font-weight: bold\">usage:</span>\n",
       "<span style=\"font-weight: bold\">    http </span><span style=\"color: #808080; text-decoration-color: #808080; font-weight: bold\">[METHOD]</span><span style=\"font-weight: bold\"> </span><span style=\"color: #c0c0c0; text-decoration-color: #c0c0c0; font-weight: bold\">URL</span><span style=\"font-weight: bold\"> </span><span style=\"color: #808080; text-decoration-color: #808080; font-weight: bold\">[REQUEST_ITEM ...]</span>\n",
       "</pre>\n"
      ],
      "text/plain": [
       "\u001b[1musage:\u001b[0m\n",
       "\u001b[1m    \u001b[0m\u001b[1mhttp \u001b[0m\u001b[1m[METHOD]\u001b[0m\u001b[1m \u001b[0m\u001b[1mURL\u001b[0m\u001b[1m \u001b[0m\u001b[1m[REQUEST_ITEM ...]\u001b[0m\n"
      ]
     },
     "metadata": {},
     "output_type": "display_data"
    },
    {
     "data": {
      "text/html": [
       "<pre style=\"white-space:pre;overflow-x:auto;line-height:normal;font-family:Menlo,'DejaVu Sans Mono',consolas,'Courier New',monospace\">\n",
       "<span style=\"font-weight: bold\">error</span>:\n",
       "    cannot combine --compress and --chunked\n",
       "\n",
       "<span style=\"font-weight: bold\">for more information</span>:\n",
       "    run <span style=\"color: #008000; text-decoration-color: #008000\">'http --help'</span> or visit <span style=\"color: #0000ff; text-decoration-color: #0000ff; text-decoration: underline\">https://httpie.io/docs/cli</span>\n",
       "</pre>\n"
      ],
      "text/plain": [
       "\n",
       "\u001b[1merror\u001b[0m:\n",
       "    cannot combine --compress and --chunked\n",
       "\n",
       "\u001b[1mfor more information\u001b[0m:\n",
       "    run 'http --help' or visit \u001b[4mhttps://httpie.io/docs/cli\u001b[0m\n"
      ]
     },
     "metadata": {},
     "output_type": "display_data"
    },
    {
     "name": "stdout",
     "output_type": "stream",
     "text": [
      "\u001b[31mF\u001b[0m"
     ]
    },
    {
     "data": {
      "text/html": [
       "<pre style=\"white-space:pre;overflow-x:auto;line-height:normal;font-family:Menlo,'DejaVu Sans Mono',consolas,'Courier New',monospace\"><span style=\"font-weight: bold\">usage:</span>\n",
       "<span style=\"font-weight: bold\">    http </span><span style=\"color: #808080; text-decoration-color: #808080; font-weight: bold\">[METHOD]</span><span style=\"font-weight: bold\"> </span><span style=\"color: #c0c0c0; text-decoration-color: #c0c0c0; font-weight: bold\">URL</span><span style=\"font-weight: bold\"> </span><span style=\"color: #808080; text-decoration-color: #808080; font-weight: bold\">[REQUEST_ITEM ...]</span>\n",
       "</pre>\n"
      ],
      "text/plain": [
       "\u001b[1musage:\u001b[0m\n",
       "\u001b[1m    \u001b[0m\u001b[1mhttp \u001b[0m\u001b[1m[METHOD]\u001b[0m\u001b[1m \u001b[0m\u001b[1mURL\u001b[0m\u001b[1m \u001b[0m\u001b[1m[REQUEST_ITEM ...]\u001b[0m\n"
      ]
     },
     "metadata": {},
     "output_type": "display_data"
    },
    {
     "data": {
      "text/html": [
       "<pre style=\"white-space:pre;overflow-x:auto;line-height:normal;font-family:Menlo,'DejaVu Sans Mono',consolas,'Courier New',monospace\">\n",
       "<span style=\"font-weight: bold\">error</span>:\n",
       "    cannot combine --compress and --multipart\n",
       "\n",
       "<span style=\"font-weight: bold\">for more information</span>:\n",
       "    run <span style=\"color: #008000; text-decoration-color: #008000\">'http --help'</span> or visit <span style=\"color: #0000ff; text-decoration-color: #0000ff; text-decoration: underline\">https://httpie.io/docs/cli</span>\n",
       "</pre>\n"
      ],
      "text/plain": [
       "\n",
       "\u001b[1merror\u001b[0m:\n",
       "    cannot combine --compress and --multipart\n",
       "\n",
       "\u001b[1mfor more information\u001b[0m:\n",
       "    run 'http --help' or visit \u001b[4mhttps://httpie.io/docs/cli\u001b[0m\n"
      ]
     },
     "metadata": {},
     "output_type": "display_data"
    },
    {
     "name": "stdout",
     "output_type": "stream",
     "text": [
      "\u001b[31mF\u001b[0m\u001b[32m.\u001b[0m"
     ]
    },
    {
     "data": {
      "text/html": [
       "<pre style=\"white-space:pre;overflow-x:auto;line-height:normal;font-family:Menlo,'DejaVu Sans Mono',consolas,'Courier New',monospace\"><span style=\"color: #808000; text-decoration-color: #808000\">\n",
       "http: warning: invalid config file: Expecting property name enclosed in double quotes: line 1 column 2 (char 1) [/var/folders/wz/1s6cf6yx1w768h9dr46pvs8h0000gn/T/httpie_config_wcsx3bzh/config.json]\n",
       "\n",
       "\n",
       "</span></pre>\n"
      ],
      "text/plain": [
       "\n",
       "http: warning: invalid config file: Expecting property name enclosed in double quotes: line 1 column 2 (char 1) [/var/folders/wz/1s6cf6yx1w768h9dr46pvs8h0000gn/T/httpie_config_wcsx3bzh/config.json]\n",
       "\n",
       "\n"
      ]
     },
     "metadata": {},
     "output_type": "display_data"
    },
    {
     "name": "stdout",
     "output_type": "stream",
     "text": [
      "\u001b[31mF\u001b[0m"
     ]
    },
    {
     "data": {
      "text/html": [
       "<pre style=\"white-space:pre;overflow-x:auto;line-height:normal;font-family:Menlo,'DejaVu Sans Mono',consolas,'Courier New',monospace\"><span style=\"color: #808000; text-decoration-color: #808000\">\n",
       "http: warning: cannot read config file: [Errno 13] Permission denied: '/var/folders/wz/1s6cf6yx1w768h9dr46pvs8h0000gn/T/httpie_config_df6nryfn/config.json'\n",
       "\n",
       "\n",
       "</span></pre>\n"
      ],
      "text/plain": [
       "\n",
       "http: warning: cannot read config file: [Errno 13] Permission denied: '/var/folders/wz/1s6cf6yx1w768h9dr46pvs8h0000gn/T/httpie_config_df6nryfn/config.json'\n",
       "\n",
       "\n"
      ]
     },
     "metadata": {},
     "output_type": "display_data"
    },
    {
     "name": "stdout",
     "output_type": "stream",
     "text": [
      "\u001b[31mF\u001b[0m\u001b[32m.\u001b[0m\u001b[32m.\u001b[0m\u001b[32m.\u001b[0m\u001b[32m.\u001b[0m\u001b[32m.\u001b[0m\u001b[33ms\u001b[0m\u001b[32m.\u001b[0m\u001b[32m.\u001b[0m\u001b[32m.\u001b[0m\u001b[32m.\u001b[0m\u001b[32m.\u001b[0m\u001b[32m.\u001b[0m\u001b[32m.\u001b[0m\u001b[32m.\u001b[0m\u001b[32m.\u001b[0m\u001b[32m.\u001b[0m\u001b[32m.\u001b[0m\u001b[32m.\u001b[0m\u001b[32m.\u001b[0m\u001b[32m.\u001b[0m\u001b[32m.\u001b[0m\u001b[32m.\u001b[0m\u001b[32m.\u001b[0m\u001b[32m.\u001b[0m\u001b[32m.\u001b[0m\u001b[32m.\u001b[0m\u001b[32m.\u001b[0m\u001b[32m.\u001b[0m\u001b[32m.\u001b[0m\u001b[32m.\u001b[0m\u001b[32m.\u001b[0m\u001b[32m.\u001b[0m\u001b[32m.\u001b[0m\u001b[32m.\u001b[0m\u001b[32m.\u001b[0m\u001b[32m.\u001b[0m\u001b[31m [ 21%]\n",
      "\u001b[0m\u001b[32m.\u001b[0m\u001b[32m.\u001b[0m\u001b[32m.\u001b[0m\u001b[32m.\u001b[0m\u001b[32m.\u001b[0m\u001b[32m.\u001b[0m\u001b[32m.\u001b[0m\u001b[32m.\u001b[0m\u001b[32m.\u001b[0m\u001b[32m.\u001b[0m\u001b[32m.\u001b[0m\u001b[32m.\u001b[0m\u001b[32m.\u001b[0m\u001b[32m.\u001b[0m\u001b[32m.\u001b[0m\u001b[32m.\u001b[0m\u001b[32m.\u001b[0m\u001b[32m.\u001b[0m\u001b[32m.\u001b[0m\u001b[32m.\u001b[0m\u001b[32m.\u001b[0m\u001b[32m.\u001b[0m\u001b[32m.\u001b[0m\u001b[32m.\u001b[0m\u001b[32m.\u001b[0m\u001b[32m.\u001b[0m\u001b[32m.\u001b[0m\u001b[32m.\u001b[0m\u001b[32m.\u001b[0m\u001b[32m.\u001b[0m\u001b[32m.\u001b[0m\u001b[32m.\u001b[0m\u001b[32m.\u001b[0m\u001b[32m.\u001b[0m\u001b[32m.\u001b[0m\u001b[32m.\u001b[0m\u001b[32m.\u001b[0m\u001b[32m.\u001b[0m\u001b[32m.\u001b[0m\u001b[32m.\u001b[0m\u001b[32m.\u001b[0m\u001b[32m.\u001b[0m\u001b[32m.\u001b[0m\u001b[32m.\u001b[0m\u001b[32m.\u001b[0m\u001b[32m.\u001b[0m\u001b[32m.\u001b[0m\u001b[32m.\u001b[0m\u001b[32m.\u001b[0m\u001b[32m.\u001b[0m\u001b[32m.\u001b[0m\u001b[32m.\u001b[0m\u001b[32m.\u001b[0m\u001b[32m.\u001b[0m\u001b[32m.\u001b[0m\u001b[32m.\u001b[0m\u001b[32m.\u001b[0m\u001b[32m.\u001b[0m\u001b[32m.\u001b[0m\u001b[32m.\u001b[0m\u001b[32m.\u001b[0m\u001b[32m.\u001b[0m\u001b[32m.\u001b[0m\u001b[32m.\u001b[0m\u001b[32m.\u001b[0m\u001b[32m.\u001b[0m\u001b[32m.\u001b[0m\u001b[32m.\u001b[0m\u001b[32m.\u001b[0m\u001b[32m.\u001b[0m\u001b[32m.\u001b[0m\u001b[32m.\u001b[0m\u001b[31m [ 28%]\n",
      "\u001b[0m\u001b[32m.\u001b[0m\u001b[32m.\u001b[0m\u001b[32m.\u001b[0m\u001b[32m.\u001b[0m\u001b[32m.\u001b[0m\u001b[32m.\u001b[0m\u001b[32m.\u001b[0m\u001b[32m.\u001b[0m\u001b[32m.\u001b[0m\u001b[32m.\u001b[0m"
     ]
    },
    {
     "data": {
      "text/html": [
       "<pre style=\"white-space:pre;overflow-x:auto;line-height:normal;font-family:Menlo,'DejaVu Sans Mono',consolas,'Courier New',monospace\"><span style=\"color: #800000; text-decoration-color: #800000\">\n",
       "http: error: ConnectionError: Connection aborted while doing a GET request to URL: http://www.google.com\n",
       "\n",
       "\n",
       "</span></pre>\n"
      ],
      "text/plain": [
       "\n",
       "http: error: ConnectionError: Connection aborted while doing a GET request to URL: http://www.google.com\n",
       "\n",
       "\n"
      ]
     },
     "metadata": {},
     "output_type": "display_data"
    },
    {
     "name": "stdout",
     "output_type": "stream",
     "text": [
      "\u001b[31mF\u001b[0m"
     ]
    },
    {
     "data": {
      "text/html": [
       "<pre style=\"white-space:pre;overflow-x:auto;line-height:normal;font-family:Menlo,'DejaVu Sans Mono',consolas,'Courier New',monospace\"><span style=\"color: #800000; text-decoration-color: #800000\">\n",
       "http: error: ConnectionError: Connection aborted while doing a GET request to URL: http://www.google.com\n",
       "\n",
       "\n",
       "</span></pre>\n"
      ],
      "text/plain": [
       "\n",
       "http: error: ConnectionError: Connection aborted while doing a GET request to URL: http://www.google.com\n",
       "\n",
       "\n"
      ]
     },
     "metadata": {},
     "output_type": "display_data"
    },
    {
     "name": "stdout",
     "output_type": "stream",
     "text": [
      "\u001b[32m.\u001b[0m"
     ]
    },
    {
     "data": {
      "text/html": [
       "<pre style=\"white-space:pre;overflow-x:auto;line-height:normal;font-family:Menlo,'DejaVu Sans Mono',consolas,'Courier New',monospace\"><span style=\"color: #800000; text-decoration-color: #800000\">\n",
       "http: error: gaierror: [Errno 2] &lt;test&gt;\n",
       "Couldn’t connect to a DNS server. Please check your connection and try again.\n",
       "\n",
       "\n",
       "</span></pre>\n"
      ],
      "text/plain": [
       "\n",
       "http: error: gaierror: [Errno 2] <test>\n",
       "Couldn’t connect to a DNS server. Please check your connection and try again.\n",
       "\n",
       "\n"
      ]
     },
     "metadata": {},
     "output_type": "display_data"
    },
    {
     "name": "stdout",
     "output_type": "stream",
     "text": [
      "\u001b[31mF\u001b[0m"
     ]
    },
    {
     "data": {
      "text/html": [
       "<pre style=\"white-space:pre;overflow-x:auto;line-height:normal;font-family:Menlo,'DejaVu Sans Mono',consolas,'Courier New',monospace\"><span style=\"color: #800000; text-decoration-color: #800000\">\n",
       "http: error: gaierror: [Errno 8] &lt;test&gt;\n",
       "Couldn’t resolve the given hostname. Please check the URL and try again.\n",
       "\n",
       "\n",
       "</span></pre>\n"
      ],
      "text/plain": [
       "\n",
       "http: error: gaierror: [Errno 8] <test>\n",
       "Couldn’t resolve the given hostname. Please check the URL and try again.\n",
       "\n",
       "\n"
      ]
     },
     "metadata": {},
     "output_type": "display_data"
    },
    {
     "name": "stdout",
     "output_type": "stream",
     "text": [
      "\u001b[31mF\u001b[0m\u001b[32m.\u001b[0m\u001b[32m.\u001b[0m\u001b[32m.\u001b[0m\u001b[32m.\u001b[0m"
     ]
    },
    {
     "data": {
      "text/html": [
       "<pre style=\"white-space:pre;overflow-x:auto;line-height:normal;font-family:Menlo,'DejaVu Sans Mono',consolas,'Courier New',monospace\"><span style=\"color: #800000; text-decoration-color: #800000\">\n",
       "http: error: Request timed out (0.01s).\n",
       "\n",
       "\n",
       "</span></pre>\n"
      ],
      "text/plain": [
       "\n",
       "http: error: Request timed out (0.01s).\n",
       "\n",
       "\n"
      ]
     },
     "metadata": {},
     "output_type": "display_data"
    },
    {
     "name": "stdout",
     "output_type": "stream",
     "text": [
      "\u001b[32m.\u001b[0m"
     ]
    },
    {
     "data": {
      "text/html": [
       "<pre style=\"white-space:pre;overflow-x:auto;line-height:normal;font-family:Menlo,'DejaVu Sans Mono',consolas,'Courier New',monospace\"><span style=\"color: #808000; text-decoration-color: #808000\">\n",
       "http: warning: HTTP 301 MOVED PERMANENTLY\n",
       "\n",
       "\n",
       "</span></pre>\n"
      ],
      "text/plain": [
       "\n",
       "http: warning: HTTP 301 MOVED PERMANENTLY\n",
       "\n",
       "\n"
      ]
     },
     "metadata": {},
     "output_type": "display_data"
    },
    {
     "name": "stdout",
     "output_type": "stream",
     "text": [
      "\u001b[31mF\u001b[0m\u001b[32m.\u001b[0m\u001b[32m.\u001b[0m\u001b[32m.\u001b[0m"
     ]
    },
    {
     "data": {
      "text/html": [
       "<pre style=\"white-space:pre;overflow-x:auto;line-height:normal;font-family:Menlo,'DejaVu Sans Mono',consolas,'Courier New',monospace\"><span style=\"color: #800000; text-decoration-color: #800000\">\n",
       "ipykernel_launcher.py: error: InvalidURL: Invalid URL 'http:///Users/darkrsw/Library/Jupyter/runtime/kernel-d157ca59-124f-41ff-b16c-a408c1bb7b8c.json': No host supplied\n",
       "\n",
       "\n",
       "</span></pre>\n"
      ],
      "text/plain": [
       "\u001b[31m\n",
       "ipykernel_launcher.py: error: InvalidURL: Invalid URL 'http:///Users/darkrsw/Library/Jupyter/runtime/kernel-d157ca59-124f-41ff-b16c-a408c1bb7b8c.json': No host supplied\n",
       "\n",
       "\u001b[0m\u001b[31m\n",
       "\u001b[0m"
      ]
     },
     "metadata": {},
     "output_type": "display_data"
    },
    {
     "name": "stdout",
     "output_type": "stream",
     "text": [
      "\u001b[32m.\u001b[0m\u001b[32m.\u001b[0m\u001b[32m.\u001b[0m\u001b[32m.\u001b[0m\u001b[32m.\u001b[0m\u001b[32m.\u001b[0m\u001b[32m.\u001b[0m"
     ]
    },
    {
     "data": {
      "text/html": [
       "<pre style=\"white-space:pre;overflow-x:auto;line-height:normal;font-family:Menlo,'DejaVu Sans Mono',consolas,'Courier New',monospace\"><span style=\"font-weight: bold\">usage:</span>\n",
       "<span style=\"font-weight: bold\">    http </span><span style=\"color: #808080; text-decoration-color: #808080; font-weight: bold\">[METHOD]</span><span style=\"font-weight: bold\"> </span><span style=\"color: #c0c0c0; text-decoration-color: #c0c0c0; font-weight: bold\">URL</span><span style=\"font-weight: bold\"> </span><span style=\"color: #808080; text-decoration-color: #808080; font-weight: bold\">[REQUEST_ITEM ...]</span>\n",
       "</pre>\n"
      ],
      "text/plain": [
       "\u001b[1musage:\u001b[0m\n",
       "\u001b[1m    \u001b[0m\u001b[1mhttp \u001b[0m\u001b[1m[METHOD]\u001b[0m\u001b[1m \u001b[0m\u001b[1mURL\u001b[0m\u001b[1m \u001b[0m\u001b[1m[REQUEST_ITEM ...]\u001b[0m\n"
      ]
     },
     "metadata": {},
     "output_type": "display_data"
    },
    {
     "data": {
      "text/html": [
       "<pre style=\"white-space:pre;overflow-x:auto;line-height:normal;font-family:Menlo,'DejaVu Sans Mono',consolas,'Courier New',monospace\">\n",
       "<span style=\"font-weight: bold\">error</span>:\n",
       "    Request body <span style=\"font-weight: bold\">(</span>from stdin, --raw or a file<span style=\"font-weight: bold\">)</span> and request data <span style=\"font-weight: bold\">(</span><span style=\"color: #808000; text-decoration-color: #808000\">key</span>=<span style=\"color: #800080; text-decoration-color: #800080\">value</span><span style=\"font-weight: bold\">)</span> cannot be mixed. Pass --ignore-stdin to\n",
       "let key/value take priority. See <span style=\"color: #0000ff; text-decoration-color: #0000ff; text-decoration: underline\">https://httpie.io/docs#scripting</span> for details.\n",
       "\n",
       "<span style=\"font-weight: bold\">for more information</span>:\n",
       "    run <span style=\"color: #008000; text-decoration-color: #008000\">'http --help'</span> or visit <span style=\"color: #0000ff; text-decoration-color: #0000ff; text-decoration: underline\">https://httpie.io/docs/cli</span>\n",
       "</pre>\n"
      ],
      "text/plain": [
       "\n",
       "\u001b[1merror\u001b[0m:\n",
       "    Request body \u001b[1m(\u001b[0mfrom stdin, --raw or a file\u001b[1m)\u001b[0m and request data \u001b[1m(\u001b[0mkey=value\u001b[1m)\u001b[0m cannot be mixed. Pass --ignore-stdin to\n",
       "let key/value take priority. See \u001b[4mhttps://httpie.io/docs#scripting\u001b[0m for details.\n",
       "\n",
       "\u001b[1mfor more information\u001b[0m:\n",
       "    run 'http --help' or visit \u001b[4mhttps://httpie.io/docs/cli\u001b[0m\n"
      ]
     },
     "metadata": {},
     "output_type": "display_data"
    },
    {
     "name": "stdout",
     "output_type": "stream",
     "text": [
      "\u001b[31mF\u001b[0m"
     ]
    },
    {
     "data": {
      "text/html": [
       "<pre style=\"white-space:pre;overflow-x:auto;line-height:normal;font-family:Menlo,'DejaVu Sans Mono',consolas,'Courier New',monospace\"><span style=\"font-weight: bold\">usage:</span>\n",
       "<span style=\"font-weight: bold\">    http </span><span style=\"color: #808080; text-decoration-color: #808080; font-weight: bold\">[METHOD]</span><span style=\"font-weight: bold\"> </span><span style=\"color: #c0c0c0; text-decoration-color: #c0c0c0; font-weight: bold\">URL</span><span style=\"font-weight: bold\"> </span><span style=\"color: #808080; text-decoration-color: #808080; font-weight: bold\">[REQUEST_ITEM ...]</span>\n",
       "</pre>\n"
      ],
      "text/plain": [
       "\u001b[1musage:\u001b[0m\n",
       "\u001b[1m    \u001b[0m\u001b[1mhttp \u001b[0m\u001b[1m[METHOD]\u001b[0m\u001b[1m \u001b[0m\u001b[1mURL\u001b[0m\u001b[1m \u001b[0m\u001b[1m[REQUEST_ITEM ...]\u001b[0m\n"
      ]
     },
     "metadata": {},
     "output_type": "display_data"
    },
    {
     "data": {
      "text/html": [
       "<pre style=\"white-space:pre;overflow-x:auto;line-height:normal;font-family:Menlo,'DejaVu Sans Mono',consolas,'Courier New',monospace\">\n",
       "<span style=\"font-weight: bold\">error</span>:\n",
       "    Request body <span style=\"font-weight: bold\">(</span>from stdin, --raw or a file<span style=\"font-weight: bold\">)</span> and request data <span style=\"font-weight: bold\">(</span><span style=\"color: #808000; text-decoration-color: #808000\">key</span>=<span style=\"color: #800080; text-decoration-color: #800080\">value</span><span style=\"font-weight: bold\">)</span> cannot be mixed. Pass --ignore-stdin to\n",
       "let key/value take priority. See <span style=\"color: #0000ff; text-decoration-color: #0000ff; text-decoration: underline\">https://httpie.io/docs#scripting</span> for details.\n",
       "\n",
       "<span style=\"font-weight: bold\">for more information</span>:\n",
       "    run <span style=\"color: #008000; text-decoration-color: #008000\">'http --help'</span> or visit <span style=\"color: #0000ff; text-decoration-color: #0000ff; text-decoration: underline\">https://httpie.io/docs/cli</span>\n",
       "</pre>\n"
      ],
      "text/plain": [
       "\n",
       "\u001b[1merror\u001b[0m:\n",
       "    Request body \u001b[1m(\u001b[0mfrom stdin, --raw or a file\u001b[1m)\u001b[0m and request data \u001b[1m(\u001b[0mkey=value\u001b[1m)\u001b[0m cannot be mixed. Pass --ignore-stdin to\n",
       "let key/value take priority. See \u001b[4mhttps://httpie.io/docs#scripting\u001b[0m for details.\n",
       "\n",
       "\u001b[1mfor more information\u001b[0m:\n",
       "    run 'http --help' or visit \u001b[4mhttps://httpie.io/docs/cli\u001b[0m\n"
      ]
     },
     "metadata": {},
     "output_type": "display_data"
    },
    {
     "name": "stdout",
     "output_type": "stream",
     "text": [
      "\u001b[31mF\u001b[0m"
     ]
    },
    {
     "data": {
      "text/html": [
       "<pre style=\"white-space:pre;overflow-x:auto;line-height:normal;font-family:Menlo,'DejaVu Sans Mono',consolas,'Courier New',monospace\"><span style=\"font-weight: bold\">usage:</span>\n",
       "<span style=\"font-weight: bold\">    http </span><span style=\"color: #808080; text-decoration-color: #808080; font-weight: bold\">[METHOD]</span><span style=\"font-weight: bold\"> </span><span style=\"color: #c0c0c0; text-decoration-color: #c0c0c0; font-weight: bold\">URL</span><span style=\"font-weight: bold\"> </span><span style=\"color: #808080; text-decoration-color: #808080; font-weight: bold\">[REQUEST_ITEM ...]</span>\n",
       "</pre>\n"
      ],
      "text/plain": [
       "\u001b[1musage:\u001b[0m\n",
       "\u001b[1m    \u001b[0m\u001b[1mhttp \u001b[0m\u001b[1m[METHOD]\u001b[0m\u001b[1m \u001b[0m\u001b[1mURL\u001b[0m\u001b[1m \u001b[0m\u001b[1m[REQUEST_ITEM ...]\u001b[0m\n"
      ]
     },
     "metadata": {},
     "output_type": "display_data"
    },
    {
     "data": {
      "text/html": [
       "<pre style=\"white-space:pre;overflow-x:auto;line-height:normal;font-family:Menlo,'DejaVu Sans Mono',consolas,'Courier New',monospace\">\n",
       "<span style=\"font-weight: bold\">error</span>:\n",
       "    Request body <span style=\"font-weight: bold\">(</span>from stdin, --raw or a file<span style=\"font-weight: bold\">)</span> and request data <span style=\"font-weight: bold\">(</span><span style=\"color: #808000; text-decoration-color: #808000\">key</span>=<span style=\"color: #800080; text-decoration-color: #800080\">value</span><span style=\"font-weight: bold\">)</span> cannot be mixed. Pass --ignore-stdin to\n",
       "let key/value take priority. See <span style=\"color: #0000ff; text-decoration-color: #0000ff; text-decoration: underline\">https://httpie.io/docs#scripting</span> for details.\n",
       "\n",
       "<span style=\"font-weight: bold\">for more information</span>:\n",
       "    run <span style=\"color: #008000; text-decoration-color: #008000\">'http --help'</span> or visit <span style=\"color: #0000ff; text-decoration-color: #0000ff; text-decoration: underline\">https://httpie.io/docs/cli</span>\n",
       "</pre>\n"
      ],
      "text/plain": [
       "\n",
       "\u001b[1merror\u001b[0m:\n",
       "    Request body \u001b[1m(\u001b[0mfrom stdin, --raw or a file\u001b[1m)\u001b[0m and request data \u001b[1m(\u001b[0mkey=value\u001b[1m)\u001b[0m cannot be mixed. Pass --ignore-stdin to\n",
       "let key/value take priority. See \u001b[4mhttps://httpie.io/docs#scripting\u001b[0m for details.\n",
       "\n",
       "\u001b[1mfor more information\u001b[0m:\n",
       "    run 'http --help' or visit \u001b[4mhttps://httpie.io/docs/cli\u001b[0m\n"
      ]
     },
     "metadata": {},
     "output_type": "display_data"
    },
    {
     "name": "stdout",
     "output_type": "stream",
     "text": [
      "\u001b[31mF\u001b[0m\u001b[32m.\u001b[0m\u001b[32m.\u001b[0m\u001b[32m.\u001b[0m\u001b[32m.\u001b[0m\u001b[32m.\u001b[0m\u001b[32m.\u001b[0m\u001b[32m.\u001b[0m\u001b[32m.\u001b[0m\u001b[32m.\u001b[0m\u001b[32m.\u001b[0m\u001b[32m.\u001b[0m\u001b[32m.\u001b[0m\u001b[32m.\u001b[0m\u001b[32m.\u001b[0m\u001b[32m.\u001b[0m\u001b[32m.\u001b[0m\u001b[32m.\u001b[0m\u001b[32m.\u001b[0m\u001b[32m.\u001b[0m\u001b[32m.\u001b[0m\u001b[32m.\u001b[0m"
     ]
    },
    {
     "data": {
      "text/html": [
       "<pre style=\"white-space:pre;overflow-x:auto;line-height:normal;font-family:Menlo,'DejaVu Sans Mono',consolas,'Courier New',monospace\"><span style=\"font-weight: bold\">usage:</span>\n",
       "<span style=\"font-weight: bold\">    http </span><span style=\"color: #808080; text-decoration-color: #808080; font-weight: bold\">[METHOD]</span><span style=\"font-weight: bold\"> </span><span style=\"color: #c0c0c0; text-decoration-color: #c0c0c0; font-weight: bold\">URL</span><span style=\"font-weight: bold\"> </span><span style=\"color: #808080; text-decoration-color: #808080; font-weight: bold\">[REQUEST_ITEM ...]</span>\n",
       "</pre>\n"
      ],
      "text/plain": [
       "\u001b[1musage:\u001b[0m\n",
       "\u001b[1m    \u001b[0m\u001b[1mhttp \u001b[0m\u001b[1m[METHOD]\u001b[0m\u001b[1m \u001b[0m\u001b[1mURL\u001b[0m\u001b[1m \u001b[0m\u001b[1m[REQUEST_ITEM ...]\u001b[0m\n"
      ]
     },
     "metadata": {},
     "output_type": "display_data"
    },
    {
     "data": {
      "text/html": [
       "<pre style=\"white-space:pre;overflow-x:auto;line-height:normal;font-family:Menlo,'DejaVu Sans Mono',consolas,'Courier New',monospace\">\n",
       "<span style=\"font-weight: bold\">error</span>:\n",
       "    <span style=\"color: #008000; text-decoration-color: #008000\">'UNPARSABLE????SYNTAX'</span> is not a valid value\n",
       "\n",
       "<span style=\"font-weight: bold\">for more information</span>:\n",
       "    run <span style=\"color: #008000; text-decoration-color: #008000\">'http --help'</span> or visit <span style=\"color: #0000ff; text-decoration-color: #0000ff; text-decoration: underline\">https://httpie.io/docs/cli</span>\n",
       "</pre>\n"
      ],
      "text/plain": [
       "\n",
       "\u001b[1merror\u001b[0m:\n",
       "    'UNPARSABLE????SYNTAX' is not a valid value\n",
       "\n",
       "\u001b[1mfor more information\u001b[0m:\n",
       "    run 'http --help' or visit \u001b[4mhttps://httpie.io/docs/cli\u001b[0m\n"
      ]
     },
     "metadata": {},
     "output_type": "display_data"
    },
    {
     "name": "stdout",
     "output_type": "stream",
     "text": [
      "\u001b[32m.\u001b[0m\u001b[32m.\u001b[0m\u001b[32m.\u001b[0m\u001b[32m.\u001b[0m\u001b[32m.\u001b[0m\u001b[32m.\u001b[0m\u001b[32m.\u001b[0m\u001b[32m.\u001b[0m\u001b[32m.\u001b[0m\u001b[32m.\u001b[0m\u001b[32m.\u001b[0m\u001b[32m.\u001b[0m\u001b[32m.\u001b[0m\u001b[32m.\u001b[0m\u001b[32m.\u001b[0m\u001b[32m.\u001b[0m\u001b[32m.\u001b[0m\u001b[32m.\u001b[0m\u001b[31m [ 35%]\n",
      "\u001b[0m\u001b[32m.\u001b[0m\u001b[32m.\u001b[0m\u001b[32m.\u001b[0m\u001b[32m.\u001b[0m\u001b[32m.\u001b[0m"
     ]
    },
    {
     "data": {
      "text/html": [
       "<pre style=\"white-space:pre;overflow-x:auto;line-height:normal;font-family:Menlo,'DejaVu Sans Mono',consolas,'Courier New',monospace\"><span style=\"color: #800000; text-decoration-color: #800000\">\n",
       "httpie: error: 'session' @ 'this-should.never-resolve' does not exist.\n",
       "\n",
       "\n",
       "</span></pre>\n"
      ],
      "text/plain": [
       "\n",
       "httpie: error: 'session' @ 'this-should.never-resolve' does not exist.\n",
       "\n",
       "\n"
      ]
     },
     "metadata": {},
     "output_type": "display_data"
    },
    {
     "name": "stdout",
     "output_type": "stream",
     "text": [
      "\u001b[31mF\u001b[0m\u001b[32m.\u001b[0m\u001b[32m.\u001b[0m\u001b[32m.\u001b[0m\u001b[32m.\u001b[0m\u001b[32m.\u001b[0m\u001b[32m.\u001b[0m\u001b[32m.\u001b[0m\u001b[32m.\u001b[0m\u001b[32m.\u001b[0m\u001b[32m.\u001b[0m\u001b[32m.\u001b[0m\u001b[32m.\u001b[0m\u001b[32m.\u001b[0m\u001b[32m.\u001b[0m\u001b[32m.\u001b[0m\u001b[32m.\u001b[0m\u001b[32m.\u001b[0m\u001b[32m.\u001b[0m\u001b[32m.\u001b[0m\u001b[32m.\u001b[0m\u001b[32m.\u001b[0m\u001b[32m.\u001b[0m\u001b[32m.\u001b[0m\u001b[32m.\u001b[0m\u001b[32m.\u001b[0m\u001b[32m.\u001b[0m\u001b[32m.\u001b[0m\u001b[32m.\u001b[0m\u001b[32m.\u001b[0m\u001b[32m.\u001b[0m\u001b[32m.\u001b[0m\u001b[32m.\u001b[0m\u001b[32m.\u001b[0m\u001b[32m.\u001b[0m\u001b[32m.\u001b[0m\u001b[32m.\u001b[0m\u001b[32m.\u001b[0m\u001b[32m.\u001b[0m\u001b[32m.\u001b[0m\u001b[32m.\u001b[0m\u001b[32m.\u001b[0m\u001b[32m.\u001b[0m\u001b[32m.\u001b[0m\u001b[32m.\u001b[0m\u001b[32m.\u001b[0m\u001b[32m.\u001b[0m\u001b[32m.\u001b[0m\u001b[32m.\u001b[0m\u001b[32m.\u001b[0m\u001b[32m.\u001b[0m\u001b[32m.\u001b[0m\u001b[32m.\u001b[0m\u001b[32m.\u001b[0m\u001b[32m.\u001b[0m\u001b[32m.\u001b[0m\u001b[32m.\u001b[0m\u001b[32m.\u001b[0m\u001b[32m.\u001b[0m\u001b[32m.\u001b[0m\u001b[32m.\u001b[0m\u001b[32m.\u001b[0m\u001b[32m.\u001b[0m\u001b[32m.\u001b[0m\u001b[32m.\u001b[0m\u001b[32m.\u001b[0m\u001b[32m.\u001b[0m\u001b[31m [ 42%]\n",
      "\u001b[0m\u001b[32m.\u001b[0m\u001b[32m.\u001b[0m\u001b[32m.\u001b[0m\u001b[32m.\u001b[0m\u001b[32m.\u001b[0m\u001b[32m.\u001b[0m\u001b[32m.\u001b[0m\u001b[32m.\u001b[0m\u001b[32m.\u001b[0m\u001b[32m.\u001b[0m\u001b[32m.\u001b[0m\u001b[32m.\u001b[0m\u001b[32m.\u001b[0m\u001b[32m.\u001b[0m\u001b[32m.\u001b[0m\u001b[32m.\u001b[0m\u001b[32m.\u001b[0m\u001b[32m.\u001b[0m\u001b[32m.\u001b[0m\u001b[32m.\u001b[0m\u001b[32m.\u001b[0m\u001b[32m.\u001b[0m\u001b[32m.\u001b[0m\u001b[32m.\u001b[0m\u001b[32m.\u001b[0m\u001b[32m.\u001b[0m\u001b[32m.\u001b[0m\u001b[32m.\u001b[0m\u001b[32m.\u001b[0m\u001b[32m.\u001b[0m\u001b[32m.\u001b[0m\u001b[32m.\u001b[0m\u001b[32m.\u001b[0m\u001b[32m.\u001b[0m\u001b[32m.\u001b[0m\u001b[32m.\u001b[0m\u001b[32m.\u001b[0m\u001b[32m.\u001b[0m\u001b[32m.\u001b[0m\u001b[32m.\u001b[0m\u001b[32m.\u001b[0m\u001b[32m.\u001b[0m\u001b[32m.\u001b[0m\u001b[32m.\u001b[0m\u001b[32m.\u001b[0m\u001b[32m.\u001b[0m\u001b[32m.\u001b[0m\u001b[32m.\u001b[0m\u001b[32m.\u001b[0m\u001b[32m.\u001b[0m\u001b[32m.\u001b[0m\u001b[32m.\u001b[0m\u001b[32m.\u001b[0m\u001b[32m.\u001b[0m\u001b[32m.\u001b[0m\u001b[32m.\u001b[0m\u001b[32m.\u001b[0m\u001b[32m.\u001b[0m\u001b[32m.\u001b[0m\u001b[32m.\u001b[0m\u001b[32m.\u001b[0m\u001b[32m.\u001b[0m\u001b[32m.\u001b[0m\u001b[32m.\u001b[0m\u001b[32m.\u001b[0m\u001b[32m.\u001b[0m\u001b[32m.\u001b[0m\u001b[32m.\u001b[0m\u001b[32m.\u001b[0m\u001b[32m.\u001b[0m\u001b[32m.\u001b[0m\u001b[32m.\u001b[0m\u001b[31m [ 49%]\n",
      "\u001b[0m\u001b[32m.\u001b[0m\u001b[32m.\u001b[0m\u001b[32m.\u001b[0m\u001b[32m.\u001b[0m\u001b[32m.\u001b[0m\u001b[32m.\u001b[0m\u001b[32m.\u001b[0m\u001b[32m.\u001b[0m\u001b[32m.\u001b[0m\u001b[32m.\u001b[0m\u001b[32m.\u001b[0m\u001b[32m.\u001b[0m\u001b[32m.\u001b[0m\u001b[32m.\u001b[0m\u001b[32m.\u001b[0m\u001b[32m.\u001b[0m\u001b[32m.\u001b[0m\u001b[32m.\u001b[0m\u001b[32m.\u001b[0m\u001b[32m.\u001b[0m\u001b[32m.\u001b[0m\u001b[32m.\u001b[0m\u001b[32m.\u001b[0m\u001b[32m.\u001b[0m\u001b[32m.\u001b[0m\u001b[32m.\u001b[0m\u001b[32m.\u001b[0m\u001b[32m.\u001b[0m\u001b[32m.\u001b[0m\u001b[32m.\u001b[0m\u001b[32m.\u001b[0m\u001b[32m.\u001b[0m\u001b[32m.\u001b[0m\u001b[32m.\u001b[0m\u001b[32m.\u001b[0m\u001b[32m.\u001b[0m\u001b[32m.\u001b[0m\u001b[32m.\u001b[0m\u001b[32m.\u001b[0m\u001b[32m.\u001b[0m\u001b[32m.\u001b[0m\u001b[32m.\u001b[0m\u001b[32m.\u001b[0m\u001b[32m.\u001b[0m\u001b[32m.\u001b[0m\u001b[32m.\u001b[0m\u001b[32m.\u001b[0m\u001b[32m.\u001b[0m\u001b[32m.\u001b[0m\u001b[32m.\u001b[0m\u001b[32m.\u001b[0m\u001b[32m.\u001b[0m\u001b[32m.\u001b[0m\u001b[32m.\u001b[0m\u001b[32m.\u001b[0m\u001b[32m.\u001b[0m\u001b[32m.\u001b[0m\u001b[32m.\u001b[0m\u001b[32m.\u001b[0m\u001b[32m.\u001b[0m\u001b[32m.\u001b[0m\u001b[32m.\u001b[0m\u001b[32m.\u001b[0m\u001b[32m.\u001b[0m\u001b[32m.\u001b[0m\u001b[32m.\u001b[0m\u001b[32m.\u001b[0m\u001b[32m.\u001b[0m\u001b[32m.\u001b[0m\u001b[32m.\u001b[0m\u001b[32m.\u001b[0m\u001b[32m.\u001b[0m\u001b[31m [ 56%]\n",
      "\u001b[0m\u001b[32m.\u001b[0m\u001b[32m.\u001b[0m\u001b[32m.\u001b[0m\u001b[32m.\u001b[0m\u001b[32m.\u001b[0m\u001b[32m.\u001b[0m\u001b[32m.\u001b[0m\u001b[32m.\u001b[0m\u001b[32m.\u001b[0m\u001b[32m.\u001b[0m\u001b[32m.\u001b[0m\u001b[32m.\u001b[0m\u001b[32m.\u001b[0m\u001b[32m.\u001b[0m\u001b[32m.\u001b[0m\u001b[32m.\u001b[0m\u001b[32m.\u001b[0m\u001b[32m.\u001b[0m\u001b[32m.\u001b[0m\u001b[32m.\u001b[0m\u001b[32m.\u001b[0m\u001b[32m.\u001b[0m\u001b[32m.\u001b[0m\u001b[32m.\u001b[0m\u001b[32m.\u001b[0m\u001b[32m.\u001b[0m\u001b[32m.\u001b[0m\u001b[32m.\u001b[0m\u001b[32m.\u001b[0m\u001b[32m.\u001b[0m\u001b[32m.\u001b[0m\u001b[32m.\u001b[0m\u001b[32m.\u001b[0m\u001b[32m.\u001b[0m\u001b[32m.\u001b[0m\u001b[32m.\u001b[0m\u001b[32m.\u001b[0m\u001b[32m.\u001b[0m\u001b[32m.\u001b[0m\u001b[32m.\u001b[0m\u001b[32m.\u001b[0m\u001b[32m.\u001b[0m\u001b[32m.\u001b[0m\u001b[32m.\u001b[0m\u001b[32m.\u001b[0m\u001b[32m.\u001b[0m\u001b[32m.\u001b[0m\u001b[32m.\u001b[0m\u001b[32m.\u001b[0m\u001b[32m.\u001b[0m\u001b[32m.\u001b[0m\u001b[32m.\u001b[0m\u001b[32m.\u001b[0m\u001b[32m.\u001b[0m\u001b[32m.\u001b[0m\u001b[32m.\u001b[0m\u001b[32m.\u001b[0m\u001b[32m.\u001b[0m\u001b[32m.\u001b[0m\u001b[32m.\u001b[0m\u001b[32m.\u001b[0m\u001b[32m.\u001b[0m\u001b[32m.\u001b[0m\u001b[32m.\u001b[0m\u001b[32m.\u001b[0m\u001b[32m.\u001b[0m\u001b[32m.\u001b[0m\u001b[32m.\u001b[0m\u001b[32m.\u001b[0m\u001b[32m.\u001b[0m\u001b[32m.\u001b[0m\u001b[32m.\u001b[0m\u001b[31m [ 63%]\n",
      "\u001b[0m\u001b[32m.\u001b[0m\u001b[32m.\u001b[0m\u001b[32m.\u001b[0m\u001b[32m.\u001b[0m\u001b[32m.\u001b[0m\u001b[32m.\u001b[0m\u001b[32m.\u001b[0m\u001b[32m.\u001b[0m\u001b[32m.\u001b[0m\u001b[32m.\u001b[0m\u001b[32m.\u001b[0m\u001b[32m.\u001b[0m\u001b[32m.\u001b[0m\u001b[32m.\u001b[0m\u001b[32m.\u001b[0m\u001b[32m.\u001b[0m\u001b[32m.\u001b[0m\u001b[32m.\u001b[0m\u001b[32m.\u001b[0m\u001b[32m.\u001b[0m\u001b[32m.\u001b[0m\u001b[32m.\u001b[0m\u001b[32m.\u001b[0m\u001b[32m.\u001b[0m\u001b[32m.\u001b[0m\u001b[32m.\u001b[0m\u001b[32m.\u001b[0m\u001b[32m.\u001b[0m\u001b[32m.\u001b[0m\u001b[32m.\u001b[0m\u001b[32m.\u001b[0m\u001b[32m.\u001b[0m\u001b[32m.\u001b[0m\u001b[32m.\u001b[0m\u001b[32m.\u001b[0m"
     ]
    },
    {
     "data": {
      "text/html": [
       "<pre style=\"white-space:pre;overflow-x:auto;line-height:normal;font-family:Menlo,'DejaVu Sans Mono',consolas,'Courier New',monospace\"><span style=\"color: #808000; text-decoration-color: #808000\">\n",
       "http: warning: HTTP 500 INTERNAL SERVER ERROR\n",
       "\n",
       "\n",
       "</span></pre>\n"
      ],
      "text/plain": [
       "\n",
       "http: warning: HTTP 500 INTERNAL SERVER ERROR\n",
       "\n",
       "\n"
      ]
     },
     "metadata": {},
     "output_type": "display_data"
    },
    {
     "name": "stdout",
     "output_type": "stream",
     "text": [
      "\u001b[31mF\u001b[0m"
     ]
    },
    {
     "data": {
      "text/html": [
       "<pre style=\"white-space:pre;overflow-x:auto;line-height:normal;font-family:Menlo,'DejaVu Sans Mono',consolas,'Courier New',monospace\"><span style=\"color: #808000; text-decoration-color: #808000\">\n",
       "http: warning: HTTP 500 INTERNAL SERVER ERROR\n",
       "\n",
       "\n",
       "</span></pre>\n"
      ],
      "text/plain": [
       "\n",
       "http: warning: HTTP 500 INTERNAL SERVER ERROR\n",
       "\n",
       "\n"
      ]
     },
     "metadata": {},
     "output_type": "display_data"
    },
    {
     "name": "stdout",
     "output_type": "stream",
     "text": [
      "\u001b[31mF\u001b[0m\u001b[32m.\u001b[0m"
     ]
    },
    {
     "data": {
      "text/html": [
       "<pre style=\"white-space:pre;overflow-x:auto;line-height:normal;font-family:Menlo,'DejaVu Sans Mono',consolas,'Courier New',monospace\"><span style=\"color: #808000; text-decoration-color: #808000\">\n",
       "http: warning: HTTP 500 INTERNAL SERVER ERROR\n",
       "\n",
       "\n",
       "</span></pre>\n"
      ],
      "text/plain": [
       "\n",
       "http: warning: HTTP 500 INTERNAL SERVER ERROR\n",
       "\n",
       "\n"
      ]
     },
     "metadata": {},
     "output_type": "display_data"
    },
    {
     "name": "stdout",
     "output_type": "stream",
     "text": [
      "\u001b[31mF\u001b[0m\u001b[33mx\u001b[0m\u001b[33mX\u001b[0m\u001b[33mX\u001b[0m"
     ]
    },
    {
     "data": {
      "text/html": [
       "<pre style=\"white-space:pre;overflow-x:auto;line-height:normal;font-family:Menlo,'DejaVu Sans Mono',consolas,'Courier New',monospace\"><span style=\"color: #800000; text-decoration-color: #800000\">\n",
       "http: error: gaierror: [Errno 8] nodename nor servname provided, or not known\n",
       "Couldn’t resolve the given hostname. Please check the URL and try again.\n",
       "\n",
       "\n",
       "</span></pre>\n"
      ],
      "text/plain": [
       "\n",
       "http: error: gaierror: [Errno 8] nodename nor servname provided, or not known\n",
       "Couldn’t resolve the given hostname. Please check the URL and try again.\n",
       "\n",
       "\n"
      ]
     },
     "metadata": {},
     "output_type": "display_data"
    },
    {
     "name": "stdout",
     "output_type": "stream",
     "text": [
      "\u001b[31mF\u001b[0m\u001b[32m.\u001b[0m\u001b[32m.\u001b[0m\u001b[32m.\u001b[0m\u001b[32m.\u001b[0m\u001b[32m.\u001b[0m\u001b[32m.\u001b[0m\u001b[32m.\u001b[0m\u001b[32m.\u001b[0m\u001b[32m.\u001b[0m\u001b[32m.\u001b[0m\u001b[32m.\u001b[0m\u001b[32m.\u001b[0m\u001b[32m.\u001b[0m\u001b[32m.\u001b[0m\u001b[32m.\u001b[0m\u001b[32m.\u001b[0m\u001b[32m.\u001b[0m\u001b[32m.\u001b[0m\u001b[32m.\u001b[0m\u001b[32m.\u001b[0m\u001b[32m.\u001b[0m\u001b[32m.\u001b[0m\u001b[32m.\u001b[0m\u001b[32m.\u001b[0m\u001b[32m.\u001b[0m\u001b[32m.\u001b[0m\u001b[32m.\u001b[0m\u001b[32m.\u001b[0m\u001b[32m.\u001b[0m\u001b[31m [ 70%]\n",
      "\u001b[0m\u001b[32m.\u001b[0m\u001b[32m.\u001b[0m\u001b[32m.\u001b[0m\u001b[32m.\u001b[0m\u001b[32m.\u001b[0m\u001b[32m.\u001b[0m\u001b[32m.\u001b[0m\u001b[32m.\u001b[0m\u001b[32m.\u001b[0m\u001b[32m.\u001b[0m\u001b[32m.\u001b[0m\u001b[32m.\u001b[0m\u001b[32m.\u001b[0m\u001b[32m.\u001b[0m\u001b[32m.\u001b[0m\u001b[32m.\u001b[0m\u001b[32m.\u001b[0m\u001b[32m.\u001b[0m\u001b[32m.\u001b[0m\u001b[32m.\u001b[0m\u001b[32m.\u001b[0m\u001b[32m.\u001b[0m\u001b[32m.\u001b[0m\u001b[32m.\u001b[0m\u001b[32m.\u001b[0m\u001b[32m.\u001b[0m\u001b[32m.\u001b[0m\u001b[32m.\u001b[0m\u001b[32m.\u001b[0m\u001b[32m.\u001b[0m\u001b[32m.\u001b[0m\u001b[32m.\u001b[0m\u001b[32m.\u001b[0m\u001b[32m.\u001b[0m\u001b[32m.\u001b[0m\u001b[32m.\u001b[0m\u001b[32m.\u001b[0m\u001b[32m.\u001b[0m\u001b[32m.\u001b[0m\u001b[32m.\u001b[0m\u001b[32m.\u001b[0m\u001b[32m.\u001b[0m\u001b[32m.\u001b[0m\u001b[32m.\u001b[0m\u001b[32m.\u001b[0m\u001b[32m.\u001b[0m\u001b[32m.\u001b[0m\u001b[32m.\u001b[0m\u001b[32m.\u001b[0m\u001b[32m.\u001b[0m\u001b[32m.\u001b[0m\u001b[32m.\u001b[0m\u001b[32m.\u001b[0m\u001b[32m.\u001b[0m\u001b[32m.\u001b[0m\u001b[32m.\u001b[0m\u001b[32m.\u001b[0m\u001b[32m.\u001b[0m\u001b[32m.\u001b[0m\u001b[32m.\u001b[0m\u001b[32m.\u001b[0m\u001b[32m.\u001b[0m\u001b[32m.\u001b[0m\u001b[32m.\u001b[0m\u001b[32m.\u001b[0m\u001b[32m.\u001b[0m\u001b[32m.\u001b[0m\u001b[32m.\u001b[0m\u001b[32m.\u001b[0m\u001b[32m.\u001b[0m\u001b[32m.\u001b[0m\u001b[32m.\u001b[0m\u001b[31m [ 77%]\n",
      "\u001b[0m\u001b[32m.\u001b[0m\u001b[32m.\u001b[0m\u001b[32m.\u001b[0m\u001b[32m.\u001b[0m\u001b[32m.\u001b[0m\u001b[32m.\u001b[0m\u001b[32m.\u001b[0m\u001b[32m.\u001b[0m\u001b[32m.\u001b[0m\u001b[32m.\u001b[0m\u001b[32m.\u001b[0m\u001b[32m.\u001b[0m\u001b[32m.\u001b[0m\u001b[32m.\u001b[0m\u001b[32m.\u001b[0m\u001b[32m.\u001b[0m\u001b[32m.\u001b[0m\u001b[32m.\u001b[0m\u001b[32m.\u001b[0m\u001b[32m.\u001b[0m\u001b[32m.\u001b[0m\u001b[32m.\u001b[0m\u001b[32m.\u001b[0m\u001b[33ms\u001b[0m\u001b[32m.\u001b[0m\u001b[32m.\u001b[0m\u001b[32m.\u001b[0m\u001b[32m.\u001b[0m\u001b[33mx\u001b[0m\u001b[32m.\u001b[0m"
     ]
    },
    {
     "data": {
      "text/html": [
       "<pre style=\"white-space:pre;overflow-x:auto;line-height:normal;font-family:Menlo,'DejaVu Sans Mono',consolas,'Courier New',monospace\"><span style=\"color: #800000; text-decoration-color: #800000\">\n",
       "http: error: Too many redirects (--max-redirects=1).\n",
       "\n",
       "\n",
       "</span></pre>\n"
      ],
      "text/plain": [
       "\n",
       "http: error: Too many redirects (--max-redirects=1).\n",
       "\n",
       "\n"
      ]
     },
     "metadata": {},
     "output_type": "display_data"
    },
    {
     "name": "stdout",
     "output_type": "stream",
     "text": [
      "\u001b[32m.\u001b[0m\u001b[32m.\u001b[0m\u001b[32m.\u001b[0m\u001b[32m.\u001b[0m\u001b[32m.\u001b[0m\u001b[32m.\u001b[0m\u001b[32m.\u001b[0m\u001b[32m.\u001b[0m\u001b[32m.\u001b[0m\u001b[32m.\u001b[0m\u001b[32m.\u001b[0m\u001b[32m.\u001b[0m\u001b[32m.\u001b[0m\u001b[32m.\u001b[0m\u001b[32m.\u001b[0m"
     ]
    },
    {
     "data": {
      "text/html": [
       "<pre style=\"white-space:pre;overflow-x:auto;line-height:normal;font-family:Menlo,'DejaVu Sans Mono',consolas,'Courier New',monospace\"><span style=\"color: #808000; text-decoration-color: #808000\">\n",
       "http: warning: Outdated layout detected for the current session. Please consider updating it,\n",
       "in order to use the latest features regarding the header layout.\n",
       "\n",
       "For fixing the current session:\n",
       "\n",
       "    $ httpie cli sessions upgrade 127.0.0.1 /var/folders/wz/1s6cf6yx1w768h9dr46pvs8h0000gn/T/httpie_config_4ycgassk/session-data.json\n",
       "\n",
       "See $INSERT_LINK for more information.\n",
       "\n",
       "\n",
       "</span></pre>\n"
      ],
      "text/plain": [
       "\n",
       "http: warning: Outdated layout detected for the current session. Please consider updating it,\n",
       "in order to use the latest features regarding the header layout.\n",
       "\n",
       "For fixing the current session:\n",
       "\n",
       "    $ httpie cli sessions upgrade 127.0.0.1 /var/folders/wz/1s6cf6yx1w768h9dr46pvs8h0000gn/T/httpie_config_4ycgassk/session-data.json\n",
       "\n",
       "See $INSERT_LINK for more information.\n",
       "\n",
       "\n"
      ]
     },
     "metadata": {},
     "output_type": "display_data"
    },
    {
     "name": "stdout",
     "output_type": "stream",
     "text": [
      "\u001b[32m.\u001b[0m\u001b[32m.\u001b[0m\u001b[32m.\u001b[0m\u001b[32m.\u001b[0m\u001b[32m.\u001b[0m\u001b[32m.\u001b[0m\u001b[32m.\u001b[0m\u001b[32m.\u001b[0m\u001b[32m.\u001b[0m\u001b[32m.\u001b[0m\u001b[32m.\u001b[0m"
     ]
    },
    {
     "data": {
      "text/html": [
       "<pre style=\"white-space:pre;overflow-x:auto;line-height:normal;font-family:Menlo,'DejaVu Sans Mono',consolas,'Courier New',monospace\"><span style=\"color: #808000; text-decoration-color: #808000\">\n",
       "http: warning: Outdated layout detected for the current session. Please consider updating it,\n",
       "in order to not get affected by potential security problems.\n",
       "\n",
       "For fixing the current session:\n",
       "\n",
       "    With binding all cookies to the current host (secure):\n",
       "        $ httpie cli sessions upgrade --bind-cookies 127.0.0.1 /var/folders/wz/1s6cf6yx1w768h9dr46pvs8h0000gn/T/httpie_config_8lm3x7l0/test-session.json\n",
       "\n",
       "    Without binding cookies (leaving them as is) (insecure):\n",
       "        $ httpie cli sessions upgrade 127.0.0.1 /var/folders/wz/1s6cf6yx1w768h9dr46pvs8h0000gn/T/httpie_config_8lm3x7l0/test-session.json\n",
       "\n",
       "See https://pie.co/docs/security for more information.\n",
       "\n",
       "\n",
       "</span></pre>\n"
      ],
      "text/plain": [
       "\n",
       "http: warning: Outdated layout detected for the current session. Please consider updating it,\n",
       "in order to not get affected by potential security problems.\n",
       "\n",
       "For fixing the current session:\n",
       "\n",
       "    With binding all cookies to the current host (secure):\n",
       "        $ httpie cli sessions upgrade --bind-cookies 127.0.0.1 /var/folders/wz/1s6cf6yx1w768h9dr46pvs8h0000gn/T/httpie_config_8lm3x7l0/test-session.json\n",
       "\n",
       "    Without binding cookies (leaving them as is) (insecure):\n",
       "        $ httpie cli sessions upgrade 127.0.0.1 /var/folders/wz/1s6cf6yx1w768h9dr46pvs8h0000gn/T/httpie_config_8lm3x7l0/test-session.json\n",
       "\n",
       "See https://pie.co/docs/security for more information.\n",
       "\n",
       "\n"
      ]
     },
     "metadata": {},
     "output_type": "display_data"
    },
    {
     "name": "stdout",
     "output_type": "stream",
     "text": [
      "\u001b[32m.\u001b[0m\u001b[32m.\u001b[0m\u001b[32m.\u001b[0m\u001b[32m.\u001b[0m\u001b[32m.\u001b[0m\u001b[32m.\u001b[0m"
     ]
    },
    {
     "data": {
      "text/html": [
       "<pre style=\"white-space:pre;overflow-x:auto;line-height:normal;font-family:Menlo,'DejaVu Sans Mono',consolas,'Courier New',monospace\"><span style=\"color: #808000; text-decoration-color: #808000\">\n",
       "http: warning: Outdated layout detected for the current session. Please consider updating it,\n",
       "in order to not get affected by potential security problems.\n",
       "\n",
       "For fixing the current session:\n",
       "\n",
       "    With binding all cookies to the current host (secure):\n",
       "        $ httpie cli sessions upgrade --bind-cookies 127.0.0.1 /var/folders/wz/1s6cf6yx1w768h9dr46pvs8h0000gn/T/httpie_config_oogmm6yd/test-session.json\n",
       "\n",
       "    Without binding cookies (leaving them as is) (insecure):\n",
       "        $ httpie cli sessions upgrade 127.0.0.1 /var/folders/wz/1s6cf6yx1w768h9dr46pvs8h0000gn/T/httpie_config_oogmm6yd/test-session.json\n",
       "\n",
       "See https://pie.co/docs/security for more information.\n",
       "\n",
       "\n",
       "</span></pre>\n"
      ],
      "text/plain": [
       "\n",
       "http: warning: Outdated layout detected for the current session. Please consider updating it,\n",
       "in order to not get affected by potential security problems.\n",
       "\n",
       "For fixing the current session:\n",
       "\n",
       "    With binding all cookies to the current host (secure):\n",
       "        $ httpie cli sessions upgrade --bind-cookies 127.0.0.1 /var/folders/wz/1s6cf6yx1w768h9dr46pvs8h0000gn/T/httpie_config_oogmm6yd/test-session.json\n",
       "\n",
       "    Without binding cookies (leaving them as is) (insecure):\n",
       "        $ httpie cli sessions upgrade 127.0.0.1 /var/folders/wz/1s6cf6yx1w768h9dr46pvs8h0000gn/T/httpie_config_oogmm6yd/test-session.json\n",
       "\n",
       "See https://pie.co/docs/security for more information.\n",
       "\n",
       "\n"
      ]
     },
     "metadata": {},
     "output_type": "display_data"
    },
    {
     "name": "stdout",
     "output_type": "stream",
     "text": [
      "\u001b[32m.\u001b[0m"
     ]
    },
    {
     "data": {
      "text/html": [
       "<pre style=\"white-space:pre;overflow-x:auto;line-height:normal;font-family:Menlo,'DejaVu Sans Mono',consolas,'Courier New',monospace\"><span style=\"color: #808000; text-decoration-color: #808000\">\n",
       "http: warning: Outdated layout detected for the current session. Please consider updating it,\n",
       "in order to not get affected by potential security problems.\n",
       "\n",
       "For fixing the current session:\n",
       "\n",
       "    With binding all cookies to the current host (secure):\n",
       "        $ httpie cli sessions upgrade --bind-cookies 127.0.0.1 /var/folders/wz/1s6cf6yx1w768h9dr46pvs8h0000gn/T/httpie_config_3prks528/test-session.json\n",
       "\n",
       "    Without binding cookies (leaving them as is) (insecure):\n",
       "        $ httpie cli sessions upgrade 127.0.0.1 /var/folders/wz/1s6cf6yx1w768h9dr46pvs8h0000gn/T/httpie_config_3prks528/test-session.json\n",
       "\n",
       "See https://pie.co/docs/security for more information.\n",
       "\n",
       "\n",
       "</span></pre>\n"
      ],
      "text/plain": [
       "\n",
       "http: warning: Outdated layout detected for the current session. Please consider updating it,\n",
       "in order to not get affected by potential security problems.\n",
       "\n",
       "For fixing the current session:\n",
       "\n",
       "    With binding all cookies to the current host (secure):\n",
       "        $ httpie cli sessions upgrade --bind-cookies 127.0.0.1 /var/folders/wz/1s6cf6yx1w768h9dr46pvs8h0000gn/T/httpie_config_3prks528/test-session.json\n",
       "\n",
       "    Without binding cookies (leaving them as is) (insecure):\n",
       "        $ httpie cli sessions upgrade 127.0.0.1 /var/folders/wz/1s6cf6yx1w768h9dr46pvs8h0000gn/T/httpie_config_3prks528/test-session.json\n",
       "\n",
       "See https://pie.co/docs/security for more information.\n",
       "\n",
       "\n"
      ]
     },
     "metadata": {},
     "output_type": "display_data"
    },
    {
     "name": "stdout",
     "output_type": "stream",
     "text": [
      "\u001b[32m.\u001b[0m"
     ]
    },
    {
     "data": {
      "text/html": [
       "<pre style=\"white-space:pre;overflow-x:auto;line-height:normal;font-family:Menlo,'DejaVu Sans Mono',consolas,'Courier New',monospace\"><span style=\"color: #808000; text-decoration-color: #808000\">\n",
       "http: warning: Outdated layout detected for the current session. Please consider updating it,\n",
       "in order to not get affected by potential security problems.\n",
       "\n",
       "For fixing the current session:\n",
       "\n",
       "    With binding all cookies to the current host (secure):\n",
       "        $ httpie cli sessions upgrade --bind-cookies 127.0.0.1 /var/folders/wz/1s6cf6yx1w768h9dr46pvs8h0000gn/T/httpie_config_2c9ftjj5/test-session.json\n",
       "\n",
       "    Without binding cookies (leaving them as is) (insecure):\n",
       "        $ httpie cli sessions upgrade 127.0.0.1 /var/folders/wz/1s6cf6yx1w768h9dr46pvs8h0000gn/T/httpie_config_2c9ftjj5/test-session.json\n",
       "\n",
       "See https://pie.co/docs/security for more information.\n",
       "\n",
       "\n",
       "</span></pre>\n"
      ],
      "text/plain": [
       "\n",
       "http: warning: Outdated layout detected for the current session. Please consider updating it,\n",
       "in order to not get affected by potential security problems.\n",
       "\n",
       "For fixing the current session:\n",
       "\n",
       "    With binding all cookies to the current host (secure):\n",
       "        $ httpie cli sessions upgrade --bind-cookies 127.0.0.1 /var/folders/wz/1s6cf6yx1w768h9dr46pvs8h0000gn/T/httpie_config_2c9ftjj5/test-session.json\n",
       "\n",
       "    Without binding cookies (leaving them as is) (insecure):\n",
       "        $ httpie cli sessions upgrade 127.0.0.1 /var/folders/wz/1s6cf6yx1w768h9dr46pvs8h0000gn/T/httpie_config_2c9ftjj5/test-session.json\n",
       "\n",
       "See https://pie.co/docs/security for more information.\n",
       "\n",
       "\n"
      ]
     },
     "metadata": {},
     "output_type": "display_data"
    },
    {
     "name": "stdout",
     "output_type": "stream",
     "text": [
      "\u001b[32m.\u001b[0m"
     ]
    },
    {
     "data": {
      "text/html": [
       "<pre style=\"white-space:pre;overflow-x:auto;line-height:normal;font-family:Menlo,'DejaVu Sans Mono',consolas,'Courier New',monospace\"><span style=\"color: #808000; text-decoration-color: #808000\">\n",
       "http: warning: Outdated layout detected for the current session. Please consider updating it,\n",
       "in order to not get affected by potential security problems.\n",
       "\n",
       "For fixing the current session:\n",
       "\n",
       "    With binding all cookies to the current host (secure):\n",
       "        $ httpie cli sessions upgrade --bind-cookies 127.0.0.1 /var/folders/wz/1s6cf6yx1w768h9dr46pvs8h0000gn/T/httpie_config_xxrom721/test-session.json\n",
       "\n",
       "    Without binding cookies (leaving them as is) (insecure):\n",
       "        $ httpie cli sessions upgrade 127.0.0.1 /var/folders/wz/1s6cf6yx1w768h9dr46pvs8h0000gn/T/httpie_config_xxrom721/test-session.json\n",
       "\n",
       "See https://pie.co/docs/security for more information.\n",
       "\n",
       "\n",
       "</span></pre>\n"
      ],
      "text/plain": [
       "\n",
       "http: warning: Outdated layout detected for the current session. Please consider updating it,\n",
       "in order to not get affected by potential security problems.\n",
       "\n",
       "For fixing the current session:\n",
       "\n",
       "    With binding all cookies to the current host (secure):\n",
       "        $ httpie cli sessions upgrade --bind-cookies 127.0.0.1 /var/folders/wz/1s6cf6yx1w768h9dr46pvs8h0000gn/T/httpie_config_xxrom721/test-session.json\n",
       "\n",
       "    Without binding cookies (leaving them as is) (insecure):\n",
       "        $ httpie cli sessions upgrade 127.0.0.1 /var/folders/wz/1s6cf6yx1w768h9dr46pvs8h0000gn/T/httpie_config_xxrom721/test-session.json\n",
       "\n",
       "See https://pie.co/docs/security for more information.\n",
       "\n",
       "\n"
      ]
     },
     "metadata": {},
     "output_type": "display_data"
    },
    {
     "name": "stdout",
     "output_type": "stream",
     "text": [
      "\u001b[32m.\u001b[0m"
     ]
    },
    {
     "data": {
      "text/html": [
       "<pre style=\"white-space:pre;overflow-x:auto;line-height:normal;font-family:Menlo,'DejaVu Sans Mono',consolas,'Courier New',monospace\"><span style=\"color: #808000; text-decoration-color: #808000\">\n",
       "http: warning: Outdated layout detected for the current session. Please consider updating it,\n",
       "in order to not get affected by potential security problems.\n",
       "\n",
       "For fixing the current session:\n",
       "\n",
       "    With binding all cookies to the current host (secure):\n",
       "        $ httpie cli sessions upgrade --bind-cookies 127.0.0.1 /var/folders/wz/1s6cf6yx1w768h9dr46pvs8h0000gn/T/httpie_config_9saat8gi/test-session.json\n",
       "\n",
       "    Without binding cookies (leaving them as is) (insecure):\n",
       "        $ httpie cli sessions upgrade 127.0.0.1 /var/folders/wz/1s6cf6yx1w768h9dr46pvs8h0000gn/T/httpie_config_9saat8gi/test-session.json\n",
       "\n",
       "See https://pie.co/docs/security for more information.\n",
       "\n",
       "\n",
       "</span></pre>\n"
      ],
      "text/plain": [
       "\n",
       "http: warning: Outdated layout detected for the current session. Please consider updating it,\n",
       "in order to not get affected by potential security problems.\n",
       "\n",
       "For fixing the current session:\n",
       "\n",
       "    With binding all cookies to the current host (secure):\n",
       "        $ httpie cli sessions upgrade --bind-cookies 127.0.0.1 /var/folders/wz/1s6cf6yx1w768h9dr46pvs8h0000gn/T/httpie_config_9saat8gi/test-session.json\n",
       "\n",
       "    Without binding cookies (leaving them as is) (insecure):\n",
       "        $ httpie cli sessions upgrade 127.0.0.1 /var/folders/wz/1s6cf6yx1w768h9dr46pvs8h0000gn/T/httpie_config_9saat8gi/test-session.json\n",
       "\n",
       "See https://pie.co/docs/security for more information.\n",
       "\n",
       "\n"
      ]
     },
     "metadata": {},
     "output_type": "display_data"
    },
    {
     "name": "stdout",
     "output_type": "stream",
     "text": [
      "\u001b[32m.\u001b[0m"
     ]
    },
    {
     "data": {
      "text/html": [
       "<pre style=\"white-space:pre;overflow-x:auto;line-height:normal;font-family:Menlo,'DejaVu Sans Mono',consolas,'Courier New',monospace\"><span style=\"color: #808000; text-decoration-color: #808000\">\n",
       "http: warning: Outdated layout detected for the current session. Please consider updating it,\n",
       "in order to not get affected by potential security problems.\n",
       "\n",
       "For fixing the current session:\n",
       "\n",
       "    With binding all cookies to the current host (secure):\n",
       "        $ httpie cli sessions upgrade --bind-cookies 127.0.0.1 /var/folders/wz/1s6cf6yx1w768h9dr46pvs8h0000gn/T/httpie_config_1rjk33rv/test-session.json\n",
       "\n",
       "    Without binding cookies (leaving them as is) (insecure):\n",
       "        $ httpie cli sessions upgrade 127.0.0.1 /var/folders/wz/1s6cf6yx1w768h9dr46pvs8h0000gn/T/httpie_config_1rjk33rv/test-session.json\n",
       "\n",
       "See https://pie.co/docs/security for more information.\n",
       "\n",
       "\n",
       "</span></pre>\n"
      ],
      "text/plain": [
       "\n",
       "http: warning: Outdated layout detected for the current session. Please consider updating it,\n",
       "in order to not get affected by potential security problems.\n",
       "\n",
       "For fixing the current session:\n",
       "\n",
       "    With binding all cookies to the current host (secure):\n",
       "        $ httpie cli sessions upgrade --bind-cookies 127.0.0.1 /var/folders/wz/1s6cf6yx1w768h9dr46pvs8h0000gn/T/httpie_config_1rjk33rv/test-session.json\n",
       "\n",
       "    Without binding cookies (leaving them as is) (insecure):\n",
       "        $ httpie cli sessions upgrade 127.0.0.1 /var/folders/wz/1s6cf6yx1w768h9dr46pvs8h0000gn/T/httpie_config_1rjk33rv/test-session.json\n",
       "\n",
       "See https://pie.co/docs/security for more information.\n",
       "\n",
       "\n"
      ]
     },
     "metadata": {},
     "output_type": "display_data"
    },
    {
     "name": "stdout",
     "output_type": "stream",
     "text": [
      "\u001b[32m.\u001b[0m"
     ]
    },
    {
     "data": {
      "text/html": [
       "<pre style=\"white-space:pre;overflow-x:auto;line-height:normal;font-family:Menlo,'DejaVu Sans Mono',consolas,'Courier New',monospace\"><span style=\"color: #808000; text-decoration-color: #808000\">\n",
       "http: warning: Outdated layout detected for the current session. Please consider updating it,\n",
       "in order to not get affected by potential security problems.\n",
       "\n",
       "For fixing the current session:\n",
       "\n",
       "    With binding all cookies to the current host (secure):\n",
       "        $ httpie cli sessions upgrade --bind-cookies 127.0.0.1 /var/folders/wz/1s6cf6yx1w768h9dr46pvs8h0000gn/T/httpie_config_bymxrh0z/test-session.json\n",
       "\n",
       "    Without binding cookies (leaving them as is) (insecure):\n",
       "        $ httpie cli sessions upgrade 127.0.0.1 /var/folders/wz/1s6cf6yx1w768h9dr46pvs8h0000gn/T/httpie_config_bymxrh0z/test-session.json\n",
       "\n",
       "See https://pie.co/docs/security for more information.\n",
       "\n",
       "\n",
       "</span></pre>\n"
      ],
      "text/plain": [
       "\n",
       "http: warning: Outdated layout detected for the current session. Please consider updating it,\n",
       "in order to not get affected by potential security problems.\n",
       "\n",
       "For fixing the current session:\n",
       "\n",
       "    With binding all cookies to the current host (secure):\n",
       "        $ httpie cli sessions upgrade --bind-cookies 127.0.0.1 /var/folders/wz/1s6cf6yx1w768h9dr46pvs8h0000gn/T/httpie_config_bymxrh0z/test-session.json\n",
       "\n",
       "    Without binding cookies (leaving them as is) (insecure):\n",
       "        $ httpie cli sessions upgrade 127.0.0.1 /var/folders/wz/1s6cf6yx1w768h9dr46pvs8h0000gn/T/httpie_config_bymxrh0z/test-session.json\n",
       "\n",
       "See https://pie.co/docs/security for more information.\n",
       "\n",
       "\n"
      ]
     },
     "metadata": {},
     "output_type": "display_data"
    },
    {
     "name": "stdout",
     "output_type": "stream",
     "text": [
      "\u001b[32m.\u001b[0m"
     ]
    },
    {
     "data": {
      "text/html": [
       "<pre style=\"white-space:pre;overflow-x:auto;line-height:normal;font-family:Menlo,'DejaVu Sans Mono',consolas,'Courier New',monospace\"><span style=\"color: #808000; text-decoration-color: #808000\">\n",
       "http: warning: Outdated layout detected for the current session. Please consider updating it,\n",
       "in order to not get affected by potential security problems.\n",
       "\n",
       "For fixing the current session:\n",
       "\n",
       "    With binding all cookies to the current host (secure):\n",
       "        $ httpie cli sessions upgrade --bind-cookies 127.0.0.1 /var/folders/wz/1s6cf6yx1w768h9dr46pvs8h0000gn/T/httpie_config_d_w6pybd/test-session.json\n",
       "\n",
       "    Without binding cookies (leaving them as is) (insecure):\n",
       "        $ httpie cli sessions upgrade 127.0.0.1 /var/folders/wz/1s6cf6yx1w768h9dr46pvs8h0000gn/T/httpie_config_d_w6pybd/test-session.json\n",
       "\n",
       "See https://pie.co/docs/security for more information.\n",
       "\n",
       "\n",
       "</span></pre>\n"
      ],
      "text/plain": [
       "\n",
       "http: warning: Outdated layout detected for the current session. Please consider updating it,\n",
       "in order to not get affected by potential security problems.\n",
       "\n",
       "For fixing the current session:\n",
       "\n",
       "    With binding all cookies to the current host (secure):\n",
       "        $ httpie cli sessions upgrade --bind-cookies 127.0.0.1 /var/folders/wz/1s6cf6yx1w768h9dr46pvs8h0000gn/T/httpie_config_d_w6pybd/test-session.json\n",
       "\n",
       "    Without binding cookies (leaving them as is) (insecure):\n",
       "        $ httpie cli sessions upgrade 127.0.0.1 /var/folders/wz/1s6cf6yx1w768h9dr46pvs8h0000gn/T/httpie_config_d_w6pybd/test-session.json\n",
       "\n",
       "See https://pie.co/docs/security for more information.\n",
       "\n",
       "\n"
      ]
     },
     "metadata": {},
     "output_type": "display_data"
    },
    {
     "name": "stdout",
     "output_type": "stream",
     "text": [
      "\u001b[32m.\u001b[0m"
     ]
    },
    {
     "data": {
      "text/html": [
       "<pre style=\"white-space:pre;overflow-x:auto;line-height:normal;font-family:Menlo,'DejaVu Sans Mono',consolas,'Courier New',monospace\"><span style=\"color: #808000; text-decoration-color: #808000\">\n",
       "http: warning: Outdated layout detected for the current session. Please consider updating it,\n",
       "in order to not get affected by potential security problems.\n",
       "\n",
       "For fixing the current session:\n",
       "\n",
       "    With binding all cookies to the current host (secure):\n",
       "        $ httpie cli sessions upgrade --bind-cookies 127.0.0.1 /var/folders/wz/1s6cf6yx1w768h9dr46pvs8h0000gn/T/httpie_config_pympsn_z/test-session.json\n",
       "\n",
       "    Without binding cookies (leaving them as is) (insecure):\n",
       "        $ httpie cli sessions upgrade 127.0.0.1 /var/folders/wz/1s6cf6yx1w768h9dr46pvs8h0000gn/T/httpie_config_pympsn_z/test-session.json\n",
       "\n",
       "See https://pie.co/docs/security for more information.\n",
       "\n",
       "\n",
       "</span></pre>\n"
      ],
      "text/plain": [
       "\n",
       "http: warning: Outdated layout detected for the current session. Please consider updating it,\n",
       "in order to not get affected by potential security problems.\n",
       "\n",
       "For fixing the current session:\n",
       "\n",
       "    With binding all cookies to the current host (secure):\n",
       "        $ httpie cli sessions upgrade --bind-cookies 127.0.0.1 /var/folders/wz/1s6cf6yx1w768h9dr46pvs8h0000gn/T/httpie_config_pympsn_z/test-session.json\n",
       "\n",
       "    Without binding cookies (leaving them as is) (insecure):\n",
       "        $ httpie cli sessions upgrade 127.0.0.1 /var/folders/wz/1s6cf6yx1w768h9dr46pvs8h0000gn/T/httpie_config_pympsn_z/test-session.json\n",
       "\n",
       "See https://pie.co/docs/security for more information.\n",
       "\n",
       "\n"
      ]
     },
     "metadata": {},
     "output_type": "display_data"
    },
    {
     "name": "stdout",
     "output_type": "stream",
     "text": [
      "\u001b[32m.\u001b[0m\u001b[32m.\u001b[0m\u001b[31m [ 84%]\n",
      "\u001b[0m"
     ]
    },
    {
     "data": {
      "text/html": [
       "<pre style=\"white-space:pre;overflow-x:auto;line-height:normal;font-family:Menlo,'DejaVu Sans Mono',consolas,'Courier New',monospace\"><span style=\"color: #808000; text-decoration-color: #808000\">\n",
       "http: warning: Outdated layout detected for the current session. Please consider updating it,\n",
       "in order to not get affected by potential security problems.\n",
       "\n",
       "For fixing the current session:\n",
       "\n",
       "    With binding all cookies to the current host (secure):\n",
       "        $ httpie cli sessions upgrade --bind-cookies this-should.never-resolve test\n",
       "\n",
       "    Without binding cookies (leaving them as is) (insecure):\n",
       "        $ httpie cli sessions upgrade this-should.never-resolve test\n",
       "\n",
       "For fixing all named sessions:\n",
       "\n",
       "    With binding all cookies to the current host (secure):\n",
       "        $ httpie cli sessions upgrade-all --bind-cookies\n",
       "\n",
       "    Without binding cookies (leaving them as is) (insecure):\n",
       "        $ httpie cli sessions upgrade-all\n",
       "\n",
       "See https://pie.co/docs/security for more information.\n",
       "\n",
       "\n",
       "</span></pre>\n"
      ],
      "text/plain": [
       "\n",
       "http: warning: Outdated layout detected for the current session. Please consider updating it,\n",
       "in order to not get affected by potential security problems.\n",
       "\n",
       "For fixing the current session:\n",
       "\n",
       "    With binding all cookies to the current host (secure):\n",
       "        $ httpie cli sessions upgrade --bind-cookies this-should.never-resolve test\n",
       "\n",
       "    Without binding cookies (leaving them as is) (insecure):\n",
       "        $ httpie cli sessions upgrade this-should.never-resolve test\n",
       "\n",
       "For fixing all named sessions:\n",
       "\n",
       "    With binding all cookies to the current host (secure):\n",
       "        $ httpie cli sessions upgrade-all --bind-cookies\n",
       "\n",
       "    Without binding cookies (leaving them as is) (insecure):\n",
       "        $ httpie cli sessions upgrade-all\n",
       "\n",
       "See https://pie.co/docs/security for more information.\n",
       "\n",
       "\n"
      ]
     },
     "metadata": {},
     "output_type": "display_data"
    },
    {
     "name": "stdout",
     "output_type": "stream",
     "text": [
      "\u001b[31mF\u001b[0m"
     ]
    },
    {
     "data": {
      "text/html": [
       "<pre style=\"white-space:pre;overflow-x:auto;line-height:normal;font-family:Menlo,'DejaVu Sans Mono',consolas,'Courier New',monospace\"><span style=\"color: #808000; text-decoration-color: #808000\">\n",
       "http: warning: Outdated layout detected for the current session. Please consider updating it,\n",
       "in order to not get affected by potential security problems.\n",
       "\n",
       "For fixing the current session:\n",
       "\n",
       "    With binding all cookies to the current host (secure):\n",
       "        $ httpie cli sessions upgrade --bind-cookies this-should.never-resolve test\n",
       "\n",
       "    Without binding cookies (leaving them as is) (insecure):\n",
       "        $ httpie cli sessions upgrade this-should.never-resolve test\n",
       "\n",
       "For fixing all named sessions:\n",
       "\n",
       "    With binding all cookies to the current host (secure):\n",
       "        $ httpie cli sessions upgrade-all --bind-cookies\n",
       "\n",
       "    Without binding cookies (leaving them as is) (insecure):\n",
       "        $ httpie cli sessions upgrade-all\n",
       "\n",
       "See https://pie.co/docs/security for more information.\n",
       "\n",
       "\n",
       "</span></pre>\n"
      ],
      "text/plain": [
       "\n",
       "http: warning: Outdated layout detected for the current session. Please consider updating it,\n",
       "in order to not get affected by potential security problems.\n",
       "\n",
       "For fixing the current session:\n",
       "\n",
       "    With binding all cookies to the current host (secure):\n",
       "        $ httpie cli sessions upgrade --bind-cookies this-should.never-resolve test\n",
       "\n",
       "    Without binding cookies (leaving them as is) (insecure):\n",
       "        $ httpie cli sessions upgrade this-should.never-resolve test\n",
       "\n",
       "For fixing all named sessions:\n",
       "\n",
       "    With binding all cookies to the current host (secure):\n",
       "        $ httpie cli sessions upgrade-all --bind-cookies\n",
       "\n",
       "    Without binding cookies (leaving them as is) (insecure):\n",
       "        $ httpie cli sessions upgrade-all\n",
       "\n",
       "See https://pie.co/docs/security for more information.\n",
       "\n",
       "\n"
      ]
     },
     "metadata": {},
     "output_type": "display_data"
    },
    {
     "name": "stdout",
     "output_type": "stream",
     "text": [
      "\u001b[31mF\u001b[0m"
     ]
    },
    {
     "data": {
      "text/html": [
       "<pre style=\"white-space:pre;overflow-x:auto;line-height:normal;font-family:Menlo,'DejaVu Sans Mono',consolas,'Courier New',monospace\"><span style=\"color: #808000; text-decoration-color: #808000\">\n",
       "http: warning: Outdated layout detected for the current session. Please consider updating it,\n",
       "in order to not get affected by potential security problems.\n",
       "\n",
       "For fixing the current session:\n",
       "\n",
       "    With binding all cookies to the current host (secure):\n",
       "        $ httpie cli sessions upgrade --bind-cookies this-should.never-resolve test\n",
       "\n",
       "    Without binding cookies (leaving them as is) (insecure):\n",
       "        $ httpie cli sessions upgrade this-should.never-resolve test\n",
       "\n",
       "For fixing all named sessions:\n",
       "\n",
       "    With binding all cookies to the current host (secure):\n",
       "        $ httpie cli sessions upgrade-all --bind-cookies\n",
       "\n",
       "    Without binding cookies (leaving them as is) (insecure):\n",
       "        $ httpie cli sessions upgrade-all\n",
       "\n",
       "See https://pie.co/docs/security for more information.\n",
       "\n",
       "\n",
       "</span></pre>\n"
      ],
      "text/plain": [
       "\n",
       "http: warning: Outdated layout detected for the current session. Please consider updating it,\n",
       "in order to not get affected by potential security problems.\n",
       "\n",
       "For fixing the current session:\n",
       "\n",
       "    With binding all cookies to the current host (secure):\n",
       "        $ httpie cli sessions upgrade --bind-cookies this-should.never-resolve test\n",
       "\n",
       "    Without binding cookies (leaving them as is) (insecure):\n",
       "        $ httpie cli sessions upgrade this-should.never-resolve test\n",
       "\n",
       "For fixing all named sessions:\n",
       "\n",
       "    With binding all cookies to the current host (secure):\n",
       "        $ httpie cli sessions upgrade-all --bind-cookies\n",
       "\n",
       "    Without binding cookies (leaving them as is) (insecure):\n",
       "        $ httpie cli sessions upgrade-all\n",
       "\n",
       "See https://pie.co/docs/security for more information.\n",
       "\n",
       "\n"
      ]
     },
     "metadata": {},
     "output_type": "display_data"
    },
    {
     "name": "stdout",
     "output_type": "stream",
     "text": [
      "\u001b[31mF\u001b[0m\u001b[32m.\u001b[0m\u001b[32m.\u001b[0m\u001b[32m.\u001b[0m\u001b[32m.\u001b[0m\u001b[32m.\u001b[0m\u001b[32m.\u001b[0m"
     ]
    },
    {
     "data": {
      "text/html": [
       "<pre style=\"white-space:pre;overflow-x:auto;line-height:normal;font-family:Menlo,'DejaVu Sans Mono',consolas,'Courier New',monospace\"><span style=\"color: #808000; text-decoration-color: #808000\">\n",
       "http: warning: Outdated layout detected for the current session. Please consider updating it,\n",
       "in order to not get affected by potential security problems.\n",
       "\n",
       "For fixing the current session:\n",
       "\n",
       "    With binding all cookies to the current host (secure):\n",
       "        $ httpie cli sessions upgrade --bind-cookies 127.0.0.1 /private/var/folders/wz/1s6cf6yx1w768h9dr46pvs8h0000gn/T/pytest-of-darkrsw/pytest-16/test_old_session_cookie_layout1/session.json\n",
       "\n",
       "    Without binding cookies (leaving them as is) (insecure):\n",
       "        $ httpie cli sessions upgrade 127.0.0.1 /private/var/folders/wz/1s6cf6yx1w768h9dr46pvs8h0000gn/T/pytest-of-darkrsw/pytest-16/test_old_session_cookie_layout1/session.json\n",
       "\n",
       "See https://pie.co/docs/security for more information.\n",
       "\n",
       "\n",
       "</span></pre>\n"
      ],
      "text/plain": [
       "\n",
       "http: warning: Outdated layout detected for the current session. Please consider updating it,\n",
       "in order to not get affected by potential security problems.\n",
       "\n",
       "For fixing the current session:\n",
       "\n",
       "    With binding all cookies to the current host (secure):\n",
       "        $ httpie cli sessions upgrade --bind-cookies 127.0.0.1 /private/var/folders/wz/1s6cf6yx1w768h9dr46pvs8h0000gn/T/pytest-of-darkrsw/pytest-16/test_old_session_cookie_layout1/session.json\n",
       "\n",
       "    Without binding cookies (leaving them as is) (insecure):\n",
       "        $ httpie cli sessions upgrade 127.0.0.1 /private/var/folders/wz/1s6cf6yx1w768h9dr46pvs8h0000gn/T/pytest-of-darkrsw/pytest-16/test_old_session_cookie_layout1/session.json\n",
       "\n",
       "See https://pie.co/docs/security for more information.\n",
       "\n",
       "\n"
      ]
     },
     "metadata": {},
     "output_type": "display_data"
    },
    {
     "name": "stdout",
     "output_type": "stream",
     "text": [
      "\u001b[32m.\u001b[0m"
     ]
    },
    {
     "data": {
      "text/html": [
       "<pre style=\"white-space:pre;overflow-x:auto;line-height:normal;font-family:Menlo,'DejaVu Sans Mono',consolas,'Courier New',monospace\"><span style=\"color: #808000; text-decoration-color: #808000\">\n",
       "http: warning: Outdated layout detected for the current session. Please consider updating it,\n",
       "in order to not get affected by potential security problems.\n",
       "\n",
       "For fixing the current session:\n",
       "\n",
       "    With binding all cookies to the current host (secure):\n",
       "        $ httpie cli sessions upgrade --bind-cookies this-should.never-resolve test\n",
       "\n",
       "    Without binding cookies (leaving them as is) (insecure):\n",
       "        $ httpie cli sessions upgrade this-should.never-resolve test\n",
       "\n",
       "For fixing all named sessions:\n",
       "\n",
       "    With binding all cookies to the current host (secure):\n",
       "        $ httpie cli sessions upgrade-all --bind-cookies\n",
       "\n",
       "    Without binding cookies (leaving them as is) (insecure):\n",
       "        $ httpie cli sessions upgrade-all\n",
       "\n",
       "See https://pie.co/docs/security for more information.\n",
       "\n",
       "\n",
       "</span></pre>\n"
      ],
      "text/plain": [
       "\n",
       "http: warning: Outdated layout detected for the current session. Please consider updating it,\n",
       "in order to not get affected by potential security problems.\n",
       "\n",
       "For fixing the current session:\n",
       "\n",
       "    With binding all cookies to the current host (secure):\n",
       "        $ httpie cli sessions upgrade --bind-cookies this-should.never-resolve test\n",
       "\n",
       "    Without binding cookies (leaving them as is) (insecure):\n",
       "        $ httpie cli sessions upgrade this-should.never-resolve test\n",
       "\n",
       "For fixing all named sessions:\n",
       "\n",
       "    With binding all cookies to the current host (secure):\n",
       "        $ httpie cli sessions upgrade-all --bind-cookies\n",
       "\n",
       "    Without binding cookies (leaving them as is) (insecure):\n",
       "        $ httpie cli sessions upgrade-all\n",
       "\n",
       "See https://pie.co/docs/security for more information.\n",
       "\n",
       "\n"
      ]
     },
     "metadata": {},
     "output_type": "display_data"
    },
    {
     "name": "stdout",
     "output_type": "stream",
     "text": [
      "\u001b[32m.\u001b[0m\u001b[32m.\u001b[0m"
     ]
    },
    {
     "data": {
      "text/html": [
       "<pre style=\"white-space:pre;overflow-x:auto;line-height:normal;font-family:Menlo,'DejaVu Sans Mono',consolas,'Courier New',monospace\"><span style=\"color: #808000; text-decoration-color: #808000\">\n",
       "http: warning: Outdated layout detected for the current session. Please consider updating it,\n",
       "in order to not get affected by potential security problems.\n",
       "\n",
       "For fixing the current session:\n",
       "\n",
       "    With binding all cookies to the current host (secure):\n",
       "        $ httpie cli sessions upgrade --bind-cookies 127.0.0.1 /private/var/folders/wz/1s6cf6yx1w768h9dr46pvs8h0000gn/T/pytest-of-darkrsw/pytest-16/test_session_cookie_layout_pre2/session.json\n",
       "\n",
       "    Without binding cookies (leaving them as is) (insecure):\n",
       "        $ httpie cli sessions upgrade 127.0.0.1 /private/var/folders/wz/1s6cf6yx1w768h9dr46pvs8h0000gn/T/pytest-of-darkrsw/pytest-16/test_session_cookie_layout_pre2/session.json\n",
       "\n",
       "See https://pie.co/docs/security for more information.\n",
       "\n",
       "\n",
       "</span></pre>\n"
      ],
      "text/plain": [
       "\n",
       "http: warning: Outdated layout detected for the current session. Please consider updating it,\n",
       "in order to not get affected by potential security problems.\n",
       "\n",
       "For fixing the current session:\n",
       "\n",
       "    With binding all cookies to the current host (secure):\n",
       "        $ httpie cli sessions upgrade --bind-cookies 127.0.0.1 /private/var/folders/wz/1s6cf6yx1w768h9dr46pvs8h0000gn/T/pytest-of-darkrsw/pytest-16/test_session_cookie_layout_pre2/session.json\n",
       "\n",
       "    Without binding cookies (leaving them as is) (insecure):\n",
       "        $ httpie cli sessions upgrade 127.0.0.1 /private/var/folders/wz/1s6cf6yx1w768h9dr46pvs8h0000gn/T/pytest-of-darkrsw/pytest-16/test_session_cookie_layout_pre2/session.json\n",
       "\n",
       "See https://pie.co/docs/security for more information.\n",
       "\n",
       "\n"
      ]
     },
     "metadata": {},
     "output_type": "display_data"
    },
    {
     "data": {
      "text/html": [
       "<pre style=\"white-space:pre;overflow-x:auto;line-height:normal;font-family:Menlo,'DejaVu Sans Mono',consolas,'Courier New',monospace\"><span style=\"color: #808000; text-decoration-color: #808000\">\n",
       "http: warning: Outdated layout detected for the current session. Please consider updating it,\n",
       "in order to not get affected by potential security problems.\n",
       "\n",
       "For fixing the current session:\n",
       "\n",
       "    With binding all cookies to the current host (secure):\n",
       "        $ httpie cli sessions upgrade --bind-cookies this-should.never-resolve test\n",
       "\n",
       "    Without binding cookies (leaving them as is) (insecure):\n",
       "        $ httpie cli sessions upgrade this-should.never-resolve test\n",
       "\n",
       "For fixing all named sessions:\n",
       "\n",
       "    With binding all cookies to the current host (secure):\n",
       "        $ httpie cli sessions upgrade-all --bind-cookies\n",
       "\n",
       "    Without binding cookies (leaving them as is) (insecure):\n",
       "        $ httpie cli sessions upgrade-all\n",
       "\n",
       "See https://pie.co/docs/security for more information.\n",
       "\n",
       "\n",
       "</span></pre>\n"
      ],
      "text/plain": [
       "\n",
       "http: warning: Outdated layout detected for the current session. Please consider updating it,\n",
       "in order to not get affected by potential security problems.\n",
       "\n",
       "For fixing the current session:\n",
       "\n",
       "    With binding all cookies to the current host (secure):\n",
       "        $ httpie cli sessions upgrade --bind-cookies this-should.never-resolve test\n",
       "\n",
       "    Without binding cookies (leaving them as is) (insecure):\n",
       "        $ httpie cli sessions upgrade this-should.never-resolve test\n",
       "\n",
       "For fixing all named sessions:\n",
       "\n",
       "    With binding all cookies to the current host (secure):\n",
       "        $ httpie cli sessions upgrade-all --bind-cookies\n",
       "\n",
       "    Without binding cookies (leaving them as is) (insecure):\n",
       "        $ httpie cli sessions upgrade-all\n",
       "\n",
       "See https://pie.co/docs/security for more information.\n",
       "\n",
       "\n"
      ]
     },
     "metadata": {},
     "output_type": "display_data"
    },
    {
     "name": "stdout",
     "output_type": "stream",
     "text": [
      "\u001b[32m.\u001b[0m\u001b[32m.\u001b[0m\u001b[32m.\u001b[0m"
     ]
    },
    {
     "data": {
      "text/html": [
       "<pre style=\"white-space:pre;overflow-x:auto;line-height:normal;font-family:Menlo,'DejaVu Sans Mono',consolas,'Courier New',monospace\"><span style=\"color: #808000; text-decoration-color: #808000\">\n",
       "http: warning: Outdated layout detected for the current session. Please consider updating it,\n",
       "in order to use the latest features regarding the header layout.\n",
       "\n",
       "For fixing the current session:\n",
       "\n",
       "    $ httpie cli sessions upgrade this-should.never-resolve test\n",
       "\n",
       "For fixing all named sessions:\n",
       "\n",
       "    $ httpie cli sessions upgrade-all\n",
       "\n",
       "See $INSERT_LINK for more information.\n",
       "\n",
       "\n",
       "</span></pre>\n"
      ],
      "text/plain": [
       "\n",
       "http: warning: Outdated layout detected for the current session. Please consider updating it,\n",
       "in order to use the latest features regarding the header layout.\n",
       "\n",
       "For fixing the current session:\n",
       "\n",
       "    $ httpie cli sessions upgrade this-should.never-resolve test\n",
       "\n",
       "For fixing all named sessions:\n",
       "\n",
       "    $ httpie cli sessions upgrade-all\n",
       "\n",
       "See $INSERT_LINK for more information.\n",
       "\n",
       "\n"
      ]
     },
     "metadata": {},
     "output_type": "display_data"
    },
    {
     "name": "stdout",
     "output_type": "stream",
     "text": [
      "\u001b[31mF\u001b[0m\u001b[32m.\u001b[0m\u001b[32m.\u001b[0m"
     ]
    },
    {
     "data": {
      "text/html": [
       "<pre style=\"white-space:pre;overflow-x:auto;line-height:normal;font-family:Menlo,'DejaVu Sans Mono',consolas,'Courier New',monospace\"><span style=\"color: #808000; text-decoration-color: #808000\">\n",
       "http: warning: Outdated layout detected for the current session. Please consider updating it,\n",
       "in order to not get affected by potential security problems.\n",
       "\n",
       "For fixing the current session:\n",
       "\n",
       "    With binding all cookies to the current host (secure):\n",
       "        $ httpie cli sessions upgrade --bind-cookies this-should.never-resolve test\n",
       "\n",
       "    Without binding cookies (leaving them as is) (insecure):\n",
       "        $ httpie cli sessions upgrade this-should.never-resolve test\n",
       "\n",
       "For fixing all named sessions:\n",
       "\n",
       "    With binding all cookies to the current host (secure):\n",
       "        $ httpie cli sessions upgrade-all --bind-cookies\n",
       "\n",
       "    Without binding cookies (leaving them as is) (insecure):\n",
       "        $ httpie cli sessions upgrade-all\n",
       "\n",
       "See https://pie.co/docs/security for more information.\n",
       "\n",
       "\n",
       "</span></pre>\n"
      ],
      "text/plain": [
       "\n",
       "http: warning: Outdated layout detected for the current session. Please consider updating it,\n",
       "in order to not get affected by potential security problems.\n",
       "\n",
       "For fixing the current session:\n",
       "\n",
       "    With binding all cookies to the current host (secure):\n",
       "        $ httpie cli sessions upgrade --bind-cookies this-should.never-resolve test\n",
       "\n",
       "    Without binding cookies (leaving them as is) (insecure):\n",
       "        $ httpie cli sessions upgrade this-should.never-resolve test\n",
       "\n",
       "For fixing all named sessions:\n",
       "\n",
       "    With binding all cookies to the current host (secure):\n",
       "        $ httpie cli sessions upgrade-all --bind-cookies\n",
       "\n",
       "    Without binding cookies (leaving them as is) (insecure):\n",
       "        $ httpie cli sessions upgrade-all\n",
       "\n",
       "See https://pie.co/docs/security for more information.\n",
       "\n",
       "\n"
      ]
     },
     "metadata": {},
     "output_type": "display_data"
    },
    {
     "name": "stdout",
     "output_type": "stream",
     "text": [
      "\u001b[31mF\u001b[0m"
     ]
    },
    {
     "data": {
      "text/html": [
       "<pre style=\"white-space:pre;overflow-x:auto;line-height:normal;font-family:Menlo,'DejaVu Sans Mono',consolas,'Courier New',monospace\"><span style=\"color: #808000; text-decoration-color: #808000\">\n",
       "http: warning: Outdated layout detected for the current session. Please consider updating it,\n",
       "in order to use the latest features regarding the header layout.\n",
       "\n",
       "For fixing the current session:\n",
       "\n",
       "    $ httpie cli sessions upgrade 127.0.0.1 /private/var/folders/wz/1s6cf6yx1w768h9dr46pvs8h0000gn/T/pytest-of-darkrsw/pytest-16/test_old_session_header_layout0/session.json\n",
       "\n",
       "See $INSERT_LINK for more information.\n",
       "\n",
       "\n",
       "</span></pre>\n"
      ],
      "text/plain": [
       "\n",
       "http: warning: Outdated layout detected for the current session. Please consider updating it,\n",
       "in order to use the latest features regarding the header layout.\n",
       "\n",
       "For fixing the current session:\n",
       "\n",
       "    $ httpie cli sessions upgrade 127.0.0.1 /private/var/folders/wz/1s6cf6yx1w768h9dr46pvs8h0000gn/T/pytest-of-darkrsw/pytest-16/test_old_session_header_layout0/session.json\n",
       "\n",
       "See $INSERT_LINK for more information.\n",
       "\n",
       "\n"
      ]
     },
     "metadata": {},
     "output_type": "display_data"
    },
    {
     "name": "stdout",
     "output_type": "stream",
     "text": [
      "\u001b[32m.\u001b[0m"
     ]
    },
    {
     "data": {
      "text/html": [
       "<pre style=\"white-space:pre;overflow-x:auto;line-height:normal;font-family:Menlo,'DejaVu Sans Mono',consolas,'Courier New',monospace\"><span style=\"color: #808000; text-decoration-color: #808000\">\n",
       "http: warning: Outdated layout detected for the current session. Please consider updating it,\n",
       "in order to use the latest features regarding the header layout.\n",
       "\n",
       "For fixing the current session:\n",
       "\n",
       "    $ httpie cli sessions upgrade this-should.never-resolve test\n",
       "\n",
       "For fixing all named sessions:\n",
       "\n",
       "    $ httpie cli sessions upgrade-all\n",
       "\n",
       "See $INSERT_LINK for more information.\n",
       "\n",
       "\n",
       "</span></pre>\n"
      ],
      "text/plain": [
       "\n",
       "http: warning: Outdated layout detected for the current session. Please consider updating it,\n",
       "in order to use the latest features regarding the header layout.\n",
       "\n",
       "For fixing the current session:\n",
       "\n",
       "    $ httpie cli sessions upgrade this-should.never-resolve test\n",
       "\n",
       "For fixing all named sessions:\n",
       "\n",
       "    $ httpie cli sessions upgrade-all\n",
       "\n",
       "See $INSERT_LINK for more information.\n",
       "\n",
       "\n"
      ]
     },
     "metadata": {},
     "output_type": "display_data"
    },
    {
     "name": "stdout",
     "output_type": "stream",
     "text": [
      "\u001b[32m.\u001b[0m\u001b[32m.\u001b[0m"
     ]
    },
    {
     "data": {
      "text/html": [
       "<pre style=\"white-space:pre;overflow-x:auto;line-height:normal;font-family:Menlo,'DejaVu Sans Mono',consolas,'Courier New',monospace\"><span style=\"color: #808000; text-decoration-color: #808000\">\n",
       "http: warning: Outdated layout detected for the current session. Please consider updating it,\n",
       "in order to use the latest features regarding the header layout.\n",
       "\n",
       "For fixing the current session:\n",
       "\n",
       "    $ httpie cli sessions upgrade 127.0.0.1 /private/var/folders/wz/1s6cf6yx1w768h9dr46pvs8h0000gn/T/pytest-of-darkrsw/pytest-16/test_session_header_layout_pre2/session.json\n",
       "\n",
       "See $INSERT_LINK for more information.\n",
       "\n",
       "\n",
       "</span></pre>\n"
      ],
      "text/plain": [
       "\n",
       "http: warning: Outdated layout detected for the current session. Please consider updating it,\n",
       "in order to use the latest features regarding the header layout.\n",
       "\n",
       "For fixing the current session:\n",
       "\n",
       "    $ httpie cli sessions upgrade 127.0.0.1 /private/var/folders/wz/1s6cf6yx1w768h9dr46pvs8h0000gn/T/pytest-of-darkrsw/pytest-16/test_session_header_layout_pre2/session.json\n",
       "\n",
       "See $INSERT_LINK for more information.\n",
       "\n",
       "\n"
      ]
     },
     "metadata": {},
     "output_type": "display_data"
    },
    {
     "data": {
      "text/html": [
       "<pre style=\"white-space:pre;overflow-x:auto;line-height:normal;font-family:Menlo,'DejaVu Sans Mono',consolas,'Courier New',monospace\"><span style=\"color: #808000; text-decoration-color: #808000\">\n",
       "http: warning: Outdated layout detected for the current session. Please consider updating it,\n",
       "in order to use the latest features regarding the header layout.\n",
       "\n",
       "For fixing the current session:\n",
       "\n",
       "    $ httpie cli sessions upgrade this-should.never-resolve test\n",
       "\n",
       "For fixing all named sessions:\n",
       "\n",
       "    $ httpie cli sessions upgrade-all\n",
       "\n",
       "See $INSERT_LINK for more information.\n",
       "\n",
       "\n",
       "</span></pre>\n"
      ],
      "text/plain": [
       "\n",
       "http: warning: Outdated layout detected for the current session. Please consider updating it,\n",
       "in order to use the latest features regarding the header layout.\n",
       "\n",
       "For fixing the current session:\n",
       "\n",
       "    $ httpie cli sessions upgrade this-should.never-resolve test\n",
       "\n",
       "For fixing all named sessions:\n",
       "\n",
       "    $ httpie cli sessions upgrade-all\n",
       "\n",
       "See $INSERT_LINK for more information.\n",
       "\n",
       "\n"
      ]
     },
     "metadata": {},
     "output_type": "display_data"
    },
    {
     "name": "stdout",
     "output_type": "stream",
     "text": [
      "\u001b[32m.\u001b[0m\u001b[32m.\u001b[0m\u001b[32m.\u001b[0m\u001b[32m.\u001b[0m\u001b[32m.\u001b[0m\u001b[32m.\u001b[0m"
     ]
    },
    {
     "data": {
      "text/html": [
       "<pre style=\"white-space:pre;overflow-x:auto;line-height:normal;font-family:Menlo,'DejaVu Sans Mono',consolas,'Courier New',monospace\"><span style=\"color: #800000; text-decoration-color: #800000\">\n",
       "http: error: SSLError: HTTPSConnectionPool(host='127.0.0.1', port=56709): Max retries exceeded with url: /get (Caused by SSLError(SSLError(1, '[SSL: NO_PROTOCOLS_AVAILABLE] no protocols available (_ssl.c:1006)'))) while doing a GET request to URL: https://127.0.0.1:56709/get\n",
       "\n",
       "\n",
       "</span></pre>\n"
      ],
      "text/plain": [
       "\n",
       "http: error: SSLError: HTTPSConnectionPool(host='127.0.0.1', port=56709): Max retries exceeded with url: /get (Caused by SSLError(SSLError(1, '[SSL: NO_PROTOCOLS_AVAILABLE] no protocols available (_ssl.c:1006)'))) while doing a GET request to URL: https://127.0.0.1:56709/get\n",
       "\n",
       "\n"
      ]
     },
     "metadata": {},
     "output_type": "display_data"
    },
    {
     "name": "stdout",
     "output_type": "stream",
     "text": [
      "\u001b[32m.\u001b[0m"
     ]
    },
    {
     "data": {
      "text/html": [
       "<pre style=\"white-space:pre;overflow-x:auto;line-height:normal;font-family:Menlo,'DejaVu Sans Mono',consolas,'Courier New',monospace\"><span style=\"color: #800000; text-decoration-color: #800000\">\n",
       "http: error: SSLError: HTTPSConnectionPool(host='127.0.0.1', port=56709): Max retries exceeded with url: /get (Caused by SSLError(SSLError(1, '[SSL: NO_PROTOCOLS_AVAILABLE] no protocols available (_ssl.c:1006)'))) while doing a GET request to URL: https://127.0.0.1:56709/get\n",
       "\n",
       "\n",
       "</span></pre>\n"
      ],
      "text/plain": [
       "\n",
       "http: error: SSLError: HTTPSConnectionPool(host='127.0.0.1', port=56709): Max retries exceeded with url: /get (Caused by SSLError(SSLError(1, '[SSL: NO_PROTOCOLS_AVAILABLE] no protocols available (_ssl.c:1006)'))) while doing a GET request to URL: https://127.0.0.1:56709/get\n",
       "\n",
       "\n"
      ]
     },
     "metadata": {},
     "output_type": "display_data"
    },
    {
     "name": "stdout",
     "output_type": "stream",
     "text": [
      "\u001b[32m.\u001b[0m\u001b[32m.\u001b[0m\u001b[32m.\u001b[0m\u001b[32m.\u001b[0m"
     ]
    },
    {
     "data": {
      "text/html": [
       "<pre style=\"white-space:pre;overflow-x:auto;line-height:normal;font-family:Menlo,'DejaVu Sans Mono',consolas,'Courier New',monospace\"><span style=\"font-weight: bold\">usage:</span>\n",
       "<span style=\"font-weight: bold\">    http </span><span style=\"color: #800000; text-decoration-color: #800000; font-weight: bold\">--cert</span><span style=\"font-weight: bold\"> </span><span style=\"color: #808080; text-decoration-color: #808080; font-weight: bold\">[METHOD]</span><span style=\"font-weight: bold\"> </span><span style=\"color: #c0c0c0; text-decoration-color: #c0c0c0; font-weight: bold\">URL</span><span style=\"font-weight: bold\"> </span><span style=\"color: #808080; text-decoration-color: #808080; font-weight: bold\">[REQUEST_ITEM ...]</span>\n",
       "</pre>\n"
      ],
      "text/plain": [
       "\u001b[1musage:\u001b[0m\n",
       "\u001b[1m    \u001b[0m\u001b[1mhttp \u001b[0m\u001b[1m--cert\u001b[0m\u001b[1m \u001b[0m\u001b[1m[METHOD]\u001b[0m\u001b[1m \u001b[0m\u001b[1mURL\u001b[0m\u001b[1m \u001b[0m\u001b[1m[REQUEST_ITEM ...]\u001b[0m\n"
      ]
     },
     "metadata": {},
     "output_type": "display_data"
    },
    {
     "data": {
      "text/html": [
       "<pre style=\"white-space:pre;overflow-x:auto;line-height:normal;font-family:Menlo,'DejaVu Sans Mono',consolas,'Courier New',monospace\">\n",
       "<span style=\"font-weight: bold\">error</span>:\n",
       "    argument --cert: <span style=\"color: #800080; text-decoration-color: #800080\">/</span><span style=\"color: #ff00ff; text-decoration-color: #ff00ff\">__not_found__</span>: No such file or directory\n",
       "\n",
       "<span style=\"font-weight: bold\">for more information</span>:\n",
       "    run <span style=\"color: #008000; text-decoration-color: #008000\">'http --help'</span> or visit <span style=\"color: #0000ff; text-decoration-color: #0000ff; text-decoration: underline\">https://httpie.io/docs/cli</span>\n",
       "</pre>\n"
      ],
      "text/plain": [
       "\n",
       "\u001b[1merror\u001b[0m:\n",
       "    argument --cert: /__not_found__: No such file or directory\n",
       "\n",
       "\u001b[1mfor more information\u001b[0m:\n",
       "    run 'http --help' or visit \u001b[4mhttps://httpie.io/docs/cli\u001b[0m\n"
      ]
     },
     "metadata": {},
     "output_type": "display_data"
    },
    {
     "name": "stdout",
     "output_type": "stream",
     "text": [
      "\u001b[31mF\u001b[0m"
     ]
    },
    {
     "data": {
      "text/html": [
       "<pre style=\"white-space:pre;overflow-x:auto;line-height:normal;font-family:Menlo,'DejaVu Sans Mono',consolas,'Courier New',monospace\"><span style=\"color: #800000; text-decoration-color: #800000\">\n",
       "http: error: SSLError: HTTPSConnectionPool(host='127.0.0.1', port=56709): Max retries exceeded with url: /get (Caused by SSLError(SSLError(524297, '[SSL] PEM lib (_ssl.c:3905)'))) while doing a GET request to URL: https://127.0.0.1:56709/get\n",
       "\n",
       "\n",
       "</span></pre>\n"
      ],
      "text/plain": [
       "\n",
       "http: error: SSLError: HTTPSConnectionPool(host='127.0.0.1', port=56709): Max retries exceeded with url: /get (Caused by SSLError(SSLError(524297, '[SSL] PEM lib (_ssl.c:3905)'))) while doing a GET request to URL: https://127.0.0.1:56709/get\n",
       "\n",
       "\n"
      ]
     },
     "metadata": {},
     "output_type": "display_data"
    },
    {
     "name": "stdout",
     "output_type": "stream",
     "text": [
      "\u001b[32m.\u001b[0m"
     ]
    },
    {
     "data": {
      "text/html": [
       "<pre style=\"white-space:pre;overflow-x:auto;line-height:normal;font-family:Menlo,'DejaVu Sans Mono',consolas,'Courier New',monospace\"><span style=\"color: #800000; text-decoration-color: #800000\">\n",
       "http: error: SSLError: HTTPSConnectionPool(host='127.0.0.1', port=56709): Max retries exceeded with url: /get (Caused by SSLError(SSLError(524297, '[SSL] PEM lib (_ssl.c:3926)'))) while doing a GET request to URL: https://127.0.0.1:56709/get\n",
       "\n",
       "\n",
       "</span></pre>\n"
      ],
      "text/plain": [
       "\n",
       "http: error: SSLError: HTTPSConnectionPool(host='127.0.0.1', port=56709): Max retries exceeded with url: /get (Caused by SSLError(SSLError(524297, '[SSL] PEM lib (_ssl.c:3926)'))) while doing a GET request to URL: https://127.0.0.1:56709/get\n",
       "\n",
       "\n"
      ]
     },
     "metadata": {},
     "output_type": "display_data"
    },
    {
     "name": "stdout",
     "output_type": "stream",
     "text": [
      "\u001b[32m.\u001b[0m\u001b[32m.\u001b[0m\u001b[32m.\u001b[0m\u001b[32m.\u001b[0m\u001b[32m.\u001b[0m"
     ]
    },
    {
     "data": {
      "text/html": [
       "<pre style=\"white-space:pre;overflow-x:auto;line-height:normal;font-family:Menlo,'DejaVu Sans Mono',consolas,'Courier New',monospace\"><span style=\"color: #800000; text-decoration-color: #800000\">\n",
       "http: error: SSLError: HTTPSConnectionPool(host='127.0.0.1', port=56709): Max retries exceeded with url: /get (Caused by SSLError(SSLCertVerificationError(1, '[SSL: CERTIFICATE_VERIFY_FAILED] certificate verify failed: unable to get local issuer certificate (_ssl.c:1006)'))) while doing a GET request to URL: https://127.0.0.1:56709/get\n",
       "\n",
       "\n",
       "</span></pre>\n"
      ],
      "text/plain": [
       "\n",
       "http: error: SSLError: HTTPSConnectionPool(host='127.0.0.1', port=56709): Max retries exceeded with url: /get (Caused by SSLError(SSLCertVerificationError(1, '[SSL: CERTIFICATE_VERIFY_FAILED] certificate verify failed: unable to get local issuer certificate (_ssl.c:1006)'))) while doing a GET request to URL: https://127.0.0.1:56709/get\n",
       "\n",
       "\n"
      ]
     },
     "metadata": {},
     "output_type": "display_data"
    },
    {
     "name": "stdout",
     "output_type": "stream",
     "text": [
      "\u001b[32m.\u001b[0m"
     ]
    },
    {
     "data": {
      "text/html": [
       "<pre style=\"white-space:pre;overflow-x:auto;line-height:normal;font-family:Menlo,'DejaVu Sans Mono',consolas,'Courier New',monospace\"><span style=\"color: #800000; text-decoration-color: #800000\">\n",
       "http: error: OSError: Could not find a suitable TLS CA certificate bundle, invalid path: /__not_found__\n",
       "\n",
       "\n",
       "</span></pre>\n"
      ],
      "text/plain": [
       "\n",
       "http: error: OSError: Could not find a suitable TLS CA certificate bundle, invalid path: /__not_found__\n",
       "\n",
       "\n"
      ]
     },
     "metadata": {},
     "output_type": "display_data"
    },
    {
     "name": "stdout",
     "output_type": "stream",
     "text": [
      "\u001b[32m.\u001b[0m"
     ]
    },
    {
     "data": {
      "text/html": [
       "<pre style=\"white-space:pre;overflow-x:auto;line-height:normal;font-family:Menlo,'DejaVu Sans Mono',consolas,'Courier New',monospace\"><span style=\"color: #800000; text-decoration-color: #800000\">\n",
       "http: error: SSLError: HTTPSConnectionPool(host='127.0.0.1', port=56709): Max retries exceeded with url: /get (Caused by SSLError(SSLError(136, '[X509: NO_CERTIFICATE_OR_CRL_FOUND] no certificate or crl found (_ssl.c:4154)'))) while doing a GET request to URL: https://127.0.0.1:56709/get\n",
       "\n",
       "\n",
       "</span></pre>\n"
      ],
      "text/plain": [
       "\n",
       "http: error: SSLError: HTTPSConnectionPool(host='127.0.0.1', port=56709): Max retries exceeded with url: /get (Caused by SSLError(SSLError(136, '[X509: NO_CERTIFICATE_OR_CRL_FOUND] no certificate or crl found (_ssl.c:4154)'))) while doing a GET request to URL: https://127.0.0.1:56709/get\n",
       "\n",
       "\n"
      ]
     },
     "metadata": {},
     "output_type": "display_data"
    },
    {
     "name": "stdout",
     "output_type": "stream",
     "text": [
      "\u001b[32m.\u001b[0mpytest-httpbin server hit an exception serving request: [SSL: UNEXPECTED_EOF_WHILE_READING] EOF occurred in violation of protocol (_ssl.c:1006)\n",
      "attempting to ignore so the rest of the tests can run\n",
      "\u001b[32m.\u001b[0m"
     ]
    },
    {
     "data": {
      "text/html": [
       "<pre style=\"white-space:pre;overflow-x:auto;line-height:normal;font-family:Menlo,'DejaVu Sans Mono',consolas,'Courier New',monospace\"><span style=\"color: #800000; text-decoration-color: #800000\">\n",
       "http: error: SSLError: ('No cipher can be selected.',)\n",
       "\n",
       "\n",
       "</span></pre>\n"
      ],
      "text/plain": [
       "\n",
       "http: error: SSLError: ('No cipher can be selected.',)\n",
       "\n",
       "\n"
      ]
     },
     "metadata": {},
     "output_type": "display_data"
    },
    {
     "name": "stdout",
     "output_type": "stream",
     "text": [
      "\u001b[31mF\u001b[0m\u001b[32m.\u001b[0m\u001b[32m.\u001b[0m"
     ]
    },
    {
     "data": {
      "text/html": [
       "<pre style=\"white-space:pre;overflow-x:auto;line-height:normal;font-family:Menlo,'DejaVu Sans Mono',consolas,'Courier New',monospace\"><span style=\"color: #800000; text-decoration-color: #800000\">\n",
       "http: error: SSLError: HTTPSConnectionPool(host='127.0.0.1', port=56709): Max retries exceeded with url: /get (Caused by SSLError(SSLError(524297, '[SSL] PEM lib (_ssl.c:3926)'))) while doing a GET request to URL: https://127.0.0.1:56709/get\n",
       "\n",
       "\n",
       "</span></pre>\n"
      ],
      "text/plain": [
       "\n",
       "http: error: SSLError: HTTPSConnectionPool(host='127.0.0.1', port=56709): Max retries exceeded with url: /get (Caused by SSLError(SSLError(524297, '[SSL] PEM lib (_ssl.c:3926)'))) while doing a GET request to URL: https://127.0.0.1:56709/get\n",
       "\n",
       "\n"
      ]
     },
     "metadata": {},
     "output_type": "display_data"
    },
    {
     "name": "stdout",
     "output_type": "stream",
     "text": [
      "\u001b[32m.\u001b[0m\u001b[32m.\u001b[0m"
     ]
    },
    {
     "data": {
      "text/html": [
       "<pre style=\"white-space:pre;overflow-x:auto;line-height:normal;font-family:Menlo,'DejaVu Sans Mono',consolas,'Courier New',monospace\"><span style=\"color: #800000; text-decoration-color: #800000\">\n",
       "http: error: SSLError: HTTPSConnectionPool(host='127.0.0.1', port=56709): Max retries exceeded with url: /get (Caused by SSLError(SSLError(524297, '[SSL] PEM lib (_ssl.c:3926)'))) while doing a GET request to URL: https://127.0.0.1:56709/get\n",
       "\n",
       "\n",
       "</span></pre>\n"
      ],
      "text/plain": [
       "\n",
       "http: error: SSLError: HTTPSConnectionPool(host='127.0.0.1', port=56709): Max retries exceeded with url: /get (Caused by SSLError(SSLError(524297, '[SSL] PEM lib (_ssl.c:3926)'))) while doing a GET request to URL: https://127.0.0.1:56709/get\n",
       "\n",
       "\n"
      ]
     },
     "metadata": {},
     "output_type": "display_data"
    },
    {
     "name": "stdout",
     "output_type": "stream",
     "text": [
      "\u001b[32m.\u001b[0m\u001b[32m.\u001b[0m\u001b[32m.\u001b[0m\u001b[32m.\u001b[0m\u001b[32m.\u001b[0m\u001b[32m.\u001b[0m\u001b[32m.\u001b[0m\u001b[32m.\u001b[0m\u001b[32m.\u001b[0m\u001b[32m.\u001b[0m\u001b[32m.\u001b[0m\u001b[32m.\u001b[0m\u001b[32m.\u001b[0m\u001b[32m.\u001b[0m\u001b[32m.\u001b[0m\u001b[32m.\u001b[0m\u001b[32m.\u001b[0m\u001b[32m.\u001b[0m\u001b[32m.\u001b[0m\u001b[32m.\u001b[0m\u001b[32m.\u001b[0m\u001b[32m.\u001b[0m\u001b[32m.\u001b[0m\u001b[31m [ 91%]\n",
      "\u001b[0m\u001b[32m.\u001b[0m\u001b[32m.\u001b[0m\u001b[32m.\u001b[0m\u001b[32m.\u001b[0m\u001b[32m.\u001b[0m\u001b[32m.\u001b[0m\u001b[32m.\u001b[0m\u001b[32m.\u001b[0m\u001b[32m.\u001b[0m\u001b[32m.\u001b[0m\u001b[32m.\u001b[0m\u001b[32m.\u001b[0m\u001b[32m.\u001b[0m\u001b[32m.\u001b[0m\u001b[32m.\u001b[0m\u001b[32m.\u001b[0m\u001b[32m.\u001b[0m\u001b[32m.\u001b[0m\u001b[32m.\u001b[0m\u001b[32m.\u001b[0m\u001b[32m.\u001b[0m"
     ]
    },
    {
     "data": {
      "text/html": [
       "<pre style=\"white-space:pre;overflow-x:auto;line-height:normal;font-family:Menlo,'DejaVu Sans Mono',consolas,'Courier New',monospace\"><span style=\"color: #ff00ff; text-decoration-color: #ff00ff\">\n",
       "http: info: A new HTTPie release (999.999.999) is available.\n",
       "To see how you can update, please visit https://httpie.io/docs/cli/test\n",
       "\n",
       "\n",
       "\n",
       "</span></pre>\n"
      ],
      "text/plain": [
       "\n",
       "http: info: A new HTTPie release (999.999.999) is available.\n",
       "To see how you can update, please visit https://httpie.io/docs/cli/test\n",
       "\n",
       "\n",
       "\n"
      ]
     },
     "metadata": {},
     "output_type": "display_data"
    },
    {
     "name": "stdout",
     "output_type": "stream",
     "text": [
      "\u001b[31mF\u001b[0m\u001b[32m.\u001b[0m\u001b[32m.\u001b[0m\u001b[32m.\u001b[0m\u001b[32m.\u001b[0m\u001b[32m.\u001b[0m\u001b[32m.\u001b[0m\u001b[32m.\u001b[0m\u001b[32m.\u001b[0m\u001b[32m.\u001b[0m\u001b[32m.\u001b[0m\u001b[32m.\u001b[0m\u001b[32m.\u001b[0m\u001b[32m.\u001b[0m\u001b[32m.\u001b[0m\u001b[32m.\u001b[0m\u001b[32m.\u001b[0m\u001b[32m.\u001b[0m\u001b[32m.\u001b[0m\u001b[32m.\u001b[0m\u001b[32m.\u001b[0m\u001b[32m.\u001b[0m\u001b[32m.\u001b[0m\u001b[32m.\u001b[0m\u001b[32m.\u001b[0m\u001b[32m.\u001b[0m\u001b[32m.\u001b[0m\u001b[32m.\u001b[0m\u001b[32m.\u001b[0m"
     ]
    },
    {
     "data": {
      "text/html": [
       "<pre style=\"white-space:pre;overflow-x:auto;line-height:normal;font-family:Menlo,'DejaVu Sans Mono',consolas,'Courier New',monospace\"><span style=\"font-weight: bold\">usage:</span>\n",
       "<span style=\"font-weight: bold\">    http </span><span style=\"color: #808080; text-decoration-color: #808080; font-weight: bold\">[METHOD]</span><span style=\"font-weight: bold\"> </span><span style=\"color: #c0c0c0; text-decoration-color: #c0c0c0; font-weight: bold\">URL</span><span style=\"font-weight: bold\"> </span><span style=\"color: #808080; text-decoration-color: #808080; font-weight: bold\">[REQUEST_ITEM ...]</span>\n",
       "</pre>\n"
      ],
      "text/plain": [
       "\u001b[1musage:\u001b[0m\n",
       "\u001b[1m    \u001b[0m\u001b[1mhttp \u001b[0m\u001b[1m[METHOD]\u001b[0m\u001b[1m \u001b[0m\u001b[1mURL\u001b[0m\u001b[1m \u001b[0m\u001b[1m[REQUEST_ITEM ...]\u001b[0m\n"
      ]
     },
     "metadata": {},
     "output_type": "display_data"
    },
    {
     "data": {
      "text/html": [
       "<pre style=\"white-space:pre;overflow-x:auto;line-height:normal;font-family:Menlo,'DejaVu Sans Mono',consolas,'Courier New',monospace\">\n",
       "<span style=\"font-weight: bold\">error</span>:\n",
       "    Invalid file fields <span style=\"font-weight: bold\">(</span>perhaps you meant --form?<span style=\"font-weight: bold\">)</span>: field-name\n",
       "\n",
       "<span style=\"font-weight: bold\">for more information</span>:\n",
       "    run <span style=\"color: #008000; text-decoration-color: #008000\">'http --help'</span> or visit <span style=\"color: #0000ff; text-decoration-color: #0000ff; text-decoration: underline\">https://httpie.io/docs/cli</span>\n",
       "</pre>\n"
      ],
      "text/plain": [
       "\n",
       "\u001b[1merror\u001b[0m:\n",
       "    Invalid file fields \u001b[1m(\u001b[0mperhaps you meant --form?\u001b[1m)\u001b[0m: field-name\n",
       "\n",
       "\u001b[1mfor more information\u001b[0m:\n",
       "    run 'http --help' or visit \u001b[4mhttps://httpie.io/docs/cli\u001b[0m\n"
      ]
     },
     "metadata": {},
     "output_type": "display_data"
    },
    {
     "name": "stdout",
     "output_type": "stream",
     "text": [
      "\u001b[31mF\u001b[0m"
     ]
    },
    {
     "data": {
      "text/html": [
       "<pre style=\"white-space:pre;overflow-x:auto;line-height:normal;font-family:Menlo,'DejaVu Sans Mono',consolas,'Courier New',monospace\"><span style=\"font-weight: bold\">usage:</span>\n",
       "<span style=\"font-weight: bold\">    http </span><span style=\"color: #808080; text-decoration-color: #808080; font-weight: bold\">[METHOD]</span><span style=\"font-weight: bold\"> </span><span style=\"color: #c0c0c0; text-decoration-color: #c0c0c0; font-weight: bold\">URL</span><span style=\"font-weight: bold\"> </span><span style=\"color: #808080; text-decoration-color: #808080; font-weight: bold\">[REQUEST_ITEM ...]</span>\n",
       "</pre>\n"
      ],
      "text/plain": [
       "\u001b[1musage:\u001b[0m\n",
       "\u001b[1m    \u001b[0m\u001b[1mhttp \u001b[0m\u001b[1m[METHOD]\u001b[0m\u001b[1m \u001b[0m\u001b[1mURL\u001b[0m\u001b[1m \u001b[0m\u001b[1m[REQUEST_ITEM ...]\u001b[0m\n"
      ]
     },
     "metadata": {},
     "output_type": "display_data"
    },
    {
     "data": {
      "text/html": [
       "<pre style=\"white-space:pre;overflow-x:auto;line-height:normal;font-family:Menlo,'DejaVu Sans Mono',consolas,'Courier New',monospace\">\n",
       "<span style=\"font-weight: bold\">error</span>:\n",
       "    Request body <span style=\"font-weight: bold\">(</span>from stdin, --raw or a file<span style=\"font-weight: bold\">)</span> and request data <span style=\"font-weight: bold\">(</span><span style=\"color: #808000; text-decoration-color: #808000\">key</span>=<span style=\"color: #800080; text-decoration-color: #800080\">value</span><span style=\"font-weight: bold\">)</span> cannot be mixed. Pass --ignore-stdin to\n",
       "let key/value take priority. See <span style=\"color: #0000ff; text-decoration-color: #0000ff; text-decoration: underline\">https://httpie.io/docs#scripting</span> for details.\n",
       "\n",
       "<span style=\"font-weight: bold\">for more information</span>:\n",
       "    run <span style=\"color: #008000; text-decoration-color: #008000\">'http --help'</span> or visit <span style=\"color: #0000ff; text-decoration-color: #0000ff; text-decoration: underline\">https://httpie.io/docs/cli</span>\n",
       "</pre>\n"
      ],
      "text/plain": [
       "\n",
       "\u001b[1merror\u001b[0m:\n",
       "    Request body \u001b[1m(\u001b[0mfrom stdin, --raw or a file\u001b[1m)\u001b[0m and request data \u001b[1m(\u001b[0mkey=value\u001b[1m)\u001b[0m cannot be mixed. Pass --ignore-stdin to\n",
       "let key/value take priority. See \u001b[4mhttps://httpie.io/docs#scripting\u001b[0m for details.\n",
       "\n",
       "\u001b[1mfor more information\u001b[0m:\n",
       "    run 'http --help' or visit \u001b[4mhttps://httpie.io/docs/cli\u001b[0m\n"
      ]
     },
     "metadata": {},
     "output_type": "display_data"
    },
    {
     "name": "stdout",
     "output_type": "stream",
     "text": [
      "\u001b[31mF\u001b[0m"
     ]
    },
    {
     "data": {
      "text/html": [
       "<pre style=\"white-space:pre;overflow-x:auto;line-height:normal;font-family:Menlo,'DejaVu Sans Mono',consolas,'Courier New',monospace\"><span style=\"font-weight: bold\">usage:</span>\n",
       "<span style=\"font-weight: bold\">    http </span><span style=\"color: #808080; text-decoration-color: #808080; font-weight: bold\">[METHOD]</span><span style=\"font-weight: bold\"> </span><span style=\"color: #c0c0c0; text-decoration-color: #c0c0c0; font-weight: bold\">URL</span><span style=\"font-weight: bold\"> </span><span style=\"color: #808080; text-decoration-color: #808080; font-weight: bold\">[REQUEST_ITEM ...]</span>\n",
       "</pre>\n"
      ],
      "text/plain": [
       "\u001b[1musage:\u001b[0m\n",
       "\u001b[1m    \u001b[0m\u001b[1mhttp \u001b[0m\u001b[1m[METHOD]\u001b[0m\u001b[1m \u001b[0m\u001b[1mURL\u001b[0m\u001b[1m \u001b[0m\u001b[1m[REQUEST_ITEM ...]\u001b[0m\n"
      ]
     },
     "metadata": {},
     "output_type": "display_data"
    },
    {
     "data": {
      "text/html": [
       "<pre style=\"white-space:pre;overflow-x:auto;line-height:normal;font-family:Menlo,'DejaVu Sans Mono',consolas,'Courier New',monospace\">\n",
       "<span style=\"font-weight: bold\">error</span>:\n",
       "    Can't read request from multiple files\n",
       "\n",
       "<span style=\"font-weight: bold\">for more information</span>:\n",
       "    run <span style=\"color: #008000; text-decoration-color: #008000\">'http --help'</span> or visit <span style=\"color: #0000ff; text-decoration-color: #0000ff; text-decoration: underline\">https://httpie.io/docs/cli</span>\n",
       "</pre>\n"
      ],
      "text/plain": [
       "\n",
       "\u001b[1merror\u001b[0m:\n",
       "    Can't read request from multiple files\n",
       "\n",
       "\u001b[1mfor more information\u001b[0m:\n",
       "    run 'http --help' or visit \u001b[4mhttps://httpie.io/docs/cli\u001b[0m\n"
      ]
     },
     "metadata": {},
     "output_type": "display_data"
    },
    {
     "name": "stdout",
     "output_type": "stream",
     "text": [
      "\u001b[31mF\u001b[0m\u001b[33ms\u001b[0m"
     ]
    },
    {
     "data": {
      "text/html": [
       "<pre style=\"white-space:pre;overflow-x:auto;line-height:normal;font-family:Menlo,'DejaVu Sans Mono',consolas,'Courier New',monospace\"><span style=\"font-weight: bold\">usage:</span>\n",
       "<span style=\"font-weight: bold\">    http </span><span style=\"color: #808080; text-decoration-color: #808080; font-weight: bold\">[METHOD]</span><span style=\"font-weight: bold\"> </span><span style=\"color: #c0c0c0; text-decoration-color: #c0c0c0; font-weight: bold\">URL</span><span style=\"font-weight: bold\"> </span><span style=\"color: #808080; text-decoration-color: #808080; font-weight: bold\">[REQUEST_ITEM ...]</span>\n",
       "</pre>\n"
      ],
      "text/plain": [
       "\u001b[1musage:\u001b[0m\n",
       "\u001b[1m    \u001b[0m\u001b[1mhttp \u001b[0m\u001b[1m[METHOD]\u001b[0m\u001b[1m \u001b[0m\u001b[1mURL\u001b[0m\u001b[1m \u001b[0m\u001b[1m[REQUEST_ITEM ...]\u001b[0m\n"
      ]
     },
     "metadata": {},
     "output_type": "display_data"
    },
    {
     "data": {
      "text/html": [
       "<pre style=\"white-space:pre;overflow-x:auto;line-height:normal;font-family:Menlo,'DejaVu Sans Mono',consolas,'Courier New',monospace\">\n",
       "<span style=\"font-weight: bold\">error</span>:\n",
       "    Only terminal output can be colorized on Windows.\n",
       "\n",
       "<span style=\"font-weight: bold\">for more information</span>:\n",
       "    run <span style=\"color: #008000; text-decoration-color: #008000\">'http --help'</span> or visit <span style=\"color: #0000ff; text-decoration-color: #0000ff; text-decoration: underline\">https://httpie.io/docs/cli</span>\n",
       "</pre>\n"
      ],
      "text/plain": [
       "\n",
       "\u001b[1merror\u001b[0m:\n",
       "    Only terminal output can be colorized on Windows.\n",
       "\n",
       "\u001b[1mfor more information\u001b[0m:\n",
       "    run 'http --help' or visit \u001b[4mhttps://httpie.io/docs/cli\u001b[0m\n"
      ]
     },
     "metadata": {},
     "output_type": "display_data"
    },
    {
     "name": "stdout",
     "output_type": "stream",
     "text": [
      "\u001b[31mF\u001b[0m\u001b[32m.\u001b[0m\u001b[32m.\u001b[0m\u001b[32m.\u001b[0m\u001b[32m.\u001b[0m\u001b[32m.\u001b[0m\u001b[32m.\u001b[0m\u001b[32m.\u001b[0m\u001b[32m.\u001b[0m\u001b[32m.\u001b[0m\u001b[32m.\u001b[0m\u001b[32m.\u001b[0m\u001b[32m.\u001b[0m\u001b[32m.\u001b[0m\u001b[32m.\u001b[0m\u001b[32m.\u001b[0m\u001b[32m.\u001b[0m\u001b[32m.\u001b[0m\u001b[31m [ 98%]\n",
      "\u001b[0m\u001b[32m.\u001b[0m\u001b[32m.\u001b[0m\u001b[32m.\u001b[0m\u001b[32m.\u001b[0m\u001b[32m.\u001b[0m\u001b[32m.\u001b[0m\u001b[32m.\u001b[0m\u001b[32m.\u001b[0m\u001b[32m.\u001b[0m\u001b[32m.\u001b[0m\u001b[32m.\u001b[0m\u001b[32m.\u001b[0m\u001b[32m.\u001b[0m\u001b[32m.\u001b[0m\u001b[32m.\u001b[0m\u001b[32m.\u001b[0m\u001b[32m.\u001b[0m\u001b[32m.\u001b[0m\u001b[32m.\u001b[0m\u001b[32m.\u001b[0m\u001b[31m                                                     [100%]\u001b[0m\n",
      "=================================== FAILURES ===================================\n",
      "\u001b[31m\u001b[1m___________________ TestDownloads.test_actual_download[http] ___________________\u001b[0m\n",
      "\n",
      "self = <tests.test_downloads.TestDownloads object at 0x11855e9d0>\n",
      "httpbin_both = <pytest_httpbin.serve.Server object at 0x118afee90>\n",
      "httpbin = <pytest_httpbin.serve.Server object at 0x118afee90>\n",
      "\n",
      "    \u001b[94mdef\u001b[39;49;00m \u001b[92mtest_actual_download\u001b[39;49;00m(\u001b[96mself\u001b[39;49;00m, httpbin_both, httpbin):\u001b[90m\u001b[39;49;00m\n",
      "        robots_txt = \u001b[33m'\u001b[39;49;00m\u001b[33m/robots.txt\u001b[39;49;00m\u001b[33m'\u001b[39;49;00m\u001b[90m\u001b[39;49;00m\n",
      "        body = urlopen(httpbin + robots_txt).read().decode()\u001b[90m\u001b[39;49;00m\n",
      "        env = MockEnvironment(stdin_isatty=\u001b[94mTrue\u001b[39;49;00m, stdout_isatty=\u001b[94mFalse\u001b[39;49;00m, show_displays=\u001b[94mTrue\u001b[39;49;00m)\u001b[90m\u001b[39;49;00m\n",
      "        r = http(\u001b[33m'\u001b[39;49;00m\u001b[33m--download\u001b[39;49;00m\u001b[33m'\u001b[39;49;00m, httpbin_both.url + robots_txt, env=env)\u001b[90m\u001b[39;49;00m\n",
      ">       \u001b[94massert\u001b[39;49;00m \u001b[33m'\u001b[39;49;00m\u001b[33mDownloading\u001b[39;49;00m\u001b[33m'\u001b[39;49;00m \u001b[95min\u001b[39;49;00m r.stderr\u001b[90m\u001b[39;49;00m\n",
      "\u001b[1m\u001b[31mE       AssertionError: assert 'Downloading' in ''\u001b[0m\n",
      "\u001b[1m\u001b[31mE        +  where '' = 'User-agent: *\\nDisallow: /deny\\n'.stderr\u001b[0m\n",
      "\n",
      "\u001b[1m\u001b[31mcli/tests/test_downloads.py\u001b[0m:130: AssertionError\n",
      "----------------------------- Captured stderr call -----------------------------\n",
      "127.0.0.1 - - [12/Dec/2023 12:30:31] \"GET /robots.txt HTTP/1.1\" 200 30\n",
      "127.0.0.1 - - [12/Dec/2023 12:30:31] \"GET /robots.txt HTTP/1.1\" 200 30\n",
      "\u001b[31m\u001b[1m_____________ test_response_charset_option_unknown_encoding[http] ______________\u001b[0m\n",
      "\n",
      "httpbin_both = <pytest_httpbin.serve.Server object at 0x118afee90>\n",
      "\n",
      "    \u001b[94mdef\u001b[39;49;00m \u001b[92mtest_response_charset_option_unknown_encoding\u001b[39;49;00m(httpbin_both):\u001b[90m\u001b[39;49;00m\n",
      "        r = http(\u001b[90m\u001b[39;49;00m\n",
      "            \u001b[33m'\u001b[39;49;00m\u001b[33m--response-charset=foobar\u001b[39;49;00m\u001b[33m'\u001b[39;49;00m,\u001b[90m\u001b[39;49;00m\n",
      "            httpbin_both + \u001b[33m'\u001b[39;49;00m\u001b[33m/get\u001b[39;49;00m\u001b[33m'\u001b[39;49;00m,\u001b[90m\u001b[39;49;00m\n",
      "            tolerate_error_exit_status=\u001b[94mTrue\u001b[39;49;00m,\u001b[90m\u001b[39;49;00m\n",
      "        )\u001b[90m\u001b[39;49;00m\n",
      ">       \u001b[94massert\u001b[39;49;00m \u001b[33m\"\u001b[39;49;00m\u001b[33m'\u001b[39;49;00m\u001b[33mfoobar\u001b[39;49;00m\u001b[33m'\u001b[39;49;00m\u001b[33m is not a supported encoding\u001b[39;49;00m\u001b[33m\"\u001b[39;49;00m \u001b[95min\u001b[39;49;00m r.stderr\u001b[90m\u001b[39;49;00m\n",
      "\u001b[1m\u001b[31mE       assert \"'foobar' is not a supported encoding\" in '\\n'\u001b[0m\n",
      "\u001b[1m\u001b[31mE        +  where '\\n' = ''.stderr\u001b[0m\n",
      "\n",
      "\u001b[1m\u001b[31mcli/tests/test_errors.py\u001b[0m:67: AssertionError\n",
      "----------------------------- Captured stderr call -----------------------------\n",
      "\n",
      "\u001b[31m\u001b[1m______________ test_response_mime_option_invalid_mime_type[http] _______________\u001b[0m\n",
      "\n",
      "httpbin_both = <pytest_httpbin.serve.Server object at 0x118afee90>\n",
      "\n",
      "    \u001b[94mdef\u001b[39;49;00m \u001b[92mtest_response_mime_option_invalid_mime_type\u001b[39;49;00m(httpbin_both):\u001b[90m\u001b[39;49;00m\n",
      "        r = http(\u001b[90m\u001b[39;49;00m\n",
      "            \u001b[33m'\u001b[39;49;00m\u001b[33m--response-mime=foobar\u001b[39;49;00m\u001b[33m'\u001b[39;49;00m,\u001b[90m\u001b[39;49;00m\n",
      "            httpbin_both + \u001b[33m'\u001b[39;49;00m\u001b[33m/get\u001b[39;49;00m\u001b[33m'\u001b[39;49;00m,\u001b[90m\u001b[39;49;00m\n",
      "            tolerate_error_exit_status=\u001b[94mTrue\u001b[39;49;00m,\u001b[90m\u001b[39;49;00m\n",
      "        )\u001b[90m\u001b[39;49;00m\n",
      ">       \u001b[94massert\u001b[39;49;00m \u001b[33m\"\u001b[39;49;00m\u001b[33m'\u001b[39;49;00m\u001b[33mfoobar\u001b[39;49;00m\u001b[33m'\u001b[39;49;00m\u001b[33m doesn’t look like a mime type\u001b[39;49;00m\u001b[33m\"\u001b[39;49;00m \u001b[95min\u001b[39;49;00m r.stderr\u001b[90m\u001b[39;49;00m\n",
      "\u001b[1m\u001b[31mE       assert \"'foobar' doesn’t look like a mime type\" in '\\n'\u001b[0m\n",
      "\u001b[1m\u001b[31mE        +  where '\\n' = ''.stderr\u001b[0m\n",
      "\n",
      "\u001b[1m\u001b[31mcli/tests/test_errors.py\u001b[0m:76: AssertionError\n",
      "----------------------------- Captured stderr call -----------------------------\n",
      "\n",
      "\u001b[31m\u001b[1m__________________ TestDownloads.test_actual_download[https] ___________________\u001b[0m\n",
      "\n",
      "self = <tests.test_downloads.TestDownloads object at 0x11855ebd0>\n",
      "httpbin_both = <pytest_httpbin.serve.SecureServer object at 0x118afe890>\n",
      "httpbin = <pytest_httpbin.serve.Server object at 0x118afee90>\n",
      "\n",
      "    \u001b[94mdef\u001b[39;49;00m \u001b[92mtest_actual_download\u001b[39;49;00m(\u001b[96mself\u001b[39;49;00m, httpbin_both, httpbin):\u001b[90m\u001b[39;49;00m\n",
      "        robots_txt = \u001b[33m'\u001b[39;49;00m\u001b[33m/robots.txt\u001b[39;49;00m\u001b[33m'\u001b[39;49;00m\u001b[90m\u001b[39;49;00m\n",
      "        body = urlopen(httpbin + robots_txt).read().decode()\u001b[90m\u001b[39;49;00m\n",
      "        env = MockEnvironment(stdin_isatty=\u001b[94mTrue\u001b[39;49;00m, stdout_isatty=\u001b[94mFalse\u001b[39;49;00m, show_displays=\u001b[94mTrue\u001b[39;49;00m)\u001b[90m\u001b[39;49;00m\n",
      "        r = http(\u001b[33m'\u001b[39;49;00m\u001b[33m--download\u001b[39;49;00m\u001b[33m'\u001b[39;49;00m, httpbin_both.url + robots_txt, env=env)\u001b[90m\u001b[39;49;00m\n",
      ">       \u001b[94massert\u001b[39;49;00m \u001b[33m'\u001b[39;49;00m\u001b[33mDownloading\u001b[39;49;00m\u001b[33m'\u001b[39;49;00m \u001b[95min\u001b[39;49;00m r.stderr\u001b[90m\u001b[39;49;00m\n",
      "\u001b[1m\u001b[31mE       AssertionError: assert 'Downloading' in ''\u001b[0m\n",
      "\u001b[1m\u001b[31mE        +  where '' = 'User-agent: *\\nDisallow: /deny\\n'.stderr\u001b[0m\n",
      "\n",
      "\u001b[1m\u001b[31mcli/tests/test_downloads.py\u001b[0m:130: AssertionError\n",
      "----------------------------- Captured stderr call -----------------------------\n",
      "127.0.0.1 - - [12/Dec/2023 12:30:36] \"GET /robots.txt HTTP/1.1\" 200 30\n",
      "127.0.0.1 - - [12/Dec/2023 12:30:36] \"GET /robots.txt HTTP/1.1\" 200 30\n",
      "\u001b[31m\u001b[1m_____________ test_response_charset_option_unknown_encoding[https] _____________\u001b[0m\n",
      "\n",
      "httpbin_both = <pytest_httpbin.serve.SecureServer object at 0x118afe890>\n",
      "\n",
      "    \u001b[94mdef\u001b[39;49;00m \u001b[92mtest_response_charset_option_unknown_encoding\u001b[39;49;00m(httpbin_both):\u001b[90m\u001b[39;49;00m\n",
      "        r = http(\u001b[90m\u001b[39;49;00m\n",
      "            \u001b[33m'\u001b[39;49;00m\u001b[33m--response-charset=foobar\u001b[39;49;00m\u001b[33m'\u001b[39;49;00m,\u001b[90m\u001b[39;49;00m\n",
      "            httpbin_both + \u001b[33m'\u001b[39;49;00m\u001b[33m/get\u001b[39;49;00m\u001b[33m'\u001b[39;49;00m,\u001b[90m\u001b[39;49;00m\n",
      "            tolerate_error_exit_status=\u001b[94mTrue\u001b[39;49;00m,\u001b[90m\u001b[39;49;00m\n",
      "        )\u001b[90m\u001b[39;49;00m\n",
      ">       \u001b[94massert\u001b[39;49;00m \u001b[33m\"\u001b[39;49;00m\u001b[33m'\u001b[39;49;00m\u001b[33mfoobar\u001b[39;49;00m\u001b[33m'\u001b[39;49;00m\u001b[33m is not a supported encoding\u001b[39;49;00m\u001b[33m\"\u001b[39;49;00m \u001b[95min\u001b[39;49;00m r.stderr\u001b[90m\u001b[39;49;00m\n",
      "\u001b[1m\u001b[31mE       assert \"'foobar' is not a supported encoding\" in '\\n'\u001b[0m\n",
      "\u001b[1m\u001b[31mE        +  where '\\n' = ''.stderr\u001b[0m\n",
      "\n",
      "\u001b[1m\u001b[31mcli/tests/test_errors.py\u001b[0m:67: AssertionError\n",
      "----------------------------- Captured stderr call -----------------------------\n",
      "\n",
      "\u001b[31m\u001b[1m______________ test_response_mime_option_invalid_mime_type[https] ______________\u001b[0m\n",
      "\n",
      "httpbin_both = <pytest_httpbin.serve.SecureServer object at 0x118afe890>\n",
      "\n",
      "    \u001b[94mdef\u001b[39;49;00m \u001b[92mtest_response_mime_option_invalid_mime_type\u001b[39;49;00m(httpbin_both):\u001b[90m\u001b[39;49;00m\n",
      "        r = http(\u001b[90m\u001b[39;49;00m\n",
      "            \u001b[33m'\u001b[39;49;00m\u001b[33m--response-mime=foobar\u001b[39;49;00m\u001b[33m'\u001b[39;49;00m,\u001b[90m\u001b[39;49;00m\n",
      "            httpbin_both + \u001b[33m'\u001b[39;49;00m\u001b[33m/get\u001b[39;49;00m\u001b[33m'\u001b[39;49;00m,\u001b[90m\u001b[39;49;00m\n",
      "            tolerate_error_exit_status=\u001b[94mTrue\u001b[39;49;00m,\u001b[90m\u001b[39;49;00m\n",
      "        )\u001b[90m\u001b[39;49;00m\n",
      ">       \u001b[94massert\u001b[39;49;00m \u001b[33m\"\u001b[39;49;00m\u001b[33m'\u001b[39;49;00m\u001b[33mfoobar\u001b[39;49;00m\u001b[33m'\u001b[39;49;00m\u001b[33m doesn’t look like a mime type\u001b[39;49;00m\u001b[33m\"\u001b[39;49;00m \u001b[95min\u001b[39;49;00m r.stderr\u001b[90m\u001b[39;49;00m\n",
      "\u001b[1m\u001b[31mE       assert \"'foobar' doesn’t look like a mime type\" in '\\n'\u001b[0m\n",
      "\u001b[1m\u001b[31mE        +  where '\\n' = ''.stderr\u001b[0m\n",
      "\n",
      "\u001b[1m\u001b[31mcli/tests/test_errors.py\u001b[0m:76: AssertionError\n",
      "----------------------------- Captured stderr call -----------------------------\n",
      "\n",
      "\u001b[31m\u001b[1m______________________________ test_missing_auth _______________________________\u001b[0m\n",
      "\n",
      "httpbin = <pytest_httpbin.serve.Server object at 0x118afee90>\n",
      "\n",
      "    \u001b[94mdef\u001b[39;49;00m \u001b[92mtest_missing_auth\u001b[39;49;00m(httpbin):\u001b[90m\u001b[39;49;00m\n",
      "        r = http(\u001b[90m\u001b[39;49;00m\n",
      "            \u001b[33m'\u001b[39;49;00m\u001b[33m--auth-type=basic\u001b[39;49;00m\u001b[33m'\u001b[39;49;00m,\u001b[90m\u001b[39;49;00m\n",
      "            \u001b[33m'\u001b[39;49;00m\u001b[33mGET\u001b[39;49;00m\u001b[33m'\u001b[39;49;00m,\u001b[90m\u001b[39;49;00m\n",
      "            httpbin + \u001b[33m'\u001b[39;49;00m\u001b[33m/basic-auth/user/password\u001b[39;49;00m\u001b[33m'\u001b[39;49;00m,\u001b[90m\u001b[39;49;00m\n",
      "            tolerate_error_exit_status=\u001b[94mTrue\u001b[39;49;00m\u001b[90m\u001b[39;49;00m\n",
      "        )\u001b[90m\u001b[39;49;00m\n",
      "        \u001b[94massert\u001b[39;49;00m HTTP_OK \u001b[95mnot\u001b[39;49;00m \u001b[95min\u001b[39;49;00m r\u001b[90m\u001b[39;49;00m\n",
      ">       \u001b[94massert\u001b[39;49;00m \u001b[33m'\u001b[39;49;00m\u001b[33m--auth required\u001b[39;49;00m\u001b[33m'\u001b[39;49;00m \u001b[95min\u001b[39;49;00m r.stderr\u001b[90m\u001b[39;49;00m\n",
      "\u001b[1m\u001b[31mE       AssertionError: assert '--auth required' in '\\n'\u001b[0m\n",
      "\u001b[1m\u001b[31mE        +  where '\\n' = ''.stderr\u001b[0m\n",
      "\n",
      "\u001b[1m\u001b[31mcli/tests/test_auth.py\u001b[0m:91: AssertionError\n",
      "----------------------------- Captured stderr call -----------------------------\n",
      "\n",
      "\u001b[31m\u001b[1m__________ test_ignore_netrc_with_auth_type_resulting_in_missing_auth __________\u001b[0m\n",
      "\n",
      "httpbin = <pytest_httpbin.serve.Server object at 0x118afee90>\n",
      "\n",
      "    \u001b[94mdef\u001b[39;49;00m \u001b[92mtest_ignore_netrc_with_auth_type_resulting_in_missing_auth\u001b[39;49;00m(httpbin):\u001b[90m\u001b[39;49;00m\n",
      "        \u001b[94mwith\u001b[39;49;00m mock.patch(\u001b[33m'\u001b[39;49;00m\u001b[33mhttpie.cli.argparser.get_netrc_auth\u001b[39;49;00m\u001b[33m'\u001b[39;49;00m) \u001b[94mas\u001b[39;49;00m get_netrc_auth:\u001b[90m\u001b[39;49;00m\n",
      "            get_netrc_auth.return_value = (\u001b[33m'\u001b[39;49;00m\u001b[33mhttpie\u001b[39;49;00m\u001b[33m'\u001b[39;49;00m, \u001b[33m'\u001b[39;49;00m\u001b[33mpassword\u001b[39;49;00m\u001b[33m'\u001b[39;49;00m)\u001b[90m\u001b[39;49;00m\n",
      "            r = http(\u001b[90m\u001b[39;49;00m\n",
      "                \u001b[33m'\u001b[39;49;00m\u001b[33m--ignore-netrc\u001b[39;49;00m\u001b[33m'\u001b[39;49;00m,\u001b[90m\u001b[39;49;00m\n",
      "                \u001b[33m'\u001b[39;49;00m\u001b[33m--auth-type=basic\u001b[39;49;00m\u001b[33m'\u001b[39;49;00m,\u001b[90m\u001b[39;49;00m\n",
      "                httpbin + \u001b[33m'\u001b[39;49;00m\u001b[33m/basic-auth/httpie/password\u001b[39;49;00m\u001b[33m'\u001b[39;49;00m,\u001b[90m\u001b[39;49;00m\n",
      "                tolerate_error_exit_status=\u001b[94mTrue\u001b[39;49;00m,\u001b[90m\u001b[39;49;00m\n",
      "            )\u001b[90m\u001b[39;49;00m\n",
      "        \u001b[94massert\u001b[39;49;00m get_netrc_auth.call_count == \u001b[94m0\u001b[39;49;00m\u001b[90m\u001b[39;49;00m\n",
      "        \u001b[94massert\u001b[39;49;00m r.exit_status == ExitStatus.ERROR\u001b[90m\u001b[39;49;00m\n",
      ">       \u001b[94massert\u001b[39;49;00m \u001b[33m'\u001b[39;49;00m\u001b[33m--auth required\u001b[39;49;00m\u001b[33m'\u001b[39;49;00m \u001b[95min\u001b[39;49;00m r.stderr\u001b[90m\u001b[39;49;00m\n",
      "\u001b[1m\u001b[31mE       AssertionError: assert '--auth required' in '\\n'\u001b[0m\n",
      "\u001b[1m\u001b[31mE        +  where '\\n' = ''.stderr\u001b[0m\n",
      "\n",
      "\u001b[1m\u001b[31mcli/tests/test_auth.py\u001b[0m:131: AssertionError\n",
      "----------------------------- Captured stderr call -----------------------------\n",
      "\n",
      "\u001b[31m\u001b[1m_______________________ test_url_colon_slash_slash_only ________________________\u001b[0m\n",
      "\n",
      "    \u001b[94mdef\u001b[39;49;00m \u001b[92mtest_url_colon_slash_slash_only\u001b[39;49;00m():\u001b[90m\u001b[39;49;00m\n",
      "        r = http(\u001b[33m'\u001b[39;49;00m\u001b[33m://\u001b[39;49;00m\u001b[33m'\u001b[39;49;00m, tolerate_error_exit_status=\u001b[94mTrue\u001b[39;49;00m)\u001b[90m\u001b[39;49;00m\n",
      ">       \u001b[94massert\u001b[39;49;00m r.stderr.strip() == \u001b[33m\"\u001b[39;49;00m\u001b[33mhttp: error: InvalidURL: Invalid URL \u001b[39;49;00m\u001b[33m'\u001b[39;49;00m\u001b[33mhttp://\u001b[39;49;00m\u001b[33m'\u001b[39;49;00m\u001b[33m: No host supplied\u001b[39;49;00m\u001b[33m\"\u001b[39;49;00m\u001b[90m\u001b[39;49;00m\n",
      "\u001b[1m\u001b[31mE       AssertionError: assert '' == 'http: error:...host supplied'\u001b[0m\n",
      "\u001b[1m\u001b[31mE         - http: error: InvalidURL: Invalid URL 'http://': No host supplied\u001b[0m\n",
      "\n",
      "\u001b[1m\u001b[31mcli/tests/test_cli.py\u001b[0m:192: AssertionError\n",
      "\u001b[31m\u001b[1m____________________ TestNoOptions.test_invalid_no_options _____________________\u001b[0m\n",
      "\n",
      "self = <tests.test_cli.TestNoOptions object at 0x1184f9e90>\n",
      "httpbin = <pytest_httpbin.serve.Server object at 0x118afee90>\n",
      "\n",
      "    \u001b[94mdef\u001b[39;49;00m \u001b[92mtest_invalid_no_options\u001b[39;49;00m(\u001b[96mself\u001b[39;49;00m, httpbin):\u001b[90m\u001b[39;49;00m\n",
      "        r = http(\u001b[33m'\u001b[39;49;00m\u001b[33m--no-war\u001b[39;49;00m\u001b[33m'\u001b[39;49;00m, \u001b[33m'\u001b[39;49;00m\u001b[33mGET\u001b[39;49;00m\u001b[33m'\u001b[39;49;00m, httpbin.url + \u001b[33m'\u001b[39;49;00m\u001b[33m/get\u001b[39;49;00m\u001b[33m'\u001b[39;49;00m,\u001b[90m\u001b[39;49;00m\n",
      "                 tolerate_error_exit_status=\u001b[94mTrue\u001b[39;49;00m)\u001b[90m\u001b[39;49;00m\n",
      "        \u001b[94massert\u001b[39;49;00m r.exit_status == ExitStatus.ERROR\u001b[90m\u001b[39;49;00m\n",
      ">       \u001b[94massert\u001b[39;49;00m \u001b[33m'\u001b[39;49;00m\u001b[33munrecognized arguments: --no-war\u001b[39;49;00m\u001b[33m'\u001b[39;49;00m \u001b[95min\u001b[39;49;00m r.stderr\u001b[90m\u001b[39;49;00m\n",
      "\u001b[1m\u001b[31mE       AssertionError: assert 'unrecognized arguments: --no-war' in '\\n'\u001b[0m\n",
      "\u001b[1m\u001b[31mE        +  where '\\n' = ''.stderr\u001b[0m\n",
      "\n",
      "\u001b[1m\u001b[31mcli/tests/test_cli.py\u001b[0m:330: AssertionError\n",
      "----------------------------- Captured stderr call -----------------------------\n",
      "\n",
      "\u001b[31m\u001b[1m______________ TestStdin.test_ignore_stdin_cannot_prompt_password ______________\u001b[0m\n",
      "\n",
      "self = <tests.test_cli.TestStdin object at 0x1184eb010>\n",
      "httpbin = <pytest_httpbin.serve.Server object at 0x118afee90>\n",
      "\n",
      "    \u001b[94mdef\u001b[39;49;00m \u001b[92mtest_ignore_stdin_cannot_prompt_password\u001b[39;49;00m(\u001b[96mself\u001b[39;49;00m, httpbin):\u001b[90m\u001b[39;49;00m\n",
      "        r = http(\u001b[33m'\u001b[39;49;00m\u001b[33m--ignore-stdin\u001b[39;49;00m\u001b[33m'\u001b[39;49;00m, \u001b[33m'\u001b[39;49;00m\u001b[33m--auth=no-password\u001b[39;49;00m\u001b[33m'\u001b[39;49;00m, httpbin.url + \u001b[33m'\u001b[39;49;00m\u001b[33m/get\u001b[39;49;00m\u001b[33m'\u001b[39;49;00m,\u001b[90m\u001b[39;49;00m\n",
      "                 tolerate_error_exit_status=\u001b[94mTrue\u001b[39;49;00m)\u001b[90m\u001b[39;49;00m\n",
      "        \u001b[94massert\u001b[39;49;00m r.exit_status == ExitStatus.ERROR\u001b[90m\u001b[39;49;00m\n",
      ">       \u001b[94massert\u001b[39;49;00m \u001b[33m'\u001b[39;49;00m\u001b[33mbecause --ignore-stdin\u001b[39;49;00m\u001b[33m'\u001b[39;49;00m \u001b[95min\u001b[39;49;00m r.stderr\u001b[90m\u001b[39;49;00m\n",
      "\u001b[1m\u001b[31mE       AssertionError: assert 'because --ignore-stdin' in '\\n'\u001b[0m\n",
      "\u001b[1m\u001b[31mE        +  where '\\n' = ''.stderr\u001b[0m\n",
      "\n",
      "\u001b[1m\u001b[31mcli/tests/test_cli.py\u001b[0m:350: AssertionError\n",
      "----------------------------- Captured stderr call -----------------------------\n",
      "\n",
      "\u001b[31m\u001b[1m_ test_naked_invocation[args0-usage:\\n    http [METHOD] URL [REQUEST_ITEM ...]\\n\\nerror:\\n    the following arguments are required: URL\\n\\nfor more information:\\n    run 'http --help' or visit https://httpie.io/docs/cli\\n\\n] _\u001b[0m\n",
      "\n",
      "ignore_terminal_size = None, args = []\n",
      "expected_msg = \"usage:\\n    http [METHOD] URL [REQUEST_ITEM ...]\\n\\nerror:\\n    the following arguments are required: URL\\n\\nfor more information:\\n    run 'http --help' or visit https://httpie.io/docs/cli\\n\\n\"\n",
      "\n",
      "    \u001b[37m@pytest\u001b[39;49;00m.mark.parametrize(\u001b[90m\u001b[39;49;00m\n",
      "        \u001b[33m'\u001b[39;49;00m\u001b[33margs, expected_msg\u001b[39;49;00m\u001b[33m'\u001b[39;49;00m, [\u001b[90m\u001b[39;49;00m\n",
      "            ([], NAKED_HELP_MESSAGE),\u001b[90m\u001b[39;49;00m\n",
      "            ([\u001b[33m'\u001b[39;49;00m\u001b[33m--pretty\u001b[39;49;00m\u001b[33m'\u001b[39;49;00m], NAKED_HELP_MESSAGE_PRETTY_WITH_NO_ARG),\u001b[90m\u001b[39;49;00m\n",
      "            ([\u001b[33m'\u001b[39;49;00m\u001b[33mpie.dev\u001b[39;49;00m\u001b[33m'\u001b[39;49;00m, \u001b[33m'\u001b[39;49;00m\u001b[33m--pretty\u001b[39;49;00m\u001b[33m'\u001b[39;49;00m], NAKED_HELP_MESSAGE_PRETTY_WITH_NO_ARG),\u001b[90m\u001b[39;49;00m\n",
      "            ([\u001b[33m'\u001b[39;49;00m\u001b[33m--pretty\u001b[39;49;00m\u001b[33m'\u001b[39;49;00m, \u001b[33m'\u001b[39;49;00m\u001b[33m$invalid\u001b[39;49;00m\u001b[33m'\u001b[39;49;00m], NAKED_HELP_MESSAGE_PRETTY_WITH_INVALID_ARG),\u001b[90m\u001b[39;49;00m\n",
      "        ]\u001b[90m\u001b[39;49;00m\n",
      "    )\u001b[90m\u001b[39;49;00m\n",
      "    \u001b[94mdef\u001b[39;49;00m \u001b[92mtest_naked_invocation\u001b[39;49;00m(ignore_terminal_size, args, expected_msg):\u001b[90m\u001b[39;49;00m\n",
      "        result = http(*args, tolerate_error_exit_status=\u001b[94mTrue\u001b[39;49;00m)\u001b[90m\u001b[39;49;00m\n",
      ">       \u001b[94massert\u001b[39;49;00m result.stderr == expected_msg\u001b[90m\u001b[39;49;00m\n",
      "\u001b[1m\u001b[31mE       assert '\\n' == 'usage:\\n    .../docs/cli\\n\\n'\u001b[0m\n",
      "\u001b[1m\u001b[31mE         Strings contain only whitespace, escaping them using repr()\u001b[0m\n",
      "\u001b[1m\u001b[31mE         - \"usage:\\n    http [METHOD] URL [REQUEST_ITEM ...]\\n\\nerror:\\n    the following arguments are required: URL\\n\\nfor more information:\\n    run 'http --help' or visit https://httpie.io/docs/cli\\n\\n\"\u001b[0m\n",
      "\u001b[1m\u001b[31mE         + '\\n'\u001b[0m\n",
      "\n",
      "\u001b[1m\u001b[31mcli/tests/test_cli_ui.py\u001b[0m:65: AssertionError\n",
      "----------------------------- Captured stderr call -----------------------------\n",
      "\n",
      "\u001b[31m\u001b[1m_ test_naked_invocation[args1-usage:\\n    http --pretty {all, colors, format, none} [METHOD] URL [REQUEST_ITEM ...]\\n\\nerror:\\n    argument --pretty: expected one argument\\n\\nfor more information:\\n    run 'http --help' or visit https://httpie.io/docs/cli\\n\\n] _\u001b[0m\n",
      "\n",
      "ignore_terminal_size = None, args = ['--pretty']\n",
      "expected_msg = \"usage:\\n    http --pretty {all, colors, format, none} [METHOD] URL [REQUEST_ITEM ...]\\n\\nerror:\\n    argument --pretty: expected one argument\\n\\nfor more information:\\n    run 'http --help' or visit https://httpie.io/docs/cli\\n\\n\"\n",
      "\n",
      "    \u001b[37m@pytest\u001b[39;49;00m.mark.parametrize(\u001b[90m\u001b[39;49;00m\n",
      "        \u001b[33m'\u001b[39;49;00m\u001b[33margs, expected_msg\u001b[39;49;00m\u001b[33m'\u001b[39;49;00m, [\u001b[90m\u001b[39;49;00m\n",
      "            ([], NAKED_HELP_MESSAGE),\u001b[90m\u001b[39;49;00m\n",
      "            ([\u001b[33m'\u001b[39;49;00m\u001b[33m--pretty\u001b[39;49;00m\u001b[33m'\u001b[39;49;00m], NAKED_HELP_MESSAGE_PRETTY_WITH_NO_ARG),\u001b[90m\u001b[39;49;00m\n",
      "            ([\u001b[33m'\u001b[39;49;00m\u001b[33mpie.dev\u001b[39;49;00m\u001b[33m'\u001b[39;49;00m, \u001b[33m'\u001b[39;49;00m\u001b[33m--pretty\u001b[39;49;00m\u001b[33m'\u001b[39;49;00m], NAKED_HELP_MESSAGE_PRETTY_WITH_NO_ARG),\u001b[90m\u001b[39;49;00m\n",
      "            ([\u001b[33m'\u001b[39;49;00m\u001b[33m--pretty\u001b[39;49;00m\u001b[33m'\u001b[39;49;00m, \u001b[33m'\u001b[39;49;00m\u001b[33m$invalid\u001b[39;49;00m\u001b[33m'\u001b[39;49;00m], NAKED_HELP_MESSAGE_PRETTY_WITH_INVALID_ARG),\u001b[90m\u001b[39;49;00m\n",
      "        ]\u001b[90m\u001b[39;49;00m\n",
      "    )\u001b[90m\u001b[39;49;00m\n",
      "    \u001b[94mdef\u001b[39;49;00m \u001b[92mtest_naked_invocation\u001b[39;49;00m(ignore_terminal_size, args, expected_msg):\u001b[90m\u001b[39;49;00m\n",
      "        result = http(*args, tolerate_error_exit_status=\u001b[94mTrue\u001b[39;49;00m)\u001b[90m\u001b[39;49;00m\n",
      ">       \u001b[94massert\u001b[39;49;00m result.stderr == expected_msg\u001b[90m\u001b[39;49;00m\n",
      "\u001b[1m\u001b[31mE       assert '\\n' == 'usage:\\n    .../docs/cli\\n\\n'\u001b[0m\n",
      "\u001b[1m\u001b[31mE         Strings contain only whitespace, escaping them using repr()\u001b[0m\n",
      "\u001b[1m\u001b[31mE         - \"usage:\\n    http --pretty {all, colors, format, none} [METHOD] URL [REQUEST_ITEM ...]\\n\\nerror:\\n    argument --pretty: expected one argument\\n\\nfor more information:\\n    run 'http --help' or visit https://httpie.io/docs/cli\\n\\n\"\u001b[0m\n",
      "\u001b[1m\u001b[31mE         + '\\n'\u001b[0m\n",
      "\n",
      "\u001b[1m\u001b[31mcli/tests/test_cli_ui.py\u001b[0m:65: AssertionError\n",
      "----------------------------- Captured stderr call -----------------------------\n",
      "\n",
      "\u001b[31m\u001b[1m_ test_naked_invocation[args2-usage:\\n    http --pretty {all, colors, format, none} [METHOD] URL [REQUEST_ITEM ...]\\n\\nerror:\\n    argument --pretty: expected one argument\\n\\nfor more information:\\n    run 'http --help' or visit https://httpie.io/docs/cli\\n\\n] _\u001b[0m\n",
      "\n",
      "ignore_terminal_size = None, args = ['pie.dev', '--pretty']\n",
      "expected_msg = \"usage:\\n    http --pretty {all, colors, format, none} [METHOD] URL [REQUEST_ITEM ...]\\n\\nerror:\\n    argument --pretty: expected one argument\\n\\nfor more information:\\n    run 'http --help' or visit https://httpie.io/docs/cli\\n\\n\"\n",
      "\n",
      "    \u001b[37m@pytest\u001b[39;49;00m.mark.parametrize(\u001b[90m\u001b[39;49;00m\n",
      "        \u001b[33m'\u001b[39;49;00m\u001b[33margs, expected_msg\u001b[39;49;00m\u001b[33m'\u001b[39;49;00m, [\u001b[90m\u001b[39;49;00m\n",
      "            ([], NAKED_HELP_MESSAGE),\u001b[90m\u001b[39;49;00m\n",
      "            ([\u001b[33m'\u001b[39;49;00m\u001b[33m--pretty\u001b[39;49;00m\u001b[33m'\u001b[39;49;00m], NAKED_HELP_MESSAGE_PRETTY_WITH_NO_ARG),\u001b[90m\u001b[39;49;00m\n",
      "            ([\u001b[33m'\u001b[39;49;00m\u001b[33mpie.dev\u001b[39;49;00m\u001b[33m'\u001b[39;49;00m, \u001b[33m'\u001b[39;49;00m\u001b[33m--pretty\u001b[39;49;00m\u001b[33m'\u001b[39;49;00m], NAKED_HELP_MESSAGE_PRETTY_WITH_NO_ARG),\u001b[90m\u001b[39;49;00m\n",
      "            ([\u001b[33m'\u001b[39;49;00m\u001b[33m--pretty\u001b[39;49;00m\u001b[33m'\u001b[39;49;00m, \u001b[33m'\u001b[39;49;00m\u001b[33m$invalid\u001b[39;49;00m\u001b[33m'\u001b[39;49;00m], NAKED_HELP_MESSAGE_PRETTY_WITH_INVALID_ARG),\u001b[90m\u001b[39;49;00m\n",
      "        ]\u001b[90m\u001b[39;49;00m\n",
      "    )\u001b[90m\u001b[39;49;00m\n",
      "    \u001b[94mdef\u001b[39;49;00m \u001b[92mtest_naked_invocation\u001b[39;49;00m(ignore_terminal_size, args, expected_msg):\u001b[90m\u001b[39;49;00m\n",
      "        result = http(*args, tolerate_error_exit_status=\u001b[94mTrue\u001b[39;49;00m)\u001b[90m\u001b[39;49;00m\n",
      ">       \u001b[94massert\u001b[39;49;00m result.stderr == expected_msg\u001b[90m\u001b[39;49;00m\n",
      "\u001b[1m\u001b[31mE       assert '\\n' == 'usage:\\n    .../docs/cli\\n\\n'\u001b[0m\n",
      "\u001b[1m\u001b[31mE         Strings contain only whitespace, escaping them using repr()\u001b[0m\n",
      "\u001b[1m\u001b[31mE         - \"usage:\\n    http --pretty {all, colors, format, none} [METHOD] URL [REQUEST_ITEM ...]\\n\\nerror:\\n    argument --pretty: expected one argument\\n\\nfor more information:\\n    run 'http --help' or visit https://httpie.io/docs/cli\\n\\n\"\u001b[0m\n",
      "\u001b[1m\u001b[31mE         + '\\n'\u001b[0m\n",
      "\n",
      "\u001b[1m\u001b[31mcli/tests/test_cli_ui.py\u001b[0m:65: AssertionError\n",
      "----------------------------- Captured stderr call -----------------------------\n",
      "\n",
      "\u001b[31m\u001b[1m_ test_naked_invocation[args3-usage:\\n    http --pretty {all, colors, format, none} [METHOD] URL [REQUEST_ITEM ...]\\n\\nerror:\\n    argument --pretty: invalid choice: '$invalid' (choose from 'all', 'colors', 'format', 'none')\\n\\nfor more information:\\n    run 'http --help' or visit https://httpie.io/docs/cli\\n\\n] _\u001b[0m\n",
      "\n",
      "ignore_terminal_size = None, args = ['--pretty', '$invalid']\n",
      "expected_msg = \"usage:\\n    http --pretty {all, colors, format, none} [METHOD] URL [REQUEST_ITEM ...]\\n\\nerror:\\n    argument --prett...', 'colors', 'format', 'none')\\n\\nfor more information:\\n    run 'http --help' or visit https://httpie.io/docs/cli\\n\\n\"\n",
      "\n",
      "    \u001b[37m@pytest\u001b[39;49;00m.mark.parametrize(\u001b[90m\u001b[39;49;00m\n",
      "        \u001b[33m'\u001b[39;49;00m\u001b[33margs, expected_msg\u001b[39;49;00m\u001b[33m'\u001b[39;49;00m, [\u001b[90m\u001b[39;49;00m\n",
      "            ([], NAKED_HELP_MESSAGE),\u001b[90m\u001b[39;49;00m\n",
      "            ([\u001b[33m'\u001b[39;49;00m\u001b[33m--pretty\u001b[39;49;00m\u001b[33m'\u001b[39;49;00m], NAKED_HELP_MESSAGE_PRETTY_WITH_NO_ARG),\u001b[90m\u001b[39;49;00m\n",
      "            ([\u001b[33m'\u001b[39;49;00m\u001b[33mpie.dev\u001b[39;49;00m\u001b[33m'\u001b[39;49;00m, \u001b[33m'\u001b[39;49;00m\u001b[33m--pretty\u001b[39;49;00m\u001b[33m'\u001b[39;49;00m], NAKED_HELP_MESSAGE_PRETTY_WITH_NO_ARG),\u001b[90m\u001b[39;49;00m\n",
      "            ([\u001b[33m'\u001b[39;49;00m\u001b[33m--pretty\u001b[39;49;00m\u001b[33m'\u001b[39;49;00m, \u001b[33m'\u001b[39;49;00m\u001b[33m$invalid\u001b[39;49;00m\u001b[33m'\u001b[39;49;00m], NAKED_HELP_MESSAGE_PRETTY_WITH_INVALID_ARG),\u001b[90m\u001b[39;49;00m\n",
      "        ]\u001b[90m\u001b[39;49;00m\n",
      "    )\u001b[90m\u001b[39;49;00m\n",
      "    \u001b[94mdef\u001b[39;49;00m \u001b[92mtest_naked_invocation\u001b[39;49;00m(ignore_terminal_size, args, expected_msg):\u001b[90m\u001b[39;49;00m\n",
      "        result = http(*args, tolerate_error_exit_status=\u001b[94mTrue\u001b[39;49;00m)\u001b[90m\u001b[39;49;00m\n",
      ">       \u001b[94massert\u001b[39;49;00m result.stderr == expected_msg\u001b[90m\u001b[39;49;00m\n",
      "\u001b[1m\u001b[31mE       assert '\\n' == 'usage:\\n    .../docs/cli\\n\\n'\u001b[0m\n",
      "\u001b[1m\u001b[31mE         Strings contain only whitespace, escaping them using repr()\u001b[0m\n",
      "\u001b[1m\u001b[31mE         - \"usage:\\n    http --pretty {all, colors, format, none} [METHOD] URL [REQUEST_ITEM ...]\\n\\nerror:\\n    argument --pretty: invalid choice: '$invalid' (choose from 'all', 'colors', 'format', 'none')\\n\\nfor more information:\\n    run 'http --help' or visit https://httpie.io/docs/cli\\n\\n\"\u001b[0m\n",
      "\u001b[1m\u001b[31mE         + '\\n'\u001b[0m\n",
      "\n",
      "\u001b[1m\u001b[31mcli/tests/test_cli_ui.py\u001b[0m:65: AssertionError\n",
      "----------------------------- Captured stderr call -----------------------------\n",
      "\n",
      "\u001b[31m\u001b[1m__________________ test_cannot_combine_compress_with_chunked ___________________\u001b[0m\n",
      "\n",
      "httpbin = <pytest_httpbin.serve.Server object at 0x118afee90>\n",
      "\n",
      "    \u001b[94mdef\u001b[39;49;00m \u001b[92mtest_cannot_combine_compress_with_chunked\u001b[39;49;00m(httpbin):\u001b[90m\u001b[39;49;00m\n",
      "        r = http(\u001b[33m'\u001b[39;49;00m\u001b[33m--compress\u001b[39;49;00m\u001b[33m'\u001b[39;49;00m, \u001b[33m'\u001b[39;49;00m\u001b[33m--chunked\u001b[39;49;00m\u001b[33m'\u001b[39;49;00m, httpbin.url + \u001b[33m'\u001b[39;49;00m\u001b[33m/get\u001b[39;49;00m\u001b[33m'\u001b[39;49;00m,\u001b[90m\u001b[39;49;00m\n",
      "                 tolerate_error_exit_status=\u001b[94mTrue\u001b[39;49;00m)\u001b[90m\u001b[39;49;00m\n",
      "        \u001b[94massert\u001b[39;49;00m r.exit_status == ExitStatus.ERROR\u001b[90m\u001b[39;49;00m\n",
      ">       \u001b[94massert\u001b[39;49;00m \u001b[33m'\u001b[39;49;00m\u001b[33mcannot combine --compress and --chunked\u001b[39;49;00m\u001b[33m'\u001b[39;49;00m \u001b[95min\u001b[39;49;00m r.stderr\u001b[90m\u001b[39;49;00m\n",
      "\u001b[1m\u001b[31mE       AssertionError: assert 'cannot combine --compress and --chunked' in '\\n'\u001b[0m\n",
      "\u001b[1m\u001b[31mE        +  where '\\n' = ''.stderr\u001b[0m\n",
      "\n",
      "\u001b[1m\u001b[31mcli/tests/test_compress.py\u001b[0m:35: AssertionError\n",
      "----------------------------- Captured stderr call -----------------------------\n",
      "\n",
      "\u001b[31m\u001b[1m_________________ test_cannot_combine_compress_with_multipart __________________\u001b[0m\n",
      "\n",
      "httpbin = <pytest_httpbin.serve.Server object at 0x118afee90>\n",
      "\n",
      "    \u001b[94mdef\u001b[39;49;00m \u001b[92mtest_cannot_combine_compress_with_multipart\u001b[39;49;00m(httpbin):\u001b[90m\u001b[39;49;00m\n",
      "        r = http(\u001b[33m'\u001b[39;49;00m\u001b[33m--compress\u001b[39;49;00m\u001b[33m'\u001b[39;49;00m, \u001b[33m'\u001b[39;49;00m\u001b[33m--multipart\u001b[39;49;00m\u001b[33m'\u001b[39;49;00m, httpbin.url + \u001b[33m'\u001b[39;49;00m\u001b[33m/get\u001b[39;49;00m\u001b[33m'\u001b[39;49;00m,\u001b[90m\u001b[39;49;00m\n",
      "                 tolerate_error_exit_status=\u001b[94mTrue\u001b[39;49;00m)\u001b[90m\u001b[39;49;00m\n",
      "        \u001b[94massert\u001b[39;49;00m r.exit_status == ExitStatus.ERROR\u001b[90m\u001b[39;49;00m\n",
      ">       \u001b[94massert\u001b[39;49;00m \u001b[33m'\u001b[39;49;00m\u001b[33mcannot combine --compress and --multipart\u001b[39;49;00m\u001b[33m'\u001b[39;49;00m \u001b[95min\u001b[39;49;00m r.stderr\u001b[90m\u001b[39;49;00m\n",
      "\u001b[1m\u001b[31mE       AssertionError: assert 'cannot combine --compress and --multipart' in '\\n'\u001b[0m\n",
      "\u001b[1m\u001b[31mE        +  where '\\n' = ''.stderr\u001b[0m\n",
      "\n",
      "\u001b[1m\u001b[31mcli/tests/test_compress.py\u001b[0m:42: AssertionError\n",
      "----------------------------- Captured stderr call -----------------------------\n",
      "\n",
      "\u001b[31m\u001b[1m__________________________ test_config_file_not_valid __________________________\u001b[0m\n",
      "\n",
      "httpbin = <pytest_httpbin.serve.Server object at 0x118afee90>\n",
      "\n",
      "    \u001b[94mdef\u001b[39;49;00m \u001b[92mtest_config_file_not_valid\u001b[39;49;00m(httpbin):\u001b[90m\u001b[39;49;00m\n",
      "        env = MockEnvironment()\u001b[90m\u001b[39;49;00m\n",
      "        env.create_temp_config_dir()\u001b[90m\u001b[39;49;00m\n",
      "        (env.config_dir / Config.FILENAME).write_text(\u001b[33m'\u001b[39;49;00m\u001b[33m{\u001b[39;49;00m\u001b[33minvalid json}\u001b[39;49;00m\u001b[33m'\u001b[39;49;00m, encoding=UTF8)\u001b[90m\u001b[39;49;00m\n",
      "        r = http(httpbin + \u001b[33m'\u001b[39;49;00m\u001b[33m/get\u001b[39;49;00m\u001b[33m'\u001b[39;49;00m, env=env)\u001b[90m\u001b[39;49;00m\n",
      "        \u001b[94massert\u001b[39;49;00m HTTP_OK \u001b[95min\u001b[39;49;00m r\u001b[90m\u001b[39;49;00m\n",
      ">       \u001b[94massert\u001b[39;49;00m \u001b[33m'\u001b[39;49;00m\u001b[33mhttp: warning\u001b[39;49;00m\u001b[33m'\u001b[39;49;00m \u001b[95min\u001b[39;49;00m r.stderr\u001b[90m\u001b[39;49;00m\n",
      "\u001b[1m\u001b[31mE       assert 'http: warning' in ''\u001b[0m\n",
      "\u001b[1m\u001b[31mE        +  where '' = 'HTTP/1.1 200 OK\\r\\nAccess-Control-Allow-Credentials: true\\r\\nAccess-Control-Allow-Origin: *\\r\\nConnection: Close\\r\\nC...      \"User-Agent\": \"HTTPie/3.2.2\"\\n    },\\n    \"origin\": \"127.0.0.1\",\\n    \"url\": \"http://127.0.0.1:56708/get\"\\n}\\n\\n'.stderr\u001b[0m\n",
      "\n",
      "\u001b[1m\u001b[31mcli/tests/test_config.py\u001b[0m:32: AssertionError\n",
      "----------------------------- Captured stderr call -----------------------------\n",
      "127.0.0.1 - - [12/Dec/2023 12:30:42] \"GET /get HTTP/1.1\" 200 269\n",
      "\u001b[31m\u001b[1m________________________ test_config_file_inaccessible _________________________\u001b[0m\n",
      "\n",
      "httpbin = <pytest_httpbin.serve.Server object at 0x118afee90>\n",
      "\n",
      "    \u001b[37m@pytest\u001b[39;49;00m.mark.skipif(is_windows, reason=\u001b[33m'\u001b[39;49;00m\u001b[33mcannot chmod 000 on Windows\u001b[39;49;00m\u001b[33m'\u001b[39;49;00m)\u001b[90m\u001b[39;49;00m\n",
      "    \u001b[94mdef\u001b[39;49;00m \u001b[92mtest_config_file_inaccessible\u001b[39;49;00m(httpbin):\u001b[90m\u001b[39;49;00m\n",
      "        env = MockEnvironment()\u001b[90m\u001b[39;49;00m\n",
      "        env.create_temp_config_dir()\u001b[90m\u001b[39;49;00m\n",
      "        config_path = env.config_dir / Config.FILENAME\u001b[90m\u001b[39;49;00m\n",
      "        \u001b[94massert\u001b[39;49;00m \u001b[95mnot\u001b[39;49;00m config_path.exists()\u001b[90m\u001b[39;49;00m\n",
      "        config_path.touch(\u001b[94m0o000\u001b[39;49;00m)\u001b[90m\u001b[39;49;00m\n",
      "        \u001b[94massert\u001b[39;49;00m config_path.exists()\u001b[90m\u001b[39;49;00m\n",
      "        r = http(httpbin + \u001b[33m'\u001b[39;49;00m\u001b[33m/get\u001b[39;49;00m\u001b[33m'\u001b[39;49;00m, env=env)\u001b[90m\u001b[39;49;00m\n",
      "        \u001b[94massert\u001b[39;49;00m HTTP_OK \u001b[95min\u001b[39;49;00m r\u001b[90m\u001b[39;49;00m\n",
      ">       \u001b[94massert\u001b[39;49;00m \u001b[33m'\u001b[39;49;00m\u001b[33mhttp: warning\u001b[39;49;00m\u001b[33m'\u001b[39;49;00m \u001b[95min\u001b[39;49;00m r.stderr\u001b[90m\u001b[39;49;00m\n",
      "\u001b[1m\u001b[31mE       assert 'http: warning' in ''\u001b[0m\n",
      "\u001b[1m\u001b[31mE        +  where '' = 'HTTP/1.1 200 OK\\r\\nAccess-Control-Allow-Credentials: true\\r\\nAccess-Control-Allow-Origin: *\\r\\nConnection: Close\\r\\nC...      \"User-Agent\": \"HTTPie/3.2.2\"\\n    },\\n    \"origin\": \"127.0.0.1\",\\n    \"url\": \"http://127.0.0.1:56708/get\"\\n}\\n\\n'.stderr\u001b[0m\n",
      "\n",
      "\u001b[1m\u001b[31mcli/tests/test_config.py\u001b[0m:46: AssertionError\n",
      "----------------------------- Captured stderr call -----------------------------\n",
      "127.0.0.1 - - [12/Dec/2023 12:30:42] \"GET /get HTTP/1.1\" 200 269\n",
      "\u001b[31m\u001b[1m__________________________________ test_error __________________________________\u001b[0m\n",
      "\n",
      "program = <MagicMock name='program' id='4714518672'>\n",
      "\n",
      "    \u001b[37m@mock\u001b[39;49;00m.patch(\u001b[33m'\u001b[39;49;00m\u001b[33mhttpie.core.program\u001b[39;49;00m\u001b[33m'\u001b[39;49;00m)\u001b[90m\u001b[39;49;00m\n",
      "    \u001b[94mdef\u001b[39;49;00m \u001b[92mtest_error\u001b[39;49;00m(program):\u001b[90m\u001b[39;49;00m\n",
      "        exc = \u001b[96mConnectionError\u001b[39;49;00m(\u001b[33m'\u001b[39;49;00m\u001b[33mConnection aborted\u001b[39;49;00m\u001b[33m'\u001b[39;49;00m)\u001b[90m\u001b[39;49;00m\n",
      "        exc.request = Request(method=\u001b[33m'\u001b[39;49;00m\u001b[33mGET\u001b[39;49;00m\u001b[33m'\u001b[39;49;00m, url=\u001b[33m'\u001b[39;49;00m\u001b[33mhttp://www.google.com\u001b[39;49;00m\u001b[33m'\u001b[39;49;00m)\u001b[90m\u001b[39;49;00m\n",
      "        program.side_effect = exc\u001b[90m\u001b[39;49;00m\n",
      "        r = http(\u001b[33m'\u001b[39;49;00m\u001b[33mwww.google.com\u001b[39;49;00m\u001b[33m'\u001b[39;49;00m, tolerate_error_exit_status=\u001b[94mTrue\u001b[39;49;00m)\u001b[90m\u001b[39;49;00m\n",
      "        \u001b[94massert\u001b[39;49;00m r.exit_status == ExitStatus.ERROR\u001b[90m\u001b[39;49;00m\n",
      "        error_msg = (\u001b[90m\u001b[39;49;00m\n",
      "            \u001b[33m'\u001b[39;49;00m\u001b[33mConnectionError: \u001b[39;49;00m\u001b[33m'\u001b[39;49;00m\u001b[90m\u001b[39;49;00m\n",
      "            \u001b[33m'\u001b[39;49;00m\u001b[33mConnection aborted while doing a GET request to URL: \u001b[39;49;00m\u001b[33m'\u001b[39;49;00m\u001b[90m\u001b[39;49;00m\n",
      "            \u001b[33m'\u001b[39;49;00m\u001b[33mhttp://www.google.com\u001b[39;49;00m\u001b[33m'\u001b[39;49;00m\u001b[90m\u001b[39;49;00m\n",
      "        )\u001b[90m\u001b[39;49;00m\n",
      ">       \u001b[94massert\u001b[39;49;00m error_msg \u001b[95min\u001b[39;49;00m r.stderr\u001b[90m\u001b[39;49;00m\n",
      "\u001b[1m\u001b[31mE       AssertionError: assert 'ConnectionError: Connection aborted while doing a GET request to URL: http://www.google.com' in ''\u001b[0m\n",
      "\u001b[1m\u001b[31mE        +  where '' = ''.stderr\u001b[0m\n",
      "\n",
      "\u001b[1m\u001b[31mcli/tests/test_errors.py\u001b[0m:24: AssertionError\n",
      "\u001b[31m\u001b[1m________________ test_error_custom_dns[2-check your connection] ________________\u001b[0m\n",
      "\n",
      "program = <MagicMock name='program' id='4714447888'>, error_code = 2\n",
      "expected_message = 'check your connection'\n",
      "\n",
      "    \u001b[37m@mock\u001b[39;49;00m.patch(\u001b[33m'\u001b[39;49;00m\u001b[33mhttpie.core.program\u001b[39;49;00m\u001b[33m'\u001b[39;49;00m)\u001b[90m\u001b[39;49;00m\n",
      "    \u001b[37m@pytest\u001b[39;49;00m.mark.parametrize(\u001b[33m\"\u001b[39;49;00m\u001b[33merror_code, expected_message\u001b[39;49;00m\u001b[33m\"\u001b[39;49;00m, [\u001b[90m\u001b[39;49;00m\n",
      "        (socket.EAI_AGAIN, \u001b[33m\"\u001b[39;49;00m\u001b[33mcheck your connection\u001b[39;49;00m\u001b[33m\"\u001b[39;49;00m),\u001b[90m\u001b[39;49;00m\n",
      "        (socket.EAI_NONAME, \u001b[33m\"\u001b[39;49;00m\u001b[33mcheck the URL\u001b[39;49;00m\u001b[33m\"\u001b[39;49;00m),\u001b[90m\u001b[39;49;00m\n",
      "    ])\u001b[90m\u001b[39;49;00m\n",
      "    \u001b[94mdef\u001b[39;49;00m \u001b[92mtest_error_custom_dns\u001b[39;49;00m(program, error_code, expected_message):\u001b[90m\u001b[39;49;00m\n",
      "        exc = \u001b[96mConnectionError\u001b[39;49;00m(\u001b[33m'\u001b[39;49;00m\u001b[33mConnection aborted\u001b[39;49;00m\u001b[33m'\u001b[39;49;00m)\u001b[90m\u001b[39;49;00m\n",
      "        exc.__context__ = socket.gaierror(error_code, \u001b[33m\"\u001b[39;49;00m\u001b[33m<test>\u001b[39;49;00m\u001b[33m\"\u001b[39;49;00m)\u001b[90m\u001b[39;49;00m\n",
      "        program.side_effect = exc\u001b[90m\u001b[39;49;00m\n",
      "    \u001b[90m\u001b[39;49;00m\n",
      "        r = http(\u001b[33m'\u001b[39;49;00m\u001b[33mwww.google.com\u001b[39;49;00m\u001b[33m'\u001b[39;49;00m, tolerate_error_exit_status=\u001b[94mTrue\u001b[39;49;00m)\u001b[90m\u001b[39;49;00m\n",
      "        \u001b[94massert\u001b[39;49;00m r.exit_status == ExitStatus.ERROR\u001b[90m\u001b[39;49;00m\n",
      ">       \u001b[94massert\u001b[39;49;00m expected_message \u001b[95min\u001b[39;49;00m r.stderr\u001b[90m\u001b[39;49;00m\n",
      "\u001b[1m\u001b[31mE       AssertionError: assert 'check your connection' in ''\u001b[0m\n",
      "\u001b[1m\u001b[31mE        +  where '' = ''.stderr\u001b[0m\n",
      "\n",
      "\u001b[1m\u001b[31mcli/tests/test_errors.py\u001b[0m:48: AssertionError\n",
      "\u001b[31m\u001b[1m____________________ test_error_custom_dns[8-check the URL] ____________________\u001b[0m\n",
      "\n",
      "program = <MagicMock name='program' id='4714457872'>, error_code = 8\n",
      "expected_message = 'check the URL'\n",
      "\n",
      "    \u001b[37m@mock\u001b[39;49;00m.patch(\u001b[33m'\u001b[39;49;00m\u001b[33mhttpie.core.program\u001b[39;49;00m\u001b[33m'\u001b[39;49;00m)\u001b[90m\u001b[39;49;00m\n",
      "    \u001b[37m@pytest\u001b[39;49;00m.mark.parametrize(\u001b[33m\"\u001b[39;49;00m\u001b[33merror_code, expected_message\u001b[39;49;00m\u001b[33m\"\u001b[39;49;00m, [\u001b[90m\u001b[39;49;00m\n",
      "        (socket.EAI_AGAIN, \u001b[33m\"\u001b[39;49;00m\u001b[33mcheck your connection\u001b[39;49;00m\u001b[33m\"\u001b[39;49;00m),\u001b[90m\u001b[39;49;00m\n",
      "        (socket.EAI_NONAME, \u001b[33m\"\u001b[39;49;00m\u001b[33mcheck the URL\u001b[39;49;00m\u001b[33m\"\u001b[39;49;00m),\u001b[90m\u001b[39;49;00m\n",
      "    ])\u001b[90m\u001b[39;49;00m\n",
      "    \u001b[94mdef\u001b[39;49;00m \u001b[92mtest_error_custom_dns\u001b[39;49;00m(program, error_code, expected_message):\u001b[90m\u001b[39;49;00m\n",
      "        exc = \u001b[96mConnectionError\u001b[39;49;00m(\u001b[33m'\u001b[39;49;00m\u001b[33mConnection aborted\u001b[39;49;00m\u001b[33m'\u001b[39;49;00m)\u001b[90m\u001b[39;49;00m\n",
      "        exc.__context__ = socket.gaierror(error_code, \u001b[33m\"\u001b[39;49;00m\u001b[33m<test>\u001b[39;49;00m\u001b[33m\"\u001b[39;49;00m)\u001b[90m\u001b[39;49;00m\n",
      "        program.side_effect = exc\u001b[90m\u001b[39;49;00m\n",
      "    \u001b[90m\u001b[39;49;00m\n",
      "        r = http(\u001b[33m'\u001b[39;49;00m\u001b[33mwww.google.com\u001b[39;49;00m\u001b[33m'\u001b[39;49;00m, tolerate_error_exit_status=\u001b[94mTrue\u001b[39;49;00m)\u001b[90m\u001b[39;49;00m\n",
      "        \u001b[94massert\u001b[39;49;00m r.exit_status == ExitStatus.ERROR\u001b[90m\u001b[39;49;00m\n",
      ">       \u001b[94massert\u001b[39;49;00m expected_message \u001b[95min\u001b[39;49;00m r.stderr\u001b[90m\u001b[39;49;00m\n",
      "\u001b[1m\u001b[31mE       AssertionError: assert 'check the URL' in ''\u001b[0m\n",
      "\u001b[1m\u001b[31mE        +  where '' = ''.stderr\u001b[0m\n",
      "\n",
      "\u001b[1m\u001b[31mcli/tests/test_errors.py\u001b[0m:48: AssertionError\n",
      "\u001b[31m\u001b[1m_______ test_3xx_check_status_exits_3_and_stderr_when_stdout_redirected ________\u001b[0m\n",
      "\n",
      "httpbin = <pytest_httpbin.serve.Server object at 0x118afee90>\n",
      "\n",
      "    \u001b[94mdef\u001b[39;49;00m \u001b[92mtest_3xx_check_status_exits_3_and_stderr_when_stdout_redirected\u001b[39;49;00m(\u001b[90m\u001b[39;49;00m\n",
      "            httpbin):\u001b[90m\u001b[39;49;00m\n",
      "        env = MockEnvironment(stdout_isatty=\u001b[94mFalse\u001b[39;49;00m)\u001b[90m\u001b[39;49;00m\n",
      "        r = http(\u001b[33m'\u001b[39;49;00m\u001b[33m--check-status\u001b[39;49;00m\u001b[33m'\u001b[39;49;00m, \u001b[33m'\u001b[39;49;00m\u001b[33m--headers\u001b[39;49;00m\u001b[33m'\u001b[39;49;00m,\u001b[90m\u001b[39;49;00m\n",
      "                 \u001b[33m'\u001b[39;49;00m\u001b[33mGET\u001b[39;49;00m\u001b[33m'\u001b[39;49;00m, httpbin.url + \u001b[33m'\u001b[39;49;00m\u001b[33m/status/301\u001b[39;49;00m\u001b[33m'\u001b[39;49;00m,\u001b[90m\u001b[39;49;00m\n",
      "                 env=env, tolerate_error_exit_status=\u001b[94mTrue\u001b[39;49;00m)\u001b[90m\u001b[39;49;00m\n",
      "        \u001b[94massert\u001b[39;49;00m \u001b[33m'\u001b[39;49;00m\u001b[33m301 MOVED PERMANENTLY\u001b[39;49;00m\u001b[33m'\u001b[39;49;00m \u001b[95min\u001b[39;49;00m r\u001b[90m\u001b[39;49;00m\n",
      "        \u001b[94massert\u001b[39;49;00m r.exit_status == ExitStatus.ERROR_HTTP_3XX\u001b[90m\u001b[39;49;00m\n",
      ">       \u001b[94massert\u001b[39;49;00m \u001b[33m'\u001b[39;49;00m\u001b[33m301 moved permanently\u001b[39;49;00m\u001b[33m'\u001b[39;49;00m \u001b[95min\u001b[39;49;00m r.stderr.lower()\u001b[90m\u001b[39;49;00m\n",
      "\u001b[1m\u001b[31mE       AssertionError: assert '301 moved permanently' in ''\u001b[0m\n",
      "\u001b[1m\u001b[31mE        +  where '' = <built-in method lower of str object at 0x100d436f0>()\u001b[0m\n",
      "\u001b[1m\u001b[31mE        +    where <built-in method lower of str object at 0x100d436f0> = ''.lower\u001b[0m\n",
      "\u001b[1m\u001b[31mE        +      where '' = 'HTTP/1.1 301 MOVED PERMANENTLY\\r\\nDate: Tue, 12 Dec 2023 03:30:53 GMT\\r\\nServer: Pytest-HTTPBIN/0.1.0\\r\\nlocation: /r...ss-Control-Allow-Origin: *\\r\\nAccess-Control-Allow-Credentials: true\\r\\nContent-Length: 0\\r\\nConnection: Close\\r\\n\\r\\n'.stderr\u001b[0m\n",
      "\n",
      "\u001b[1m\u001b[31mcli/tests/test_exit_status.py\u001b[0m:49: AssertionError\n",
      "----------------------------- Captured stderr call -----------------------------\n",
      "127.0.0.1 - - [12/Dec/2023 12:30:53] \"GET /status/301 HTTP/1.1\" 301 0\n",
      "\u001b[31m\u001b[1m_____________________ test_form_POST_file_redirected_stdin _____________________\u001b[0m\n",
      "\n",
      "httpbin = <pytest_httpbin.serve.Server object at 0x118afee90>\n",
      "\n",
      "    \u001b[94mdef\u001b[39;49;00m \u001b[92mtest_form_POST_file_redirected_stdin\u001b[39;49;00m(httpbin):\u001b[90m\u001b[39;49;00m\n",
      "    \u001b[90m    \u001b[39;49;00m\u001b[33m\"\"\"\u001b[39;49;00m\n",
      "    \u001b[33m    <https://github.com/httpie/cli/issues/840>\u001b[39;49;00m\n",
      "    \u001b[33m\u001b[39;49;00m\n",
      "    \u001b[33m    \"\"\"\u001b[39;49;00m\u001b[90m\u001b[39;49;00m\n",
      "        \u001b[94mwith\u001b[39;49;00m \u001b[96mopen\u001b[39;49;00m(FILE_PATH, encoding=UTF8):\u001b[90m\u001b[39;49;00m\n",
      "            r = http(\u001b[90m\u001b[39;49;00m\n",
      "                \u001b[33m'\u001b[39;49;00m\u001b[33m--form\u001b[39;49;00m\u001b[33m'\u001b[39;49;00m,\u001b[90m\u001b[39;49;00m\n",
      "                \u001b[33m'\u001b[39;49;00m\u001b[33mPOST\u001b[39;49;00m\u001b[33m'\u001b[39;49;00m,\u001b[90m\u001b[39;49;00m\n",
      "                httpbin + \u001b[33m'\u001b[39;49;00m\u001b[33m/post\u001b[39;49;00m\u001b[33m'\u001b[39;49;00m,\u001b[90m\u001b[39;49;00m\n",
      "                \u001b[33mf\u001b[39;49;00m\u001b[33m'\u001b[39;49;00m\u001b[33mfile@\u001b[39;49;00m\u001b[33m{\u001b[39;49;00mFILE_PATH\u001b[33m}\u001b[39;49;00m\u001b[33m'\u001b[39;49;00m,\u001b[90m\u001b[39;49;00m\n",
      "                tolerate_error_exit_status=\u001b[94mTrue\u001b[39;49;00m,\u001b[90m\u001b[39;49;00m\n",
      "                env=MockEnvironment(\u001b[90m\u001b[39;49;00m\n",
      "                    stdin=StdinBytesIO(FILE_PATH.read_bytes()),\u001b[90m\u001b[39;49;00m\n",
      "                    stdin_isatty=\u001b[94mFalse\u001b[39;49;00m,\u001b[90m\u001b[39;49;00m\n",
      "                ),\u001b[90m\u001b[39;49;00m\n",
      "            )\u001b[90m\u001b[39;49;00m\n",
      "        \u001b[94massert\u001b[39;49;00m r.exit_status == ExitStatus.ERROR\u001b[90m\u001b[39;49;00m\n",
      ">       \u001b[94massert\u001b[39;49;00m \u001b[33m'\u001b[39;49;00m\u001b[33mcannot be mixed\u001b[39;49;00m\u001b[33m'\u001b[39;49;00m \u001b[95min\u001b[39;49;00m r.stderr\u001b[90m\u001b[39;49;00m\n",
      "\u001b[1m\u001b[31mE       AssertionError: assert 'cannot be mixed' in '\\n'\u001b[0m\n",
      "\u001b[1m\u001b[31mE        +  where '\\n' = ''.stderr\u001b[0m\n",
      "\n",
      "\u001b[1m\u001b[31mcli/tests/test_httpie.py\u001b[0m:143: AssertionError\n",
      "----------------------------- Captured stderr call -----------------------------\n",
      "\n",
      "\u001b[31m\u001b[1m______________________ test_raw_POST_key_values_supplied _______________________\u001b[0m\n",
      "\n",
      "httpbin = <pytest_httpbin.serve.Server object at 0x118afee90>\n",
      "\n",
      "    \u001b[94mdef\u001b[39;49;00m \u001b[92mtest_raw_POST_key_values_supplied\u001b[39;49;00m(httpbin):\u001b[90m\u001b[39;49;00m\n",
      "        r = http(\u001b[90m\u001b[39;49;00m\n",
      "            \u001b[33m'\u001b[39;49;00m\u001b[33m--raw\u001b[39;49;00m\u001b[33m'\u001b[39;49;00m,\u001b[90m\u001b[39;49;00m\n",
      "            \u001b[33m'\u001b[39;49;00m\u001b[33mfoo bar\u001b[39;49;00m\u001b[33m'\u001b[39;49;00m,\u001b[90m\u001b[39;49;00m\n",
      "            \u001b[33m'\u001b[39;49;00m\u001b[33mPOST\u001b[39;49;00m\u001b[33m'\u001b[39;49;00m,\u001b[90m\u001b[39;49;00m\n",
      "            httpbin + \u001b[33m'\u001b[39;49;00m\u001b[33m/post\u001b[39;49;00m\u001b[33m'\u001b[39;49;00m,\u001b[90m\u001b[39;49;00m\n",
      "            \u001b[33m'\u001b[39;49;00m\u001b[33mfoo=bar\u001b[39;49;00m\u001b[33m'\u001b[39;49;00m,\u001b[90m\u001b[39;49;00m\n",
      "            tolerate_error_exit_status=\u001b[94mTrue\u001b[39;49;00m,\u001b[90m\u001b[39;49;00m\n",
      "        )\u001b[90m\u001b[39;49;00m\n",
      "        \u001b[94massert\u001b[39;49;00m r.exit_status == ExitStatus.ERROR\u001b[90m\u001b[39;49;00m\n",
      ">       \u001b[94massert\u001b[39;49;00m \u001b[33m'\u001b[39;49;00m\u001b[33mcannot be mixed\u001b[39;49;00m\u001b[33m'\u001b[39;49;00m \u001b[95min\u001b[39;49;00m r.stderr\u001b[90m\u001b[39;49;00m\n",
      "\u001b[1m\u001b[31mE       AssertionError: assert 'cannot be mixed' in '\\n'\u001b[0m\n",
      "\u001b[1m\u001b[31mE        +  where '\\n' = ''.stderr\u001b[0m\n",
      "\n",
      "\u001b[1m\u001b[31mcli/tests/test_httpie.py\u001b[0m:156: AssertionError\n",
      "----------------------------- Captured stderr call -----------------------------\n",
      "\n"
     ]
    },
    {
     "name": "stdout",
     "output_type": "stream",
     "text": [
      "\u001b[31m\u001b[1m________________________ test_raw_POST_redirected_stdin ________________________\u001b[0m\n",
      "\n",
      "httpbin = <pytest_httpbin.serve.Server object at 0x118afee90>\n",
      "\n",
      "    \u001b[94mdef\u001b[39;49;00m \u001b[92mtest_raw_POST_redirected_stdin\u001b[39;49;00m(httpbin):\u001b[90m\u001b[39;49;00m\n",
      "        r = http(\u001b[90m\u001b[39;49;00m\n",
      "            \u001b[33m'\u001b[39;49;00m\u001b[33m--raw\u001b[39;49;00m\u001b[33m'\u001b[39;49;00m,\u001b[90m\u001b[39;49;00m\n",
      "            \u001b[33m'\u001b[39;49;00m\u001b[33mfoo bar\u001b[39;49;00m\u001b[33m'\u001b[39;49;00m,\u001b[90m\u001b[39;49;00m\n",
      "            \u001b[33m'\u001b[39;49;00m\u001b[33mPOST\u001b[39;49;00m\u001b[33m'\u001b[39;49;00m,\u001b[90m\u001b[39;49;00m\n",
      "            httpbin + \u001b[33m'\u001b[39;49;00m\u001b[33m/post\u001b[39;49;00m\u001b[33m'\u001b[39;49;00m,\u001b[90m\u001b[39;49;00m\n",
      "            tolerate_error_exit_status=\u001b[94mTrue\u001b[39;49;00m,\u001b[90m\u001b[39;49;00m\n",
      "            env=MockEnvironment(\u001b[90m\u001b[39;49;00m\n",
      "                stdin=\u001b[33m'\u001b[39;49;00m\u001b[33msome=value\u001b[39;49;00m\u001b[33m'\u001b[39;49;00m,\u001b[90m\u001b[39;49;00m\n",
      "                stdin_isatty=\u001b[94mFalse\u001b[39;49;00m,\u001b[90m\u001b[39;49;00m\n",
      "            ),\u001b[90m\u001b[39;49;00m\n",
      "        )\u001b[90m\u001b[39;49;00m\n",
      "        \u001b[94massert\u001b[39;49;00m r.exit_status == ExitStatus.ERROR\u001b[90m\u001b[39;49;00m\n",
      ">       \u001b[94massert\u001b[39;49;00m \u001b[33m'\u001b[39;49;00m\u001b[33mcannot be mixed\u001b[39;49;00m\u001b[33m'\u001b[39;49;00m \u001b[95min\u001b[39;49;00m r.stderr\u001b[90m\u001b[39;49;00m\n",
      "\u001b[1m\u001b[31mE       AssertionError: assert 'cannot be mixed' in '\\n'\u001b[0m\n",
      "\u001b[1m\u001b[31mE        +  where '\\n' = ''.stderr\u001b[0m\n",
      "\n",
      "\u001b[1m\u001b[31mcli/tests/test_httpie.py\u001b[0m:172: AssertionError\n",
      "----------------------------- Captured stderr call -----------------------------\n",
      "\n",
      "\u001b[31m\u001b[1m______________ test_httpie_sessions_upgrade_on_non_existent_file _______________\u001b[0m\n",
      "\n",
      "tmp_path = PosixPath('/private/var/folders/wz/1s6cf6yx1w768h9dr46pvs8h0000gn/T/pytest-of-darkrsw/pytest-16/test_httpie_sessions_upgrade_o0')\n",
      "\n",
      "    \u001b[94mdef\u001b[39;49;00m \u001b[92mtest_httpie_sessions_upgrade_on_non_existent_file\u001b[39;49;00m(tmp_path):\u001b[90m\u001b[39;49;00m\n",
      "        session_path = tmp_path / \u001b[33m'\u001b[39;49;00m\u001b[33msession.json\u001b[39;49;00m\u001b[33m'\u001b[39;49;00m\u001b[90m\u001b[39;49;00m\n",
      "        result = httpie(\u001b[33m'\u001b[39;49;00m\u001b[33mcli\u001b[39;49;00m\u001b[33m'\u001b[39;49;00m, \u001b[33m'\u001b[39;49;00m\u001b[33msessions\u001b[39;49;00m\u001b[33m'\u001b[39;49;00m, \u001b[33m'\u001b[39;49;00m\u001b[33mupgrade\u001b[39;49;00m\u001b[33m'\u001b[39;49;00m, DUMMY_HOST, \u001b[96mstr\u001b[39;49;00m(session_path))\u001b[90m\u001b[39;49;00m\n",
      "        \u001b[94massert\u001b[39;49;00m result.exit_status == ExitStatus.ERROR\u001b[90m\u001b[39;49;00m\n",
      ">       \u001b[94massert\u001b[39;49;00m \u001b[33m'\u001b[39;49;00m\u001b[33mdoes not exist\u001b[39;49;00m\u001b[33m'\u001b[39;49;00m \u001b[95min\u001b[39;49;00m result.stderr\u001b[90m\u001b[39;49;00m\n",
      "\u001b[1m\u001b[31mE       assert 'does not exist' in \"HTTPie 3.2.2\\nRequests 2.31.0\\nPygments 2.17.2\\nPython 3.11.6 (main, Oct  2 2023, 13:45:54) [Clang 15.0.0 (clang-1500...e.output.formatters.xml.XMLFormatter'>,\\n                <class 'httpie.output.formatters.colors.ColorFormatter'>]}>\\n\"\u001b[0m\n",
      "\u001b[1m\u001b[31mE        +  where \"HTTPie 3.2.2\\nRequests 2.31.0\\nPygments 2.17.2\\nPython 3.11.6 (main, Oct  2 2023, 13:45:54) [Clang 15.0.0 (clang-1500...e.output.formatters.xml.XMLFormatter'>,\\n                <class 'httpie.output.formatters.colors.ColorFormatter'>]}>\\n\" = ''.stderr\u001b[0m\n",
      "\n",
      "\u001b[1m\u001b[31mcli/tests/test_httpie_cli.py\u001b[0m:99: AssertionError\n",
      "\u001b[31m\u001b[1m_____________ TestQuietFlag.test_quiet_with_check_status_non_zero ______________\u001b[0m\n",
      "\n",
      "self = <tests.test_output.TestQuietFlag object at 0x1187749d0>\n",
      "httpbin = <pytest_httpbin.serve.Server object at 0x118afee90>\n",
      "\n",
      "    \u001b[94mdef\u001b[39;49;00m \u001b[92mtest_quiet_with_check_status_non_zero\u001b[39;49;00m(\u001b[96mself\u001b[39;49;00m, httpbin):\u001b[90m\u001b[39;49;00m\n",
      "        r = http(\u001b[90m\u001b[39;49;00m\n",
      "            \u001b[33m'\u001b[39;49;00m\u001b[33m--quiet\u001b[39;49;00m\u001b[33m'\u001b[39;49;00m, \u001b[33m'\u001b[39;49;00m\u001b[33m--check-status\u001b[39;49;00m\u001b[33m'\u001b[39;49;00m, httpbin + \u001b[33m'\u001b[39;49;00m\u001b[33m/status/500\u001b[39;49;00m\u001b[33m'\u001b[39;49;00m,\u001b[90m\u001b[39;49;00m\n",
      "            tolerate_error_exit_status=\u001b[94mTrue\u001b[39;49;00m,\u001b[90m\u001b[39;49;00m\n",
      "        )\u001b[90m\u001b[39;49;00m\n",
      ">       \u001b[94massert\u001b[39;49;00m \u001b[33m'\u001b[39;49;00m\u001b[33mhttp: warning: HTTP 500\u001b[39;49;00m\u001b[33m'\u001b[39;49;00m \u001b[95min\u001b[39;49;00m r.stderr\u001b[90m\u001b[39;49;00m\n",
      "\u001b[1m\u001b[31mE       AssertionError: assert 'http: warning: HTTP 500' in ''\u001b[0m\n",
      "\u001b[1m\u001b[31mE        +  where '' = ''.stderr\u001b[0m\n",
      "\n",
      "\u001b[1m\u001b[31mcli/tests/test_output.py\u001b[0m:69: AssertionError\n",
      "----------------------------- Captured stderr call -----------------------------\n",
      "127.0.0.1 - - [12/Dec/2023 12:31:05] \"GET /status/500 HTTP/1.1\" 500 0\n",
      "\u001b[31m\u001b[1m___________ TestQuietFlag.test_quiet_with_check_status_non_zero_pipe ___________\u001b[0m\n",
      "\n",
      "self = <tests.test_output.TestQuietFlag object at 0x118775190>\n",
      "httpbin = <pytest_httpbin.serve.Server object at 0x118afee90>\n",
      "\n",
      "    \u001b[94mdef\u001b[39;49;00m \u001b[92mtest_quiet_with_check_status_non_zero_pipe\u001b[39;49;00m(\u001b[96mself\u001b[39;49;00m, httpbin):\u001b[90m\u001b[39;49;00m\n",
      "        r = http(\u001b[90m\u001b[39;49;00m\n",
      "            \u001b[33m'\u001b[39;49;00m\u001b[33m--quiet\u001b[39;49;00m\u001b[33m'\u001b[39;49;00m, \u001b[33m'\u001b[39;49;00m\u001b[33m--check-status\u001b[39;49;00m\u001b[33m'\u001b[39;49;00m, httpbin + \u001b[33m'\u001b[39;49;00m\u001b[33m/status/500\u001b[39;49;00m\u001b[33m'\u001b[39;49;00m,\u001b[90m\u001b[39;49;00m\n",
      "            tolerate_error_exit_status=\u001b[94mTrue\u001b[39;49;00m,\u001b[90m\u001b[39;49;00m\n",
      "            env=MockEnvironment(stdout_isatty=\u001b[94mFalse\u001b[39;49;00m)\u001b[90m\u001b[39;49;00m\n",
      "        )\u001b[90m\u001b[39;49;00m\n",
      ">       \u001b[94massert\u001b[39;49;00m \u001b[33m'\u001b[39;49;00m\u001b[33mhttp: warning: HTTP 500\u001b[39;49;00m\u001b[33m'\u001b[39;49;00m \u001b[95min\u001b[39;49;00m r.stderr\u001b[90m\u001b[39;49;00m\n",
      "\u001b[1m\u001b[31mE       AssertionError: assert 'http: warning: HTTP 500' in ''\u001b[0m\n",
      "\u001b[1m\u001b[31mE        +  where '' = ''.stderr\u001b[0m\n",
      "\n",
      "\u001b[1m\u001b[31mcli/tests/test_output.py\u001b[0m:77: AssertionError\n",
      "----------------------------- Captured stderr call -----------------------------\n",
      "127.0.0.1 - - [12/Dec/2023 12:31:05] \"GET /status/500 HTTP/1.1\" 500 0\n",
      "\u001b[31m\u001b[1m________ TestQuietFlag.test_quiet_quiet_with_check_status_non_zero_pipe ________\u001b[0m\n",
      "\n",
      "self = <tests.test_output.TestQuietFlag object at 0x118776110>\n",
      "httpbin = <pytest_httpbin.serve.Server object at 0x118afee90>\n",
      "\n",
      "    \u001b[94mdef\u001b[39;49;00m \u001b[92mtest_quiet_quiet_with_check_status_non_zero_pipe\u001b[39;49;00m(\u001b[96mself\u001b[39;49;00m, httpbin):\u001b[90m\u001b[39;49;00m\n",
      "        r = http(\u001b[90m\u001b[39;49;00m\n",
      "            \u001b[33m'\u001b[39;49;00m\u001b[33m--quiet\u001b[39;49;00m\u001b[33m'\u001b[39;49;00m, \u001b[33m'\u001b[39;49;00m\u001b[33m--quiet\u001b[39;49;00m\u001b[33m'\u001b[39;49;00m, \u001b[33m'\u001b[39;49;00m\u001b[33m--check-status\u001b[39;49;00m\u001b[33m'\u001b[39;49;00m, httpbin + \u001b[33m'\u001b[39;49;00m\u001b[33m/status/500\u001b[39;49;00m\u001b[33m'\u001b[39;49;00m,\u001b[90m\u001b[39;49;00m\n",
      "            tolerate_error_exit_status=\u001b[94mTrue\u001b[39;49;00m,\u001b[90m\u001b[39;49;00m\n",
      "            env=MockEnvironment(stdout_isatty=\u001b[94mFalse\u001b[39;49;00m)\u001b[90m\u001b[39;49;00m\n",
      "        )\u001b[90m\u001b[39;49;00m\n",
      ">       \u001b[94massert\u001b[39;49;00m \u001b[33m'\u001b[39;49;00m\u001b[33mhttp: warning: HTTP 500\u001b[39;49;00m\u001b[33m'\u001b[39;49;00m \u001b[95min\u001b[39;49;00m r.stderr\u001b[90m\u001b[39;49;00m\n",
      "\u001b[1m\u001b[31mE       AssertionError: assert 'http: warning: HTTP 500' in ''\u001b[0m\n",
      "\u001b[1m\u001b[31mE        +  where '' = ''.stderr\u001b[0m\n",
      "\n",
      "\u001b[1m\u001b[31mcli/tests/test_output.py\u001b[0m:92: AssertionError\n",
      "----------------------------- Captured stderr call -----------------------------\n",
      "127.0.0.1 - - [12/Dec/2023 12:31:05] \"GET /status/500 HTTP/1.1\" 500 0\n",
      "\u001b[31m\u001b[1m___________________ TestQuietFlag.test_double_quiet_on_error ___________________\u001b[0m\n",
      "\n",
      "self = <tests.test_output.TestQuietFlag object at 0x118777f10>\n",
      "httpbin = <pytest_httpbin.serve.Server object at 0x118afee90>\n",
      "\n",
      "    \u001b[94mdef\u001b[39;49;00m \u001b[92mtest_double_quiet_on_error\u001b[39;49;00m(\u001b[96mself\u001b[39;49;00m, httpbin):\u001b[90m\u001b[39;49;00m\n",
      "        r = http(\u001b[90m\u001b[39;49;00m\n",
      "            \u001b[33m'\u001b[39;49;00m\u001b[33m-qq\u001b[39;49;00m\u001b[33m'\u001b[39;49;00m, \u001b[33m'\u001b[39;49;00m\u001b[33m--check-status\u001b[39;49;00m\u001b[33m'\u001b[39;49;00m, \u001b[33m'\u001b[39;49;00m\u001b[33m$$$this.does.not.exist$$$\u001b[39;49;00m\u001b[33m'\u001b[39;49;00m,\u001b[90m\u001b[39;49;00m\n",
      "            tolerate_error_exit_status=\u001b[94mTrue\u001b[39;49;00m,\u001b[90m\u001b[39;49;00m\n",
      "        )\u001b[90m\u001b[39;49;00m\n",
      "        \u001b[94massert\u001b[39;49;00m \u001b[95mnot\u001b[39;49;00m r\u001b[90m\u001b[39;49;00m\n",
      ">       \u001b[94massert\u001b[39;49;00m \u001b[33m'\u001b[39;49;00m\u001b[33mCouldn’t resolve the given hostname\u001b[39;49;00m\u001b[33m'\u001b[39;49;00m \u001b[95min\u001b[39;49;00m r.stderr\u001b[90m\u001b[39;49;00m\n",
      "\u001b[1m\u001b[31mE       AssertionError: assert 'Couldn’t resolve the given hostname' in ''\u001b[0m\n",
      "\u001b[1m\u001b[31mE        +  where '' = ''.stderr\u001b[0m\n",
      "\n",
      "\u001b[1m\u001b[31mcli/tests/test_output.py\u001b[0m:119: AssertionError\n",
      "\u001b[31m\u001b[1m____________________ test_old_session_cookie_layout_warning ____________________\u001b[0m\n",
      "\n",
      "basic_session = PosixPath('/private/var/folders/wz/1s6cf6yx1w768h9dr46pvs8h0000gn/T/pytest-of-darkrsw/pytest-16/test_old_session_cookie_layout0/session.json')\n",
      "mock_env = <MockEnvironment {'cleanup': <function MockEnvironment.cleanup at 0x11827d120>,\n",
      " 'colors': 0,\n",
      " 'config': {'default_opt...'stdout': <tempfile._TemporaryFileWrapper object at 0x1193bf090>,\n",
      " 'stdout_encoding': 'utf-8',\n",
      " 'stdout_isatty': True}>\n",
      "\n",
      "    \u001b[94mdef\u001b[39;49;00m \u001b[92mtest_old_session_cookie_layout_warning\u001b[39;49;00m(basic_session, mock_env):\u001b[90m\u001b[39;49;00m\n",
      "        \u001b[94mwith\u001b[39;49;00m open_session(basic_session, mock_env) \u001b[94mas\u001b[39;49;00m session:\u001b[90m\u001b[39;49;00m\n",
      "            \u001b[90m# Use the old layout & set a cookie\u001b[39;49;00m\u001b[90m\u001b[39;49;00m\n",
      "            session[\u001b[33m'\u001b[39;49;00m\u001b[33mcookies\u001b[39;49;00m\u001b[33m'\u001b[39;49;00m] = {}\u001b[90m\u001b[39;49;00m\n",
      "            session.cookies.set(\u001b[33m'\u001b[39;49;00m\u001b[33mfoo\u001b[39;49;00m\u001b[33m'\u001b[39;49;00m, \u001b[33m'\u001b[39;49;00m\u001b[33mbar\u001b[39;49;00m\u001b[33m'\u001b[39;49;00m)\u001b[90m\u001b[39;49;00m\n",
      "    \u001b[90m\u001b[39;49;00m\n",
      "        \u001b[94massert\u001b[39;49;00m read_stderr(mock_env) == \u001b[33mb\u001b[39;49;00m\u001b[33m'\u001b[39;49;00m\u001b[33m'\u001b[39;49;00m\u001b[90m\u001b[39;49;00m\n",
      "    \u001b[90m\u001b[39;49;00m\n",
      "        \u001b[94mwith\u001b[39;49;00m open_session(basic_session, mock_env, read_only=\u001b[94mTrue\u001b[39;49;00m) \u001b[94mas\u001b[39;49;00m session:\u001b[90m\u001b[39;49;00m\n",
      ">           \u001b[94massert\u001b[39;49;00m \u001b[33mb\u001b[39;49;00m\u001b[33m'\u001b[39;49;00m\u001b[33mOutdated layout detected\u001b[39;49;00m\u001b[33m'\u001b[39;49;00m \u001b[95min\u001b[39;49;00m read_stderr(mock_env)\u001b[90m\u001b[39;49;00m\n",
      "\u001b[1m\u001b[31mE           AssertionError: assert b'Outdated layout detected' in b''\u001b[0m\n",
      "\u001b[1m\u001b[31mE            +  where b'' = read_stderr(<MockEnvironment {'cleanup': <function MockEnvironment.cleanup at 0x11827d120>,\\n 'colors': 0,\\n 'config': {'default_opt...'stdout': <tempfile._TemporaryFileWrapper object at 0x1193bf090>,\\n 'stdout_encoding': 'utf-8',\\n 'stdout_isatty': True}>)\u001b[0m\n",
      "\n",
      "\u001b[1m\u001b[31mcli/tests/test_sessions.py\u001b[0m:605: AssertionError\n",
      "---------------------------- Captured stderr setup -----------------------------\n",
      "127.0.0.1 - - [12/Dec/2023 12:31:35] \"GET /get HTTP/1.1\" 200 269\n",
      "\u001b[31m\u001b[1m_________ test_cookie_security_warnings_on_raw_cookies[cookies0-True] __________\u001b[0m\n",
      "\n",
      "basic_session = PosixPath('/private/var/folders/wz/1s6cf6yx1w768h9dr46pvs8h0000gn/T/pytest-of-darkrsw/pytest-16/test_cookie_security_warnings_0/session.json')\n",
      "mock_env = <MockEnvironment {'cleanup': <function MockEnvironment.cleanup at 0x11827d120>,\n",
      " 'colors': 0,\n",
      " 'config': {'default_opt...'stdout': <tempfile._TemporaryFileWrapper object at 0x118b59a50>,\n",
      " 'stdout_encoding': 'utf-8',\n",
      " 'stdout_isatty': True}>\n",
      "cookies = {'foo': {'value': 'bar'}}, expect_warning = True\n",
      "\n",
      "    \u001b[37m@pytest\u001b[39;49;00m.mark.parametrize(\u001b[33m'\u001b[39;49;00m\u001b[33mcookies, expect_warning\u001b[39;49;00m\u001b[33m'\u001b[39;49;00m, [\u001b[90m\u001b[39;49;00m\n",
      "        \u001b[90m# Old-style cookie format\u001b[39;49;00m\u001b[90m\u001b[39;49;00m\n",
      "        (\u001b[90m\u001b[39;49;00m\n",
      "            \u001b[90m# Without 'domain' set\u001b[39;49;00m\u001b[90m\u001b[39;49;00m\n",
      "            {\u001b[33m'\u001b[39;49;00m\u001b[33mfoo\u001b[39;49;00m\u001b[33m'\u001b[39;49;00m: {\u001b[33m'\u001b[39;49;00m\u001b[33mvalue\u001b[39;49;00m\u001b[33m'\u001b[39;49;00m: \u001b[33m'\u001b[39;49;00m\u001b[33mbar\u001b[39;49;00m\u001b[33m'\u001b[39;49;00m}},\u001b[90m\u001b[39;49;00m\n",
      "            \u001b[94mTrue\u001b[39;49;00m\u001b[90m\u001b[39;49;00m\n",
      "        ),\u001b[90m\u001b[39;49;00m\n",
      "        (\u001b[90m\u001b[39;49;00m\n",
      "            \u001b[90m# With 'domain' set to empty string\u001b[39;49;00m\u001b[90m\u001b[39;49;00m\n",
      "            {\u001b[33m'\u001b[39;49;00m\u001b[33mfoo\u001b[39;49;00m\u001b[33m'\u001b[39;49;00m: {\u001b[33m'\u001b[39;49;00m\u001b[33mvalue\u001b[39;49;00m\u001b[33m'\u001b[39;49;00m: \u001b[33m'\u001b[39;49;00m\u001b[33mbar\u001b[39;49;00m\u001b[33m'\u001b[39;49;00m, \u001b[33m'\u001b[39;49;00m\u001b[33mdomain\u001b[39;49;00m\u001b[33m'\u001b[39;49;00m: \u001b[33m'\u001b[39;49;00m\u001b[33m'\u001b[39;49;00m}},\u001b[90m\u001b[39;49;00m\n",
      "            \u001b[94mTrue\u001b[39;49;00m\u001b[90m\u001b[39;49;00m\n",
      "        ),\u001b[90m\u001b[39;49;00m\n",
      "        (\u001b[90m\u001b[39;49;00m\n",
      "            \u001b[90m# With 'domain' set to null\u001b[39;49;00m\u001b[90m\u001b[39;49;00m\n",
      "            {\u001b[33m'\u001b[39;49;00m\u001b[33mfoo\u001b[39;49;00m\u001b[33m'\u001b[39;49;00m: {\u001b[33m'\u001b[39;49;00m\u001b[33mvalue\u001b[39;49;00m\u001b[33m'\u001b[39;49;00m: \u001b[33m'\u001b[39;49;00m\u001b[33mbar\u001b[39;49;00m\u001b[33m'\u001b[39;49;00m, \u001b[33m'\u001b[39;49;00m\u001b[33mdomain\u001b[39;49;00m\u001b[33m'\u001b[39;49;00m: \u001b[94mNone\u001b[39;49;00m}},\u001b[90m\u001b[39;49;00m\n",
      "            \u001b[94mFalse\u001b[39;49;00m,\u001b[90m\u001b[39;49;00m\n",
      "        ),\u001b[90m\u001b[39;49;00m\n",
      "        (\u001b[90m\u001b[39;49;00m\n",
      "            \u001b[90m# With 'domain' set to a URL\u001b[39;49;00m\u001b[90m\u001b[39;49;00m\n",
      "            {\u001b[33m'\u001b[39;49;00m\u001b[33mfoo\u001b[39;49;00m\u001b[33m'\u001b[39;49;00m: {\u001b[33m'\u001b[39;49;00m\u001b[33mvalue\u001b[39;49;00m\u001b[33m'\u001b[39;49;00m: \u001b[33m'\u001b[39;49;00m\u001b[33mbar\u001b[39;49;00m\u001b[33m'\u001b[39;49;00m, \u001b[33m'\u001b[39;49;00m\u001b[33mdomain\u001b[39;49;00m\u001b[33m'\u001b[39;49;00m: DUMMY_HOST}},\u001b[90m\u001b[39;49;00m\n",
      "            \u001b[94mFalse\u001b[39;49;00m,\u001b[90m\u001b[39;49;00m\n",
      "        ),\u001b[90m\u001b[39;49;00m\n",
      "        \u001b[90m# New style cookie format\u001b[39;49;00m\u001b[90m\u001b[39;49;00m\n",
      "        (\u001b[90m\u001b[39;49;00m\n",
      "            \u001b[90m# Without 'domain' set\u001b[39;49;00m\u001b[90m\u001b[39;49;00m\n",
      "            [{\u001b[33m'\u001b[39;49;00m\u001b[33mname\u001b[39;49;00m\u001b[33m'\u001b[39;49;00m: \u001b[33m'\u001b[39;49;00m\u001b[33mfoo\u001b[39;49;00m\u001b[33m'\u001b[39;49;00m, \u001b[33m'\u001b[39;49;00m\u001b[33mvalue\u001b[39;49;00m\u001b[33m'\u001b[39;49;00m: \u001b[33m'\u001b[39;49;00m\u001b[33mbar\u001b[39;49;00m\u001b[33m'\u001b[39;49;00m}],\u001b[90m\u001b[39;49;00m\n",
      "            \u001b[94mFalse\u001b[39;49;00m\u001b[90m\u001b[39;49;00m\n",
      "        ),\u001b[90m\u001b[39;49;00m\n",
      "        (\u001b[90m\u001b[39;49;00m\n",
      "            \u001b[90m# With 'domain' set to empty string\u001b[39;49;00m\u001b[90m\u001b[39;49;00m\n",
      "            [{\u001b[33m'\u001b[39;49;00m\u001b[33mname\u001b[39;49;00m\u001b[33m'\u001b[39;49;00m: \u001b[33m'\u001b[39;49;00m\u001b[33mfoo\u001b[39;49;00m\u001b[33m'\u001b[39;49;00m, \u001b[33m'\u001b[39;49;00m\u001b[33mvalue\u001b[39;49;00m\u001b[33m'\u001b[39;49;00m: \u001b[33m'\u001b[39;49;00m\u001b[33mbar\u001b[39;49;00m\u001b[33m'\u001b[39;49;00m, \u001b[33m'\u001b[39;49;00m\u001b[33mdomain\u001b[39;49;00m\u001b[33m'\u001b[39;49;00m: \u001b[33m'\u001b[39;49;00m\u001b[33m'\u001b[39;49;00m}],\u001b[90m\u001b[39;49;00m\n",
      "            \u001b[94mFalse\u001b[39;49;00m\u001b[90m\u001b[39;49;00m\n",
      "        ),\u001b[90m\u001b[39;49;00m\n",
      "        (\u001b[90m\u001b[39;49;00m\n",
      "            \u001b[90m# With 'domain' set to null\u001b[39;49;00m\u001b[90m\u001b[39;49;00m\n",
      "            [{\u001b[33m'\u001b[39;49;00m\u001b[33mname\u001b[39;49;00m\u001b[33m'\u001b[39;49;00m: \u001b[33m'\u001b[39;49;00m\u001b[33mfoo\u001b[39;49;00m\u001b[33m'\u001b[39;49;00m, \u001b[33m'\u001b[39;49;00m\u001b[33mvalue\u001b[39;49;00m\u001b[33m'\u001b[39;49;00m: \u001b[33m'\u001b[39;49;00m\u001b[33mbar\u001b[39;49;00m\u001b[33m'\u001b[39;49;00m, \u001b[33m'\u001b[39;49;00m\u001b[33mdomain\u001b[39;49;00m\u001b[33m'\u001b[39;49;00m: \u001b[94mNone\u001b[39;49;00m}],\u001b[90m\u001b[39;49;00m\n",
      "            \u001b[94mFalse\u001b[39;49;00m,\u001b[90m\u001b[39;49;00m\n",
      "        ),\u001b[90m\u001b[39;49;00m\n",
      "        (\u001b[90m\u001b[39;49;00m\n",
      "            \u001b[90m# With 'domain' set to a URL\u001b[39;49;00m\u001b[90m\u001b[39;49;00m\n",
      "            [{\u001b[33m'\u001b[39;49;00m\u001b[33mname\u001b[39;49;00m\u001b[33m'\u001b[39;49;00m: \u001b[33m'\u001b[39;49;00m\u001b[33mfoo\u001b[39;49;00m\u001b[33m'\u001b[39;49;00m, \u001b[33m'\u001b[39;49;00m\u001b[33mvalue\u001b[39;49;00m\u001b[33m'\u001b[39;49;00m: \u001b[33m'\u001b[39;49;00m\u001b[33mbar\u001b[39;49;00m\u001b[33m'\u001b[39;49;00m, \u001b[33m'\u001b[39;49;00m\u001b[33mdomain\u001b[39;49;00m\u001b[33m'\u001b[39;49;00m: DUMMY_HOST}],\u001b[90m\u001b[39;49;00m\n",
      "            \u001b[94mFalse\u001b[39;49;00m,\u001b[90m\u001b[39;49;00m\n",
      "        ),\u001b[90m\u001b[39;49;00m\n",
      "    ])\u001b[90m\u001b[39;49;00m\n",
      "    \u001b[94mdef\u001b[39;49;00m \u001b[92mtest_cookie_security_warnings_on_raw_cookies\u001b[39;49;00m(basic_session, mock_env, cookies, expect_warning):\u001b[90m\u001b[39;49;00m\n",
      "        \u001b[94mwith\u001b[39;49;00m open_raw_session(basic_session) \u001b[94mas\u001b[39;49;00m raw_session:\u001b[90m\u001b[39;49;00m\n",
      "            raw_session[\u001b[33m'\u001b[39;49;00m\u001b[33mcookies\u001b[39;49;00m\u001b[33m'\u001b[39;49;00m] = cookies\u001b[90m\u001b[39;49;00m\n",
      "    \u001b[90m\u001b[39;49;00m\n",
      "        \u001b[94mwith\u001b[39;49;00m open_session(basic_session, mock_env, read_only=\u001b[94mTrue\u001b[39;49;00m):\u001b[90m\u001b[39;49;00m\n",
      "            warning = \u001b[33mb\u001b[39;49;00m\u001b[33m'\u001b[39;49;00m\u001b[33mOutdated layout detected\u001b[39;49;00m\u001b[33m'\u001b[39;49;00m\u001b[90m\u001b[39;49;00m\n",
      "            stderr = read_stderr(mock_env)\u001b[90m\u001b[39;49;00m\n",
      "    \u001b[90m\u001b[39;49;00m\n",
      "            \u001b[94mif\u001b[39;49;00m expect_warning:\u001b[90m\u001b[39;49;00m\n",
      ">               \u001b[94massert\u001b[39;49;00m warning \u001b[95min\u001b[39;49;00m stderr\u001b[90m\u001b[39;49;00m\n",
      "\u001b[1m\u001b[31mE               AssertionError: assert b'Outdated layout detected' in b''\u001b[0m\n",
      "\n",
      "\u001b[1m\u001b[31mcli/tests/test_sessions.py\u001b[0m:661: AssertionError\n",
      "---------------------------- Captured stderr setup -----------------------------\n",
      "127.0.0.1 - - [12/Dec/2023 12:31:35] \"GET /get HTTP/1.1\" 200 269\n",
      "\u001b[31m\u001b[1m_________ test_cookie_security_warnings_on_raw_cookies[cookies1-True] __________\u001b[0m\n",
      "\n",
      "basic_session = PosixPath('/private/var/folders/wz/1s6cf6yx1w768h9dr46pvs8h0000gn/T/pytest-of-darkrsw/pytest-16/test_cookie_security_warnings_1/session.json')\n",
      "mock_env = <MockEnvironment {'cleanup': <function MockEnvironment.cleanup at 0x11827d120>,\n",
      " 'colors': 0,\n",
      " 'config': {'default_opt...'stdout': <tempfile._TemporaryFileWrapper object at 0x1191c3f50>,\n",
      " 'stdout_encoding': 'utf-8',\n",
      " 'stdout_isatty': True}>\n",
      "cookies = {'foo': {'domain': '', 'value': 'bar'}}, expect_warning = True\n",
      "\n",
      "    \u001b[37m@pytest\u001b[39;49;00m.mark.parametrize(\u001b[33m'\u001b[39;49;00m\u001b[33mcookies, expect_warning\u001b[39;49;00m\u001b[33m'\u001b[39;49;00m, [\u001b[90m\u001b[39;49;00m\n",
      "        \u001b[90m# Old-style cookie format\u001b[39;49;00m\u001b[90m\u001b[39;49;00m\n",
      "        (\u001b[90m\u001b[39;49;00m\n",
      "            \u001b[90m# Without 'domain' set\u001b[39;49;00m\u001b[90m\u001b[39;49;00m\n",
      "            {\u001b[33m'\u001b[39;49;00m\u001b[33mfoo\u001b[39;49;00m\u001b[33m'\u001b[39;49;00m: {\u001b[33m'\u001b[39;49;00m\u001b[33mvalue\u001b[39;49;00m\u001b[33m'\u001b[39;49;00m: \u001b[33m'\u001b[39;49;00m\u001b[33mbar\u001b[39;49;00m\u001b[33m'\u001b[39;49;00m}},\u001b[90m\u001b[39;49;00m\n",
      "            \u001b[94mTrue\u001b[39;49;00m\u001b[90m\u001b[39;49;00m\n",
      "        ),\u001b[90m\u001b[39;49;00m\n",
      "        (\u001b[90m\u001b[39;49;00m\n",
      "            \u001b[90m# With 'domain' set to empty string\u001b[39;49;00m\u001b[90m\u001b[39;49;00m\n",
      "            {\u001b[33m'\u001b[39;49;00m\u001b[33mfoo\u001b[39;49;00m\u001b[33m'\u001b[39;49;00m: {\u001b[33m'\u001b[39;49;00m\u001b[33mvalue\u001b[39;49;00m\u001b[33m'\u001b[39;49;00m: \u001b[33m'\u001b[39;49;00m\u001b[33mbar\u001b[39;49;00m\u001b[33m'\u001b[39;49;00m, \u001b[33m'\u001b[39;49;00m\u001b[33mdomain\u001b[39;49;00m\u001b[33m'\u001b[39;49;00m: \u001b[33m'\u001b[39;49;00m\u001b[33m'\u001b[39;49;00m}},\u001b[90m\u001b[39;49;00m\n",
      "            \u001b[94mTrue\u001b[39;49;00m\u001b[90m\u001b[39;49;00m\n",
      "        ),\u001b[90m\u001b[39;49;00m\n",
      "        (\u001b[90m\u001b[39;49;00m\n",
      "            \u001b[90m# With 'domain' set to null\u001b[39;49;00m\u001b[90m\u001b[39;49;00m\n",
      "            {\u001b[33m'\u001b[39;49;00m\u001b[33mfoo\u001b[39;49;00m\u001b[33m'\u001b[39;49;00m: {\u001b[33m'\u001b[39;49;00m\u001b[33mvalue\u001b[39;49;00m\u001b[33m'\u001b[39;49;00m: \u001b[33m'\u001b[39;49;00m\u001b[33mbar\u001b[39;49;00m\u001b[33m'\u001b[39;49;00m, \u001b[33m'\u001b[39;49;00m\u001b[33mdomain\u001b[39;49;00m\u001b[33m'\u001b[39;49;00m: \u001b[94mNone\u001b[39;49;00m}},\u001b[90m\u001b[39;49;00m\n",
      "            \u001b[94mFalse\u001b[39;49;00m,\u001b[90m\u001b[39;49;00m\n",
      "        ),\u001b[90m\u001b[39;49;00m\n",
      "        (\u001b[90m\u001b[39;49;00m\n",
      "            \u001b[90m# With 'domain' set to a URL\u001b[39;49;00m\u001b[90m\u001b[39;49;00m\n",
      "            {\u001b[33m'\u001b[39;49;00m\u001b[33mfoo\u001b[39;49;00m\u001b[33m'\u001b[39;49;00m: {\u001b[33m'\u001b[39;49;00m\u001b[33mvalue\u001b[39;49;00m\u001b[33m'\u001b[39;49;00m: \u001b[33m'\u001b[39;49;00m\u001b[33mbar\u001b[39;49;00m\u001b[33m'\u001b[39;49;00m, \u001b[33m'\u001b[39;49;00m\u001b[33mdomain\u001b[39;49;00m\u001b[33m'\u001b[39;49;00m: DUMMY_HOST}},\u001b[90m\u001b[39;49;00m\n",
      "            \u001b[94mFalse\u001b[39;49;00m,\u001b[90m\u001b[39;49;00m\n",
      "        ),\u001b[90m\u001b[39;49;00m\n",
      "        \u001b[90m# New style cookie format\u001b[39;49;00m\u001b[90m\u001b[39;49;00m\n",
      "        (\u001b[90m\u001b[39;49;00m\n",
      "            \u001b[90m# Without 'domain' set\u001b[39;49;00m\u001b[90m\u001b[39;49;00m\n",
      "            [{\u001b[33m'\u001b[39;49;00m\u001b[33mname\u001b[39;49;00m\u001b[33m'\u001b[39;49;00m: \u001b[33m'\u001b[39;49;00m\u001b[33mfoo\u001b[39;49;00m\u001b[33m'\u001b[39;49;00m, \u001b[33m'\u001b[39;49;00m\u001b[33mvalue\u001b[39;49;00m\u001b[33m'\u001b[39;49;00m: \u001b[33m'\u001b[39;49;00m\u001b[33mbar\u001b[39;49;00m\u001b[33m'\u001b[39;49;00m}],\u001b[90m\u001b[39;49;00m\n",
      "            \u001b[94mFalse\u001b[39;49;00m\u001b[90m\u001b[39;49;00m\n",
      "        ),\u001b[90m\u001b[39;49;00m\n",
      "        (\u001b[90m\u001b[39;49;00m\n",
      "            \u001b[90m# With 'domain' set to empty string\u001b[39;49;00m\u001b[90m\u001b[39;49;00m\n",
      "            [{\u001b[33m'\u001b[39;49;00m\u001b[33mname\u001b[39;49;00m\u001b[33m'\u001b[39;49;00m: \u001b[33m'\u001b[39;49;00m\u001b[33mfoo\u001b[39;49;00m\u001b[33m'\u001b[39;49;00m, \u001b[33m'\u001b[39;49;00m\u001b[33mvalue\u001b[39;49;00m\u001b[33m'\u001b[39;49;00m: \u001b[33m'\u001b[39;49;00m\u001b[33mbar\u001b[39;49;00m\u001b[33m'\u001b[39;49;00m, \u001b[33m'\u001b[39;49;00m\u001b[33mdomain\u001b[39;49;00m\u001b[33m'\u001b[39;49;00m: \u001b[33m'\u001b[39;49;00m\u001b[33m'\u001b[39;49;00m}],\u001b[90m\u001b[39;49;00m\n",
      "            \u001b[94mFalse\u001b[39;49;00m\u001b[90m\u001b[39;49;00m\n",
      "        ),\u001b[90m\u001b[39;49;00m\n",
      "        (\u001b[90m\u001b[39;49;00m\n",
      "            \u001b[90m# With 'domain' set to null\u001b[39;49;00m\u001b[90m\u001b[39;49;00m\n",
      "            [{\u001b[33m'\u001b[39;49;00m\u001b[33mname\u001b[39;49;00m\u001b[33m'\u001b[39;49;00m: \u001b[33m'\u001b[39;49;00m\u001b[33mfoo\u001b[39;49;00m\u001b[33m'\u001b[39;49;00m, \u001b[33m'\u001b[39;49;00m\u001b[33mvalue\u001b[39;49;00m\u001b[33m'\u001b[39;49;00m: \u001b[33m'\u001b[39;49;00m\u001b[33mbar\u001b[39;49;00m\u001b[33m'\u001b[39;49;00m, \u001b[33m'\u001b[39;49;00m\u001b[33mdomain\u001b[39;49;00m\u001b[33m'\u001b[39;49;00m: \u001b[94mNone\u001b[39;49;00m}],\u001b[90m\u001b[39;49;00m\n",
      "            \u001b[94mFalse\u001b[39;49;00m,\u001b[90m\u001b[39;49;00m\n",
      "        ),\u001b[90m\u001b[39;49;00m\n",
      "        (\u001b[90m\u001b[39;49;00m\n",
      "            \u001b[90m# With 'domain' set to a URL\u001b[39;49;00m\u001b[90m\u001b[39;49;00m\n",
      "            [{\u001b[33m'\u001b[39;49;00m\u001b[33mname\u001b[39;49;00m\u001b[33m'\u001b[39;49;00m: \u001b[33m'\u001b[39;49;00m\u001b[33mfoo\u001b[39;49;00m\u001b[33m'\u001b[39;49;00m, \u001b[33m'\u001b[39;49;00m\u001b[33mvalue\u001b[39;49;00m\u001b[33m'\u001b[39;49;00m: \u001b[33m'\u001b[39;49;00m\u001b[33mbar\u001b[39;49;00m\u001b[33m'\u001b[39;49;00m, \u001b[33m'\u001b[39;49;00m\u001b[33mdomain\u001b[39;49;00m\u001b[33m'\u001b[39;49;00m: DUMMY_HOST}],\u001b[90m\u001b[39;49;00m\n",
      "            \u001b[94mFalse\u001b[39;49;00m,\u001b[90m\u001b[39;49;00m\n",
      "        ),\u001b[90m\u001b[39;49;00m\n",
      "    ])\u001b[90m\u001b[39;49;00m\n",
      "    \u001b[94mdef\u001b[39;49;00m \u001b[92mtest_cookie_security_warnings_on_raw_cookies\u001b[39;49;00m(basic_session, mock_env, cookies, expect_warning):\u001b[90m\u001b[39;49;00m\n",
      "        \u001b[94mwith\u001b[39;49;00m open_raw_session(basic_session) \u001b[94mas\u001b[39;49;00m raw_session:\u001b[90m\u001b[39;49;00m\n",
      "            raw_session[\u001b[33m'\u001b[39;49;00m\u001b[33mcookies\u001b[39;49;00m\u001b[33m'\u001b[39;49;00m] = cookies\u001b[90m\u001b[39;49;00m\n",
      "    \u001b[90m\u001b[39;49;00m\n",
      "        \u001b[94mwith\u001b[39;49;00m open_session(basic_session, mock_env, read_only=\u001b[94mTrue\u001b[39;49;00m):\u001b[90m\u001b[39;49;00m\n",
      "            warning = \u001b[33mb\u001b[39;49;00m\u001b[33m'\u001b[39;49;00m\u001b[33mOutdated layout detected\u001b[39;49;00m\u001b[33m'\u001b[39;49;00m\u001b[90m\u001b[39;49;00m\n",
      "            stderr = read_stderr(mock_env)\u001b[90m\u001b[39;49;00m\n",
      "    \u001b[90m\u001b[39;49;00m\n",
      "            \u001b[94mif\u001b[39;49;00m expect_warning:\u001b[90m\u001b[39;49;00m\n",
      ">               \u001b[94massert\u001b[39;49;00m warning \u001b[95min\u001b[39;49;00m stderr\u001b[90m\u001b[39;49;00m\n",
      "\u001b[1m\u001b[31mE               AssertionError: assert b'Outdated layout detected' in b''\u001b[0m\n",
      "\n",
      "\u001b[1m\u001b[31mcli/tests/test_sessions.py\u001b[0m:661: AssertionError\n",
      "---------------------------- Captured stderr setup -----------------------------\n",
      "127.0.0.1 - - [12/Dec/2023 12:31:35] \"GET /get HTTP/1.1\" 200 269\n",
      "\u001b[31m\u001b[1m________________ test_headers_old_layout_warning[headers1-True] ________________\u001b[0m\n",
      "\n",
      "basic_session = PosixPath('/private/var/folders/wz/1s6cf6yx1w768h9dr46pvs8h0000gn/T/pytest-of-darkrsw/pytest-16/test_headers_old_layout_warnin1/session.json')\n",
      "mock_env = <MockEnvironment {'cleanup': <function MockEnvironment.cleanup at 0x11827d120>,\n",
      " 'colors': 0,\n",
      " 'config': {'default_opt...'stdout': <tempfile._TemporaryFileWrapper object at 0x118f44410>,\n",
      " 'stdout_encoding': 'utf-8',\n",
      " 'stdout_isatty': True}>\n",
      "headers = {'Foo': 'bar'}, expect_warning = True\n",
      "\n"
     ]
    },
    {
     "name": "stdout",
     "output_type": "stream",
     "text": [
      "    \u001b[37m@pytest\u001b[39;49;00m.mark.parametrize(\u001b[33m'\u001b[39;49;00m\u001b[33mheaders, expect_warning\u001b[39;49;00m\u001b[33m'\u001b[39;49;00m, [\u001b[90m\u001b[39;49;00m\n",
      "        \u001b[90m# Old-style header format\u001b[39;49;00m\u001b[90m\u001b[39;49;00m\n",
      "        (\u001b[90m\u001b[39;49;00m\n",
      "            {},\u001b[90m\u001b[39;49;00m\n",
      "            \u001b[94mFalse\u001b[39;49;00m\u001b[90m\u001b[39;49;00m\n",
      "        ),\u001b[90m\u001b[39;49;00m\n",
      "        (\u001b[90m\u001b[39;49;00m\n",
      "            {\u001b[33m'\u001b[39;49;00m\u001b[33mFoo\u001b[39;49;00m\u001b[33m'\u001b[39;49;00m: \u001b[33m'\u001b[39;49;00m\u001b[33mbar\u001b[39;49;00m\u001b[33m'\u001b[39;49;00m},\u001b[90m\u001b[39;49;00m\n",
      "            \u001b[94mTrue\u001b[39;49;00m\u001b[90m\u001b[39;49;00m\n",
      "        ),\u001b[90m\u001b[39;49;00m\n",
      "        \u001b[90m# New style header format\u001b[39;49;00m\u001b[90m\u001b[39;49;00m\n",
      "        (\u001b[90m\u001b[39;49;00m\n",
      "            [],\u001b[90m\u001b[39;49;00m\n",
      "            \u001b[94mFalse\u001b[39;49;00m\u001b[90m\u001b[39;49;00m\n",
      "        ),\u001b[90m\u001b[39;49;00m\n",
      "        (\u001b[90m\u001b[39;49;00m\n",
      "            [{\u001b[33m'\u001b[39;49;00m\u001b[33mname\u001b[39;49;00m\u001b[33m'\u001b[39;49;00m: \u001b[33m'\u001b[39;49;00m\u001b[33mFoo\u001b[39;49;00m\u001b[33m'\u001b[39;49;00m, \u001b[33m'\u001b[39;49;00m\u001b[33mvalue\u001b[39;49;00m\u001b[33m'\u001b[39;49;00m: \u001b[33m'\u001b[39;49;00m\u001b[33mBar\u001b[39;49;00m\u001b[33m'\u001b[39;49;00m}],\u001b[90m\u001b[39;49;00m\n",
      "            \u001b[94mFalse\u001b[39;49;00m\u001b[90m\u001b[39;49;00m\n",
      "        ),\u001b[90m\u001b[39;49;00m\n",
      "    ])\u001b[90m\u001b[39;49;00m\n",
      "    \u001b[94mdef\u001b[39;49;00m \u001b[92mtest_headers_old_layout_warning\u001b[39;49;00m(basic_session, mock_env, headers, expect_warning):\u001b[90m\u001b[39;49;00m\n",
      "        \u001b[94mwith\u001b[39;49;00m open_raw_session(basic_session) \u001b[94mas\u001b[39;49;00m raw_session:\u001b[90m\u001b[39;49;00m\n",
      "            raw_session[\u001b[33m'\u001b[39;49;00m\u001b[33mheaders\u001b[39;49;00m\u001b[33m'\u001b[39;49;00m] = headers\u001b[90m\u001b[39;49;00m\n",
      "    \u001b[90m\u001b[39;49;00m\n",
      "        \u001b[94mwith\u001b[39;49;00m open_session(basic_session, mock_env, read_only=\u001b[94mTrue\u001b[39;49;00m):\u001b[90m\u001b[39;49;00m\n",
      "            warning = \u001b[33mb\u001b[39;49;00m\u001b[33m'\u001b[39;49;00m\u001b[33mOutdated layout detected\u001b[39;49;00m\u001b[33m'\u001b[39;49;00m\u001b[90m\u001b[39;49;00m\n",
      "            stderr = read_stderr(mock_env)\u001b[90m\u001b[39;49;00m\n",
      "    \u001b[90m\u001b[39;49;00m\n",
      "            \u001b[94mif\u001b[39;49;00m expect_warning:\u001b[90m\u001b[39;49;00m\n",
      ">               \u001b[94massert\u001b[39;49;00m warning \u001b[95min\u001b[39;49;00m stderr\u001b[90m\u001b[39;49;00m\n",
      "\u001b[1m\u001b[31mE               AssertionError: assert b'Outdated layout detected' in b''\u001b[0m\n",
      "\n",
      "\u001b[1m\u001b[31mcli/tests/test_sessions.py\u001b[0m:739: AssertionError\n",
      "---------------------------- Captured stderr setup -----------------------------\n",
      "127.0.0.1 - - [12/Dec/2023 12:31:36] \"GET /get HTTP/1.1\" 200 269\n",
      "\u001b[31m\u001b[1m__________________________ test_outdated_layout_mixed __________________________\u001b[0m\n",
      "\n",
      "basic_session = PosixPath('/private/var/folders/wz/1s6cf6yx1w768h9dr46pvs8h0000gn/T/pytest-of-darkrsw/pytest-16/test_outdated_layout_mixed0/session.json')\n",
      "mock_env = <MockEnvironment {'cleanup': <function MockEnvironment.cleanup at 0x11827d120>,\n",
      " 'colors': 0,\n",
      " 'config': {'default_opt...'stdout': <tempfile._TemporaryFileWrapper object at 0x1193fe5d0>,\n",
      " 'stdout_encoding': 'utf-8',\n",
      " 'stdout_isatty': True}>\n",
      "\n",
      "    \u001b[94mdef\u001b[39;49;00m \u001b[92mtest_outdated_layout_mixed\u001b[39;49;00m(basic_session, mock_env):\u001b[90m\u001b[39;49;00m\n",
      "        \u001b[94mwith\u001b[39;49;00m open_raw_session(basic_session) \u001b[94mas\u001b[39;49;00m raw_session:\u001b[90m\u001b[39;49;00m\n",
      "            raw_session[\u001b[33m'\u001b[39;49;00m\u001b[33mheaders\u001b[39;49;00m\u001b[33m'\u001b[39;49;00m] = {\u001b[33m'\u001b[39;49;00m\u001b[33mFoo\u001b[39;49;00m\u001b[33m'\u001b[39;49;00m: \u001b[33m'\u001b[39;49;00m\u001b[33mBar\u001b[39;49;00m\u001b[33m'\u001b[39;49;00m}\u001b[90m\u001b[39;49;00m\n",
      "            raw_session[\u001b[33m'\u001b[39;49;00m\u001b[33mcookies\u001b[39;49;00m\u001b[33m'\u001b[39;49;00m] = {\u001b[90m\u001b[39;49;00m\n",
      "                \u001b[33m'\u001b[39;49;00m\u001b[33mcookie\u001b[39;49;00m\u001b[33m'\u001b[39;49;00m: {\u001b[90m\u001b[39;49;00m\n",
      "                    \u001b[33m'\u001b[39;49;00m\u001b[33mvalue\u001b[39;49;00m\u001b[33m'\u001b[39;49;00m: \u001b[33m'\u001b[39;49;00m\u001b[33mvalue\u001b[39;49;00m\u001b[33m'\u001b[39;49;00m\u001b[90m\u001b[39;49;00m\n",
      "                }\u001b[90m\u001b[39;49;00m\n",
      "            }\u001b[90m\u001b[39;49;00m\n",
      "    \u001b[90m\u001b[39;49;00m\n",
      "        \u001b[94mwith\u001b[39;49;00m open_session(basic_session, mock_env, read_only=\u001b[94mTrue\u001b[39;49;00m):\u001b[90m\u001b[39;49;00m\n",
      "            stderr = read_stderr(mock_env)\u001b[90m\u001b[39;49;00m\n",
      "            \u001b[90m# We should only see 1 warning.\u001b[39;49;00m\u001b[90m\u001b[39;49;00m\n",
      ">           \u001b[94massert\u001b[39;49;00m stderr.count(\u001b[33mb\u001b[39;49;00m\u001b[33m'\u001b[39;49;00m\u001b[33mOutdated layout\u001b[39;49;00m\u001b[33m'\u001b[39;49;00m) == \u001b[94m1\u001b[39;49;00m\u001b[90m\u001b[39;49;00m\n",
      "\u001b[1m\u001b[31mE           AssertionError: assert 0 == 1\u001b[0m\n",
      "\u001b[1m\u001b[31mE            +  where 0 = <built-in method count of bytes object at 0x100d40338>(b'Outdated layout')\u001b[0m\n",
      "\u001b[1m\u001b[31mE            +    where <built-in method count of bytes object at 0x100d40338> = b''.count\u001b[0m\n",
      "\n",
      "\u001b[1m\u001b[31mcli/tests/test_sessions.py\u001b[0m:756: AssertionError\n",
      "---------------------------- Captured stderr setup -----------------------------\n",
      "127.0.0.1 - - [12/Dec/2023 12:31:36] \"GET /get HTTP/1.1\" 200 269\n",
      "\u001b[31m\u001b[1m___________________ TestClientCert.test_cert_file_not_found ____________________\u001b[0m\n",
      "\n",
      "self = <tests.test_ssl.TestClientCert object at 0x118a68a90>\n",
      "httpbin_secure = <pytest_httpbin.serve.SecureServer object at 0x118afe890>\n",
      "\n",
      "    \u001b[94mdef\u001b[39;49;00m \u001b[92mtest_cert_file_not_found\u001b[39;49;00m(\u001b[96mself\u001b[39;49;00m, httpbin_secure):\u001b[90m\u001b[39;49;00m\n",
      "        r = http(httpbin_secure + \u001b[33m'\u001b[39;49;00m\u001b[33m/get\u001b[39;49;00m\u001b[33m'\u001b[39;49;00m,\u001b[90m\u001b[39;49;00m\n",
      "                 \u001b[33m'\u001b[39;49;00m\u001b[33m--cert\u001b[39;49;00m\u001b[33m'\u001b[39;49;00m, \u001b[33m'\u001b[39;49;00m\u001b[33m/__not_found__\u001b[39;49;00m\u001b[33m'\u001b[39;49;00m,\u001b[90m\u001b[39;49;00m\n",
      "                 tolerate_error_exit_status=\u001b[94mTrue\u001b[39;49;00m)\u001b[90m\u001b[39;49;00m\n",
      "        \u001b[94massert\u001b[39;49;00m r.exit_status == ExitStatus.ERROR\u001b[90m\u001b[39;49;00m\n",
      ">       \u001b[94massert\u001b[39;49;00m \u001b[33m'\u001b[39;49;00m\u001b[33m/__not_found__: No such file or directory\u001b[39;49;00m\u001b[33m'\u001b[39;49;00m \u001b[95min\u001b[39;49;00m r.stderr\u001b[90m\u001b[39;49;00m\n",
      "\u001b[1m\u001b[31mE       AssertionError: assert '/__not_found__: No such file or directory' in '\\n'\u001b[0m\n",
      "\u001b[1m\u001b[31mE        +  where '\\n' = ''.stderr\u001b[0m\n",
      "\n",
      "\u001b[1m\u001b[31mcli/tests/test_ssl.py\u001b[0m:95: AssertionError\n",
      "----------------------------- Captured stderr call -----------------------------\n",
      "\n",
      "\u001b[31m\u001b[1m______________________ test_ciphers_none_can_be_selected _______________________\u001b[0m\n",
      "\n",
      "httpbin_secure = <pytest_httpbin.serve.SecureServer object at 0x118afe890>\n",
      "\n",
      "    \u001b[37m@pytest\u001b[39;49;00m.mark.skipif(IS_PYOPENSSL, reason=\u001b[33m'\u001b[39;49;00m\u001b[33mpyOpenSSL uses a different message format.\u001b[39;49;00m\u001b[33m'\u001b[39;49;00m)\u001b[90m\u001b[39;49;00m\n",
      "    \u001b[94mdef\u001b[39;49;00m \u001b[92mtest_ciphers_none_can_be_selected\u001b[39;49;00m(httpbin_secure):\u001b[90m\u001b[39;49;00m\n",
      "        r = http(\u001b[90m\u001b[39;49;00m\n",
      "            httpbin_secure.url + \u001b[33m'\u001b[39;49;00m\u001b[33m/get\u001b[39;49;00m\u001b[33m'\u001b[39;49;00m,\u001b[90m\u001b[39;49;00m\n",
      "            \u001b[33m'\u001b[39;49;00m\u001b[33m--ciphers\u001b[39;49;00m\u001b[33m'\u001b[39;49;00m,\u001b[90m\u001b[39;49;00m\n",
      "            \u001b[33m'\u001b[39;49;00m\u001b[33m__FOO__\u001b[39;49;00m\u001b[33m'\u001b[39;49;00m,\u001b[90m\u001b[39;49;00m\n",
      "            tolerate_error_exit_status=\u001b[94mTrue\u001b[39;49;00m,\u001b[90m\u001b[39;49;00m\n",
      "        )\u001b[90m\u001b[39;49;00m\n",
      "        \u001b[94massert\u001b[39;49;00m r.exit_status == ExitStatus.ERROR\u001b[90m\u001b[39;49;00m\n",
      "        \u001b[90m# Linux/macOS:\u001b[39;49;00m\u001b[90m\u001b[39;49;00m\n",
      "        \u001b[90m#   http: error: SSLError: ('No cipher can be selected.',)\u001b[39;49;00m\u001b[90m\u001b[39;49;00m\n",
      "        \u001b[90m# OpenBSD:\u001b[39;49;00m\u001b[90m\u001b[39;49;00m\n",
      "        \u001b[90m#   <https://marc.info/?l=openbsd-ports&m=159251948515635&w=2>\u001b[39;49;00m\u001b[90m\u001b[39;49;00m\n",
      "        \u001b[90m#   http: error: Error: [('SSL routines', '(UNKNOWN)SSL_internal', 'no cipher match')]\u001b[39;49;00m\u001b[90m\u001b[39;49;00m\n",
      ">       \u001b[94massert\u001b[39;49;00m \u001b[33m'\u001b[39;49;00m\u001b[33mcipher\u001b[39;49;00m\u001b[33m'\u001b[39;49;00m \u001b[95min\u001b[39;49;00m r.stderr\u001b[90m\u001b[39;49;00m\n",
      "\u001b[1m\u001b[31mE       AssertionError: assert 'cipher' in ''\u001b[0m\n",
      "\u001b[1m\u001b[31mE        +  where '' = ''.stderr\u001b[0m\n",
      "\n",
      "\u001b[1m\u001b[31mcli/tests/test_ssl.py\u001b[0m:168: AssertionError\n",
      "\u001b[31m\u001b[1m__ test_check_updates_first_time_after_data_fetch[True-higher_build_channel] ___\u001b[0m\n",
      "\n",
      "with_warnings = <PersistentMockEnvironment {'args': Namespace(method='GET', url='http://127.0.0.1:56708/get', request_items=[], reques...in_encoding': 'utf-8',\n",
      " 'stdout': <tempfile._TemporaryFileWrapper object at 0x118bcc990>,\n",
      " 'stdout_encoding': 'utf-8'}>\n",
      "httpbin = <pytest_httpbin.serve.Server object at 0x118afee90>\n",
      "fetch_update_mock = <MagicMock name='fetch_updates' id='4720915856'>\n",
      "static_fetch_data = <MagicMock name='get' id='4721886672'>\n",
      "should_issue_warning = True, build_channel = None\n",
      "\n",
      "    \u001b[37m@pytest\u001b[39;49;00m.mark.parametrize(\u001b[90m\u001b[39;49;00m\n",
      "        \u001b[33m'\u001b[39;49;00m\u001b[33mshould_issue_warning, build_channel\u001b[39;49;00m\u001b[33m'\u001b[39;49;00m,\u001b[90m\u001b[39;49;00m\n",
      "        [\u001b[90m\u001b[39;49;00m\n",
      "            (\u001b[94mFalse\u001b[39;49;00m, pytest.lazy_fixture(\u001b[33m'\u001b[39;49;00m\u001b[33mlower_build_channel\u001b[39;49;00m\u001b[33m'\u001b[39;49;00m)),\u001b[90m\u001b[39;49;00m\n",
      "            (\u001b[94mTrue\u001b[39;49;00m, pytest.lazy_fixture(\u001b[33m'\u001b[39;49;00m\u001b[33mhigher_build_channel\u001b[39;49;00m\u001b[33m'\u001b[39;49;00m)),\u001b[90m\u001b[39;49;00m\n",
      "        ],\u001b[90m\u001b[39;49;00m\n",
      "    )\u001b[90m\u001b[39;49;00m\n",
      "    \u001b[94mdef\u001b[39;49;00m \u001b[92mtest_check_updates_first_time_after_data_fetch\u001b[39;49;00m(\u001b[90m\u001b[39;49;00m\n",
      "        with_warnings,\u001b[90m\u001b[39;49;00m\n",
      "        httpbin,\u001b[90m\u001b[39;49;00m\n",
      "        fetch_update_mock,\u001b[90m\u001b[39;49;00m\n",
      "        static_fetch_data,\u001b[90m\u001b[39;49;00m\n",
      "        should_issue_warning,\u001b[90m\u001b[39;49;00m\n",
      "        build_channel,\u001b[90m\u001b[39;49;00m\n",
      "    ):\u001b[90m\u001b[39;49;00m\n",
      "        http(\u001b[33m'\u001b[39;49;00m\u001b[33mfetch_updates\u001b[39;49;00m\u001b[33m'\u001b[39;49;00m, \u001b[33m'\u001b[39;49;00m\u001b[33m--daemon\u001b[39;49;00m\u001b[33m'\u001b[39;49;00m, env=with_warnings)\u001b[90m\u001b[39;49;00m\n",
      "        r = http(httpbin + \u001b[33m'\u001b[39;49;00m\u001b[33m/get\u001b[39;49;00m\u001b[33m'\u001b[39;49;00m, env=with_warnings)\u001b[90m\u001b[39;49;00m\n",
      "    \u001b[90m\u001b[39;49;00m\n",
      "        \u001b[94massert\u001b[39;49;00m \u001b[95mnot\u001b[39;49;00m fetch_update_mock.called\u001b[90m\u001b[39;49;00m\n",
      ">       \u001b[94massert\u001b[39;49;00m (\u001b[95mnot\u001b[39;49;00m should_issue_warning) \u001b[95mor\u001b[39;49;00m check_update_warnings(r.stderr)\u001b[90m\u001b[39;49;00m\n",
      "\u001b[1m\u001b[31mE       assert (not True or False)\u001b[0m\n",
      "\u001b[1m\u001b[31mE        +  where False = check_update_warnings('')\u001b[0m\n",
      "\u001b[1m\u001b[31mE        +    where '' = 'HTTP/1.1 200 OK\\r\\nAccess-Control-Allow-Credentials: true\\r\\nAccess-Control-Allow-Origin: *\\r\\nConnection: Close\\r\\nC...      \"User-Agent\": \"HTTPie/3.2.2\"\\n    },\\n    \"origin\": \"127.0.0.1\",\\n    \"url\": \"http://127.0.0.1:56708/get\"\\n}\\n\\n'.stderr\u001b[0m\n",
      "\n",
      "\u001b[1m\u001b[31mcli/tests/test_update_warnings.py\u001b[0m:153: AssertionError\n",
      "----------------------------- Captured stderr call -----------------------------\n",
      "127.0.0.1 - - [12/Dec/2023 12:31:42] \"GET /get HTTP/1.1\" 200 269\n",
      "\u001b[31m\u001b[1m_ TestRequestBodyFromFilePath.test_request_body_from_file_by_path_no_field_name_allowed _\u001b[0m\n",
      "\n",
      "self = <tests.test_uploads.TestRequestBodyFromFilePath object at 0x118ab3f90>\n",
      "httpbin = <pytest_httpbin.serve.Server object at 0x118afee90>\n",
      "\n",
      "    \u001b[94mdef\u001b[39;49;00m \u001b[92mtest_request_body_from_file_by_path_no_field_name_allowed\u001b[39;49;00m(\u001b[90m\u001b[39;49;00m\n",
      "            \u001b[96mself\u001b[39;49;00m, httpbin):\u001b[90m\u001b[39;49;00m\n",
      "        env = MockEnvironment(stdin_isatty=\u001b[94mTrue\u001b[39;49;00m)\u001b[90m\u001b[39;49;00m\n",
      "        r = http(\u001b[33m'\u001b[39;49;00m\u001b[33mPOST\u001b[39;49;00m\u001b[33m'\u001b[39;49;00m, httpbin.url + \u001b[33m'\u001b[39;49;00m\u001b[33m/post\u001b[39;49;00m\u001b[33m'\u001b[39;49;00m, \u001b[33m'\u001b[39;49;00m\u001b[33mfield-name@\u001b[39;49;00m\u001b[33m'\u001b[39;49;00m + FILE_PATH_ARG,\u001b[90m\u001b[39;49;00m\n",
      "                 env=env, tolerate_error_exit_status=\u001b[94mTrue\u001b[39;49;00m)\u001b[90m\u001b[39;49;00m\n",
      ">       \u001b[94massert\u001b[39;49;00m \u001b[33m'\u001b[39;49;00m\u001b[33mperhaps you meant --form?\u001b[39;49;00m\u001b[33m'\u001b[39;49;00m \u001b[95min\u001b[39;49;00m r.stderr\u001b[90m\u001b[39;49;00m\n",
      "\u001b[1m\u001b[31mE       AssertionError: assert 'perhaps you meant --form?' in '\\n'\u001b[0m\n",
      "\u001b[1m\u001b[31mE        +  where '\\n' = ''.stderr\u001b[0m\n",
      "\n",
      "\u001b[1m\u001b[31mcli/tests/test_uploads.py\u001b[0m:377: AssertionError\n",
      "----------------------------- Captured stderr call -----------------------------\n",
      "\n",
      "\u001b[31m\u001b[1m_ TestRequestBodyFromFilePath.test_request_body_from_file_by_path_no_data_items_allowed _\u001b[0m\n",
      "\n",
      "self = <tests.test_uploads.TestRequestBodyFromFilePath object at 0x118abc710>\n",
      "httpbin = <pytest_httpbin.serve.Server object at 0x118afee90>\n",
      "\n",
      "    \u001b[94mdef\u001b[39;49;00m \u001b[92mtest_request_body_from_file_by_path_no_data_items_allowed\u001b[39;49;00m(\u001b[90m\u001b[39;49;00m\n",
      "            \u001b[96mself\u001b[39;49;00m, httpbin):\u001b[90m\u001b[39;49;00m\n",
      "        env = MockEnvironment(stdin_isatty=\u001b[94mFalse\u001b[39;49;00m)\u001b[90m\u001b[39;49;00m\n",
      "        r = http(\u001b[90m\u001b[39;49;00m\n",
      "            \u001b[33m'\u001b[39;49;00m\u001b[33mPOST\u001b[39;49;00m\u001b[33m'\u001b[39;49;00m,\u001b[90m\u001b[39;49;00m\n",
      "            httpbin.url + \u001b[33m'\u001b[39;49;00m\u001b[33m/post\u001b[39;49;00m\u001b[33m'\u001b[39;49;00m,\u001b[90m\u001b[39;49;00m\n",
      "            \u001b[33m'\u001b[39;49;00m\u001b[33m@\u001b[39;49;00m\u001b[33m'\u001b[39;49;00m + FILE_PATH_ARG, \u001b[33m'\u001b[39;49;00m\u001b[33mfoo=bar\u001b[39;49;00m\u001b[33m'\u001b[39;49;00m,\u001b[90m\u001b[39;49;00m\n",
      "            env=env,\u001b[90m\u001b[39;49;00m\n",
      "            tolerate_error_exit_status=\u001b[94mTrue\u001b[39;49;00m,\u001b[90m\u001b[39;49;00m\n",
      "        )\u001b[90m\u001b[39;49;00m\n",
      "        \u001b[94massert\u001b[39;49;00m r.exit_status == ExitStatus.ERROR\u001b[90m\u001b[39;49;00m\n",
      ">       \u001b[94massert\u001b[39;49;00m \u001b[33m'\u001b[39;49;00m\u001b[33mcannot be mixed\u001b[39;49;00m\u001b[33m'\u001b[39;49;00m \u001b[95min\u001b[39;49;00m r.stderr\u001b[90m\u001b[39;49;00m\n",
      "\u001b[1m\u001b[31mE       AssertionError: assert 'cannot be mixed' in '\\n'\u001b[0m\n",
      "\u001b[1m\u001b[31mE        +  where '\\n' = ''.stderr\u001b[0m\n",
      "\n",
      "\u001b[1m\u001b[31mcli/tests/test_uploads.py\u001b[0m:390: AssertionError\n",
      "----------------------------- Captured stderr call -----------------------------\n",
      "\n",
      "\u001b[31m\u001b[1m__ TestRequestBodyFromFilePath.test_multiple_request_bodies_from_file_by_path __\u001b[0m\n",
      "\n",
      "self = <tests.test_uploads.TestRequestBodyFromFilePath object at 0x118abce50>\n",
      "httpbin = <pytest_httpbin.serve.Server object at 0x118afee90>\n",
      "\n",
      "    \u001b[94mdef\u001b[39;49;00m \u001b[92mtest_multiple_request_bodies_from_file_by_path\u001b[39;49;00m(\u001b[96mself\u001b[39;49;00m, httpbin):\u001b[90m\u001b[39;49;00m\n",
      "        env = MockEnvironment(stdin_isatty=\u001b[94mTrue\u001b[39;49;00m)\u001b[90m\u001b[39;49;00m\n",
      "        r = http(\u001b[90m\u001b[39;49;00m\n",
      "            \u001b[33m'\u001b[39;49;00m\u001b[33m--verbose\u001b[39;49;00m\u001b[33m'\u001b[39;49;00m,\u001b[90m\u001b[39;49;00m\n",
      "            \u001b[33m'\u001b[39;49;00m\u001b[33mPOST\u001b[39;49;00m\u001b[33m'\u001b[39;49;00m, httpbin.url + \u001b[33m'\u001b[39;49;00m\u001b[33m/post\u001b[39;49;00m\u001b[33m'\u001b[39;49;00m,\u001b[90m\u001b[39;49;00m\n",
      "            \u001b[33m'\u001b[39;49;00m\u001b[33m@\u001b[39;49;00m\u001b[33m'\u001b[39;49;00m + FILE_PATH_ARG,\u001b[90m\u001b[39;49;00m\n",
      "            \u001b[33m'\u001b[39;49;00m\u001b[33m@\u001b[39;49;00m\u001b[33m'\u001b[39;49;00m + FILE_PATH_ARG,\u001b[90m\u001b[39;49;00m\n",
      "            env=env,\u001b[90m\u001b[39;49;00m\n",
      "            tolerate_error_exit_status=\u001b[94mTrue\u001b[39;49;00m,\u001b[90m\u001b[39;49;00m\n",
      "        )\u001b[90m\u001b[39;49;00m\n",
      "        \u001b[94massert\u001b[39;49;00m r.exit_status == ExitStatus.ERROR\u001b[90m\u001b[39;49;00m\n",
      ">       \u001b[94massert\u001b[39;49;00m \u001b[33m'\u001b[39;49;00m\u001b[33mfrom multiple files\u001b[39;49;00m\u001b[33m'\u001b[39;49;00m \u001b[95min\u001b[39;49;00m r.stderr\u001b[90m\u001b[39;49;00m\n",
      "\u001b[1m\u001b[31mE       AssertionError: assert 'from multiple files' in '\\n'\u001b[0m\n",
      "\u001b[1m\u001b[31mE        +  where '\\n' = ''.stderr\u001b[0m\n",
      "\n",
      "\u001b[1m\u001b[31mcli/tests/test_uploads.py\u001b[0m:403: AssertionError\n",
      "----------------------------- Captured stderr call -----------------------------\n",
      "\n",
      "\u001b[31m\u001b[1m________ TestFakeWindows.test_output_file_pretty_not_allowed_on_windows ________\u001b[0m\n",
      "\n",
      "self = <tests.test_windows.TestFakeWindows object at 0x118abea10>\n",
      "tmp_path = PosixPath('/private/var/folders/wz/1s6cf6yx1w768h9dr46pvs8h0000gn/T/pytest-of-darkrsw/pytest-16/test_output_file_pretty_not_al0')\n",
      "httpbin = <pytest_httpbin.serve.Server object at 0x118afee90>\n",
      "\n",
      "    \u001b[94mdef\u001b[39;49;00m \u001b[92mtest_output_file_pretty_not_allowed_on_windows\u001b[39;49;00m(\u001b[96mself\u001b[39;49;00m, tmp_path, httpbin):\u001b[90m\u001b[39;49;00m\n",
      "        env = MockEnvironment(is_windows=\u001b[94mTrue\u001b[39;49;00m)\u001b[90m\u001b[39;49;00m\n",
      "        output_file = tmp_path / \u001b[33m'\u001b[39;49;00m\u001b[33mtest_output_file_pretty_not_allowed_on_windows\u001b[39;49;00m\u001b[33m'\u001b[39;49;00m\u001b[90m\u001b[39;49;00m\n",
      "        r = http(\u001b[33m'\u001b[39;49;00m\u001b[33m--output\u001b[39;49;00m\u001b[33m'\u001b[39;49;00m, \u001b[96mstr\u001b[39;49;00m(output_file),\u001b[90m\u001b[39;49;00m\n",
      "                 \u001b[33m'\u001b[39;49;00m\u001b[33m--pretty=all\u001b[39;49;00m\u001b[33m'\u001b[39;49;00m, \u001b[33m'\u001b[39;49;00m\u001b[33mGET\u001b[39;49;00m\u001b[33m'\u001b[39;49;00m, httpbin.url + \u001b[33m'\u001b[39;49;00m\u001b[33m/get\u001b[39;49;00m\u001b[33m'\u001b[39;49;00m,\u001b[90m\u001b[39;49;00m\n",
      "                 env=env, tolerate_error_exit_status=\u001b[94mTrue\u001b[39;49;00m)\u001b[90m\u001b[39;49;00m\n",
      ">       \u001b[94massert\u001b[39;49;00m \u001b[33m'\u001b[39;49;00m\u001b[33mOnly terminal output can be colorized on Windows\u001b[39;49;00m\u001b[33m'\u001b[39;49;00m \u001b[95min\u001b[39;49;00m r.stderr\u001b[90m\u001b[39;49;00m\n",
      "\u001b[1m\u001b[31mE       AssertionError: assert 'Only terminal output can be colorized on Windows' in '\\n'\u001b[0m\n",
      "\u001b[1m\u001b[31mE        +  where '\\n' = ''.stderr\u001b[0m\n",
      "\n",
      "\u001b[1m\u001b[31mcli/tests/test_windows.py\u001b[0m:25: AssertionError\n",
      "----------------------------- Captured stderr call -----------------------------\n",
      "\n",
      "\u001b[33m=============================== warnings summary ===============================\u001b[0m\n",
      "tests/test_downloads.py::TestDownloads::test_actual_download[http]\n",
      "tests/test_downloads.py::TestDownloads::test_actual_download[https]\n",
      "tests/test_httpie.py::test_raw_POST_key_values_supplied\n",
      "tests/test_offline.py::test_offline_chunked\n",
      "tests/test_sessions.py::TestSession::test_session_by_path\n",
      "tests/test_uploads.py::TestMultipartFormDataFileUpload::test_upload_multiple_fields_with_the_same_name\n",
      "tests/test_uploads.py::TestMultipartFormDataFileUpload::test_form_no_files_urlencoded\n",
      "tests/test_uploads.py::TestMultipartFormDataFileUpload::test_multipart_preserve_order\n",
      "tests/test_uploads.py::TestRequestBodyFromFilePath::test_request_body_from_file_by_path\n",
      "  /Users/darkrsw/git/knu2023software-design/notebooks/cli/httpie/cli/argparser.py:159: ResourceWarning: unclosed file <_io.BufferedReader name='/Users/darkrsw/git/knu2023software-design/notebooks/cli/tests/fixtures/test.txt'>\n",
      "    self.args, no_options = super().parse_known_args(args, namespace)\n",
      "  Enable tracemalloc to get traceback where the object was allocated.\n",
      "  See https://docs.pytest.org/en/stable/how-to/capture-warnings.html#resource-warnings for more info.\n",
      "\n",
      "tests/test_downloads.py::TestDownloads::test_actual_download[http]\n",
      "tests/test_downloads.py::TestDownloads::test_actual_download[https]\n",
      "  /Users/darkrsw/git/knu2023software-design/notebooks/cli/venv/lib/python3.11/site-packages/rich/live.py:231: UserWarning: install \"ipywidgets\" for Jupyter support\n",
      "    warnings.warn('install \"ipywidgets\" for Jupyter support')\n",
      "\n",
      "tests/test_httpie.py::test_headers_unset[http]\n",
      "tests/test_httpie.py::test_headers_unset[https]\n",
      "tests/test_regressions.py::test_verbose_redirected_stdout_separator\n",
      "tests/test_regressions.py::test_verbose_redirected_stdout_separator\n",
      "  /opt/homebrew/Cellar/python@3.11/3.11.6_1/Frameworks/Python.framework/Versions/3.11/lib/python3.11/collections/__init__.py:453: ResourceWarning: unclosed file <_io.BufferedReader name='/Users/darkrsw/git/knu2023software-design/notebooks/cli/tests/fixtures/test.txt'>\n",
      "    result = self._make(_map(kwds.pop, field_names, self))\n",
      "  Enable tracemalloc to get traceback where the object was allocated.\n",
      "  See https://docs.pytest.org/en/stable/how-to/capture-warnings.html#resource-warnings for more info.\n",
      "\n",
      "tests/test_binary.py::TestBinaryResponseData::test_binary_suppresses_when_not_terminal_but_pretty\n",
      "  /opt/homebrew/Cellar/python@3.11/3.11.6_1/Frameworks/Python.framework/Versions/3.11/lib/python3.11/collections/__init__.py:444: ResourceWarning: unclosed file <_io.FileIO name='/Users/darkrsw/git/knu2023software-design/notebooks/cli/tests/fixtures/test.bin' mode='rb' closefd=True>\n",
      "    result = tuple_new(cls, iterable)\n",
      "  Enable tracemalloc to get traceback where the object was allocated.\n",
      "  See https://docs.pytest.org/en/stable/how-to/capture-warnings.html#resource-warnings for more info.\n",
      "\n",
      "tests/test_cli.py::test_url_colon_slash_slash_only\n",
      "  /opt/homebrew/Cellar/python@3.11/3.11.6_1/Frameworks/Python.framework/Versions/3.11/lib/python3.11/collections/__init__.py:444: ResourceWarning: unclosed file <_io.BufferedReader name='/Users/darkrsw/git/knu2023software-design/notebooks/cli/tests/fixtures/test.bin'>\n",
      "    result = tuple_new(cls, iterable)\n",
      "  Enable tracemalloc to get traceback where the object was allocated.\n",
      "  See https://docs.pytest.org/en/stable/how-to/capture-warnings.html#resource-warnings for more info.\n",
      "\n",
      "tests/test_config.py::test_config_file_inaccessible\n",
      "  /opt/homebrew/Cellar/python@3.11/3.11.6_1/Frameworks/Python.framework/Versions/3.11/lib/python3.11/ast.py:50: ResourceWarning: unclosed file <_io.TextIOWrapper name='/var/folders/wz/1s6cf6yx1w768h9dr46pvs8h0000gn/T/httpie_stderrlp_tek2z' mode='w+t' encoding='utf-8'>\n",
      "    return compile(source, filename, mode, flags,\n",
      "  Enable tracemalloc to get traceback where the object was allocated.\n",
      "  See https://docs.pytest.org/en/stable/how-to/capture-warnings.html#resource-warnings for more info.\n",
      "\n",
      "tests/test_config.py::test_config_file_inaccessible\n",
      "  /opt/homebrew/Cellar/python@3.11/3.11.6_1/Frameworks/Python.framework/Versions/3.11/lib/python3.11/ast.py:50: ResourceWarning: unclosed file <_io.TextIOWrapper name='/var/folders/wz/1s6cf6yx1w768h9dr46pvs8h0000gn/T/httpie_stderr7_0mu0dd' mode='w+t' encoding='utf-8'>\n",
      "    return compile(source, filename, mode, flags,\n",
      "  Enable tracemalloc to get traceback where the object was allocated.\n",
      "  See https://docs.pytest.org/en/stable/how-to/capture-warnings.html#resource-warnings for more info.\n",
      "\n",
      "tests/test_cookie.py::TestIntegration::test_cookie_parser\n",
      "  /Users/darkrsw/git/knu2023software-design/notebooks/cli/tests/test_cookie.py:19: DeprecationWarning: setDaemon() is deprecated, set the daemon attribute instead\n",
      "    self.mock_server_thread.setDaemon(True)\n",
      "\n",
      "tests/test_cookie_on_redirects.py::test_server_set_cookie_on_redirect_different_domain[True]\n",
      "  /Users/darkrsw/git/knu2023software-design/notebooks/cli/venv/lib/python3.11/site-packages/_pytest/fixtures.py:911: ResourceWarning: unclosed <socket.socket fd=88, family=2, type=1, proto=0, laddr=('127.0.0.1', 56877)>\n",
      "    next(it)\n",
      "  Enable tracemalloc to get traceback where the object was allocated.\n",
      "  See https://docs.pytest.org/en/stable/how-to/capture-warnings.html#resource-warnings for more info.\n",
      "\n",
      "tests/test_cookie_on_redirects.py::test_server_set_cookie_on_redirect_different_domain[False]\n",
      "  /Users/darkrsw/git/knu2023software-design/notebooks/cli/venv/lib/python3.11/site-packages/_pytest/fixtures.py:911: ResourceWarning: unclosed <socket.socket fd=88, family=2, type=1, proto=0, laddr=('127.0.0.1', 56880)>\n",
      "    next(it)\n",
      "  Enable tracemalloc to get traceback where the object was allocated.\n",
      "  See https://docs.pytest.org/en/stable/how-to/capture-warnings.html#resource-warnings for more info.\n",
      "\n",
      "tests/test_downloads.py::TestDownloads::test_download_with_redirect_original_url_used_for_filename\n",
      "  /Users/darkrsw/git/knu2023software-design/notebooks/cli/httpie/core.py:100: ResourceWarning: unclosed file <_io.FileIO name='1.json' mode='ab+' closefd=True>\n",
      "    exit_status = main_program(\n",
      "  Enable tracemalloc to get traceback where the object was allocated.\n",
      "  See https://docs.pytest.org/en/stable/how-to/capture-warnings.html#resource-warnings for more info.\n",
      "\n",
      "tests/test_encoding.py: 12 warnings\n",
      "tests/test_stream.py: 8 warnings\n",
      "  /Users/darkrsw/git/knu2023software-design/notebooks/cli/venv/lib/python3.11/site-packages/responses/__init__.py:607: DeprecationWarning: stream argument is deprecated. Use stream parameter in request directly\n",
      "    warn(\n",
      "\n",
      "tests/test_httpie.py::test_response_headers_multiple\n",
      "  /Users/darkrsw/git/knu2023software-design/notebooks/cli/venv/lib/python3.11/site-packages/_pytest/fixtures.py:911: ResourceWarning: unclosed <socket.socket fd=89, family=2, type=1, proto=0, laddr=('127.0.0.1', 56949)>\n",
      "    next(it)\n",
      "  Enable tracemalloc to get traceback where the object was allocated.\n",
      "  See https://docs.pytest.org/en/stable/how-to/capture-warnings.html#resource-warnings for more info.\n",
      "\n",
      "tests/test_httpie.py::test_response_headers_multiple_repeated\n",
      "  /Users/darkrsw/git/knu2023software-design/notebooks/cli/venv/lib/python3.11/site-packages/_pytest/fixtures.py:911: ResourceWarning: unclosed <socket.socket fd=89, family=2, type=1, proto=0, laddr=('127.0.0.1', 56953)>\n",
      "    next(it)\n",
      "  Enable tracemalloc to get traceback where the object was allocated.\n",
      "  See https://docs.pytest.org/en/stable/how-to/capture-warnings.html#resource-warnings for more info.\n",
      "\n",
      "tests/test_httpie.py::test_response_headers_multiple_representation[format]\n",
      "  /Users/darkrsw/git/knu2023software-design/notebooks/cli/venv/lib/python3.11/site-packages/_pytest/fixtures.py:911: ResourceWarning: unclosed <socket.socket fd=89, family=2, type=1, proto=0, laddr=('127.0.0.1', 56957)>\n",
      "    next(it)\n",
      "  Enable tracemalloc to get traceback where the object was allocated.\n",
      "  See https://docs.pytest.org/en/stable/how-to/capture-warnings.html#resource-warnings for more info.\n",
      "\n",
      "tests/test_httpie.py::test_response_headers_multiple_representation[none]\n",
      "  /Users/darkrsw/git/knu2023software-design/notebooks/cli/venv/lib/python3.11/site-packages/_pytest/fixtures.py:911: ResourceWarning: unclosed <socket.socket fd=89, family=2, type=1, proto=0, laddr=('127.0.0.1', 56960)>\n",
      "    next(it)\n",
      "  Enable tracemalloc to get traceback where the object was allocated.\n",
      "  See https://docs.pytest.org/en/stable/how-to/capture-warnings.html#resource-warnings for more info.\n",
      "\n",
      "tests/test_json.py::test_duplicate_keys_support_from_input_file\n",
      "tests/test_json.py::test_simple_json_arguments_with_non_json[1]\n",
      "  /Users/darkrsw/git/knu2023software-design/notebooks/cli/httpie/cli/argparser.py:159: ResourceWarning: unclosed file <_io.BufferedReader name='/Users/darkrsw/git/knu2023software-design/notebooks/cli/tests/fixtures/test_with_dupe_keys.json'>\n",
      "    self.args, no_options = super().parse_known_args(args, namespace)\n",
      "  Enable tracemalloc to get traceback where the object was allocated.\n",
      "  See https://docs.pytest.org/en/stable/how-to/capture-warnings.html#resource-warnings for more info.\n",
      "\n",
      "tests/test_output.py::TestQuietFlag::test_quiet[quiet_flags1]\n",
      "tests/test_output.py::TestQuietFlag::test_quiet_quiet_with_check_status_non_zero_pipe\n",
      "tests/test_output.py::TestQuietFlag::test_quiet_with_password_prompt[quiet_flags2]\n",
      "tests/test_output.py::TestQuietFlag::test_quiet_with_output_redirection[True-quiet_flags3]\n",
      "tests/test_output.py::TestVerboseFlag::test_verbose\n",
      "  /Users/darkrsw/git/knu2023software-design/notebooks/cli/httpie/cli/argparser.py:157: ResourceWarning: unclosed file <_io.TextIOWrapper name=102 mode='w+t' encoding='utf-8'>\n",
      "    self.env = env\n",
      "  Enable tracemalloc to get traceback where the object was allocated.\n",
      "  See https://docs.pytest.org/en/stable/how-to/capture-warnings.html#resource-warnings for more info.\n",
      "\n",
      "tests/test_output.py::TestQuietFlag::test_quiet[quiet_flags2]\n",
      "tests/test_output.py::TestQuietFlag::test_quiet_with_password_prompt[quiet_flags0]\n",
      "tests/test_output.py::TestQuietFlag::test_quiet_with_explicit_output_options[-h-quiet_flags1]\n",
      "tests/test_output.py::TestQuietFlag::test_quiet_with_explicit_output_options[-h-quiet_flags3]\n",
      "tests/test_output.py::TestQuietFlag::test_quiet_with_output_redirection[False-quiet_flags3]\n",
      "  /Users/darkrsw/git/knu2023software-design/notebooks/cli/httpie/cli/argparser.py:157: ResourceWarning: unclosed file <_io.TextIOWrapper name=106 mode='w+t' encoding='utf-8'>\n",
      "    self.env = env\n",
      "  Enable tracemalloc to get traceback where the object was allocated.\n",
      "  See https://docs.pytest.org/en/stable/how-to/capture-warnings.html#resource-warnings for more info.\n",
      "\n",
      "tests/test_output.py::TestQuietFlag::test_quiet[quiet_flags3]\n",
      "tests/test_output.py::TestQuietFlag::test_quiet_with_check_status_non_zero_pipe\n",
      "tests/test_output.py::TestQuietFlag::test_quiet_with_explicit_output_options[-h-quiet_flags2]\n",
      "tests/test_output.py::TestQuietFlag::test_quiet_with_explicit_output_options[-b-quiet_flags2]\n",
      "  /Users/darkrsw/git/knu2023software-design/notebooks/cli/httpie/cli/argparser.py:157: ResourceWarning: unclosed file <_io.TextIOWrapper name=107 mode='w+t' encoding='utf-8'>\n",
      "    self.env = env\n",
      "  Enable tracemalloc to get traceback where the object was allocated.\n",
      "  See https://docs.pytest.org/en/stable/how-to/capture-warnings.html#resource-warnings for more info.\n",
      "\n",
      "tests/test_output.py::TestQuietFlag::test_quiet_with_check_status_non_zero\n",
      "tests/test_output.py::TestQuietFlag::test_quiet_with_explicit_output_options[-h-quiet_flags0]\n",
      "tests/test_output.py::TestQuietFlag::test_quiet_with_output_redirection[False-quiet_flags0]\n",
      "tests/test_output.py::TestQuietFlag::test_quiet_with_output_redirection[False-quiet_flags2]\n",
      "  /Users/darkrsw/git/knu2023software-design/notebooks/cli/httpie/cli/argparser.py:157: ResourceWarning: unclosed file <_io.TextIOWrapper name=105 mode='w+t' encoding='utf-8'>\n",
      "    self.env = env\n",
      "  Enable tracemalloc to get traceback where the object was allocated.\n",
      "  See https://docs.pytest.org/en/stable/how-to/capture-warnings.html#resource-warnings for more info.\n",
      "\n",
      "tests/test_output.py::TestQuietFlag::test_quiet_quiet_with_check_status_non_zero\n",
      "tests/test_output.py::TestQuietFlag::test_quiet_with_output_redirection[False-quiet_flags1]\n",
      "  /Users/darkrsw/git/knu2023software-design/notebooks/cli/httpie/cli/argparser.py:157: ResourceWarning: unclosed file <_io.TextIOWrapper name=100 mode='w+t' encoding='utf-8'>\n",
      "    self.env = env\n",
      "  Enable tracemalloc to get traceback where the object was allocated.\n",
      "  See https://docs.pytest.org/en/stable/how-to/capture-warnings.html#resource-warnings for more info.\n",
      "\n",
      "tests/test_output.py::TestQuietFlag::test_quiet_on_python_warnings[flags0-1]\n",
      "tests/test_output.py::TestQuietFlag::test_quiet_on_python_warnings[flags1-1]\n",
      "tests/test_output.py::TestQuietFlag::test_quiet_on_python_warnings[flags2-0]\n",
      "  /opt/homebrew/Cellar/python@3.11/3.11.6_1/Frameworks/Python.framework/Versions/3.11/lib/python3.11/unittest/mock.py:1375: PytestRemovedIn8Warning: Passing None has been deprecated.\n",
      "  See https://docs.pytest.org/en/latest/how-to/capture-warnings.html#additional-use-cases-of-warnings-in-tests for alternatives in common use cases.\n",
      "    return func(*newargs, **newkeywargs)\n",
      "\n",
      "tests/test_output.py::TestQuietFlag::test_quiet_on_python_warnings[flags0-1]\n",
      "  /opt/homebrew/Cellar/python@3.11/3.11.6_1/Frameworks/Python.framework/Versions/3.11/lib/python3.11/ast.py:50: ResourceWarning: unclosed file <_io.TextIOWrapper name='/var/folders/wz/1s6cf6yx1w768h9dr46pvs8h0000gn/T/httpie_stderr0ekcbwe8' mode='w+t' encoding='utf-8'>\n",
      "    return compile(source, filename, mode, flags,\n",
      "  Enable tracemalloc to get traceback where the object was allocated.\n",
      "  See https://docs.pytest.org/en/stable/how-to/capture-warnings.html#resource-warnings for more info.\n",
      "\n",
      "tests/test_output.py::TestQuietFlag::test_double_quiet_on_error\n",
      "  /opt/homebrew/Cellar/python@3.11/3.11.6_1/Frameworks/Python.framework/Versions/3.11/lib/python3.11/ast.py:50: ResourceWarning: unclosed file <_io.TextIOWrapper name=89 mode='w+t' encoding='utf-8'>\n",
      "    return compile(source, filename, mode, flags,\n",
      "  Enable tracemalloc to get traceback where the object was allocated.\n",
      "  See https://docs.pytest.org/en/stable/how-to/capture-warnings.html#resource-warnings for more info.\n",
      "\n",
      "tests/test_output.py::TestQuietFlag::test_double_quiet_on_error\n",
      "  /opt/homebrew/Cellar/python@3.11/3.11.6_1/Frameworks/Python.framework/Versions/3.11/lib/python3.11/ast.py:50: ResourceWarning: unclosed file <_io.TextIOWrapper name='/var/folders/wz/1s6cf6yx1w768h9dr46pvs8h0000gn/T/httpie_stderrknmwuyig' mode='w+t' encoding='utf-8'>\n",
      "    return compile(source, filename, mode, flags,\n",
      "  Enable tracemalloc to get traceback where the object was allocated.\n",
      "  See https://docs.pytest.org/en/stable/how-to/capture-warnings.html#resource-warnings for more info.\n",
      "\n",
      "tests/test_output.py::TestQuietFlag::test_double_quiet_on_error\n",
      "  /opt/homebrew/Cellar/python@3.11/3.11.6_1/Frameworks/Python.framework/Versions/3.11/lib/python3.11/ast.py:50: ResourceWarning: unclosed file <_io.TextIOWrapper name=102 mode='w+t' encoding='utf-8'>\n",
      "    return compile(source, filename, mode, flags,\n",
      "  Enable tracemalloc to get traceback where the object was allocated.\n",
      "  See https://docs.pytest.org/en/stable/how-to/capture-warnings.html#resource-warnings for more info.\n",
      "\n",
      "tests/test_output.py::TestQuietFlag::test_double_quiet_on_error\n",
      "  /opt/homebrew/Cellar/python@3.11/3.11.6_1/Frameworks/Python.framework/Versions/3.11/lib/python3.11/ast.py:50: ResourceWarning: unclosed file <_io.TextIOWrapper name='/var/folders/wz/1s6cf6yx1w768h9dr46pvs8h0000gn/T/httpie_stderr5yoyiucc' mode='w+t' encoding='utf-8'>\n",
      "    return compile(source, filename, mode, flags,\n",
      "  Enable tracemalloc to get traceback where the object was allocated.\n",
      "  See https://docs.pytest.org/en/stable/how-to/capture-warnings.html#resource-warnings for more info.\n",
      "\n",
      "tests/test_output.py::TestQuietFlag::test_quiet_with_password_prompt[quiet_flags1]\n",
      "tests/test_output.py::TestQuietFlag::test_quiet_with_password_prompt[quiet_flags3]\n",
      "tests/test_output.py::TestQuietFlag::test_quiet_with_output_redirection[True-quiet_flags2]\n",
      "  /Users/darkrsw/git/knu2023software-design/notebooks/cli/httpie/cli/argparser.py:157: ResourceWarning: unclosed file <_io.TextIOWrapper name=89 mode='w+t' encoding='utf-8'>\n",
      "    self.env = env\n",
      "  Enable tracemalloc to get traceback where the object was allocated.\n",
      "  See https://docs.pytest.org/en/stable/how-to/capture-warnings.html#resource-warnings for more info.\n",
      "\n",
      "tests/test_output.py::TestQuietFlag::test_quiet_with_explicit_output_options[-b-quiet_flags0]\n",
      "tests/test_output.py::TestQuietFlag::test_quiet_with_explicit_output_options[-v-quiet_flags1]\n",
      "  /Users/darkrsw/git/knu2023software-design/notebooks/cli/httpie/cli/argparser.py:157: ResourceWarning: unclosed file <_io.TextIOWrapper name=108 mode='w+t' encoding='utf-8'>\n",
      "    self.env = env\n",
      "  Enable tracemalloc to get traceback where the object was allocated.\n",
      "  See https://docs.pytest.org/en/stable/how-to/capture-warnings.html#resource-warnings for more info.\n",
      "\n",
      "tests/test_output.py::TestQuietFlag::test_quiet_with_explicit_output_options[-b-quiet_flags1]\n",
      "tests/test_output.py::TestQuietFlag::test_quiet_with_explicit_output_options[-b-quiet_flags3]\n",
      "tests/test_output.py::TestQuietFlag::test_quiet_with_explicit_output_options[-p=hH-quiet_flags0]\n",
      "  /Users/darkrsw/git/knu2023software-design/notebooks/cli/httpie/cli/argparser.py:157: ResourceWarning: unclosed file <_io.TextIOWrapper name=109 mode='w+t' encoding='utf-8'>\n",
      "    self.env = env\n",
      "  Enable tracemalloc to get traceback where the object was allocated.\n",
      "  See https://docs.pytest.org/en/stable/how-to/capture-warnings.html#resource-warnings for more info.\n",
      "\n",
      "tests/test_output.py::TestQuietFlag::test_quiet_with_explicit_output_options[-v-quiet_flags0]\n",
      "tests/test_output.py::TestQuietFlag::test_quiet_with_explicit_output_options[-v-quiet_flags2]\n",
      "tests/test_output.py::TestQuietFlag::test_quiet_with_explicit_output_options[-p=hH-quiet_flags3]\n",
      "  /Users/darkrsw/git/knu2023software-design/notebooks/cli/httpie/cli/argparser.py:157: ResourceWarning: unclosed file <_io.TextIOWrapper name=110 mode='w+t' encoding='utf-8'>\n",
      "    self.env = env\n",
      "  Enable tracemalloc to get traceback where the object was allocated.\n",
      "  See https://docs.pytest.org/en/stable/how-to/capture-warnings.html#resource-warnings for more info.\n",
      "\n",
      "tests/test_output.py::TestQuietFlag::test_quiet_with_explicit_output_options[-v-quiet_flags3]\n",
      "tests/test_output.py::TestQuietFlag::test_quiet_with_explicit_output_options[-p=hH-quiet_flags1]\n",
      "  /Users/darkrsw/git/knu2023software-design/notebooks/cli/httpie/cli/argparser.py:157: ResourceWarning: unclosed file <_io.TextIOWrapper name=111 mode='w+t' encoding='utf-8'>\n",
      "    self.env = env\n",
      "  Enable tracemalloc to get traceback where the object was allocated.\n",
      "  See https://docs.pytest.org/en/stable/how-to/capture-warnings.html#resource-warnings for more info.\n",
      "\n",
      "tests/test_output.py::TestQuietFlag::test_quiet_with_explicit_output_options[-p=hH-quiet_flags2]\n",
      "tests/test_output.py::TestQuietFlag::test_quiet_with_output_redirection[True-quiet_flags0]\n",
      "  /Users/darkrsw/git/knu2023software-design/notebooks/cli/httpie/cli/argparser.py:157: ResourceWarning: unclosed file <_io.TextIOWrapper name=112 mode='w+t' encoding='utf-8'>\n",
      "    self.env = env\n",
      "  Enable tracemalloc to get traceback where the object was allocated.\n",
      "  See https://docs.pytest.org/en/stable/how-to/capture-warnings.html#resource-warnings for more info.\n",
      "\n",
      "tests/test_output.py::TestQuietFlag::test_quiet_with_output_redirection[True-quiet_flags1]\n",
      "  /Users/darkrsw/git/knu2023software-design/notebooks/cli/httpie/cli/argparser.py:157: ResourceWarning: unclosed file <_io.TextIOWrapper name=113 mode='w+t' encoding='utf-8'>\n",
      "    self.env = env\n",
      "  Enable tracemalloc to get traceback where the object was allocated.\n",
      "  See https://docs.pytest.org/en/stable/how-to/capture-warnings.html#resource-warnings for more info.\n",
      "\n",
      "tests/test_output.py::test_ensure_status_code_is_shown_on_all_themes[-auto]\n",
      "  /Users/darkrsw/git/knu2023software-design/notebooks/cli/venv/lib/python3.11/site-packages/_pytest/fixtures.py:911: ResourceWarning: unclosed <socket.socket fd=88, family=2, type=1, proto=0, laddr=('127.0.0.1', 57068)>\n",
      "    next(it)\n",
      "  Enable tracemalloc to get traceback where the object was allocated.\n",
      "  See https://docs.pytest.org/en/stable/how-to/capture-warnings.html#resource-warnings for more info.\n",
      "\n",
      "tests/test_output.py::test_ensure_status_code_is_shown_on_all_themes[-pie]\n",
      "  /Users/darkrsw/git/knu2023software-design/notebooks/cli/venv/lib/python3.11/site-packages/_pytest/fixtures.py:911: ResourceWarning: unclosed <socket.socket fd=88, family=2, type=1, proto=0, laddr=('127.0.0.1', 57071)>\n",
      "    next(it)\n",
      "  Enable tracemalloc to get traceback where the object was allocated.\n",
      "  See https://docs.pytest.org/en/stable/how-to/capture-warnings.html#resource-warnings for more info.\n",
      "\n",
      "tests/test_output.py::test_ensure_status_code_is_shown_on_all_themes[-pie-dark]\n",
      "  /Users/darkrsw/git/knu2023software-design/notebooks/cli/venv/lib/python3.11/site-packages/_pytest/fixtures.py:911: ResourceWarning: unclosed <socket.socket fd=88, family=2, type=1, proto=0, laddr=('127.0.0.1', 57073)>\n",
      "    next(it)\n",
      "  Enable tracemalloc to get traceback where the object was allocated.\n",
      "  See https://docs.pytest.org/en/stable/how-to/capture-warnings.html#resource-warnings for more info.\n",
      "\n",
      "tests/test_output.py::test_ensure_status_code_is_shown_on_all_themes[-pie-light]\n",
      "  /Users/darkrsw/git/knu2023software-design/notebooks/cli/venv/lib/python3.11/site-packages/_pytest/fixtures.py:911: ResourceWarning: unclosed <socket.socket fd=88, family=2, type=1, proto=0, laddr=('127.0.0.1', 57076)>\n",
      "    next(it)\n",
      "  Enable tracemalloc to get traceback where the object was allocated.\n",
      "  See https://docs.pytest.org/en/stable/how-to/capture-warnings.html#resource-warnings for more info.\n",
      "\n",
      "tests/test_output.py::test_ensure_status_code_is_shown_on_all_themes[-solarized]\n",
      "  /Users/darkrsw/git/knu2023software-design/notebooks/cli/venv/lib/python3.11/site-packages/_pytest/fixtures.py:911: ResourceWarning: unclosed <socket.socket fd=88, family=2, type=1, proto=0, laddr=('127.0.0.1', 57078)>\n",
      "    next(it)\n",
      "  Enable tracemalloc to get traceback where the object was allocated.\n",
      "  See https://docs.pytest.org/en/stable/how-to/capture-warnings.html#resource-warnings for more info.\n",
      "\n",
      "tests/test_output.py::test_ensure_status_code_is_shown_on_all_themes[ -auto]\n",
      "  /Users/darkrsw/git/knu2023software-design/notebooks/cli/venv/lib/python3.11/site-packages/_pytest/fixtures.py:911: ResourceWarning: unclosed <socket.socket fd=88, family=2, type=1, proto=0, laddr=('127.0.0.1', 57080)>\n",
      "    next(it)\n",
      "  Enable tracemalloc to get traceback where the object was allocated.\n",
      "  See https://docs.pytest.org/en/stable/how-to/capture-warnings.html#resource-warnings for more info.\n",
      "\n",
      "tests/test_output.py::test_ensure_status_code_is_shown_on_all_themes[ -pie]\n",
      "  /Users/darkrsw/git/knu2023software-design/notebooks/cli/venv/lib/python3.11/site-packages/_pytest/fixtures.py:911: ResourceWarning: unclosed <socket.socket fd=88, family=2, type=1, proto=0, laddr=('127.0.0.1', 57082)>\n",
      "    next(it)\n",
      "  Enable tracemalloc to get traceback where the object was allocated.\n",
      "  See https://docs.pytest.org/en/stable/how-to/capture-warnings.html#resource-warnings for more info.\n",
      "\n",
      "tests/test_output.py::test_ensure_status_code_is_shown_on_all_themes[ -pie-dark]\n",
      "  /Users/darkrsw/git/knu2023software-design/notebooks/cli/venv/lib/python3.11/site-packages/_pytest/fixtures.py:911: ResourceWarning: unclosed <socket.socket fd=88, family=2, type=1, proto=0, laddr=('127.0.0.1', 57085)>\n",
      "    next(it)\n",
      "  Enable tracemalloc to get traceback where the object was allocated.\n",
      "  See https://docs.pytest.org/en/stable/how-to/capture-warnings.html#resource-warnings for more info.\n",
      "\n",
      "tests/test_output.py::test_ensure_status_code_is_shown_on_all_themes[ -pie-light]\n",
      "  /Users/darkrsw/git/knu2023software-design/notebooks/cli/venv/lib/python3.11/site-packages/_pytest/fixtures.py:911: ResourceWarning: unclosed <socket.socket fd=88, family=2, type=1, proto=0, laddr=('127.0.0.1', 57087)>\n",
      "    next(it)\n",
      "  Enable tracemalloc to get traceback where the object was allocated.\n",
      "  See https://docs.pytest.org/en/stable/how-to/capture-warnings.html#resource-warnings for more info.\n",
      "\n",
      "tests/test_output.py::test_ensure_status_code_is_shown_on_all_themes[ -solarized]\n",
      "  /Users/darkrsw/git/knu2023software-design/notebooks/cli/venv/lib/python3.11/site-packages/_pytest/fixtures.py:911: ResourceWarning: unclosed <socket.socket fd=88, family=2, type=1, proto=0, laddr=('127.0.0.1', 57089)>\n",
      "    next(it)\n",
      "  Enable tracemalloc to get traceback where the object was allocated.\n",
      "  See https://docs.pytest.org/en/stable/how-to/capture-warnings.html#resource-warnings for more info.\n",
      "\n",
      "tests/test_output.py::test_ensure_status_code_is_shown_on_all_themes[ OK-auto]\n",
      "  /Users/darkrsw/git/knu2023software-design/notebooks/cli/venv/lib/python3.11/site-packages/_pytest/fixtures.py:911: ResourceWarning: unclosed <socket.socket fd=88, family=2, type=1, proto=0, laddr=('127.0.0.1', 57091)>\n",
      "    next(it)\n",
      "  Enable tracemalloc to get traceback where the object was allocated.\n",
      "  See https://docs.pytest.org/en/stable/how-to/capture-warnings.html#resource-warnings for more info.\n",
      "\n",
      "tests/test_output.py::test_ensure_status_code_is_shown_on_all_themes[ OK-pie]\n",
      "  /Users/darkrsw/git/knu2023software-design/notebooks/cli/venv/lib/python3.11/site-packages/_pytest/fixtures.py:911: ResourceWarning: unclosed <socket.socket fd=88, family=2, type=1, proto=0, laddr=('127.0.0.1', 57093)>\n",
      "    next(it)\n",
      "  Enable tracemalloc to get traceback where the object was allocated.\n",
      "  See https://docs.pytest.org/en/stable/how-to/capture-warnings.html#resource-warnings for more info.\n",
      "\n",
      "tests/test_output.py::test_ensure_status_code_is_shown_on_all_themes[ OK-pie-dark]\n",
      "  /Users/darkrsw/git/knu2023software-design/notebooks/cli/venv/lib/python3.11/site-packages/_pytest/fixtures.py:911: ResourceWarning: unclosed <socket.socket fd=88, family=2, type=1, proto=0, laddr=('127.0.0.1', 57095)>\n",
      "    next(it)\n",
      "  Enable tracemalloc to get traceback where the object was allocated.\n",
      "  See https://docs.pytest.org/en/stable/how-to/capture-warnings.html#resource-warnings for more info.\n",
      "\n",
      "tests/test_output.py::test_ensure_status_code_is_shown_on_all_themes[ OK-pie-light]\n",
      "  /Users/darkrsw/git/knu2023software-design/notebooks/cli/venv/lib/python3.11/site-packages/_pytest/fixtures.py:911: ResourceWarning: unclosed <socket.socket fd=88, family=2, type=1, proto=0, laddr=('127.0.0.1', 57097)>\n",
      "    next(it)\n",
      "  Enable tracemalloc to get traceback where the object was allocated.\n",
      "  See https://docs.pytest.org/en/stable/how-to/capture-warnings.html#resource-warnings for more info.\n",
      "\n",
      "tests/test_output.py::test_ensure_status_code_is_shown_on_all_themes[ OK-solarized]\n",
      "  /Users/darkrsw/git/knu2023software-design/notebooks/cli/venv/lib/python3.11/site-packages/_pytest/fixtures.py:911: ResourceWarning: unclosed <socket.socket fd=88, family=2, type=1, proto=0, laddr=('127.0.0.1', 57099)>\n",
      "    next(it)\n",
      "  Enable tracemalloc to get traceback where the object was allocated.\n",
      "  See https://docs.pytest.org/en/stable/how-to/capture-warnings.html#resource-warnings for more info.\n",
      "\n",
      "tests/test_output.py::test_ensure_status_code_is_shown_on_all_themes[ OK -auto]\n",
      "  /Users/darkrsw/git/knu2023software-design/notebooks/cli/venv/lib/python3.11/site-packages/_pytest/fixtures.py:911: ResourceWarning: unclosed <socket.socket fd=88, family=2, type=1, proto=0, laddr=('127.0.0.1', 57101)>\n",
      "    next(it)\n",
      "  Enable tracemalloc to get traceback where the object was allocated.\n",
      "  See https://docs.pytest.org/en/stable/how-to/capture-warnings.html#resource-warnings for more info.\n",
      "\n",
      "tests/test_output.py::test_ensure_status_code_is_shown_on_all_themes[ OK -pie]\n",
      "  /Users/darkrsw/git/knu2023software-design/notebooks/cli/venv/lib/python3.11/site-packages/_pytest/fixtures.py:911: ResourceWarning: unclosed <socket.socket fd=88, family=2, type=1, proto=0, laddr=('127.0.0.1', 57103)>\n",
      "    next(it)\n",
      "  Enable tracemalloc to get traceback where the object was allocated.\n",
      "  See https://docs.pytest.org/en/stable/how-to/capture-warnings.html#resource-warnings for more info.\n",
      "\n",
      "tests/test_output.py::test_ensure_status_code_is_shown_on_all_themes[ OK -pie-dark]\n",
      "  /Users/darkrsw/git/knu2023software-design/notebooks/cli/venv/lib/python3.11/site-packages/_pytest/fixtures.py:911: ResourceWarning: unclosed <socket.socket fd=88, family=2, type=1, proto=0, laddr=('127.0.0.1', 57105)>\n",
      "    next(it)\n",
      "  Enable tracemalloc to get traceback where the object was allocated.\n",
      "  See https://docs.pytest.org/en/stable/how-to/capture-warnings.html#resource-warnings for more info.\n",
      "\n",
      "tests/test_output.py::test_ensure_status_code_is_shown_on_all_themes[ OK -pie-light]\n",
      "  /Users/darkrsw/git/knu2023software-design/notebooks/cli/venv/lib/python3.11/site-packages/_pytest/fixtures.py:911: ResourceWarning: unclosed <socket.socket fd=88, family=2, type=1, proto=0, laddr=('127.0.0.1', 57107)>\n",
      "    next(it)\n",
      "  Enable tracemalloc to get traceback where the object was allocated.\n",
      "  See https://docs.pytest.org/en/stable/how-to/capture-warnings.html#resource-warnings for more info.\n",
      "\n",
      "tests/test_output.py::test_ensure_status_code_is_shown_on_all_themes[ OK -solarized]\n",
      "  /Users/darkrsw/git/knu2023software-design/notebooks/cli/venv/lib/python3.11/site-packages/_pytest/fixtures.py:911: ResourceWarning: unclosed <socket.socket fd=88, family=2, type=1, proto=0, laddr=('127.0.0.1', 57109)>\n",
      "    next(it)\n",
      "  Enable tracemalloc to get traceback where the object was allocated.\n",
      "  See https://docs.pytest.org/en/stable/how-to/capture-warnings.html#resource-warnings for more info.\n",
      "\n",
      "tests/test_output.py::test_ensure_status_code_is_shown_on_all_themes[ CUSTOM -auto]\n",
      "  /Users/darkrsw/git/knu2023software-design/notebooks/cli/venv/lib/python3.11/site-packages/_pytest/fixtures.py:911: ResourceWarning: unclosed <socket.socket fd=88, family=2, type=1, proto=0, laddr=('127.0.0.1', 57111)>\n",
      "    next(it)\n",
      "  Enable tracemalloc to get traceback where the object was allocated.\n",
      "  See https://docs.pytest.org/en/stable/how-to/capture-warnings.html#resource-warnings for more info.\n",
      "\n",
      "tests/test_output.py::test_ensure_status_code_is_shown_on_all_themes[ CUSTOM -pie]\n",
      "  /Users/darkrsw/git/knu2023software-design/notebooks/cli/venv/lib/python3.11/site-packages/_pytest/fixtures.py:911: ResourceWarning: unclosed <socket.socket fd=88, family=2, type=1, proto=0, laddr=('127.0.0.1', 57114)>\n",
      "    next(it)\n",
      "  Enable tracemalloc to get traceback where the object was allocated.\n",
      "  See https://docs.pytest.org/en/stable/how-to/capture-warnings.html#resource-warnings for more info.\n",
      "\n",
      "tests/test_output.py::test_ensure_status_code_is_shown_on_all_themes[ CUSTOM -pie-dark]\n",
      "  /Users/darkrsw/git/knu2023software-design/notebooks/cli/venv/lib/python3.11/site-packages/_pytest/fixtures.py:911: ResourceWarning: unclosed <socket.socket fd=88, family=2, type=1, proto=0, laddr=('127.0.0.1', 57116)>\n",
      "    next(it)\n",
      "  Enable tracemalloc to get traceback where the object was allocated.\n",
      "  See https://docs.pytest.org/en/stable/how-to/capture-warnings.html#resource-warnings for more info.\n",
      "\n",
      "tests/test_output.py::test_ensure_status_code_is_shown_on_all_themes[ CUSTOM -pie-light]\n",
      "  /Users/darkrsw/git/knu2023software-design/notebooks/cli/venv/lib/python3.11/site-packages/_pytest/fixtures.py:911: ResourceWarning: unclosed <socket.socket fd=88, family=2, type=1, proto=0, laddr=('127.0.0.1', 57119)>\n",
      "    next(it)\n",
      "  Enable tracemalloc to get traceback where the object was allocated.\n",
      "  See https://docs.pytest.org/en/stable/how-to/capture-warnings.html#resource-warnings for more info.\n",
      "\n",
      "tests/test_output.py::test_ensure_status_code_is_shown_on_all_themes[ CUSTOM -solarized]\n",
      "  /Users/darkrsw/git/knu2023software-design/notebooks/cli/venv/lib/python3.11/site-packages/_pytest/fixtures.py:911: ResourceWarning: unclosed <socket.socket fd=88, family=2, type=1, proto=0, laddr=('127.0.0.1', 57121)>\n",
      "    next(it)\n",
      "  Enable tracemalloc to get traceback where the object was allocated.\n",
      "  See https://docs.pytest.org/en/stable/how-to/capture-warnings.html#resource-warnings for more info.\n",
      "\n",
      "tests/test_redirects.py::test_verbose_follow_redirect_with_repost[308]\n",
      "  /opt/homebrew/Cellar/python@3.11/3.11.6_1/Frameworks/Python.framework/Versions/3.11/lib/python3.11/importlib/metadata/__init__.py:109: ResourceWarning: unclosed file <_io.FileIO name='/Users/darkrsw/git/knu2023software-design/notebooks/cli/tests/fixtures/test.txt' mode='rb' closefd=True>\n",
      "    lines = filter(filter_, map(str.strip, text.splitlines()))\n",
      "  Enable tracemalloc to get traceback where the object was allocated.\n",
      "  See https://docs.pytest.org/en/stable/how-to/capture-warnings.html#resource-warnings for more info.\n",
      "\n",
      "tests/test_regressions.py::test_verbose_redirected_stdout_separator\n",
      "  /opt/homebrew/Cellar/python@3.11/3.11.6_1/Frameworks/Python.framework/Versions/3.11/lib/python3.11/collections/__init__.py:453: ResourceWarning: unclosed file <_io.FileIO name='/Users/darkrsw/git/knu2023software-design/notebooks/cli/tests/fixtures/test.txt' mode='rb' closefd=True>\n",
      "    result = self._make(_map(kwds.pop, field_names, self))\n",
      "  Enable tracemalloc to get traceback where the object was allocated.\n",
      "  See https://docs.pytest.org/en/stable/how-to/capture-warnings.html#resource-warnings for more info.\n",
      "\n",
      "tests/test_regressions.py::test_verbose_redirected_stdout_separator\n",
      "  /opt/homebrew/Cellar/python@3.11/3.11.6_1/Frameworks/Python.framework/Versions/3.11/lib/python3.11/collections/__init__.py:453: ResourceWarning: unclosed file <_io.FileIO name='/var/folders/wz/1s6cf6yx1w768h9dr46pvs8h0000gn/T/httpie_stderr9hoarkkp' mode='rb+' closefd=True>\n",
      "    result = self._make(_map(kwds.pop, field_names, self))\n",
      "  Enable tracemalloc to get traceback where the object was allocated.\n",
      "  See https://docs.pytest.org/en/stable/how-to/capture-warnings.html#resource-warnings for more info.\n",
      "\n",
      "tests/test_sessions.py::TestSession::test_download_in_session\n",
      "  /Users/darkrsw/git/knu2023software-design/notebooks/cli/httpie/core.py:100: ResourceWarning: unclosed file <_io.FileIO name='get.json' mode='ab+' closefd=True>\n",
      "    exit_status = main_program(\n",
      "  Enable tracemalloc to get traceback where the object was allocated.\n",
      "  See https://docs.pytest.org/en/stable/how-to/capture-warnings.html#resource-warnings for more info.\n",
      "\n",
      "tests/test_sessions.py::TestSession::test_auth_type_reused_in_session[False-False]\n",
      "  /opt/homebrew/Cellar/python@3.11/3.11.6_1/Frameworks/Python.framework/Versions/3.11/lib/python3.11/collections/__init__.py:444: ResourceWarning: unclosed file <_io.FileIO name='/var/folders/wz/1s6cf6yx1w768h9dr46pvs8h0000gn/T/httpie_stderrpgo5yxcc' mode='rb+' closefd=True>\n",
      "    result = tuple_new(cls, iterable)\n",
      "  Enable tracemalloc to get traceback where the object was allocated.\n",
      "  See https://docs.pytest.org/en/stable/how-to/capture-warnings.html#resource-warnings for more info.\n",
      "\n",
      "tests/test_sessions.py::test_secure_cookies_on_localhost[localhost_http_server-expected_cookies0]\n",
      "  /Users/darkrsw/git/knu2023software-design/notebooks/cli/venv/lib/python3.11/site-packages/_pytest/fixtures.py:911: ResourceWarning: unclosed <socket.socket fd=103, family=2, type=1, proto=0, laddr=('127.0.0.1', 57266)>\n",
      "    next(it)\n",
      "  Enable tracemalloc to get traceback where the object was allocated.\n",
      "  See https://docs.pytest.org/en/stable/how-to/capture-warnings.html#resource-warnings for more info.\n",
      "\n",
      "tests/test_ssl.py::test_ssl_version[tls1]\n",
      "tests/test_ssl.py::test_ssl_version[tls1.1]\n",
      "tests/test_ssl.py::test_ssl_version[tls1.2]\n",
      "  /Users/darkrsw/git/knu2023software-design/notebooks/cli/httpie/ssl_.py:74: DeprecationWarning: 'ssl_version' option is deprecated and will be removed in urllib3 v2.1.0. Instead use 'ssl_minimum_version'\n",
      "    return create_urllib3_context(\n",
      "\n",
      "tests/test_ssl.py::test_ssl_version[tls1]\n",
      "  /Users/darkrsw/git/knu2023software-design/notebooks/cli/venv/lib/python3.11/site-packages/urllib3/util/ssl_.py:288: DeprecationWarning: ssl.TLSVersion.TLSv1 is deprecated\n",
      "    context.minimum_version = ssl_minimum_version\n",
      "\n",
      "tests/test_ssl.py::test_ssl_version[tls1]\n",
      "  /Users/darkrsw/git/knu2023software-design/notebooks/cli/venv/lib/python3.11/site-packages/urllib3/util/ssl_.py:293: DeprecationWarning: ssl.TLSVersion.TLSv1 is deprecated\n",
      "    context.maximum_version = ssl_maximum_version\n",
      "\n",
      "tests/test_ssl.py::test_ssl_version[tls1.1]\n",
      "  /Users/darkrsw/git/knu2023software-design/notebooks/cli/venv/lib/python3.11/site-packages/urllib3/util/ssl_.py:288: DeprecationWarning: ssl.TLSVersion.TLSv1_1 is deprecated\n",
      "    context.minimum_version = ssl_minimum_version\n",
      "\n",
      "tests/test_ssl.py::test_ssl_version[tls1.1]\n",
      "  /Users/darkrsw/git/knu2023software-design/notebooks/cli/venv/lib/python3.11/site-packages/urllib3/util/ssl_.py:293: DeprecationWarning: ssl.TLSVersion.TLSv1_1 is deprecated\n",
      "    context.maximum_version = ssl_maximum_version\n",
      "\n",
      "tests/test_ssl.py::TestServerCert::test_verify_false_OK[false]\n",
      "tests/test_ssl.py::TestServerCert::test_verify_false_OK[fALse]\n",
      "  /Users/darkrsw/git/knu2023software-design/notebooks/cli/venv/lib/python3.11/site-packages/urllib3/connectionpool.py:1099: InsecureRequestWarning: Unverified HTTPS request is being made to host '127.0.0.1'. Adding certificate verification is strongly advised. See: https://urllib3.readthedocs.io/en/latest/advanced-usage.html#tls-warnings\n",
      "    warnings.warn(\n",
      "\n",
      "tests/test_stream.py::test_auto_streaming[extras0-3]\n",
      "  /Users/darkrsw/git/knu2023software-design/notebooks/cli/venv/lib/python3.11/site-packages/_pytest/fixtures.py:911: ResourceWarning: unclosed <socket.socket fd=88, family=2, type=1, proto=0, laddr=('127.0.0.1', 57296)>\n",
      "    next(it)\n",
      "  Enable tracemalloc to get traceback where the object was allocated.\n",
      "  See https://docs.pytest.org/en/stable/how-to/capture-warnings.html#resource-warnings for more info.\n",
      "\n",
      "tests/test_stream.py::test_auto_streaming[extras1-3]\n",
      "  /Users/darkrsw/git/knu2023software-design/notebooks/cli/venv/lib/python3.11/site-packages/_pytest/fixtures.py:911: ResourceWarning: unclosed <socket.socket fd=88, family=2, type=1, proto=0, laddr=('127.0.0.1', 57299)>\n",
      "    next(it)\n",
      "  Enable tracemalloc to get traceback where the object was allocated.\n",
      "  See https://docs.pytest.org/en/stable/how-to/capture-warnings.html#resource-warnings for more info.\n",
      "\n",
      "tests/test_stream.py::test_auto_streaming[extras2-1]\n",
      "  /Users/darkrsw/git/knu2023software-design/notebooks/cli/venv/lib/python3.11/site-packages/_pytest/fixtures.py:911: ResourceWarning: unclosed <socket.socket fd=88, family=2, type=1, proto=0, laddr=('127.0.0.1', 57301)>\n",
      "    next(it)\n",
      "  Enable tracemalloc to get traceback where the object was allocated.\n",
      "  See https://docs.pytest.org/en/stable/how-to/capture-warnings.html#resource-warnings for more info.\n",
      "\n",
      "tests/test_stream.py::test_streaming_encoding_detection\n",
      "  /Users/darkrsw/git/knu2023software-design/notebooks/cli/venv/lib/python3.11/site-packages/_pytest/fixtures.py:911: ResourceWarning: unclosed <socket.socket fd=88, family=2, type=1, proto=0, laddr=('127.0.0.1', 57303)>\n",
      "    next(it)\n",
      "  Enable tracemalloc to get traceback where the object was allocated.\n",
      "  See https://docs.pytest.org/en/stable/how-to/capture-warnings.html#resource-warnings for more info.\n",
      "\n",
      "tests/test_uploads.py::TestMultipartFormDataFileUpload::test_form_no_files_urlencoded\n",
      "  /opt/homebrew/Cellar/python@3.11/3.11.6_1/Frameworks/Python.framework/Versions/3.11/lib/python3.11/collections/__init__.py:444: ResourceWarning: unclosed file <_io.BufferedReader name='/Users/darkrsw/git/knu2023software-design/notebooks/cli/tests/fixtures/test.txt'>\n",
      "    result = tuple_new(cls, iterable)\n",
      "  Enable tracemalloc to get traceback where the object was allocated.\n",
      "  See https://docs.pytest.org/en/stable/how-to/capture-warnings.html#resource-warnings for more info.\n",
      "\n",
      "tests/test_uploads.py::TestMultipartFormDataFileUpload::test_multipart_custom_content_type_boundary_added\n",
      "  /opt/homebrew/Cellar/python@3.11/3.11.6_1/Frameworks/Python.framework/Versions/3.11/lib/python3.11/collections/__init__.py:444: ResourceWarning: unclosed file <_io.TextIOWrapper name=113 mode='w+t' encoding='utf-8'>\n",
      "    result = tuple_new(cls, iterable)\n",
      "  Enable tracemalloc to get traceback where the object was allocated.\n",
      "  See https://docs.pytest.org/en/stable/how-to/capture-warnings.html#resource-warnings for more info.\n",
      "\n",
      "tests/test_uploads.py::TestMultipartFormDataFileUpload::test_multipart_custom_content_type_boundary_added\n",
      "  /opt/homebrew/Cellar/python@3.11/3.11.6_1/Frameworks/Python.framework/Versions/3.11/lib/python3.11/collections/__init__.py:444: ResourceWarning: unclosed file <_io.TextIOWrapper name='/dev/null' mode='w+' encoding='UTF-8'>\n",
      "    result = tuple_new(cls, iterable)\n",
      "  Enable tracemalloc to get traceback where the object was allocated.\n",
      "  See https://docs.pytest.org/en/stable/how-to/capture-warnings.html#resource-warnings for more info.\n",
      "\n",
      "tests/test_uploads.py::TestRequestBodyFromFilePath::test_request_body_from_file_by_path_with_explicit_content_type\n",
      "  /opt/homebrew/Cellar/python@3.11/3.11.6_1/Frameworks/Python.framework/Versions/3.11/lib/python3.11/collections/__init__.py:444: ResourceWarning: unclosed file <_io.FileIO name='/Users/darkrsw/git/knu2023software-design/notebooks/cli/tests/fixtures/test.txt' mode='rb' closefd=True>\n",
      "    result = tuple_new(cls, iterable)\n",
      "  Enable tracemalloc to get traceback where the object was allocated.\n",
      "  See https://docs.pytest.org/en/stable/how-to/capture-warnings.html#resource-warnings for more info.\n",
      "\n",
      "tests/test_uploads.py::TestRequestBodyFromFilePath::test_multiple_request_bodies_from_file_by_path\n",
      "tests/test_uploads.py::TestRequestBodyFromFilePath::test_multiple_request_bodies_from_file_by_path\n",
      "tests/test_uploads.py::TestRequestBodyFromFilePath::test_multiple_request_bodies_from_file_by_path\n",
      "tests/test_uploads.py::TestRequestBodyFromFilePath::test_multiple_request_bodies_from_file_by_path\n",
      "  /opt/homebrew/Cellar/python@3.11/3.11.6_1/Frameworks/Python.framework/Versions/3.11/lib/python3.11/ast.py:50: ResourceWarning: unclosed file <_io.BufferedReader name='/Users/darkrsw/git/knu2023software-design/notebooks/cli/tests/fixtures/test.txt'>\n",
      "    return compile(source, filename, mode, flags,\n",
      "  Enable tracemalloc to get traceback where the object was allocated.\n",
      "  See https://docs.pytest.org/en/stable/how-to/capture-warnings.html#resource-warnings for more info.\n",
      "\n",
      "-- Docs: https://docs.pytest.org/en/stable/how-to/capture-warnings.html\n",
      "\u001b[36m\u001b[1m=========================== short test summary info ============================\u001b[0m\n",
      "\u001b[31mFAILED\u001b[0m cli/tests/test_downloads.py::\u001b[1mTestDownloads::test_actual_download[http]\u001b[0m - AssertionError: assert 'Downloading' in ''\n",
      "\u001b[31mFAILED\u001b[0m cli/tests/test_errors.py::\u001b[1mtest_response_charset_option_unknown_encoding[http]\u001b[0m - assert \"'foobar' is not a supported encoding\" in '\\n'\n",
      "\u001b[31mFAILED\u001b[0m cli/tests/test_errors.py::\u001b[1mtest_response_mime_option_invalid_mime_type[http]\u001b[0m - assert \"'foobar' doesn’t look like a mime type\" in '\\n'\n",
      "\u001b[31mFAILED\u001b[0m cli/tests/test_downloads.py::\u001b[1mTestDownloads::test_actual_download[https]\u001b[0m - AssertionError: assert 'Downloading' in ''\n",
      "\u001b[31mFAILED\u001b[0m cli/tests/test_errors.py::\u001b[1mtest_response_charset_option_unknown_encoding[https]\u001b[0m - assert \"'foobar' is not a supported encoding\" in '\\n'\n",
      "\u001b[31mFAILED\u001b[0m cli/tests/test_errors.py::\u001b[1mtest_response_mime_option_invalid_mime_type[https]\u001b[0m - assert \"'foobar' doesn’t look like a mime type\" in '\\n'\n",
      "\u001b[31mFAILED\u001b[0m cli/tests/test_auth.py::\u001b[1mtest_missing_auth\u001b[0m - AssertionError: assert '--auth required' in '\\n'\n",
      "\u001b[31mFAILED\u001b[0m cli/tests/test_auth.py::\u001b[1mtest_ignore_netrc_with_auth_type_resulting_in_missing_auth\u001b[0m - AssertionError: assert '--auth required' in '\\n'\n",
      "\u001b[31mFAILED\u001b[0m cli/tests/test_cli.py::\u001b[1mtest_url_colon_slash_slash_only\u001b[0m - AssertionError: assert '' == 'http: error:...host supplied'\n",
      "\u001b[31mFAILED\u001b[0m cli/tests/test_cli.py::\u001b[1mTestNoOptions::test_invalid_no_options\u001b[0m - AssertionError: assert 'unrecognized arguments: --no-war' in '\\n'\n",
      "\u001b[31mFAILED\u001b[0m cli/tests/test_cli.py::\u001b[1mTestStdin::test_ignore_stdin_cannot_prompt_password\u001b[0m - AssertionError: assert 'because --ignore-stdin' in '\\n'\n",
      "\u001b[31mFAILED\u001b[0m cli/tests/test_cli_ui.py::\u001b[1mtest_naked_invocation[args0-usage:\\n    http [METHOD] URL [REQUEST_ITEM ...]\\n\\nerror:\\n    the following arguments are required: URL\\n\\nfor more information:\\n    run 'http --help' or visit https:/httpie.io/docs/cli\\n\\n]\u001b[0m - assert '\\n' == 'usage:\\n    .../docs/cli\\n\\n'\n",
      "\u001b[31mFAILED\u001b[0m cli/tests/test_cli_ui.py::\u001b[1mtest_naked_invocation[args1-usage:\\n    http --pretty {all, colors, format, none} [METHOD] URL [REQUEST_ITEM ...]\\n\\nerror:\\n    argument --pretty: expected one argument\\n\\nfor more information:\\n    run 'http --help' or visit https:/httpie.io/docs/cli\\n\\n]\u001b[0m - assert '\\n' == 'usage:\\n    .../docs/cli\\n\\n'\n",
      "\u001b[31mFAILED\u001b[0m cli/tests/test_cli_ui.py::\u001b[1mtest_naked_invocation[args2-usage:\\n    http --pretty {all, colors, format, none} [METHOD] URL [REQUEST_ITEM ...]\\n\\nerror:\\n    argument --pretty: expected one argument\\n\\nfor more information:\\n    run 'http --help' or visit https:/httpie.io/docs/cli\\n\\n]\u001b[0m - assert '\\n' == 'usage:\\n    .../docs/cli\\n\\n'\n",
      "\u001b[31mFAILED\u001b[0m cli/tests/test_cli_ui.py::\u001b[1mtest_naked_invocation[args3-usage:\\n    http --pretty {all, colors, format, none} [METHOD] URL [REQUEST_ITEM ...]\\n\\nerror:\\n    argument --pretty: invalid choice: '$invalid' (choose from 'all', 'colors', 'format', 'none')\\n\\nfor more information:\\n    run 'http --help' or visit https:/httpie.io/docs/cli\\n\\n]\u001b[0m - assert '\\n' == 'usage:\\n    .../docs/cli\\n\\n'\n",
      "\u001b[31mFAILED\u001b[0m cli/tests/test_compress.py::\u001b[1mtest_cannot_combine_compress_with_chunked\u001b[0m - AssertionError: assert 'cannot combine --compress and --chunked' in '\\n'\n",
      "\u001b[31mFAILED\u001b[0m cli/tests/test_compress.py::\u001b[1mtest_cannot_combine_compress_with_multipart\u001b[0m - AssertionError: assert 'cannot combine --compress and --multipart' in '\\n'\n",
      "\u001b[31mFAILED\u001b[0m cli/tests/test_config.py::\u001b[1mtest_config_file_not_valid\u001b[0m - assert 'http: warning' in ''\n",
      "\u001b[31mFAILED\u001b[0m cli/tests/test_config.py::\u001b[1mtest_config_file_inaccessible\u001b[0m - assert 'http: warning' in ''\n",
      "\u001b[31mFAILED\u001b[0m cli/tests/test_errors.py::\u001b[1mtest_error\u001b[0m - AssertionError: assert 'ConnectionError: Connection aborted while doing a G...\n",
      "\u001b[31mFAILED\u001b[0m cli/tests/test_errors.py::\u001b[1mtest_error_custom_dns[2-check your connection]\u001b[0m - AssertionError: assert 'check your connection' in ''\n",
      "\u001b[31mFAILED\u001b[0m cli/tests/test_errors.py::\u001b[1mtest_error_custom_dns[8-check the URL]\u001b[0m - AssertionError: assert 'check the URL' in ''\n",
      "\u001b[31mFAILED\u001b[0m cli/tests/test_exit_status.py::\u001b[1mtest_3xx_check_status_exits_3_and_stderr_when_stdout_redirected\u001b[0m - AssertionError: assert '301 moved permanently' in ''\n",
      "\u001b[31mFAILED\u001b[0m cli/tests/test_httpie.py::\u001b[1mtest_form_POST_file_redirected_stdin\u001b[0m - AssertionError: assert 'cannot be mixed' in '\\n'\n",
      "\u001b[31mFAILED\u001b[0m cli/tests/test_httpie.py::\u001b[1mtest_raw_POST_key_values_supplied\u001b[0m - AssertionError: assert 'cannot be mixed' in '\\n'\n",
      "\u001b[31mFAILED\u001b[0m cli/tests/test_httpie.py::\u001b[1mtest_raw_POST_redirected_stdin\u001b[0m - AssertionError: assert 'cannot be mixed' in '\\n'\n",
      "\u001b[31mFAILED\u001b[0m cli/tests/test_httpie_cli.py::\u001b[1mtest_httpie_sessions_upgrade_on_non_existent_file\u001b[0m - assert 'does not exist' in \"HTTPie 3.2.2\\nRequests 2.31.0\\nPygments 2.17.2\\...\n",
      "\u001b[31mFAILED\u001b[0m cli/tests/test_output.py::\u001b[1mTestQuietFlag::test_quiet_with_check_status_non_zero\u001b[0m - AssertionError: assert 'http: warning: HTTP 500' in ''\n",
      "\u001b[31mFAILED\u001b[0m cli/tests/test_output.py::\u001b[1mTestQuietFlag::test_quiet_with_check_status_non_zero_pipe\u001b[0m - AssertionError: assert 'http: warning: HTTP 500' in ''\n",
      "\u001b[31mFAILED\u001b[0m cli/tests/test_output.py::\u001b[1mTestQuietFlag::test_quiet_quiet_with_check_status_non_zero_pipe\u001b[0m - AssertionError: assert 'http: warning: HTTP 500' in ''\n",
      "\u001b[31mFAILED\u001b[0m cli/tests/test_output.py::\u001b[1mTestQuietFlag::test_double_quiet_on_error\u001b[0m - AssertionError: assert 'Couldn’t resolve the given hostname' in ''\n",
      "\u001b[31mFAILED\u001b[0m cli/tests/test_sessions.py::\u001b[1mtest_old_session_cookie_layout_warning\u001b[0m - AssertionError: assert b'Outdated layout detected' in b''\n",
      "\u001b[31mFAILED\u001b[0m cli/tests/test_sessions.py::\u001b[1mtest_cookie_security_warnings_on_raw_cookies[cookies0-True]\u001b[0m - AssertionError: assert b'Outdated layout detected' in b''\n",
      "\u001b[31mFAILED\u001b[0m cli/tests/test_sessions.py::\u001b[1mtest_cookie_security_warnings_on_raw_cookies[cookies1-True]\u001b[0m - AssertionError: assert b'Outdated layout detected' in b''\n",
      "\u001b[31mFAILED\u001b[0m cli/tests/test_sessions.py::\u001b[1mtest_headers_old_layout_warning[headers1-True]\u001b[0m - AssertionError: assert b'Outdated layout detected' in b''\n",
      "\u001b[31mFAILED\u001b[0m cli/tests/test_sessions.py::\u001b[1mtest_outdated_layout_mixed\u001b[0m - AssertionError: assert 0 == 1\n",
      "\u001b[31mFAILED\u001b[0m cli/tests/test_ssl.py::\u001b[1mTestClientCert::test_cert_file_not_found\u001b[0m - AssertionError: assert '/__not_found__: No such file or directory' in '\\n'\n",
      "\u001b[31mFAILED\u001b[0m cli/tests/test_ssl.py::\u001b[1mtest_ciphers_none_can_be_selected\u001b[0m - AssertionError: assert 'cipher' in ''\n",
      "\u001b[31mFAILED\u001b[0m cli/tests/test_update_warnings.py::\u001b[1mtest_check_updates_first_time_after_data_fetch[True-higher_build_channel]\u001b[0m - assert (not True or False)\n",
      "\u001b[31mFAILED\u001b[0m cli/tests/test_uploads.py::\u001b[1mTestRequestBodyFromFilePath::test_request_body_from_file_by_path_no_field_name_allowed\u001b[0m - AssertionError: assert 'perhaps you meant --form?' in '\\n'\n",
      "\u001b[31mFAILED\u001b[0m cli/tests/test_uploads.py::\u001b[1mTestRequestBodyFromFilePath::test_request_body_from_file_by_path_no_data_items_allowed\u001b[0m - AssertionError: assert 'cannot be mixed' in '\\n'\n",
      "\u001b[31mFAILED\u001b[0m cli/tests/test_uploads.py::\u001b[1mTestRequestBodyFromFilePath::test_multiple_request_bodies_from_file_by_path\u001b[0m - AssertionError: assert 'from multiple files' in '\\n'\n",
      "\u001b[31mFAILED\u001b[0m cli/tests/test_windows.py::\u001b[1mTestFakeWindows::test_output_file_pretty_not_allowed_on_windows\u001b[0m - AssertionError: assert 'Only terminal output can be colorized on Windows' i...\n"
     ]
    }
   ],
   "source": [
    "import sys\n",
    "\n",
    "sys.settrace(traceit)\n",
    "pytest.main([\"-qqqq\", \"./cli\"])\n",
    "sys.settrace(None)\n",
    "\n",
    "contents = output.getvalue()\n",
    "output.close()"
   ]
  },
  {
   "cell_type": "code",
   "execution_count": 1,
   "id": "8627adb0",
   "metadata": {},
   "outputs": [
    {
     "ename": "NameError",
     "evalue": "name 'contents' is not defined",
     "output_type": "error",
     "traceback": [
      "\u001b[0;31m---------------------------------------------------------------------------\u001b[0m",
      "\u001b[0;31mNameError\u001b[0m                                 Traceback (most recent call last)",
      "Cell \u001b[0;32mIn[1], line 1\u001b[0m\n\u001b[0;32m----> 1\u001b[0m \u001b[38;5;28mprint\u001b[39m(\u001b[43mcontents\u001b[49m)\n",
      "\u001b[0;31mNameError\u001b[0m: name 'contents' is not defined"
     ]
    }
   ],
   "source": [
    "print(contents)"
   ]
  },
  {
   "cell_type": "code",
   "execution_count": null,
   "id": "dbc2db59",
   "metadata": {},
   "outputs": [],
   "source": []
  }
 ],
 "metadata": {
  "kernelspec": {
   "display_name": "Python 3 (ipykernel)",
   "language": "python",
   "name": "python3"
  },
  "language_info": {
   "codemirror_mode": {
    "name": "ipython",
    "version": 3
   },
   "file_extension": ".py",
   "mimetype": "text/x-python",
   "name": "python",
   "nbconvert_exporter": "python",
   "pygments_lexer": "ipython3",
   "version": "3.11.6"
  }
 },
 "nbformat": 4,
 "nbformat_minor": 5
}
