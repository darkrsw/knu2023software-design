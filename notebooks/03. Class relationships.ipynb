{
 "cells": [
  {
   "cell_type": "markdown",
   "id": "7e4b250e-9b94-4298-b7bb-eda97c6603b2",
   "metadata": {},
   "source": [
    "# Class level relationships"
   ]
  },
  {
   "cell_type": "markdown",
   "id": "e0b0b92c-8023-4e85-aa40-a64474225052",
   "metadata": {},
   "source": [
    "## Generalization"
   ]
  },
  {
   "cell_type": "markdown",
   "id": "df153dba-593c-465c-ba25-7a7a341ef823",
   "metadata": {},
   "source": [
    "Here, we are going to parse a whole project instead of a single python file."
   ]
  },
  {
   "cell_type": "code",
   "execution_count": 1,
   "id": "c32c2035-0cb7-4270-a8c2-550b18710f2b",
   "metadata": {},
   "outputs": [
    {
     "name": "stdout",
     "output_type": "stream",
     "text": [
      "Cloning into 'cli'...\n",
      "remote: Enumerating objects: 9979, done.\u001b[K\n",
      "remote: Counting objects: 100% (1345/1345), done.\u001b[K\n",
      "remote: Compressing objects: 100% (169/169), done.\u001b[Kressing objects:  52% (88/169)\u001b[K\n",
      "remote: Total 9979 (delta 1204), reused 1224 (delta 1173), pack-reused 8634\u001b[K\n",
      "Receiving objects: 100% (9979/9979), 6.81 MiB | 4.16 MiB/s, done.\n",
      "Resolving deltas: 100% (6837/6837), done.\n"
     ]
    }
   ],
   "source": [
    "# Clone a target project. Today, we try `httpie/cli`, a commandline HTTP client.\n",
    "!git clone git@github.com:httpie/cli.git"
   ]
  },
  {
   "cell_type": "code",
   "execution_count": 4,
   "id": "690164d9-3873-4fa4-a3ae-0d97527acbd1",
   "metadata": {},
   "outputs": [
    {
     "name": "stdout",
     "output_type": "stream",
     "text": [
      "./cli/httpie/cookies.py\n",
      "./cli/httpie/sessions.py\n",
      "./cli/httpie/config.py\n",
      "./cli/httpie/compat.py\n",
      "./cli/httpie/encoding.py\n",
      "./cli/httpie/models.py\n",
      "./cli/httpie/client.py\n",
      "./cli/httpie/__init__.py\n",
      "./cli/httpie/core.py\n",
      "./cli/httpie/ssl_.py\n",
      "./cli/httpie/downloads.py\n",
      "./cli/httpie/context.py\n",
      "./cli/httpie/utils.py\n",
      "./cli/httpie/uploads.py\n",
      "./cli/httpie/__main__.py\n",
      "./cli/httpie/status.py\n",
      "./cli/httpie/adapters.py\n",
      "./cli/httpie/plugins/registry.py\n",
      "./cli/httpie/plugins/__init__.py\n",
      "./cli/httpie/plugins/builtin.py\n",
      "./cli/httpie/plugins/manager.py\n",
      "./cli/httpie/plugins/base.py\n",
      "./cli/httpie/internal/daemons.py\n",
      "./cli/httpie/internal/daemon_runner.py\n",
      "./cli/httpie/internal/__init__.py\n",
      "./cli/httpie/internal/update_warnings.py\n",
      "./cli/httpie/internal/__build_channel__.py\n",
      "./cli/httpie/output/streams.py\n",
      "./cli/httpie/output/models.py\n",
      "./cli/httpie/output/__init__.py\n",
      "./cli/httpie/output/utils.py\n",
      "./cli/httpie/output/writer.py\n",
      "./cli/httpie/output/processing.py\n",
      "./cli/httpie/output/ui/__init__.py\n",
      "./cli/httpie/output/ui/palette.py\n",
      "./cli/httpie/output/ui/rich_utils.py\n",
      "./cli/httpie/output/ui/rich_help.py\n",
      "./cli/httpie/output/ui/man_pages.py\n",
      "./cli/httpie/output/ui/rich_palette.py\n",
      "./cli/httpie/output/ui/rich_progress.py\n",
      "./cli/httpie/output/lexers/metadata.py\n",
      "./cli/httpie/output/lexers/__init__.py\n",
      "./cli/httpie/output/lexers/common.py\n",
      "./cli/httpie/output/lexers/http.py\n",
      "./cli/httpie/output/lexers/json.py\n",
      "./cli/httpie/output/formatters/xml.py\n",
      "./cli/httpie/output/formatters/__init__.py\n",
      "./cli/httpie/output/formatters/headers.py\n",
      "./cli/httpie/output/formatters/json.py\n",
      "./cli/httpie/output/formatters/colors.py\n",
      "./cli/httpie/legacy/v3_2_0_session_header_format.py\n",
      "./cli/httpie/legacy/v3_1_0_session_cookie_format.py\n",
      "./cli/httpie/legacy/__init__.py\n",
      "./cli/httpie/cli/argtypes.py\n",
      "./cli/httpie/cli/options.py\n",
      "./cli/httpie/cli/requestitems.py\n",
      "./cli/httpie/cli/constants.py\n",
      "./cli/httpie/cli/__init__.py\n",
      "./cli/httpie/cli/utils.py\n",
      "./cli/httpie/cli/definition.py\n",
      "./cli/httpie/cli/exceptions.py\n",
      "./cli/httpie/cli/argparser.py\n",
      "./cli/httpie/cli/dicts.py\n",
      "./cli/httpie/cli/nested_json/interpret.py\n",
      "./cli/httpie/cli/nested_json/__init__.py\n",
      "./cli/httpie/cli/nested_json/tokens.py\n",
      "./cli/httpie/cli/nested_json/errors.py\n",
      "./cli/httpie/cli/nested_json/parse.py\n",
      "./cli/httpie/manager/compat.py\n",
      "./cli/httpie/manager/__init__.py\n",
      "./cli/httpie/manager/core.py\n",
      "./cli/httpie/manager/cli.py\n",
      "./cli/httpie/manager/__main__.py\n",
      "./cli/httpie/manager/tasks/plugins.py\n",
      "./cli/httpie/manager/tasks/sessions.py\n",
      "./cli/httpie/manager/tasks/export_args.py\n",
      "./cli/httpie/manager/tasks/__init__.py\n",
      "./cli/httpie/manager/tasks/check_updates.py\n"
     ]
    }
   ],
   "source": [
    "# First, we need to read all python files in the project.\n",
    "import os\n",
    "\n",
    "path = \"./cli/httpie/**/*.py\"\n",
    "\n",
    "from glob import glob\n",
    "\n",
    "for filepath in glob(path, recursive=True):\n",
    "    print(filepath)"
   ]
  },
  {
   "cell_type": "code",
   "execution_count": 5,
   "id": "844cbb84-d570-47d8-9962-6eb8c5bf9d25",
   "metadata": {},
   "outputs": [
    {
     "data": {
      "text/plain": [
       "78"
      ]
     },
     "execution_count": 5,
     "metadata": {},
     "output_type": "execute_result"
    }
   ],
   "source": [
    "pyfiles = list(glob(path, recursive=True))\n",
    "len(pyfiles)"
   ]
  },
  {
   "cell_type": "markdown",
   "id": "18a6c0bf-d76b-434f-b6d4-23e2059f1791",
   "metadata": {},
   "source": [
    "## Get AST one-by-one"
   ]
  },
  {
   "cell_type": "code",
   "execution_count": 6,
   "id": "75e4e451",
   "metadata": {},
   "outputs": [],
   "source": [
    "import ast\n",
    "\n",
    "def getAST(path: str):\n",
    "    with open(path, \"r\") as f:\n",
    "        source = f.read()\n",
    "        \n",
    "    return ast.parse(source)"
   ]
  },
  {
   "cell_type": "code",
   "execution_count": 25,
   "id": "e22ce575",
   "metadata": {},
   "outputs": [
    {
     "data": {
      "text/plain": [
       "<ast.Module at 0x108224700>"
      ]
     },
     "execution_count": 25,
     "metadata": {},
     "output_type": "execute_result"
    }
   ],
   "source": [
    "myast = getAST(pyfiles[0])\n",
    "myast"
   ]
  },
  {
   "cell_type": "markdown",
   "id": "8892af4f-aaa8-4d3d-997d-dea3d97f1b01",
   "metadata": {},
   "source": [
    "## Detect an inheritance syntax."
   ]
  },
  {
   "cell_type": "code",
   "execution_count": 27,
   "id": "05c29d4f",
   "metadata": {},
   "outputs": [],
   "source": [
    "from ast import NodeVisitor\n",
    "\n",
    "class SuperClassNameVisitor(NodeVisitor):\n",
    "    def __init__(self):\n",
    "        super().__init__()\n",
    "        self.names = []\n",
    "    \n",
    "    def visit_Name(self, node):\n",
    "        self.names.append(node.id)\n",
    "        return super().generic_visit(node)\n",
    "\n",
    "class ClassVisitor(NodeVisitor):\n",
    "    def __init__(self):\n",
    "        super().__init__()\n",
    "        self.gen_dict = {}\n",
    "        \n",
    "    def visit_ClassDef(self, node):\n",
    "        namevisitor = SuperClassNameVisitor()\n",
    "        for base in node.bases:\n",
    "            namevisitor.visit(base)\n",
    "        self.gen_dict[node.name] = { \"parents\": namevisitor.names }\n",
    "#         print(node.name, list([base.id for base in node.bases]))\n",
    "        return super().generic_visit(node)\n",
    "        \n",
    "myvisitor = ClassVisitor()\n",
    "myvisitor.visit(myast)"
   ]
  },
  {
   "cell_type": "markdown",
   "id": "3bd3fe68-4edf-44fc-82b2-e6312f8df235",
   "metadata": {},
   "source": [
    "## Store generalization relationships in a data structure"
   ]
  },
  {
   "cell_type": "code",
   "execution_count": 28,
   "id": "28b7d36b",
   "metadata": {},
   "outputs": [
    {
     "data": {
      "text/plain": [
       "{'HTTPieCookiePolicy': {'parents': ['cookiejar']},\n",
       " 'Session': {'parents': ['BaseConfigDict']},\n",
       " 'ConfigFileError': {'parents': ['Exception']},\n",
       " 'BaseConfigDict': {'parents': ['dict']},\n",
       " 'Config': {'parents': ['BaseConfigDict']},\n",
       " 'cached_property': {'parents': []},\n",
       " 'HTTPMessage': {'parents': []},\n",
       " 'HTTPResponse': {'parents': ['HTTPMessage']},\n",
       " 'HTTPRequest': {'parents': ['HTTPMessage']},\n",
       " 'RequestsMessageKind': {'parents': ['Enum']},\n",
       " 'OutputOptions': {'parents': ['NamedTuple']},\n",
       " 'HTTPieCertificate': {'parents': ['NamedTuple']},\n",
       " 'HTTPieHTTPSAdapter': {'parents': ['HTTPAdapter']},\n",
       " 'ContentRangeError': {'parents': ['ValueError']},\n",
       " 'Downloader': {'parents': []},\n",
       " 'DownloadStatus': {'parents': []},\n",
       " 'LogLevel': {'parents': ['str', 'Enum']},\n",
       " 'Environment': {'parents': []},\n",
       " 'JsonDictPreservingDuplicateKeys': {'parents': ['OrderedDict']},\n",
       " 'ExplicitNullAuth': {'parents': ['requests']},\n",
       " 'LockFileError': {'parents': ['ValueError']},\n",
       " 'ChunkedStream': {'parents': []},\n",
       " 'ChunkedUploadStream': {'parents': ['ChunkedStream']},\n",
       " 'ChunkedMultipartUploadStream': {'parents': ['ChunkedStream']},\n",
       " 'ExitStatus': {'parents': ['IntEnum']},\n",
       " 'HTTPieHTTPAdapter': {'parents': ['HTTPAdapter']},\n",
       " 'BuiltinAuthPlugin': {'parents': ['AuthPlugin']},\n",
       " 'HTTPBasicAuth': {'parents': ['requests']},\n",
       " 'HTTPBearerAuth': {'parents': ['requests']},\n",
       " 'BasicAuthPlugin': {'parents': ['BuiltinAuthPlugin']},\n",
       " 'DigestAuthPlugin': {'parents': ['BuiltinAuthPlugin']},\n",
       " 'BearerAuthPlugin': {'parents': ['BuiltinAuthPlugin']},\n",
       " 'PluginManager': {'parents': ['list']},\n",
       " 'BasePlugin': {'parents': []},\n",
       " 'AuthPlugin': {'parents': ['BasePlugin']},\n",
       " 'TransportPlugin': {'parents': ['BasePlugin']},\n",
       " 'ConverterPlugin': {'parents': ['BasePlugin']},\n",
       " 'FormatterPlugin': {'parents': ['BasePlugin']},\n",
       " 'DataSuppressedError': {'parents': ['Exception']},\n",
       " 'BinarySuppressedError': {'parents': ['DataSuppressedError']},\n",
       " 'BaseStream': {'parents': []},\n",
       " 'RawStream': {'parents': ['BaseStream']},\n",
       " 'EncodedStream': {'parents': ['BaseStream']},\n",
       " 'PrettyStream': {'parents': ['EncodedStream']},\n",
       " 'BufferedPrettyStream': {'parents': ['PrettyStream']},\n",
       " 'ProcessingOptions': {'parents': ['NamedTuple']},\n",
       " 'Conversion': {'parents': []},\n",
       " 'Formatting': {'parents': []},\n",
       " 'Styles': {'parents': ['Enum']},\n",
       " 'PieStyle': {'parents': ['str', 'Enum']},\n",
       " 'ColorString': {'parents': ['str']},\n",
       " 'PieColor': {'parents': ['ColorString', 'Enum']},\n",
       " 'GenericColor': {'parents': ['Enum']},\n",
       " '_StyledGenericColor': {'parents': []},\n",
       " 'OptionsHighlighter': {'parents': ['RegexHighlighter']},\n",
       " '_GenericColorCaster': {'parents': ['dict']},\n",
       " 'BaseDisplay': {'parents': []},\n",
       " 'DummyDisplay': {'parents': ['BaseDisplay']},\n",
       " 'StatusDisplay': {'parents': ['BaseDisplay']},\n",
       " 'ProgressDisplay': {'parents': ['BaseDisplay']},\n",
       " 'MetadataLexer': {'parents': ['pygments']},\n",
       " 'SimplifiedHTTPLexer': {'parents': ['pygments']},\n",
       " 'EnhancedJsonLexer': {'parents': ['RegexLexer']},\n",
       " 'XMLFormatter': {'parents': ['FormatterPlugin']},\n",
       " 'HeadersFormatter': {'parents': ['FormatterPlugin']},\n",
       " 'JSONFormatter': {'parents': ['FormatterPlugin']},\n",
       " 'ColorFormatter': {'parents': ['FormatterPlugin']},\n",
       " 'Solarized256Style': {'parents': ['pygments']},\n",
       " 'KeyValueArg': {'parents': []},\n",
       " 'SessionNameValidator': {'parents': []},\n",
       " 'Escaped': {'parents': ['str']},\n",
       " 'KeyValueArgType': {'parents': []},\n",
       " 'PromptMixin': {'parents': []},\n",
       " 'SSLCredentials': {'parents': ['PromptMixin']},\n",
       " 'AuthCredentials': {'parents': ['KeyValueArg', 'PromptMixin']},\n",
       " 'AuthCredentialsArgType': {'parents': ['KeyValueArgType']},\n",
       " 'Qualifiers': {'parents': ['Enum']},\n",
       " 'ParserSpec': {'parents': []},\n",
       " 'Group': {'parents': []},\n",
       " 'Argument': {'parents': ['typing']},\n",
       " 'RequestItems': {'parents': []},\n",
       " 'PrettyOptions': {'parents': ['enum']},\n",
       " 'RequestType': {'parents': ['enum']},\n",
       " 'Manual': {'parents': ['argparse']},\n",
       " 'LazyChoices': {'parents': ['argparse', 'Generic', 'T']},\n",
       " 'ParseError': {'parents': ['Exception']},\n",
       " 'HTTPieHelpFormatter': {'parents': ['RawDescriptionHelpFormatter']},\n",
       " 'BaseHTTPieArgumentParser': {'parents': ['argparse']},\n",
       " 'HTTPieManagerArgumentParser': {'parents': ['BaseHTTPieArgumentParser']},\n",
       " 'HTTPieArgumentParser': {'parents': ['BaseHTTPieArgumentParser']},\n",
       " 'BaseMultiDict': {'parents': ['MultiDict']},\n",
       " 'HTTPHeadersDict': {'parents': ['CIMultiDict', 'BaseMultiDict']},\n",
       " 'RequestJSONDataDict': {'parents': ['OrderedDict']},\n",
       " 'MultiValueOrderedDict': {'parents': ['OrderedDict']},\n",
       " 'RequestQueryParamsDict': {'parents': ['MultiValueOrderedDict']},\n",
       " 'RequestDataDict': {'parents': ['MultiValueOrderedDict']},\n",
       " 'MultipartRequestDataDict': {'parents': ['MultiValueOrderedDict']},\n",
       " 'RequestFilesDict': {'parents': ['RequestDataDict']},\n",
       " 'TokenKind': {'parents': ['Enum']},\n",
       " 'Token': {'parents': ['NamedTuple']},\n",
       " 'PathAction': {'parents': ['Enum']},\n",
       " 'Path': {'parents': []},\n",
       " 'NestedJSONArray': {'parents': ['list']},\n",
       " 'NestedJSONSyntaxError': {'parents': ['ValueError']},\n",
       " 'PipError': {'parents': ['Exception']},\n",
       " 'PluginInstaller': {'parents': []}}"
      ]
     },
     "execution_count": 28,
     "metadata": {},
     "output_type": "execute_result"
    }
   ],
   "source": [
    "myvisitor = ClassVisitor()\n",
    "\n",
    "for pyfile in pyfiles:\n",
    "    myast = getAST(pyfile)\n",
    "    myvisitor.visit(myast)\n",
    "    \n",
    "myvisitor.gen_dict"
   ]
  },
  {
   "cell_type": "markdown",
   "id": "da2a34c5-99ea-4e34-b7cb-381f30523424",
   "metadata": {},
   "source": [
    "# Association"
   ]
  },
  {
   "cell_type": "markdown",
   "id": "f78380f3-691a-4ce6-a7e9-0b94e4782233",
   "metadata": {},
   "source": [
    "## Composition"
   ]
  },
  {
   "cell_type": "markdown",
   "id": "8e69590d-13d7-4480-b266-1755dd1b23c4",
   "metadata": {},
   "source": [
    "## Aggregation"
   ]
  },
  {
   "cell_type": "code",
   "execution_count": null,
   "id": "226f6559-0b8a-49c3-a776-528f51530bdc",
   "metadata": {},
   "outputs": [],
   "source": []
  }
 ],
 "metadata": {
  "kernelspec": {
   "display_name": "Python 3 (ipykernel)",
   "language": "python",
   "name": "python3"
  },
  "language_info": {
   "codemirror_mode": {
    "name": "ipython",
    "version": 3
   },
   "file_extension": ".py",
   "mimetype": "text/x-python",
   "name": "python",
   "nbconvert_exporter": "python",
   "pygments_lexer": "ipython3",
   "version": "3.11.6"
  }
 },
 "nbformat": 4,
 "nbformat_minor": 5
}
