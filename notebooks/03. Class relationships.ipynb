{
 "cells": [
  {
   "cell_type": "markdown",
   "id": "7e4b250e-9b94-4298-b7bb-eda97c6603b2",
   "metadata": {},
   "source": [
    "# Class level relationships"
   ]
  },
  {
   "cell_type": "markdown",
   "id": "e0b0b92c-8023-4e85-aa40-a64474225052",
   "metadata": {},
   "source": [
    "## Generalization"
   ]
  },
  {
   "cell_type": "markdown",
   "id": "df153dba-593c-465c-ba25-7a7a341ef823",
   "metadata": {},
   "source": [
    "Here, we are going to parse a whole project instead of a single python file."
   ]
  },
  {
   "cell_type": "code",
   "execution_count": null,
   "id": "c32c2035-0cb7-4270-a8c2-550b18710f2b",
   "metadata": {},
   "outputs": [],
   "source": [
    "# Clone a target project. Today, we try `httpie/cli`, a commandline HTTP client.\n",
    "!git clone git@github.com:httpie/cli.git"
   ]
  },
  {
   "cell_type": "code",
   "execution_count": null,
   "id": "690164d9-3873-4fa4-a3ae-0d97527acbd1",
   "metadata": {},
   "outputs": [],
   "source": [
    "# First, we need to read all python files in the project.\n",
    "import os\n",
    "\n",
    "path = \"./cli/httpie/**/*.py\"\n",
    "\n",
    "from glob import glob\n",
    "\n",
    "for filepath in glob(path, recursive=True):\n",
    "    print(filepath)"
   ]
  },
  {
   "cell_type": "code",
   "execution_count": null,
   "id": "844cbb84-d570-47d8-9962-6eb8c5bf9d25",
   "metadata": {},
   "outputs": [],
   "source": [
    "pyfiles = list(glob(path, recursive=True))\n",
    "len(pyfiles)"
   ]
  },
  {
   "cell_type": "markdown",
   "id": "18a6c0bf-d76b-434f-b6d4-23e2059f1791",
   "metadata": {},
   "source": [
    "## Get AST one-by-one"
   ]
  },
  {
   "cell_type": "code",
   "execution_count": null,
   "id": "75e4e451",
   "metadata": {},
   "outputs": [],
   "source": [
    "import ast\n",
    "\n",
    "def getAST(path: str):\n",
    "    with open(path, \"r\") as f:\n",
    "        source = f.read()\n",
    "        \n",
    "    return ast.parse(source)"
   ]
  },
  {
   "cell_type": "code",
   "execution_count": null,
   "id": "e22ce575",
   "metadata": {},
   "outputs": [],
   "source": [
    "myast = getAST(pyfiles[0])\n",
    "myast"
   ]
  },
  {
   "cell_type": "markdown",
   "id": "8892af4f-aaa8-4d3d-997d-dea3d97f1b01",
   "metadata": {},
   "source": [
    "## Detect an inheritance syntax."
   ]
  },
  {
   "cell_type": "code",
   "execution_count": null,
   "id": "05c29d4f",
   "metadata": {},
   "outputs": [],
   "source": [
    "from ast import NodeVisitor\n",
    "\n",
    "class SuperClassNameVisitor(NodeVisitor):\n",
    "    def __init__(self):\n",
    "        super().__init__()\n",
    "        self.names = []\n",
    "    \n",
    "    def visit_Name(self, node):\n",
    "        self.names.append(node.id)\n",
    "        return super().generic_visit(node)\n",
    "\n",
    "class ClassVisitor(NodeVisitor):\n",
    "    def __init__(self):\n",
    "        super().__init__()\n",
    "        self.gen_dict = {}\n",
    "        \n",
    "    def visit_ClassDef(self, node):\n",
    "        namevisitor = SuperClassNameVisitor()\n",
    "        for base in node.bases:\n",
    "            namevisitor.visit(base)\n",
    "        self.gen_dict[node.name] = { \"parents\": namevisitor.names }\n",
    "#         print(node.name, list([base.id for base in node.bases]))\n",
    "        return super().generic_visit(node)\n",
    "        \n",
    "myvisitor = ClassVisitor()\n",
    "myvisitor.visit(myast)"
   ]
  },
  {
   "cell_type": "markdown",
   "id": "3bd3fe68-4edf-44fc-82b2-e6312f8df235",
   "metadata": {},
   "source": [
    "## Store generalization relationships in a data structure"
   ]
  },
  {
   "cell_type": "code",
   "execution_count": null,
   "id": "28b7d36b",
   "metadata": {},
   "outputs": [],
   "source": [
    "myvisitor = ClassVisitor()\n",
    "\n",
    "for pyfile in pyfiles:\n",
    "    myast = getAST(pyfile)\n",
    "    myvisitor.visit(myast)\n",
    "    \n",
    "myvisitor.gen_dict"
   ]
  },
  {
   "cell_type": "markdown",
   "id": "da2a34c5-99ea-4e34-b7cb-381f30523424",
   "metadata": {},
   "source": [
    "# Association"
   ]
  },
  {
   "cell_type": "markdown",
   "id": "f78380f3-691a-4ce6-a7e9-0b94e4782233",
   "metadata": {},
   "source": [
    "## Composition"
   ]
  },
  {
   "cell_type": "markdown",
   "id": "8e69590d-13d7-4480-b266-1755dd1b23c4",
   "metadata": {},
   "source": [
    "## Aggregation"
   ]
  },
  {
   "cell_type": "code",
   "execution_count": null,
   "id": "226f6559-0b8a-49c3-a776-528f51530bdc",
   "metadata": {},
   "outputs": [],
   "source": []
  }
 ],
 "metadata": {
  "kernelspec": {
   "display_name": "Python 3 (ipykernel)",
   "language": "python",
   "name": "python3"
  },
  "language_info": {
   "codemirror_mode": {
    "name": "ipython",
    "version": 3
   },
   "file_extension": ".py",
   "mimetype": "text/x-python",
   "name": "python",
   "nbconvert_exporter": "python",
   "pygments_lexer": "ipython3",
   "version": "3.11.6"
  }
 },
 "nbformat": 4,
 "nbformat_minor": 5
}
