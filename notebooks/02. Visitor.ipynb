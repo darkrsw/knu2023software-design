{
 "cells": [
  {
   "cell_type": "markdown",
   "id": "9fd60f74",
   "metadata": {},
   "source": [
    "# Visitors\n",
    "\n",
    "The following example shows how to navigate an AST in Python."
   ]
  },
  {
   "cell_type": "code",
   "execution_count": null,
   "id": "ea2c7c81",
   "metadata": {},
   "outputs": [],
   "source": [
    "import ast\n",
    "your_code = \"\"\"\n",
    "def foo():  # type: ignore\n",
    "    ret = 2 * 2\n",
    "    return ret\n",
    "\"\"\"\n",
    "your_ast = ast.parse(your_code)\n",
    "print(your_ast)\n",
    "print(your_ast.type_ignores)\n",
    "print(your_ast.body[0])\n",
    "print(your_ast.body[0].name)"
   ]
  },
  {
   "cell_type": "markdown",
   "id": "5debaf0f",
   "metadata": {},
   "source": [
    "You can refer to the official document (https://docs.python.org/3/library/ast.html) to figure out available attributes for each AST node type. For example,\n",
    "\n",
    "```\n",
    "FunctionDef(identifier name, arguments args,\n",
    "                       stmt* body, expr* decorator_list, expr? returns,\n",
    "                       string? type_comment, type_param* type_params)\n",
    "```"
   ]
  },
  {
   "cell_type": "markdown",
   "id": "4466483d",
   "metadata": {},
   "source": [
    "However, it is too tedious to explore AST nodes and their attributes one-by-one. Thus, it is necessary to come up with a better navigation method. Fortunately, `ast` package provides visitors to traverse a given AST. You can find an example below:"
   ]
  },
  {
   "cell_type": "code",
   "execution_count": null,
   "id": "99c9c7dd",
   "metadata": {},
   "outputs": [],
   "source": [
    "from ast import NodeVisitor, FunctionDef\n",
    "\n",
    "class YourVisitor(NodeVisitor):\n",
    "    def __init__(self) -> None:\n",
    "        super().__init__()\n",
    "    \n",
    "    def visit_FunctionDef(self, node: FunctionDef):\n",
    "        print(\"FunctionDef:\", node.name)\n",
    "            "
   ]
  },
  {
   "cell_type": "code",
   "execution_count": null,
   "id": "df631e5b",
   "metadata": {},
   "outputs": [],
   "source": [
    "avisitor = YourVisitor()\n",
    "avisitor.visit(your_ast)"
   ]
  },
  {
   "cell_type": "markdown",
   "id": "b147894e",
   "metadata": {},
   "source": [
    "Let's try a longer code."
   ]
  },
  {
   "cell_type": "code",
   "execution_count": null,
   "id": "b8fdf451",
   "metadata": {},
   "outputs": [],
   "source": [
    "long_code = \"\"\"\n",
    "import pickle\n",
    "\n",
    "import six\n",
    "\n",
    "\n",
    "class MetaNode(type):\n",
    "    def __new__(mcs, name, bases, dict):\n",
    "        attrs = list(dict['attrs'])\n",
    "        dict['attrs'] = list()\n",
    "\n",
    "        for base in bases:\n",
    "            if hasattr(base, 'attrs'):\n",
    "                dict['attrs'].extend(base.attrs)\n",
    "\n",
    "        dict['attrs'].extend(attrs)\n",
    "\n",
    "        return type.__new__(mcs, name, bases, dict)\n",
    "\n",
    "\n",
    "@six.add_metaclass(MetaNode)\n",
    "class Node(object):\n",
    "    attrs = ()\n",
    "\n",
    "    def __init__(self, **kwargs):\n",
    "        values = kwargs.copy()\n",
    "\n",
    "        for attr_name in self.attrs:\n",
    "            value = values.pop(attr_name, None)\n",
    "            setattr(self, attr_name, value)\n",
    "\n",
    "        if values:\n",
    "            raise ValueError('Extraneous arguments')\n",
    "\n",
    "    def __equals__(self, other):\n",
    "        if type(other) is not type(self):\n",
    "            return False\n",
    "\n",
    "        for attr in self.attrs:\n",
    "            if getattr(other, attr) != getattr(self, attr):\n",
    "                return False\n",
    "\n",
    "        return True\n",
    "\n",
    "    def __repr__(self):\n",
    "        attr_values = []\n",
    "        for attr in sorted(self.attrs):\n",
    "            attr_values.append('%s=%s' % (attr, getattr(self, attr)))\n",
    "        return '%s(%s)' % (type(self).__name__, ', '.join(attr_values))\n",
    "\n",
    "    def __iter__(self):\n",
    "        return walk_tree(self)\n",
    "\n",
    "    def filter(self, pattern):\n",
    "        for path, node in self:\n",
    "            if ((isinstance(pattern, type) and isinstance(node, pattern)) or\n",
    "                (node == pattern)):\n",
    "                yield path, node\n",
    "\n",
    "    @property\n",
    "    def children(self):\n",
    "        return [getattr(self, attr_name) for attr_name in self.attrs]\n",
    "    \n",
    "    @property\n",
    "    def position(self):\n",
    "        if hasattr(self, \"_position\"):\n",
    "            return self._position\n",
    "\n",
    "def walk_tree(root):\n",
    "    children = None\n",
    "\n",
    "    if isinstance(root, Node):\n",
    "        yield (), root\n",
    "        children = root.children\n",
    "    else:\n",
    "        children = root\n",
    "\n",
    "    for child in children:\n",
    "        if isinstance(child, (Node, list, tuple)):\n",
    "            for path, node in walk_tree(child):\n",
    "                yield (root,) + path, node\n",
    "\n",
    "def dump(ast, file):\n",
    "    pickle.dump(ast, file)\n",
    "\n",
    "def load(file):\n",
    "    return pickle.load(file)\n",
    "\"\"\""
   ]
  },
  {
   "cell_type": "code",
   "execution_count": null,
   "id": "7fd65a41",
   "metadata": {},
   "outputs": [],
   "source": [
    "long_ast = ast.parse(long_code)\n",
    "ast.dump(long_ast)"
   ]
  },
  {
   "cell_type": "code",
   "execution_count": null,
   "id": "6d8dcde1",
   "metadata": {},
   "outputs": [],
   "source": [
    "avisitor.visit(long_ast)"
   ]
  },
  {
   "cell_type": "code",
   "execution_count": null,
   "id": "94b1d4c8",
   "metadata": {},
   "outputs": [],
   "source": [
    "from ast import Name, Call\n",
    "\n",
    "class YourVisitor(YourVisitor):\n",
    "    def visit_Name(self, node: Name):\n",
    "        print(\"Name reference:\", node.id)\n",
    "    \n",
    "    def visit_Call(self, node: Call):\n",
    "        print(\"Func Invocation:\", node.func, node.args)"
   ]
  },
  {
   "cell_type": "code",
   "execution_count": null,
   "id": "5dec1dc3",
   "metadata": {},
   "outputs": [],
   "source": [
    "bvisitor = YourVisitor()\n",
    "bvisitor.visit(long_ast)"
   ]
  },
  {
   "cell_type": "code",
   "execution_count": null,
   "id": "553c1bd3",
   "metadata": {},
   "outputs": [],
   "source": [
    "class YourVisitor(YourVisitor):\n",
    "    def __init__(self) -> None:\n",
    "        super().__init__()\n",
    "        \n",
    "    def visit_FunctionDef(self, node: FunctionDef):\n",
    "        print(\"FunctionDef:\", node.name)\n",
    "        return self.generic_visit(node)\n",
    "    \n",
    "    def visit_Name(self, node: Name):\n",
    "        print(\"Name reference:\", node.id)\n",
    "        return self.generic_visit(node)\n",
    "    \n",
    "    def visit_Call(self, node: Call):\n",
    "        print(\"Func Invocation:\", node.func, node.args)\n",
    "        return self.generic_visit(node)"
   ]
  },
  {
   "cell_type": "code",
   "execution_count": null,
   "id": "516acf31",
   "metadata": {},
   "outputs": [],
   "source": [
    "bvisitor = YourVisitor()\n",
    "bvisitor.visit(long_ast)"
   ]
  },
  {
   "cell_type": "code",
   "execution_count": null,
   "id": "16fccdc6",
   "metadata": {},
   "outputs": [],
   "source": []
  }
 ],
 "metadata": {
  "kernelspec": {
   "display_name": "Python 3 (ipykernel)",
   "language": "python",
   "name": "python3"
  },
  "language_info": {
   "codemirror_mode": {
    "name": "ipython",
    "version": 3
   },
   "file_extension": ".py",
   "mimetype": "text/x-python",
   "name": "python",
   "nbconvert_exporter": "python",
   "pygments_lexer": "ipython3",
   "version": "3.11.6"
  }
 },
 "nbformat": 4,
 "nbformat_minor": 5
}
