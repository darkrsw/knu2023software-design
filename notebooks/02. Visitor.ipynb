{
 "cells": [
  {
   "cell_type": "markdown",
   "id": "9fd60f74",
   "metadata": {},
   "source": [
    "# Visitors\n",
    "\n",
    "The following example shows how to navigate an AST in Python."
   ]
  },
  {
   "cell_type": "code",
   "execution_count": 7,
   "id": "ea2c7c81",
   "metadata": {},
   "outputs": [
    {
     "name": "stdout",
     "output_type": "stream",
     "text": [
      "<ast.Module object at 0x107ac1220>\n",
      "[]\n",
      "<ast.FunctionDef object at 0x107ac1be0>\n",
      "foo\n"
     ]
    }
   ],
   "source": [
    "import ast\n",
    "your_code = \"\"\"\n",
    "def foo():  # type: ignore\n",
    "    ret = 2 * 2\n",
    "    return ret\n",
    "\"\"\"\n",
    "your_ast = ast.parse(your_code)\n",
    "print(your_ast)\n",
    "print(your_ast.type_ignores)\n",
    "print(your_ast.body[0])\n",
    "print(your_ast.body[0].name)"
   ]
  },
  {
   "cell_type": "markdown",
   "id": "5debaf0f",
   "metadata": {},
   "source": [
    "You can refer to the official document (https://docs.python.org/3/library/ast.html) to figure out available attributes for each AST node type. For example,\n",
    "\n",
    "```\n",
    "FunctionDef(identifier name, arguments args,\n",
    "                       stmt* body, expr* decorator_list, expr? returns,\n",
    "                       string? type_comment, type_param* type_params)\n",
    "```"
   ]
  },
  {
   "cell_type": "markdown",
   "id": "4466483d",
   "metadata": {},
   "source": [
    "However, it is too tedious to explore AST nodes and their attributes one-by-one. Thus, it is necessary to come up with a better navigation method. Fortunately, `ast` package provides visitors to traverse a given AST. You can find an example below:"
   ]
  },
  {
   "cell_type": "code",
   "execution_count": 9,
   "id": "99c9c7dd",
   "metadata": {},
   "outputs": [],
   "source": [
    "from ast import NodeVisitor, FunctionDef\n",
    "\n",
    "class YourVisitor(NodeVisitor):\n",
    "    def __init__(self) -> None:\n",
    "        super().__init__()\n",
    "    \n",
    "    def visit_FunctionDef(self, node: FunctionDef):\n",
    "        print(node.name)\n",
    "            "
   ]
  },
  {
   "cell_type": "code",
   "execution_count": 10,
   "id": "df631e5b",
   "metadata": {},
   "outputs": [
    {
     "name": "stdout",
     "output_type": "stream",
     "text": [
      "foo\n"
     ]
    }
   ],
   "source": [
    "avisitor = YourVisitor()\n",
    "avisitor.visit(your_ast)"
   ]
  },
  {
   "cell_type": "code",
   "execution_count": null,
   "id": "64e6efb0",
   "metadata": {},
   "outputs": [],
   "source": []
  }
 ],
 "metadata": {
  "kernelspec": {
   "display_name": "Python 3",
   "language": "python",
   "name": "python3"
  },
  "language_info": {
   "codemirror_mode": {
    "name": "ipython",
    "version": 3
   },
   "file_extension": ".py",
   "mimetype": "text/x-python",
   "name": "python",
   "nbconvert_exporter": "python",
   "pygments_lexer": "ipython3",
   "version": "3.9.18"
  }
 },
 "nbformat": 4,
 "nbformat_minor": 5
}
